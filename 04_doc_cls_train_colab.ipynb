{
  "nbformat": 4,
  "nbformat_minor": 0,
  "metadata": {
    "colab": {
      "name": "04.doc-cls-train-colab.ipynb",
      "provenance": [],
      "collapsed_sections": [],
      "include_colab_link": true
    },
    "kernelspec": {
      "name": "python3",
      "display_name": "Python 3"
    },
    "accelerator": "GPU",
    "widgets": {
      "application/vnd.jupyter.widget-state+json": {
        "ac1702097dde4709bdd79301c8105963": {
          "model_module": "@jupyter-widgets/controls",
          "model_name": "HBoxModel",
          "model_module_version": "1.5.0",
          "state": {
            "_view_name": "HBoxView",
            "_dom_classes": [],
            "_model_name": "HBoxModel",
            "_view_module": "@jupyter-widgets/controls",
            "_model_module_version": "1.5.0",
            "_view_count": null,
            "_view_module_version": "1.5.0",
            "box_style": "",
            "layout": "IPY_MODEL_f82c1611cd5844f393d3c78f47658d35",
            "_model_module": "@jupyter-widgets/controls",
            "children": [
              "IPY_MODEL_8ab40c519f3b4cf8a51c13d0ac9a1d64",
              "IPY_MODEL_0e607cd5be2345218f7239200b886027",
              "IPY_MODEL_8bd9bd8bb5f6420e870ac0bdcb0635a1"
            ]
          }
        },
        "f82c1611cd5844f393d3c78f47658d35": {
          "model_module": "@jupyter-widgets/base",
          "model_name": "LayoutModel",
          "model_module_version": "1.2.0",
          "state": {
            "_view_name": "LayoutView",
            "grid_template_rows": null,
            "right": null,
            "justify_content": null,
            "_view_module": "@jupyter-widgets/base",
            "overflow": null,
            "_model_module_version": "1.2.0",
            "_view_count": null,
            "flex_flow": null,
            "width": null,
            "min_width": null,
            "border": null,
            "align_items": null,
            "bottom": null,
            "_model_module": "@jupyter-widgets/base",
            "top": null,
            "grid_column": null,
            "overflow_y": null,
            "overflow_x": null,
            "grid_auto_flow": null,
            "grid_area": null,
            "grid_template_columns": null,
            "flex": null,
            "_model_name": "LayoutModel",
            "justify_items": null,
            "grid_row": null,
            "max_height": null,
            "align_content": null,
            "visibility": null,
            "align_self": null,
            "height": null,
            "min_height": null,
            "padding": null,
            "grid_auto_rows": null,
            "grid_gap": null,
            "max_width": null,
            "order": null,
            "_view_module_version": "1.2.0",
            "grid_template_areas": null,
            "object_position": null,
            "object_fit": null,
            "grid_auto_columns": null,
            "margin": null,
            "display": null,
            "left": null
          }
        },
        "8ab40c519f3b4cf8a51c13d0ac9a1d64": {
          "model_module": "@jupyter-widgets/controls",
          "model_name": "HTMLModel",
          "model_module_version": "1.5.0",
          "state": {
            "_view_name": "HTMLView",
            "style": "IPY_MODEL_b3cfbdf66eb1401792dba354841032b2",
            "_dom_classes": [],
            "description": "",
            "_model_name": "HTMLModel",
            "placeholder": "​",
            "_view_module": "@jupyter-widgets/controls",
            "_model_module_version": "1.5.0",
            "value": "Downloading: 100%",
            "_view_count": null,
            "_view_module_version": "1.5.0",
            "description_tooltip": null,
            "_model_module": "@jupyter-widgets/controls",
            "layout": "IPY_MODEL_7c7629a1b8fd4b6ab8d6dc97afda0fc7"
          }
        },
        "0e607cd5be2345218f7239200b886027": {
          "model_module": "@jupyter-widgets/controls",
          "model_name": "FloatProgressModel",
          "model_module_version": "1.5.0",
          "state": {
            "_view_name": "ProgressView",
            "style": "IPY_MODEL_bc0abb294d5f4e1dbbc7a300411615bd",
            "_dom_classes": [],
            "description": "",
            "_model_name": "FloatProgressModel",
            "bar_style": "success",
            "max": 249928,
            "_view_module": "@jupyter-widgets/controls",
            "_model_module_version": "1.5.0",
            "value": 249928,
            "_view_count": null,
            "_view_module_version": "1.5.0",
            "orientation": "horizontal",
            "min": 0,
            "description_tooltip": null,
            "_model_module": "@jupyter-widgets/controls",
            "layout": "IPY_MODEL_9d9518dc24c64bdeb0a76d16e31ba5ab"
          }
        },
        "8bd9bd8bb5f6420e870ac0bdcb0635a1": {
          "model_module": "@jupyter-widgets/controls",
          "model_name": "HTMLModel",
          "model_module_version": "1.5.0",
          "state": {
            "_view_name": "HTMLView",
            "style": "IPY_MODEL_131389cd485846f6ad912f8371990388",
            "_dom_classes": [],
            "description": "",
            "_model_name": "HTMLModel",
            "placeholder": "​",
            "_view_module": "@jupyter-widgets/controls",
            "_model_module_version": "1.5.0",
            "value": " 250k/250k [00:00&lt;00:00, 1.06MB/s]",
            "_view_count": null,
            "_view_module_version": "1.5.0",
            "description_tooltip": null,
            "_model_module": "@jupyter-widgets/controls",
            "layout": "IPY_MODEL_7c3c359e9f2c475d82cc26b5cc1c1d2a"
          }
        },
        "b3cfbdf66eb1401792dba354841032b2": {
          "model_module": "@jupyter-widgets/controls",
          "model_name": "DescriptionStyleModel",
          "model_module_version": "1.5.0",
          "state": {
            "_view_name": "StyleView",
            "_model_name": "DescriptionStyleModel",
            "description_width": "",
            "_view_module": "@jupyter-widgets/base",
            "_model_module_version": "1.5.0",
            "_view_count": null,
            "_view_module_version": "1.2.0",
            "_model_module": "@jupyter-widgets/controls"
          }
        },
        "7c7629a1b8fd4b6ab8d6dc97afda0fc7": {
          "model_module": "@jupyter-widgets/base",
          "model_name": "LayoutModel",
          "model_module_version": "1.2.0",
          "state": {
            "_view_name": "LayoutView",
            "grid_template_rows": null,
            "right": null,
            "justify_content": null,
            "_view_module": "@jupyter-widgets/base",
            "overflow": null,
            "_model_module_version": "1.2.0",
            "_view_count": null,
            "flex_flow": null,
            "width": null,
            "min_width": null,
            "border": null,
            "align_items": null,
            "bottom": null,
            "_model_module": "@jupyter-widgets/base",
            "top": null,
            "grid_column": null,
            "overflow_y": null,
            "overflow_x": null,
            "grid_auto_flow": null,
            "grid_area": null,
            "grid_template_columns": null,
            "flex": null,
            "_model_name": "LayoutModel",
            "justify_items": null,
            "grid_row": null,
            "max_height": null,
            "align_content": null,
            "visibility": null,
            "align_self": null,
            "height": null,
            "min_height": null,
            "padding": null,
            "grid_auto_rows": null,
            "grid_gap": null,
            "max_width": null,
            "order": null,
            "_view_module_version": "1.2.0",
            "grid_template_areas": null,
            "object_position": null,
            "object_fit": null,
            "grid_auto_columns": null,
            "margin": null,
            "display": null,
            "left": null
          }
        },
        "bc0abb294d5f4e1dbbc7a300411615bd": {
          "model_module": "@jupyter-widgets/controls",
          "model_name": "ProgressStyleModel",
          "model_module_version": "1.5.0",
          "state": {
            "_view_name": "StyleView",
            "_model_name": "ProgressStyleModel",
            "description_width": "",
            "_view_module": "@jupyter-widgets/base",
            "_model_module_version": "1.5.0",
            "_view_count": null,
            "_view_module_version": "1.2.0",
            "bar_color": null,
            "_model_module": "@jupyter-widgets/controls"
          }
        },
        "9d9518dc24c64bdeb0a76d16e31ba5ab": {
          "model_module": "@jupyter-widgets/base",
          "model_name": "LayoutModel",
          "model_module_version": "1.2.0",
          "state": {
            "_view_name": "LayoutView",
            "grid_template_rows": null,
            "right": null,
            "justify_content": null,
            "_view_module": "@jupyter-widgets/base",
            "overflow": null,
            "_model_module_version": "1.2.0",
            "_view_count": null,
            "flex_flow": null,
            "width": null,
            "min_width": null,
            "border": null,
            "align_items": null,
            "bottom": null,
            "_model_module": "@jupyter-widgets/base",
            "top": null,
            "grid_column": null,
            "overflow_y": null,
            "overflow_x": null,
            "grid_auto_flow": null,
            "grid_area": null,
            "grid_template_columns": null,
            "flex": null,
            "_model_name": "LayoutModel",
            "justify_items": null,
            "grid_row": null,
            "max_height": null,
            "align_content": null,
            "visibility": null,
            "align_self": null,
            "height": null,
            "min_height": null,
            "padding": null,
            "grid_auto_rows": null,
            "grid_gap": null,
            "max_width": null,
            "order": null,
            "_view_module_version": "1.2.0",
            "grid_template_areas": null,
            "object_position": null,
            "object_fit": null,
            "grid_auto_columns": null,
            "margin": null,
            "display": null,
            "left": null
          }
        },
        "131389cd485846f6ad912f8371990388": {
          "model_module": "@jupyter-widgets/controls",
          "model_name": "DescriptionStyleModel",
          "model_module_version": "1.5.0",
          "state": {
            "_view_name": "StyleView",
            "_model_name": "DescriptionStyleModel",
            "description_width": "",
            "_view_module": "@jupyter-widgets/base",
            "_model_module_version": "1.5.0",
            "_view_count": null,
            "_view_module_version": "1.2.0",
            "_model_module": "@jupyter-widgets/controls"
          }
        },
        "7c3c359e9f2c475d82cc26b5cc1c1d2a": {
          "model_module": "@jupyter-widgets/base",
          "model_name": "LayoutModel",
          "model_module_version": "1.2.0",
          "state": {
            "_view_name": "LayoutView",
            "grid_template_rows": null,
            "right": null,
            "justify_content": null,
            "_view_module": "@jupyter-widgets/base",
            "overflow": null,
            "_model_module_version": "1.2.0",
            "_view_count": null,
            "flex_flow": null,
            "width": null,
            "min_width": null,
            "border": null,
            "align_items": null,
            "bottom": null,
            "_model_module": "@jupyter-widgets/base",
            "top": null,
            "grid_column": null,
            "overflow_y": null,
            "overflow_x": null,
            "grid_auto_flow": null,
            "grid_area": null,
            "grid_template_columns": null,
            "flex": null,
            "_model_name": "LayoutModel",
            "justify_items": null,
            "grid_row": null,
            "max_height": null,
            "align_content": null,
            "visibility": null,
            "align_self": null,
            "height": null,
            "min_height": null,
            "padding": null,
            "grid_auto_rows": null,
            "grid_gap": null,
            "max_width": null,
            "order": null,
            "_view_module_version": "1.2.0",
            "grid_template_areas": null,
            "object_position": null,
            "object_fit": null,
            "grid_auto_columns": null,
            "margin": null,
            "display": null,
            "left": null
          }
        },
        "c7fb232d6c26473983b876629943bc2a": {
          "model_module": "@jupyter-widgets/controls",
          "model_name": "HBoxModel",
          "model_module_version": "1.5.0",
          "state": {
            "_view_name": "HBoxView",
            "_dom_classes": [],
            "_model_name": "HBoxModel",
            "_view_module": "@jupyter-widgets/controls",
            "_model_module_version": "1.5.0",
            "_view_count": null,
            "_view_module_version": "1.5.0",
            "box_style": "",
            "layout": "IPY_MODEL_b8cd89434fd340198537c95540712ea2",
            "_model_module": "@jupyter-widgets/controls",
            "children": [
              "IPY_MODEL_a45b14394a994c1e9f7f478a0f963e30",
              "IPY_MODEL_8abe7bc3e49745d095ef6b1ca7508836",
              "IPY_MODEL_514c23d75c344b46986359067bcd4206"
            ]
          }
        },
        "b8cd89434fd340198537c95540712ea2": {
          "model_module": "@jupyter-widgets/base",
          "model_name": "LayoutModel",
          "model_module_version": "1.2.0",
          "state": {
            "_view_name": "LayoutView",
            "grid_template_rows": null,
            "right": null,
            "justify_content": null,
            "_view_module": "@jupyter-widgets/base",
            "overflow": null,
            "_model_module_version": "1.2.0",
            "_view_count": null,
            "flex_flow": null,
            "width": null,
            "min_width": null,
            "border": null,
            "align_items": null,
            "bottom": null,
            "_model_module": "@jupyter-widgets/base",
            "top": null,
            "grid_column": null,
            "overflow_y": null,
            "overflow_x": null,
            "grid_auto_flow": null,
            "grid_area": null,
            "grid_template_columns": null,
            "flex": null,
            "_model_name": "LayoutModel",
            "justify_items": null,
            "grid_row": null,
            "max_height": null,
            "align_content": null,
            "visibility": null,
            "align_self": null,
            "height": null,
            "min_height": null,
            "padding": null,
            "grid_auto_rows": null,
            "grid_gap": null,
            "max_width": null,
            "order": null,
            "_view_module_version": "1.2.0",
            "grid_template_areas": null,
            "object_position": null,
            "object_fit": null,
            "grid_auto_columns": null,
            "margin": null,
            "display": null,
            "left": null
          }
        },
        "a45b14394a994c1e9f7f478a0f963e30": {
          "model_module": "@jupyter-widgets/controls",
          "model_name": "HTMLModel",
          "model_module_version": "1.5.0",
          "state": {
            "_view_name": "HTMLView",
            "style": "IPY_MODEL_43f4675680af421ab0864937eb53bf7a",
            "_dom_classes": [],
            "description": "",
            "_model_name": "HTMLModel",
            "placeholder": "​",
            "_view_module": "@jupyter-widgets/controls",
            "_model_module_version": "1.5.0",
            "value": "Downloading: 100%",
            "_view_count": null,
            "_view_module_version": "1.5.0",
            "description_tooltip": null,
            "_model_module": "@jupyter-widgets/controls",
            "layout": "IPY_MODEL_a1baf1ba13984ca787aa776773723a34"
          }
        },
        "8abe7bc3e49745d095ef6b1ca7508836": {
          "model_module": "@jupyter-widgets/controls",
          "model_name": "FloatProgressModel",
          "model_module_version": "1.5.0",
          "state": {
            "_view_name": "ProgressView",
            "style": "IPY_MODEL_78f2000c2b0246aaabc7bc65f8059fe6",
            "_dom_classes": [],
            "description": "",
            "_model_name": "FloatProgressModel",
            "bar_style": "success",
            "max": 49,
            "_view_module": "@jupyter-widgets/controls",
            "_model_module_version": "1.5.0",
            "value": 49,
            "_view_count": null,
            "_view_module_version": "1.5.0",
            "orientation": "horizontal",
            "min": 0,
            "description_tooltip": null,
            "_model_module": "@jupyter-widgets/controls",
            "layout": "IPY_MODEL_93e9ceb7b5614fe2abfe1da940a96b6a"
          }
        },
        "514c23d75c344b46986359067bcd4206": {
          "model_module": "@jupyter-widgets/controls",
          "model_name": "HTMLModel",
          "model_module_version": "1.5.0",
          "state": {
            "_view_name": "HTMLView",
            "style": "IPY_MODEL_7aa971934bc248f087fa2fec8193ce0c",
            "_dom_classes": [],
            "description": "",
            "_model_name": "HTMLModel",
            "placeholder": "​",
            "_view_module": "@jupyter-widgets/controls",
            "_model_module_version": "1.5.0",
            "value": " 49.0/49.0 [00:00&lt;00:00, 1.25kB/s]",
            "_view_count": null,
            "_view_module_version": "1.5.0",
            "description_tooltip": null,
            "_model_module": "@jupyter-widgets/controls",
            "layout": "IPY_MODEL_fc2581ab522c4ded8661b4f2193f3d2b"
          }
        },
        "43f4675680af421ab0864937eb53bf7a": {
          "model_module": "@jupyter-widgets/controls",
          "model_name": "DescriptionStyleModel",
          "model_module_version": "1.5.0",
          "state": {
            "_view_name": "StyleView",
            "_model_name": "DescriptionStyleModel",
            "description_width": "",
            "_view_module": "@jupyter-widgets/base",
            "_model_module_version": "1.5.0",
            "_view_count": null,
            "_view_module_version": "1.2.0",
            "_model_module": "@jupyter-widgets/controls"
          }
        },
        "a1baf1ba13984ca787aa776773723a34": {
          "model_module": "@jupyter-widgets/base",
          "model_name": "LayoutModel",
          "model_module_version": "1.2.0",
          "state": {
            "_view_name": "LayoutView",
            "grid_template_rows": null,
            "right": null,
            "justify_content": null,
            "_view_module": "@jupyter-widgets/base",
            "overflow": null,
            "_model_module_version": "1.2.0",
            "_view_count": null,
            "flex_flow": null,
            "width": null,
            "min_width": null,
            "border": null,
            "align_items": null,
            "bottom": null,
            "_model_module": "@jupyter-widgets/base",
            "top": null,
            "grid_column": null,
            "overflow_y": null,
            "overflow_x": null,
            "grid_auto_flow": null,
            "grid_area": null,
            "grid_template_columns": null,
            "flex": null,
            "_model_name": "LayoutModel",
            "justify_items": null,
            "grid_row": null,
            "max_height": null,
            "align_content": null,
            "visibility": null,
            "align_self": null,
            "height": null,
            "min_height": null,
            "padding": null,
            "grid_auto_rows": null,
            "grid_gap": null,
            "max_width": null,
            "order": null,
            "_view_module_version": "1.2.0",
            "grid_template_areas": null,
            "object_position": null,
            "object_fit": null,
            "grid_auto_columns": null,
            "margin": null,
            "display": null,
            "left": null
          }
        },
        "78f2000c2b0246aaabc7bc65f8059fe6": {
          "model_module": "@jupyter-widgets/controls",
          "model_name": "ProgressStyleModel",
          "model_module_version": "1.5.0",
          "state": {
            "_view_name": "StyleView",
            "_model_name": "ProgressStyleModel",
            "description_width": "",
            "_view_module": "@jupyter-widgets/base",
            "_model_module_version": "1.5.0",
            "_view_count": null,
            "_view_module_version": "1.2.0",
            "bar_color": null,
            "_model_module": "@jupyter-widgets/controls"
          }
        },
        "93e9ceb7b5614fe2abfe1da940a96b6a": {
          "model_module": "@jupyter-widgets/base",
          "model_name": "LayoutModel",
          "model_module_version": "1.2.0",
          "state": {
            "_view_name": "LayoutView",
            "grid_template_rows": null,
            "right": null,
            "justify_content": null,
            "_view_module": "@jupyter-widgets/base",
            "overflow": null,
            "_model_module_version": "1.2.0",
            "_view_count": null,
            "flex_flow": null,
            "width": null,
            "min_width": null,
            "border": null,
            "align_items": null,
            "bottom": null,
            "_model_module": "@jupyter-widgets/base",
            "top": null,
            "grid_column": null,
            "overflow_y": null,
            "overflow_x": null,
            "grid_auto_flow": null,
            "grid_area": null,
            "grid_template_columns": null,
            "flex": null,
            "_model_name": "LayoutModel",
            "justify_items": null,
            "grid_row": null,
            "max_height": null,
            "align_content": null,
            "visibility": null,
            "align_self": null,
            "height": null,
            "min_height": null,
            "padding": null,
            "grid_auto_rows": null,
            "grid_gap": null,
            "max_width": null,
            "order": null,
            "_view_module_version": "1.2.0",
            "grid_template_areas": null,
            "object_position": null,
            "object_fit": null,
            "grid_auto_columns": null,
            "margin": null,
            "display": null,
            "left": null
          }
        },
        "7aa971934bc248f087fa2fec8193ce0c": {
          "model_module": "@jupyter-widgets/controls",
          "model_name": "DescriptionStyleModel",
          "model_module_version": "1.5.0",
          "state": {
            "_view_name": "StyleView",
            "_model_name": "DescriptionStyleModel",
            "description_width": "",
            "_view_module": "@jupyter-widgets/base",
            "_model_module_version": "1.5.0",
            "_view_count": null,
            "_view_module_version": "1.2.0",
            "_model_module": "@jupyter-widgets/controls"
          }
        },
        "fc2581ab522c4ded8661b4f2193f3d2b": {
          "model_module": "@jupyter-widgets/base",
          "model_name": "LayoutModel",
          "model_module_version": "1.2.0",
          "state": {
            "_view_name": "LayoutView",
            "grid_template_rows": null,
            "right": null,
            "justify_content": null,
            "_view_module": "@jupyter-widgets/base",
            "overflow": null,
            "_model_module_version": "1.2.0",
            "_view_count": null,
            "flex_flow": null,
            "width": null,
            "min_width": null,
            "border": null,
            "align_items": null,
            "bottom": null,
            "_model_module": "@jupyter-widgets/base",
            "top": null,
            "grid_column": null,
            "overflow_y": null,
            "overflow_x": null,
            "grid_auto_flow": null,
            "grid_area": null,
            "grid_template_columns": null,
            "flex": null,
            "_model_name": "LayoutModel",
            "justify_items": null,
            "grid_row": null,
            "max_height": null,
            "align_content": null,
            "visibility": null,
            "align_self": null,
            "height": null,
            "min_height": null,
            "padding": null,
            "grid_auto_rows": null,
            "grid_gap": null,
            "max_width": null,
            "order": null,
            "_view_module_version": "1.2.0",
            "grid_template_areas": null,
            "object_position": null,
            "object_fit": null,
            "grid_auto_columns": null,
            "margin": null,
            "display": null,
            "left": null
          }
        },
        "9903d3d6f847489ba92016d2d0b55e74": {
          "model_module": "@jupyter-widgets/controls",
          "model_name": "HBoxModel",
          "model_module_version": "1.5.0",
          "state": {
            "_view_name": "HBoxView",
            "_dom_classes": [],
            "_model_name": "HBoxModel",
            "_view_module": "@jupyter-widgets/controls",
            "_model_module_version": "1.5.0",
            "_view_count": null,
            "_view_module_version": "1.5.0",
            "box_style": "",
            "layout": "IPY_MODEL_5fcd8e398b4442e0ba2e6ad23f97a214",
            "_model_module": "@jupyter-widgets/controls",
            "children": [
              "IPY_MODEL_e69d903b629e43da927745a2c8e7472e",
              "IPY_MODEL_7a79dc3cc98041d59d84af8131bcb0a1",
              "IPY_MODEL_feaf472c2cc34b899209d967865f3b88"
            ]
          }
        },
        "5fcd8e398b4442e0ba2e6ad23f97a214": {
          "model_module": "@jupyter-widgets/base",
          "model_name": "LayoutModel",
          "model_module_version": "1.2.0",
          "state": {
            "_view_name": "LayoutView",
            "grid_template_rows": null,
            "right": null,
            "justify_content": null,
            "_view_module": "@jupyter-widgets/base",
            "overflow": null,
            "_model_module_version": "1.2.0",
            "_view_count": null,
            "flex_flow": null,
            "width": null,
            "min_width": null,
            "border": null,
            "align_items": null,
            "bottom": null,
            "_model_module": "@jupyter-widgets/base",
            "top": null,
            "grid_column": null,
            "overflow_y": null,
            "overflow_x": null,
            "grid_auto_flow": null,
            "grid_area": null,
            "grid_template_columns": null,
            "flex": null,
            "_model_name": "LayoutModel",
            "justify_items": null,
            "grid_row": null,
            "max_height": null,
            "align_content": null,
            "visibility": null,
            "align_self": null,
            "height": null,
            "min_height": null,
            "padding": null,
            "grid_auto_rows": null,
            "grid_gap": null,
            "max_width": null,
            "order": null,
            "_view_module_version": "1.2.0",
            "grid_template_areas": null,
            "object_position": null,
            "object_fit": null,
            "grid_auto_columns": null,
            "margin": null,
            "display": null,
            "left": null
          }
        },
        "e69d903b629e43da927745a2c8e7472e": {
          "model_module": "@jupyter-widgets/controls",
          "model_name": "HTMLModel",
          "model_module_version": "1.5.0",
          "state": {
            "_view_name": "HTMLView",
            "style": "IPY_MODEL_286a337b98004f609f154da412ae71de",
            "_dom_classes": [],
            "description": "",
            "_model_name": "HTMLModel",
            "placeholder": "​",
            "_view_module": "@jupyter-widgets/controls",
            "_model_module_version": "1.5.0",
            "value": "Downloading: 100%",
            "_view_count": null,
            "_view_module_version": "1.5.0",
            "description_tooltip": null,
            "_model_module": "@jupyter-widgets/controls",
            "layout": "IPY_MODEL_53b8066b46c74e8cbbe5f926121d27de"
          }
        },
        "7a79dc3cc98041d59d84af8131bcb0a1": {
          "model_module": "@jupyter-widgets/controls",
          "model_name": "FloatProgressModel",
          "model_module_version": "1.5.0",
          "state": {
            "_view_name": "ProgressView",
            "style": "IPY_MODEL_2f0c304bfbc245d3bc853ac6a35d006b",
            "_dom_classes": [],
            "description": "",
            "_model_name": "FloatProgressModel",
            "bar_style": "success",
            "max": 619,
            "_view_module": "@jupyter-widgets/controls",
            "_model_module_version": "1.5.0",
            "value": 619,
            "_view_count": null,
            "_view_module_version": "1.5.0",
            "orientation": "horizontal",
            "min": 0,
            "description_tooltip": null,
            "_model_module": "@jupyter-widgets/controls",
            "layout": "IPY_MODEL_ba5e05899e23430bb1ce5cdb1ee8132f"
          }
        },
        "feaf472c2cc34b899209d967865f3b88": {
          "model_module": "@jupyter-widgets/controls",
          "model_name": "HTMLModel",
          "model_module_version": "1.5.0",
          "state": {
            "_view_name": "HTMLView",
            "style": "IPY_MODEL_ccbf3e8d17a849ab9074b7ce1f024a4b",
            "_dom_classes": [],
            "description": "",
            "_model_name": "HTMLModel",
            "placeholder": "​",
            "_view_module": "@jupyter-widgets/controls",
            "_model_module_version": "1.5.0",
            "value": " 619/619 [00:00&lt;00:00, 14.3kB/s]",
            "_view_count": null,
            "_view_module_version": "1.5.0",
            "description_tooltip": null,
            "_model_module": "@jupyter-widgets/controls",
            "layout": "IPY_MODEL_4a783fe11e4c49689082efe952f26a2f"
          }
        },
        "286a337b98004f609f154da412ae71de": {
          "model_module": "@jupyter-widgets/controls",
          "model_name": "DescriptionStyleModel",
          "model_module_version": "1.5.0",
          "state": {
            "_view_name": "StyleView",
            "_model_name": "DescriptionStyleModel",
            "description_width": "",
            "_view_module": "@jupyter-widgets/base",
            "_model_module_version": "1.5.0",
            "_view_count": null,
            "_view_module_version": "1.2.0",
            "_model_module": "@jupyter-widgets/controls"
          }
        },
        "53b8066b46c74e8cbbe5f926121d27de": {
          "model_module": "@jupyter-widgets/base",
          "model_name": "LayoutModel",
          "model_module_version": "1.2.0",
          "state": {
            "_view_name": "LayoutView",
            "grid_template_rows": null,
            "right": null,
            "justify_content": null,
            "_view_module": "@jupyter-widgets/base",
            "overflow": null,
            "_model_module_version": "1.2.0",
            "_view_count": null,
            "flex_flow": null,
            "width": null,
            "min_width": null,
            "border": null,
            "align_items": null,
            "bottom": null,
            "_model_module": "@jupyter-widgets/base",
            "top": null,
            "grid_column": null,
            "overflow_y": null,
            "overflow_x": null,
            "grid_auto_flow": null,
            "grid_area": null,
            "grid_template_columns": null,
            "flex": null,
            "_model_name": "LayoutModel",
            "justify_items": null,
            "grid_row": null,
            "max_height": null,
            "align_content": null,
            "visibility": null,
            "align_self": null,
            "height": null,
            "min_height": null,
            "padding": null,
            "grid_auto_rows": null,
            "grid_gap": null,
            "max_width": null,
            "order": null,
            "_view_module_version": "1.2.0",
            "grid_template_areas": null,
            "object_position": null,
            "object_fit": null,
            "grid_auto_columns": null,
            "margin": null,
            "display": null,
            "left": null
          }
        },
        "2f0c304bfbc245d3bc853ac6a35d006b": {
          "model_module": "@jupyter-widgets/controls",
          "model_name": "ProgressStyleModel",
          "model_module_version": "1.5.0",
          "state": {
            "_view_name": "StyleView",
            "_model_name": "ProgressStyleModel",
            "description_width": "",
            "_view_module": "@jupyter-widgets/base",
            "_model_module_version": "1.5.0",
            "_view_count": null,
            "_view_module_version": "1.2.0",
            "bar_color": null,
            "_model_module": "@jupyter-widgets/controls"
          }
        },
        "ba5e05899e23430bb1ce5cdb1ee8132f": {
          "model_module": "@jupyter-widgets/base",
          "model_name": "LayoutModel",
          "model_module_version": "1.2.0",
          "state": {
            "_view_name": "LayoutView",
            "grid_template_rows": null,
            "right": null,
            "justify_content": null,
            "_view_module": "@jupyter-widgets/base",
            "overflow": null,
            "_model_module_version": "1.2.0",
            "_view_count": null,
            "flex_flow": null,
            "width": null,
            "min_width": null,
            "border": null,
            "align_items": null,
            "bottom": null,
            "_model_module": "@jupyter-widgets/base",
            "top": null,
            "grid_column": null,
            "overflow_y": null,
            "overflow_x": null,
            "grid_auto_flow": null,
            "grid_area": null,
            "grid_template_columns": null,
            "flex": null,
            "_model_name": "LayoutModel",
            "justify_items": null,
            "grid_row": null,
            "max_height": null,
            "align_content": null,
            "visibility": null,
            "align_self": null,
            "height": null,
            "min_height": null,
            "padding": null,
            "grid_auto_rows": null,
            "grid_gap": null,
            "max_width": null,
            "order": null,
            "_view_module_version": "1.2.0",
            "grid_template_areas": null,
            "object_position": null,
            "object_fit": null,
            "grid_auto_columns": null,
            "margin": null,
            "display": null,
            "left": null
          }
        },
        "ccbf3e8d17a849ab9074b7ce1f024a4b": {
          "model_module": "@jupyter-widgets/controls",
          "model_name": "DescriptionStyleModel",
          "model_module_version": "1.5.0",
          "state": {
            "_view_name": "StyleView",
            "_model_name": "DescriptionStyleModel",
            "description_width": "",
            "_view_module": "@jupyter-widgets/base",
            "_model_module_version": "1.5.0",
            "_view_count": null,
            "_view_module_version": "1.2.0",
            "_model_module": "@jupyter-widgets/controls"
          }
        },
        "4a783fe11e4c49689082efe952f26a2f": {
          "model_module": "@jupyter-widgets/base",
          "model_name": "LayoutModel",
          "model_module_version": "1.2.0",
          "state": {
            "_view_name": "LayoutView",
            "grid_template_rows": null,
            "right": null,
            "justify_content": null,
            "_view_module": "@jupyter-widgets/base",
            "overflow": null,
            "_model_module_version": "1.2.0",
            "_view_count": null,
            "flex_flow": null,
            "width": null,
            "min_width": null,
            "border": null,
            "align_items": null,
            "bottom": null,
            "_model_module": "@jupyter-widgets/base",
            "top": null,
            "grid_column": null,
            "overflow_y": null,
            "overflow_x": null,
            "grid_auto_flow": null,
            "grid_area": null,
            "grid_template_columns": null,
            "flex": null,
            "_model_name": "LayoutModel",
            "justify_items": null,
            "grid_row": null,
            "max_height": null,
            "align_content": null,
            "visibility": null,
            "align_self": null,
            "height": null,
            "min_height": null,
            "padding": null,
            "grid_auto_rows": null,
            "grid_gap": null,
            "max_width": null,
            "order": null,
            "_view_module_version": "1.2.0",
            "grid_template_areas": null,
            "object_position": null,
            "object_fit": null,
            "grid_auto_columns": null,
            "margin": null,
            "display": null,
            "left": null
          }
        },
        "ac77bbe5d6bd4299acb0614a479416df": {
          "model_module": "@jupyter-widgets/controls",
          "model_name": "HBoxModel",
          "model_module_version": "1.5.0",
          "state": {
            "_view_name": "HBoxView",
            "_dom_classes": [],
            "_model_name": "HBoxModel",
            "_view_module": "@jupyter-widgets/controls",
            "_model_module_version": "1.5.0",
            "_view_count": null,
            "_view_module_version": "1.5.0",
            "box_style": "",
            "layout": "IPY_MODEL_991569e2518c475d8e83f9dd48b33867",
            "_model_module": "@jupyter-widgets/controls",
            "children": [
              "IPY_MODEL_91b3b390b99c478a97001a4e2bd3a02f",
              "IPY_MODEL_4027ccba42884d16989f32ebcb34a576",
              "IPY_MODEL_b73937c4bbab4952acc9b80318562852"
            ]
          }
        },
        "991569e2518c475d8e83f9dd48b33867": {
          "model_module": "@jupyter-widgets/base",
          "model_name": "LayoutModel",
          "model_module_version": "1.2.0",
          "state": {
            "_view_name": "LayoutView",
            "grid_template_rows": null,
            "right": null,
            "justify_content": null,
            "_view_module": "@jupyter-widgets/base",
            "overflow": null,
            "_model_module_version": "1.2.0",
            "_view_count": null,
            "flex_flow": null,
            "width": null,
            "min_width": null,
            "border": null,
            "align_items": null,
            "bottom": null,
            "_model_module": "@jupyter-widgets/base",
            "top": null,
            "grid_column": null,
            "overflow_y": null,
            "overflow_x": null,
            "grid_auto_flow": null,
            "grid_area": null,
            "grid_template_columns": null,
            "flex": null,
            "_model_name": "LayoutModel",
            "justify_items": null,
            "grid_row": null,
            "max_height": null,
            "align_content": null,
            "visibility": null,
            "align_self": null,
            "height": null,
            "min_height": null,
            "padding": null,
            "grid_auto_rows": null,
            "grid_gap": null,
            "max_width": null,
            "order": null,
            "_view_module_version": "1.2.0",
            "grid_template_areas": null,
            "object_position": null,
            "object_fit": null,
            "grid_auto_columns": null,
            "margin": null,
            "display": null,
            "left": null
          }
        },
        "91b3b390b99c478a97001a4e2bd3a02f": {
          "model_module": "@jupyter-widgets/controls",
          "model_name": "HTMLModel",
          "model_module_version": "1.5.0",
          "state": {
            "_view_name": "HTMLView",
            "style": "IPY_MODEL_46a158b63dea4310b6ac4d0676bc27f6",
            "_dom_classes": [],
            "description": "",
            "_model_name": "HTMLModel",
            "placeholder": "​",
            "_view_module": "@jupyter-widgets/controls",
            "_model_module_version": "1.5.0",
            "value": "Downloading: 100%",
            "_view_count": null,
            "_view_module_version": "1.5.0",
            "description_tooltip": null,
            "_model_module": "@jupyter-widgets/controls",
            "layout": "IPY_MODEL_f3cd96c6ec6744e381a04d32952c749c"
          }
        },
        "4027ccba42884d16989f32ebcb34a576": {
          "model_module": "@jupyter-widgets/controls",
          "model_name": "FloatProgressModel",
          "model_module_version": "1.5.0",
          "state": {
            "_view_name": "ProgressView",
            "style": "IPY_MODEL_6d7fe2dbc8bb43ceb00cc37b60abce13",
            "_dom_classes": [],
            "description": "",
            "_model_name": "FloatProgressModel",
            "bar_style": "success",
            "max": 438218004,
            "_view_module": "@jupyter-widgets/controls",
            "_model_module_version": "1.5.0",
            "value": 438218004,
            "_view_count": null,
            "_view_module_version": "1.5.0",
            "orientation": "horizontal",
            "min": 0,
            "description_tooltip": null,
            "_model_module": "@jupyter-widgets/controls",
            "layout": "IPY_MODEL_32aa5145e55a4555a7c0ace03b2a50c4"
          }
        },
        "b73937c4bbab4952acc9b80318562852": {
          "model_module": "@jupyter-widgets/controls",
          "model_name": "HTMLModel",
          "model_module_version": "1.5.0",
          "state": {
            "_view_name": "HTMLView",
            "style": "IPY_MODEL_123680e62b4e4001889973db5bf6e6b8",
            "_dom_classes": [],
            "description": "",
            "_model_name": "HTMLModel",
            "placeholder": "​",
            "_view_module": "@jupyter-widgets/controls",
            "_model_module_version": "1.5.0",
            "value": " 438M/438M [00:14&lt;00:00, 32.8MB/s]",
            "_view_count": null,
            "_view_module_version": "1.5.0",
            "description_tooltip": null,
            "_model_module": "@jupyter-widgets/controls",
            "layout": "IPY_MODEL_0b3579f4c4da4f1eaa2196a94227faf3"
          }
        },
        "46a158b63dea4310b6ac4d0676bc27f6": {
          "model_module": "@jupyter-widgets/controls",
          "model_name": "DescriptionStyleModel",
          "model_module_version": "1.5.0",
          "state": {
            "_view_name": "StyleView",
            "_model_name": "DescriptionStyleModel",
            "description_width": "",
            "_view_module": "@jupyter-widgets/base",
            "_model_module_version": "1.5.0",
            "_view_count": null,
            "_view_module_version": "1.2.0",
            "_model_module": "@jupyter-widgets/controls"
          }
        },
        "f3cd96c6ec6744e381a04d32952c749c": {
          "model_module": "@jupyter-widgets/base",
          "model_name": "LayoutModel",
          "model_module_version": "1.2.0",
          "state": {
            "_view_name": "LayoutView",
            "grid_template_rows": null,
            "right": null,
            "justify_content": null,
            "_view_module": "@jupyter-widgets/base",
            "overflow": null,
            "_model_module_version": "1.2.0",
            "_view_count": null,
            "flex_flow": null,
            "width": null,
            "min_width": null,
            "border": null,
            "align_items": null,
            "bottom": null,
            "_model_module": "@jupyter-widgets/base",
            "top": null,
            "grid_column": null,
            "overflow_y": null,
            "overflow_x": null,
            "grid_auto_flow": null,
            "grid_area": null,
            "grid_template_columns": null,
            "flex": null,
            "_model_name": "LayoutModel",
            "justify_items": null,
            "grid_row": null,
            "max_height": null,
            "align_content": null,
            "visibility": null,
            "align_self": null,
            "height": null,
            "min_height": null,
            "padding": null,
            "grid_auto_rows": null,
            "grid_gap": null,
            "max_width": null,
            "order": null,
            "_view_module_version": "1.2.0",
            "grid_template_areas": null,
            "object_position": null,
            "object_fit": null,
            "grid_auto_columns": null,
            "margin": null,
            "display": null,
            "left": null
          }
        },
        "6d7fe2dbc8bb43ceb00cc37b60abce13": {
          "model_module": "@jupyter-widgets/controls",
          "model_name": "ProgressStyleModel",
          "model_module_version": "1.5.0",
          "state": {
            "_view_name": "StyleView",
            "_model_name": "ProgressStyleModel",
            "description_width": "",
            "_view_module": "@jupyter-widgets/base",
            "_model_module_version": "1.5.0",
            "_view_count": null,
            "_view_module_version": "1.2.0",
            "bar_color": null,
            "_model_module": "@jupyter-widgets/controls"
          }
        },
        "32aa5145e55a4555a7c0ace03b2a50c4": {
          "model_module": "@jupyter-widgets/base",
          "model_name": "LayoutModel",
          "model_module_version": "1.2.0",
          "state": {
            "_view_name": "LayoutView",
            "grid_template_rows": null,
            "right": null,
            "justify_content": null,
            "_view_module": "@jupyter-widgets/base",
            "overflow": null,
            "_model_module_version": "1.2.0",
            "_view_count": null,
            "flex_flow": null,
            "width": null,
            "min_width": null,
            "border": null,
            "align_items": null,
            "bottom": null,
            "_model_module": "@jupyter-widgets/base",
            "top": null,
            "grid_column": null,
            "overflow_y": null,
            "overflow_x": null,
            "grid_auto_flow": null,
            "grid_area": null,
            "grid_template_columns": null,
            "flex": null,
            "_model_name": "LayoutModel",
            "justify_items": null,
            "grid_row": null,
            "max_height": null,
            "align_content": null,
            "visibility": null,
            "align_self": null,
            "height": null,
            "min_height": null,
            "padding": null,
            "grid_auto_rows": null,
            "grid_gap": null,
            "max_width": null,
            "order": null,
            "_view_module_version": "1.2.0",
            "grid_template_areas": null,
            "object_position": null,
            "object_fit": null,
            "grid_auto_columns": null,
            "margin": null,
            "display": null,
            "left": null
          }
        },
        "123680e62b4e4001889973db5bf6e6b8": {
          "model_module": "@jupyter-widgets/controls",
          "model_name": "DescriptionStyleModel",
          "model_module_version": "1.5.0",
          "state": {
            "_view_name": "StyleView",
            "_model_name": "DescriptionStyleModel",
            "description_width": "",
            "_view_module": "@jupyter-widgets/base",
            "_model_module_version": "1.5.0",
            "_view_count": null,
            "_view_module_version": "1.2.0",
            "_model_module": "@jupyter-widgets/controls"
          }
        },
        "0b3579f4c4da4f1eaa2196a94227faf3": {
          "model_module": "@jupyter-widgets/base",
          "model_name": "LayoutModel",
          "model_module_version": "1.2.0",
          "state": {
            "_view_name": "LayoutView",
            "grid_template_rows": null,
            "right": null,
            "justify_content": null,
            "_view_module": "@jupyter-widgets/base",
            "overflow": null,
            "_model_module_version": "1.2.0",
            "_view_count": null,
            "flex_flow": null,
            "width": null,
            "min_width": null,
            "border": null,
            "align_items": null,
            "bottom": null,
            "_model_module": "@jupyter-widgets/base",
            "top": null,
            "grid_column": null,
            "overflow_y": null,
            "overflow_x": null,
            "grid_auto_flow": null,
            "grid_area": null,
            "grid_template_columns": null,
            "flex": null,
            "_model_name": "LayoutModel",
            "justify_items": null,
            "grid_row": null,
            "max_height": null,
            "align_content": null,
            "visibility": null,
            "align_self": null,
            "height": null,
            "min_height": null,
            "padding": null,
            "grid_auto_rows": null,
            "grid_gap": null,
            "max_width": null,
            "order": null,
            "_view_module_version": "1.2.0",
            "grid_template_areas": null,
            "object_position": null,
            "object_fit": null,
            "grid_auto_columns": null,
            "margin": null,
            "display": null,
            "left": null
          }
        },
        "a608c1ffed1040749f4a4a1310724611": {
          "model_module": "@jupyter-widgets/controls",
          "model_name": "HBoxModel",
          "model_module_version": "1.5.0",
          "state": {
            "_view_name": "HBoxView",
            "_dom_classes": [],
            "_model_name": "HBoxModel",
            "_view_module": "@jupyter-widgets/controls",
            "_model_module_version": "1.5.0",
            "_view_count": null,
            "_view_module_version": "1.5.0",
            "box_style": "",
            "layout": "IPY_MODEL_0407314c6bb843268727f9c05ac557f3",
            "_model_module": "@jupyter-widgets/controls",
            "children": [
              "IPY_MODEL_47f713cbbf9a480c930940a1ff4acd7e",
              "IPY_MODEL_9127cb7cc7f348a9bc59e2a504b3f59b",
              "IPY_MODEL_b72f6b23bcd9409986800b86ae07e1df"
            ]
          }
        },
        "0407314c6bb843268727f9c05ac557f3": {
          "model_module": "@jupyter-widgets/base",
          "model_name": "LayoutModel",
          "model_module_version": "1.2.0",
          "state": {
            "_view_name": "LayoutView",
            "grid_template_rows": null,
            "right": null,
            "justify_content": null,
            "_view_module": "@jupyter-widgets/base",
            "overflow": null,
            "_model_module_version": "1.2.0",
            "_view_count": null,
            "flex_flow": "row wrap",
            "width": "100%",
            "min_width": null,
            "border": null,
            "align_items": null,
            "bottom": null,
            "_model_module": "@jupyter-widgets/base",
            "top": null,
            "grid_column": null,
            "overflow_y": null,
            "overflow_x": null,
            "grid_auto_flow": null,
            "grid_area": null,
            "grid_template_columns": null,
            "flex": null,
            "_model_name": "LayoutModel",
            "justify_items": null,
            "grid_row": null,
            "max_height": null,
            "align_content": null,
            "visibility": null,
            "align_self": null,
            "height": null,
            "min_height": null,
            "padding": null,
            "grid_auto_rows": null,
            "grid_gap": null,
            "max_width": null,
            "order": null,
            "_view_module_version": "1.2.0",
            "grid_template_areas": null,
            "object_position": null,
            "object_fit": null,
            "grid_auto_columns": null,
            "margin": null,
            "display": "inline-flex",
            "left": null
          }
        },
        "47f713cbbf9a480c930940a1ff4acd7e": {
          "model_module": "@jupyter-widgets/controls",
          "model_name": "HTMLModel",
          "model_module_version": "1.5.0",
          "state": {
            "_view_name": "HTMLView",
            "style": "IPY_MODEL_f80744d6c2474c9eba279b556ef4b4df",
            "_dom_classes": [],
            "description": "",
            "_model_name": "HTMLModel",
            "placeholder": "​",
            "_view_module": "@jupyter-widgets/controls",
            "_model_module_version": "1.5.0",
            "value": "Epoch 0:  41%",
            "_view_count": null,
            "_view_module_version": "1.5.0",
            "description_tooltip": null,
            "_model_module": "@jupyter-widgets/controls",
            "layout": "IPY_MODEL_f5d017fa956741ed9f25fefb44971280"
          }
        },
        "9127cb7cc7f348a9bc59e2a504b3f59b": {
          "model_module": "@jupyter-widgets/controls",
          "model_name": "FloatProgressModel",
          "model_module_version": "1.5.0",
          "state": {
            "_view_name": "ProgressView",
            "style": "IPY_MODEL_4dd9bbfd23e24fec8120809ea9d89897",
            "_dom_classes": [],
            "description": "",
            "_model_name": "FloatProgressModel",
            "bar_style": "",
            "max": 6251,
            "_view_module": "@jupyter-widgets/controls",
            "_model_module_version": "1.5.0",
            "value": 2580,
            "_view_count": null,
            "_view_module_version": "1.5.0",
            "orientation": "horizontal",
            "min": 0,
            "description_tooltip": null,
            "_model_module": "@jupyter-widgets/controls",
            "layout": "IPY_MODEL_a54f81c2d5724020bc2a970c84bba50a"
          }
        },
        "b72f6b23bcd9409986800b86ae07e1df": {
          "model_module": "@jupyter-widgets/controls",
          "model_name": "HTMLModel",
          "model_module_version": "1.5.0",
          "state": {
            "_view_name": "HTMLView",
            "style": "IPY_MODEL_6efabe736d114f51bb3099a68ddc0276",
            "_dom_classes": [],
            "description": "",
            "_model_name": "HTMLModel",
            "placeholder": "​",
            "_view_module": "@jupyter-widgets/controls",
            "_model_module_version": "1.5.0",
            "value": " 2580/6251 [55:32&lt;1:19:01,  1.29s/it, loss=0.289, v_num=0, acc=0.844]",
            "_view_count": null,
            "_view_module_version": "1.5.0",
            "description_tooltip": null,
            "_model_module": "@jupyter-widgets/controls",
            "layout": "IPY_MODEL_4155f9be4e19433f8a662b665231fa0f"
          }
        },
        "f80744d6c2474c9eba279b556ef4b4df": {
          "model_module": "@jupyter-widgets/controls",
          "model_name": "DescriptionStyleModel",
          "model_module_version": "1.5.0",
          "state": {
            "_view_name": "StyleView",
            "_model_name": "DescriptionStyleModel",
            "description_width": "",
            "_view_module": "@jupyter-widgets/base",
            "_model_module_version": "1.5.0",
            "_view_count": null,
            "_view_module_version": "1.2.0",
            "_model_module": "@jupyter-widgets/controls"
          }
        },
        "f5d017fa956741ed9f25fefb44971280": {
          "model_module": "@jupyter-widgets/base",
          "model_name": "LayoutModel",
          "model_module_version": "1.2.0",
          "state": {
            "_view_name": "LayoutView",
            "grid_template_rows": null,
            "right": null,
            "justify_content": null,
            "_view_module": "@jupyter-widgets/base",
            "overflow": null,
            "_model_module_version": "1.2.0",
            "_view_count": null,
            "flex_flow": null,
            "width": null,
            "min_width": null,
            "border": null,
            "align_items": null,
            "bottom": null,
            "_model_module": "@jupyter-widgets/base",
            "top": null,
            "grid_column": null,
            "overflow_y": null,
            "overflow_x": null,
            "grid_auto_flow": null,
            "grid_area": null,
            "grid_template_columns": null,
            "flex": null,
            "_model_name": "LayoutModel",
            "justify_items": null,
            "grid_row": null,
            "max_height": null,
            "align_content": null,
            "visibility": null,
            "align_self": null,
            "height": null,
            "min_height": null,
            "padding": null,
            "grid_auto_rows": null,
            "grid_gap": null,
            "max_width": null,
            "order": null,
            "_view_module_version": "1.2.0",
            "grid_template_areas": null,
            "object_position": null,
            "object_fit": null,
            "grid_auto_columns": null,
            "margin": null,
            "display": null,
            "left": null
          }
        },
        "4dd9bbfd23e24fec8120809ea9d89897": {
          "model_module": "@jupyter-widgets/controls",
          "model_name": "ProgressStyleModel",
          "model_module_version": "1.5.0",
          "state": {
            "_view_name": "StyleView",
            "_model_name": "ProgressStyleModel",
            "description_width": "",
            "_view_module": "@jupyter-widgets/base",
            "_model_module_version": "1.5.0",
            "_view_count": null,
            "_view_module_version": "1.2.0",
            "bar_color": null,
            "_model_module": "@jupyter-widgets/controls"
          }
        },
        "a54f81c2d5724020bc2a970c84bba50a": {
          "model_module": "@jupyter-widgets/base",
          "model_name": "LayoutModel",
          "model_module_version": "1.2.0",
          "state": {
            "_view_name": "LayoutView",
            "grid_template_rows": null,
            "right": null,
            "justify_content": null,
            "_view_module": "@jupyter-widgets/base",
            "overflow": null,
            "_model_module_version": "1.2.0",
            "_view_count": null,
            "flex_flow": null,
            "width": null,
            "min_width": null,
            "border": null,
            "align_items": null,
            "bottom": null,
            "_model_module": "@jupyter-widgets/base",
            "top": null,
            "grid_column": null,
            "overflow_y": null,
            "overflow_x": null,
            "grid_auto_flow": null,
            "grid_area": null,
            "grid_template_columns": null,
            "flex": "2",
            "_model_name": "LayoutModel",
            "justify_items": null,
            "grid_row": null,
            "max_height": null,
            "align_content": null,
            "visibility": null,
            "align_self": null,
            "height": null,
            "min_height": null,
            "padding": null,
            "grid_auto_rows": null,
            "grid_gap": null,
            "max_width": null,
            "order": null,
            "_view_module_version": "1.2.0",
            "grid_template_areas": null,
            "object_position": null,
            "object_fit": null,
            "grid_auto_columns": null,
            "margin": null,
            "display": null,
            "left": null
          }
        },
        "6efabe736d114f51bb3099a68ddc0276": {
          "model_module": "@jupyter-widgets/controls",
          "model_name": "DescriptionStyleModel",
          "model_module_version": "1.5.0",
          "state": {
            "_view_name": "StyleView",
            "_model_name": "DescriptionStyleModel",
            "description_width": "",
            "_view_module": "@jupyter-widgets/base",
            "_model_module_version": "1.5.0",
            "_view_count": null,
            "_view_module_version": "1.2.0",
            "_model_module": "@jupyter-widgets/controls"
          }
        },
        "4155f9be4e19433f8a662b665231fa0f": {
          "model_module": "@jupyter-widgets/base",
          "model_name": "LayoutModel",
          "model_module_version": "1.2.0",
          "state": {
            "_view_name": "LayoutView",
            "grid_template_rows": null,
            "right": null,
            "justify_content": null,
            "_view_module": "@jupyter-widgets/base",
            "overflow": null,
            "_model_module_version": "1.2.0",
            "_view_count": null,
            "flex_flow": null,
            "width": null,
            "min_width": null,
            "border": null,
            "align_items": null,
            "bottom": null,
            "_model_module": "@jupyter-widgets/base",
            "top": null,
            "grid_column": null,
            "overflow_y": null,
            "overflow_x": null,
            "grid_auto_flow": null,
            "grid_area": null,
            "grid_template_columns": null,
            "flex": null,
            "_model_name": "LayoutModel",
            "justify_items": null,
            "grid_row": null,
            "max_height": null,
            "align_content": null,
            "visibility": null,
            "align_self": null,
            "height": null,
            "min_height": null,
            "padding": null,
            "grid_auto_rows": null,
            "grid_gap": null,
            "max_width": null,
            "order": null,
            "_view_module_version": "1.2.0",
            "grid_template_areas": null,
            "object_position": null,
            "object_fit": null,
            "grid_auto_columns": null,
            "margin": null,
            "display": null,
            "left": null
          }
        }
      }
    }
  },
  "cells": [
    {
      "cell_type": "markdown",
      "metadata": {
        "id": "view-in-github",
        "colab_type": "text"
      },
      "source": [
        "<a href=\"https://colab.research.google.com/github/sun0809/BERT-project/blob/main/04_doc_cls_train_colab.ipynb\" target=\"_parent\"><img src=\"https://colab.research.google.com/assets/colab-badge.svg\" alt=\"Open In Colab\"/></a>"
      ]
    },
    {
      "cell_type": "markdown",
      "metadata": {
        "id": "p36hSZiX6RNF"
      },
      "source": [
        "# 패키지 설치하기\n",
        "\n",
        "TPU 관련 패키지를 설치합니다. TPU 사용시 아래 라인 첫 문자(#)를 지우고 수행하세요. GPU를 쓴다면 아래 라인을 실행할 필요가 없습니다."
      ]
    },
    {
      "cell_type": "code",
      "metadata": {
        "id": "sRTSTtBFO8jo"
      },
      "source": [
        "# TPU 사용시 아래 라인 첫 문자(#)를 지우고 수행하세요.\n",
        "#!pip install cloud-tpu-client==0.10 https://storage.googleapis.com/tpu-pytorch/wheels/torch_xla-1.9-cp37-cp37m-linux_x86_64.whl"
      ],
      "execution_count": null,
      "outputs": []
    },
    {
      "cell_type": "markdown",
      "metadata": {
        "id": "YixrCxo8O8N_"
      },
      "source": [
        "TPU 이외에 의존성 있는 패키지를 설치합니다."
      ]
    },
    {
      "cell_type": "code",
      "metadata": {
        "id": "0U3MeuPe4HkP",
        "colab": {
          "base_uri": "https://localhost:8080/"
        },
        "outputId": "29aec951-7247-44fe-8851-dee05affd184"
      },
      "source": [
        "!pip install ratsnlp"
      ],
      "execution_count": 2,
      "outputs": [
        {
          "output_type": "stream",
          "name": "stdout",
          "text": [
            "Requirement already satisfied: ratsnlp in /usr/local/lib/python3.7/dist-packages (1.0.1)\n",
            "Requirement already satisfied: flask>=1.1.4 in /usr/local/lib/python3.7/dist-packages (from ratsnlp) (1.1.4)\n",
            "Requirement already satisfied: torch>=1.9.0 in /usr/local/lib/python3.7/dist-packages (from ratsnlp) (1.10.0+cu111)\n",
            "Requirement already satisfied: flask-ngrok>=0.0.25 in /usr/local/lib/python3.7/dist-packages (from ratsnlp) (0.0.25)\n",
            "Requirement already satisfied: transformers==4.10.0 in /usr/local/lib/python3.7/dist-packages (from ratsnlp) (4.10.0)\n",
            "Requirement already satisfied: Korpora>=0.2.0 in /usr/local/lib/python3.7/dist-packages (from ratsnlp) (0.2.0)\n",
            "Requirement already satisfied: pytorch-lightning==1.3.4 in /usr/local/lib/python3.7/dist-packages (from ratsnlp) (1.3.4)\n",
            "Requirement already satisfied: flask-cors>=3.0.10 in /usr/local/lib/python3.7/dist-packages (from ratsnlp) (3.0.10)\n",
            "Requirement already satisfied: numpy>=1.17.2 in /usr/local/lib/python3.7/dist-packages (from pytorch-lightning==1.3.4->ratsnlp) (1.21.5)\n",
            "Requirement already satisfied: torchmetrics>=0.2.0 in /usr/local/lib/python3.7/dist-packages (from pytorch-lightning==1.3.4->ratsnlp) (0.7.2)\n",
            "Requirement already satisfied: pyDeprecate==0.3.0 in /usr/local/lib/python3.7/dist-packages (from pytorch-lightning==1.3.4->ratsnlp) (0.3.0)\n",
            "Requirement already satisfied: fsspec[http]>=2021.4.0 in /usr/local/lib/python3.7/dist-packages (from pytorch-lightning==1.3.4->ratsnlp) (2022.1.0)\n",
            "Requirement already satisfied: packaging in /usr/local/lib/python3.7/dist-packages (from pytorch-lightning==1.3.4->ratsnlp) (21.3)\n",
            "Requirement already satisfied: PyYAML<=5.4.1,>=5.1 in /usr/local/lib/python3.7/dist-packages (from pytorch-lightning==1.3.4->ratsnlp) (5.4.1)\n",
            "Requirement already satisfied: tensorboard!=2.5.0,>=2.2.0 in /usr/local/lib/python3.7/dist-packages (from pytorch-lightning==1.3.4->ratsnlp) (2.8.0)\n",
            "Requirement already satisfied: tqdm>=4.41.0 in /usr/local/lib/python3.7/dist-packages (from pytorch-lightning==1.3.4->ratsnlp) (4.62.3)\n",
            "Requirement already satisfied: future>=0.17.1 in /usr/local/lib/python3.7/dist-packages (from pytorch-lightning==1.3.4->ratsnlp) (0.18.2)\n",
            "Requirement already satisfied: regex!=2019.12.17 in /usr/local/lib/python3.7/dist-packages (from transformers==4.10.0->ratsnlp) (2019.12.20)\n",
            "Requirement already satisfied: requests in /usr/local/lib/python3.7/dist-packages (from transformers==4.10.0->ratsnlp) (2.23.0)\n",
            "Requirement already satisfied: importlib-metadata in /usr/local/lib/python3.7/dist-packages (from transformers==4.10.0->ratsnlp) (4.11.0)\n",
            "Requirement already satisfied: huggingface-hub>=0.0.12 in /usr/local/lib/python3.7/dist-packages (from transformers==4.10.0->ratsnlp) (0.4.0)\n",
            "Requirement already satisfied: sacremoses in /usr/local/lib/python3.7/dist-packages (from transformers==4.10.0->ratsnlp) (0.0.47)\n",
            "Requirement already satisfied: filelock in /usr/local/lib/python3.7/dist-packages (from transformers==4.10.0->ratsnlp) (3.4.2)\n",
            "Requirement already satisfied: tokenizers<0.11,>=0.10.1 in /usr/local/lib/python3.7/dist-packages (from transformers==4.10.0->ratsnlp) (0.10.3)\n",
            "Requirement already satisfied: itsdangerous<2.0,>=0.24 in /usr/local/lib/python3.7/dist-packages (from flask>=1.1.4->ratsnlp) (1.1.0)\n",
            "Requirement already satisfied: Werkzeug<2.0,>=0.15 in /usr/local/lib/python3.7/dist-packages (from flask>=1.1.4->ratsnlp) (1.0.1)\n",
            "Requirement already satisfied: click<8.0,>=5.1 in /usr/local/lib/python3.7/dist-packages (from flask>=1.1.4->ratsnlp) (7.1.2)\n",
            "Requirement already satisfied: Jinja2<3.0,>=2.10.1 in /usr/local/lib/python3.7/dist-packages (from flask>=1.1.4->ratsnlp) (2.11.3)\n",
            "Requirement already satisfied: Six in /usr/local/lib/python3.7/dist-packages (from flask-cors>=3.0.10->ratsnlp) (1.15.0)\n",
            "Requirement already satisfied: aiohttp in /usr/local/lib/python3.7/dist-packages (from fsspec[http]>=2021.4.0->pytorch-lightning==1.3.4->ratsnlp) (3.8.1)\n",
            "Requirement already satisfied: typing-extensions>=3.7.4.3 in /usr/local/lib/python3.7/dist-packages (from huggingface-hub>=0.0.12->transformers==4.10.0->ratsnlp) (3.10.0.2)\n",
            "Requirement already satisfied: MarkupSafe>=0.23 in /usr/local/lib/python3.7/dist-packages (from Jinja2<3.0,>=2.10.1->flask>=1.1.4->ratsnlp) (2.0.1)\n",
            "Requirement already satisfied: xlrd>=1.2.0 in /usr/local/lib/python3.7/dist-packages (from Korpora>=0.2.0->ratsnlp) (2.0.1)\n",
            "Requirement already satisfied: dataclasses>=0.6 in /usr/local/lib/python3.7/dist-packages (from Korpora>=0.2.0->ratsnlp) (0.6)\n",
            "Requirement already satisfied: pyparsing!=3.0.5,>=2.0.2 in /usr/local/lib/python3.7/dist-packages (from packaging->pytorch-lightning==1.3.4->ratsnlp) (3.0.7)\n",
            "Requirement already satisfied: urllib3!=1.25.0,!=1.25.1,<1.26,>=1.21.1 in /usr/local/lib/python3.7/dist-packages (from requests->transformers==4.10.0->ratsnlp) (1.24.3)\n",
            "Requirement already satisfied: idna<3,>=2.5 in /usr/local/lib/python3.7/dist-packages (from requests->transformers==4.10.0->ratsnlp) (2.10)\n",
            "Requirement already satisfied: chardet<4,>=3.0.2 in /usr/local/lib/python3.7/dist-packages (from requests->transformers==4.10.0->ratsnlp) (3.0.4)\n",
            "Requirement already satisfied: certifi>=2017.4.17 in /usr/local/lib/python3.7/dist-packages (from requests->transformers==4.10.0->ratsnlp) (2021.10.8)\n",
            "Requirement already satisfied: protobuf>=3.6.0 in /usr/local/lib/python3.7/dist-packages (from tensorboard!=2.5.0,>=2.2.0->pytorch-lightning==1.3.4->ratsnlp) (3.17.3)\n",
            "Requirement already satisfied: grpcio>=1.24.3 in /usr/local/lib/python3.7/dist-packages (from tensorboard!=2.5.0,>=2.2.0->pytorch-lightning==1.3.4->ratsnlp) (1.43.0)\n",
            "Requirement already satisfied: google-auth-oauthlib<0.5,>=0.4.1 in /usr/local/lib/python3.7/dist-packages (from tensorboard!=2.5.0,>=2.2.0->pytorch-lightning==1.3.4->ratsnlp) (0.4.6)\n",
            "Requirement already satisfied: markdown>=2.6.8 in /usr/local/lib/python3.7/dist-packages (from tensorboard!=2.5.0,>=2.2.0->pytorch-lightning==1.3.4->ratsnlp) (3.3.6)\n",
            "Requirement already satisfied: tensorboard-plugin-wit>=1.6.0 in /usr/local/lib/python3.7/dist-packages (from tensorboard!=2.5.0,>=2.2.0->pytorch-lightning==1.3.4->ratsnlp) (1.8.1)\n",
            "Requirement already satisfied: tensorboard-data-server<0.7.0,>=0.6.0 in /usr/local/lib/python3.7/dist-packages (from tensorboard!=2.5.0,>=2.2.0->pytorch-lightning==1.3.4->ratsnlp) (0.6.1)\n",
            "Requirement already satisfied: wheel>=0.26 in /usr/local/lib/python3.7/dist-packages (from tensorboard!=2.5.0,>=2.2.0->pytorch-lightning==1.3.4->ratsnlp) (0.37.1)\n",
            "Requirement already satisfied: setuptools>=41.0.0 in /usr/local/lib/python3.7/dist-packages (from tensorboard!=2.5.0,>=2.2.0->pytorch-lightning==1.3.4->ratsnlp) (57.4.0)\n",
            "Requirement already satisfied: google-auth<3,>=1.6.3 in /usr/local/lib/python3.7/dist-packages (from tensorboard!=2.5.0,>=2.2.0->pytorch-lightning==1.3.4->ratsnlp) (1.35.0)\n",
            "Requirement already satisfied: absl-py>=0.4 in /usr/local/lib/python3.7/dist-packages (from tensorboard!=2.5.0,>=2.2.0->pytorch-lightning==1.3.4->ratsnlp) (1.0.0)\n",
            "Requirement already satisfied: cachetools<5.0,>=2.0.0 in /usr/local/lib/python3.7/dist-packages (from google-auth<3,>=1.6.3->tensorboard!=2.5.0,>=2.2.0->pytorch-lightning==1.3.4->ratsnlp) (4.2.4)\n",
            "Requirement already satisfied: rsa<5,>=3.1.4 in /usr/local/lib/python3.7/dist-packages (from google-auth<3,>=1.6.3->tensorboard!=2.5.0,>=2.2.0->pytorch-lightning==1.3.4->ratsnlp) (4.8)\n",
            "Requirement already satisfied: pyasn1-modules>=0.2.1 in /usr/local/lib/python3.7/dist-packages (from google-auth<3,>=1.6.3->tensorboard!=2.5.0,>=2.2.0->pytorch-lightning==1.3.4->ratsnlp) (0.2.8)\n",
            "Requirement already satisfied: requests-oauthlib>=0.7.0 in /usr/local/lib/python3.7/dist-packages (from google-auth-oauthlib<0.5,>=0.4.1->tensorboard!=2.5.0,>=2.2.0->pytorch-lightning==1.3.4->ratsnlp) (1.3.1)\n",
            "Requirement already satisfied: zipp>=0.5 in /usr/local/lib/python3.7/dist-packages (from importlib-metadata->transformers==4.10.0->ratsnlp) (3.7.0)\n",
            "Requirement already satisfied: pyasn1<0.5.0,>=0.4.6 in /usr/local/lib/python3.7/dist-packages (from pyasn1-modules>=0.2.1->google-auth<3,>=1.6.3->tensorboard!=2.5.0,>=2.2.0->pytorch-lightning==1.3.4->ratsnlp) (0.4.8)\n",
            "Requirement already satisfied: oauthlib>=3.0.0 in /usr/local/lib/python3.7/dist-packages (from requests-oauthlib>=0.7.0->google-auth-oauthlib<0.5,>=0.4.1->tensorboard!=2.5.0,>=2.2.0->pytorch-lightning==1.3.4->ratsnlp) (3.2.0)\n",
            "Requirement already satisfied: attrs>=17.3.0 in /usr/local/lib/python3.7/dist-packages (from aiohttp->fsspec[http]>=2021.4.0->pytorch-lightning==1.3.4->ratsnlp) (21.4.0)\n",
            "Requirement already satisfied: frozenlist>=1.1.1 in /usr/local/lib/python3.7/dist-packages (from aiohttp->fsspec[http]>=2021.4.0->pytorch-lightning==1.3.4->ratsnlp) (1.3.0)\n",
            "Requirement already satisfied: multidict<7.0,>=4.5 in /usr/local/lib/python3.7/dist-packages (from aiohttp->fsspec[http]>=2021.4.0->pytorch-lightning==1.3.4->ratsnlp) (6.0.2)\n",
            "Requirement already satisfied: aiosignal>=1.1.2 in /usr/local/lib/python3.7/dist-packages (from aiohttp->fsspec[http]>=2021.4.0->pytorch-lightning==1.3.4->ratsnlp) (1.2.0)\n",
            "Requirement already satisfied: yarl<2.0,>=1.0 in /usr/local/lib/python3.7/dist-packages (from aiohttp->fsspec[http]>=2021.4.0->pytorch-lightning==1.3.4->ratsnlp) (1.7.2)\n",
            "Requirement already satisfied: asynctest==0.13.0 in /usr/local/lib/python3.7/dist-packages (from aiohttp->fsspec[http]>=2021.4.0->pytorch-lightning==1.3.4->ratsnlp) (0.13.0)\n",
            "Requirement already satisfied: charset-normalizer<3.0,>=2.0 in /usr/local/lib/python3.7/dist-packages (from aiohttp->fsspec[http]>=2021.4.0->pytorch-lightning==1.3.4->ratsnlp) (2.0.11)\n",
            "Requirement already satisfied: async-timeout<5.0,>=4.0.0a3 in /usr/local/lib/python3.7/dist-packages (from aiohttp->fsspec[http]>=2021.4.0->pytorch-lightning==1.3.4->ratsnlp) (4.0.2)\n",
            "Requirement already satisfied: joblib in /usr/local/lib/python3.7/dist-packages (from sacremoses->transformers==4.10.0->ratsnlp) (1.1.0)\n"
          ]
        }
      ]
    },
    {
      "cell_type": "markdown",
      "metadata": {
        "id": "Skjaa0Gk6d_X"
      },
      "source": [
        "# 구글 드라이브 연동하기\n",
        "코랩 노트북은 일정 시간 사용하지 않으면 당시까지의 모든 결과물이 날아갈 수 있습니다. 체크포인트 등을 저장해 둘 구글 드라이브를 연결합니다. 자신의 구글 계정에 적용됩니다."
      ]
    },
    {
      "cell_type": "code",
      "metadata": {
        "id": "QQCGKzLXJuED",
        "colab": {
          "base_uri": "https://localhost:8080/"
        },
        "outputId": "7cd52243-b105-45c6-bcb7-2347d3730638"
      },
      "source": [
        "from google.colab import drive\n",
        "drive.mount('/gdrive', force_remount=True)"
      ],
      "execution_count": 3,
      "outputs": [
        {
          "output_type": "stream",
          "name": "stdout",
          "text": [
            "Mounted at /gdrive\n"
          ]
        }
      ]
    },
    {
      "cell_type": "markdown",
      "source": [
        ""
      ],
      "metadata": {
        "id": "s3cmXDh9Zp0S"
      }
    },
    {
      "cell_type": "markdown",
      "metadata": {
        "id": "ML-ubp246uzI"
      },
      "source": [
        "# 각종 설정\n",
        "이번 튜토리얼에서는 이준범 님이 공개하신 kcbert-base 모델을 NSMC 데이터로 파인튜닝해볼 예정입니다\n",
        "\n",
        "모델 하이퍼파라메터(hyperparameter)와 저장 위치 등 설정 정보를 선언합니다."
      ]
    },
    {
      "cell_type": "code",
      "metadata": {
        "id": "dtoPBSH4v31j"
      },
      "source": [
        "import torch\n",
        "from ratsnlp.nlpbook.classification import ClassificationTrainArguments\n",
        "args = ClassificationTrainArguments(\n",
        "    pretrained_model_name=\"beomi/kcbert-base\",  #프리트레인 마친 언어모델의 이름\n",
        "    downstream_corpus_name=\"nsmc\", # 다운스트림 데이터의 이름\n",
        "    downstream_model_dir=\"/gdrive/My Drive/nlpbook/checkpoint-doccls\",  # 파인튜닝된 모델의 체크포인트가 저장될 위치. \n",
        "    batch_size=32 if torch.cuda.is_available() else 4, #TPU로 설정했다면 4\n",
        "    learning_rate=5e-5,   \n",
        "    max_seq_length=128,  # 패딩과 같은 의미 / 이보다 긴문장은 자르고 짧은 문장은 padding을 진행한다. \n",
        "    epochs=3,\n",
        "    tpu_cores=0 if torch.cuda.is_available() else 8, # GPU면 TPU 코어수 0 TPU면 8\n",
        "    seed=7,\n",
        ")"
      ],
      "execution_count": 4,
      "outputs": []
    },
    {
      "cell_type": "markdown",
      "metadata": {
        "id": "48RjaTAr7D4M"
      },
      "source": [
        "# 랜덤 시드 고정\n",
        "\n",
        "랜덤시드 \n",
        "난수는 배치(batch)를 뽑거나 드롭아웃 대상 뉴런의 위치를 정할 때 등 다양하게 쓰입니다. 컴퓨터는 난수 생성 알고리즘을 사용해 난수를 만들어내는데요. 이 때 난수 생성 알고리즘을 실행하기 위해 쓰는 수를 랜덤 시드라고 합니다. 만일 같은 시드를 사용한다면 컴퓨터는 계속 같은 패턴의 난수를 생성하게 됩니다.\n",
        "\n",
        "학습 재현을 위해 랜덤 시드를 고정합니다."
      ]
    },
    {
      "cell_type": "code",
      "metadata": {
        "id": "HuacSUSd7JRf",
        "colab": {
          "base_uri": "https://localhost:8080/"
        },
        "outputId": "1a80f07c-c39e-4a76-da03-3394aacae76c"
      },
      "source": [
        "from ratsnlp import nlpbook\n",
        "nlpbook.set_seed(args)"
      ],
      "execution_count": 7,
      "outputs": [
        {
          "output_type": "stream",
          "name": "stdout",
          "text": [
            "set seed: 7\n"
          ]
        }
      ]
    },
    {
      "cell_type": "markdown",
      "metadata": {
        "id": "FeTvf0bc9bbV"
      },
      "source": [
        "# 로거 설정\n",
        "메세지 출력 등을 위한 logger를 설정합니다."
      ]
    },
    {
      "cell_type": "code",
      "metadata": {
        "id": "251gdehZ9iPZ",
        "colab": {
          "base_uri": "https://localhost:8080/"
        },
        "outputId": "4aa485ee-8719-4640-ff7e-22e00a57855e"
      },
      "source": [
        "nlpbook.set_logger(args)"
      ],
      "execution_count": 9,
      "outputs": [
        {
          "output_type": "stream",
          "name": "stderr",
          "text": [
            "INFO:ratsnlp:Training/evaluation parameters ClassificationTrainArguments(pretrained_model_name='beomi/kcbert-base', downstream_task_name='document-classification', downstream_corpus_name='nsmc', downstream_corpus_root_dir='/content/Korpora', downstream_model_dir='/gdrive/My Drive/nlpbook/checkpoint-doccls', max_seq_length=128, save_top_k=1, monitor='min val_loss', seed=7, overwrite_cache=False, force_download=False, test_mode=False, learning_rate=5e-05, epochs=3, batch_size=32, cpu_workers=2, fp16=False, tpu_cores=0)\n",
            "INFO:ratsnlp:Training/evaluation parameters ClassificationTrainArguments(pretrained_model_name='beomi/kcbert-base', downstream_task_name='document-classification', downstream_corpus_name='nsmc', downstream_corpus_root_dir='/content/Korpora', downstream_model_dir='/gdrive/My Drive/nlpbook/checkpoint-doccls', max_seq_length=128, save_top_k=1, monitor='min val_loss', seed=7, overwrite_cache=False, force_download=False, test_mode=False, learning_rate=5e-05, epochs=3, batch_size=32, cpu_workers=2, fp16=False, tpu_cores=0)\n",
            "INFO:ratsnlp:Training/evaluation parameters ClassificationTrainArguments(pretrained_model_name='beomi/kcbert-base', downstream_task_name='document-classification', downstream_corpus_name='nsmc', downstream_corpus_root_dir='/content/Korpora', downstream_model_dir='/gdrive/My Drive/nlpbook/checkpoint-doccls', max_seq_length=128, save_top_k=1, monitor='min val_loss', seed=7, overwrite_cache=False, force_download=False, test_mode=False, learning_rate=5e-05, epochs=3, batch_size=32, cpu_workers=2, fp16=False, tpu_cores=0)\n"
          ]
        }
      ]
    },
    {
      "cell_type": "markdown",
      "metadata": {
        "id": "DqUazvWL7Pry"
      },
      "source": [
        "# 말뭉치 다운로드\n",
        "실습에 사용할 말뭉치(Naver Sentiment Movie review Corpus)를 다운로드합니다.\n",
        "\n",
        "코드 4-7을 실행하면 NSMC 데이터 다운로드를 수행합니다. 데이터를 내려받는 도구로 코포라(Korpora)라는 오픈소스 파이썬 패키지를 사용해, corpus_name(nsmc)에 해당하는 말뭉치를 코랩 환경 로컬의 root_dir(/content/Korpora) 이하에 저장해 둡니다."
      ]
    },
    {
      "cell_type": "code",
      "metadata": {
        "id": "opyaJgPA7Zxi",
        "colab": {
          "base_uri": "https://localhost:8080/"
        },
        "outputId": "8cb66ece-4670-4687-e1bb-5c14b23aea84"
      },
      "source": [
        "from Korpora import Korpora\n",
        "Korpora.fetch(\n",
        "    corpus_name=args.downstream_corpus_name,\n",
        "    root_dir=args.downstream_corpus_root_dir,\n",
        "    force_download=True,\n",
        ")"
      ],
      "execution_count": 10,
      "outputs": [
        {
          "output_type": "stream",
          "name": "stderr",
          "text": [
            "[nsmc] download ratings_train.txt: 14.6MB [00:00, 85.6MB/s]                            \n",
            "[nsmc] download ratings_test.txt: 4.90MB [00:00, 40.5MB/s]                            \n"
          ]
        }
      ]
    },
    {
      "cell_type": "markdown",
      "metadata": {
        "id": "2DnwLCKB7cRq"
      },
      "source": [
        "# 토크나이저 준비\n",
        "토큰화를 수행하는 토크나이저를 선언합니다\n",
        "\n",
        "이준범 님이 공개하신 kcbert-base 모델이 사용하는 토크나이저(tokenizer)를 선언합니다. 토크나이저(tokenizer)는 토큰화를 수행하는 프로그램이라는 뜻입니다."
      ]
    },
    {
      "cell_type": "code",
      "metadata": {
        "id": "OlcoBivi7hIY",
        "colab": {
          "base_uri": "https://localhost:8080/",
          "height": 113,
          "referenced_widgets": [
            "ac1702097dde4709bdd79301c8105963",
            "f82c1611cd5844f393d3c78f47658d35",
            "8ab40c519f3b4cf8a51c13d0ac9a1d64",
            "0e607cd5be2345218f7239200b886027",
            "8bd9bd8bb5f6420e870ac0bdcb0635a1",
            "b3cfbdf66eb1401792dba354841032b2",
            "7c7629a1b8fd4b6ab8d6dc97afda0fc7",
            "bc0abb294d5f4e1dbbc7a300411615bd",
            "9d9518dc24c64bdeb0a76d16e31ba5ab",
            "131389cd485846f6ad912f8371990388",
            "7c3c359e9f2c475d82cc26b5cc1c1d2a",
            "c7fb232d6c26473983b876629943bc2a",
            "b8cd89434fd340198537c95540712ea2",
            "a45b14394a994c1e9f7f478a0f963e30",
            "8abe7bc3e49745d095ef6b1ca7508836",
            "514c23d75c344b46986359067bcd4206",
            "43f4675680af421ab0864937eb53bf7a",
            "a1baf1ba13984ca787aa776773723a34",
            "78f2000c2b0246aaabc7bc65f8059fe6",
            "93e9ceb7b5614fe2abfe1da940a96b6a",
            "7aa971934bc248f087fa2fec8193ce0c",
            "fc2581ab522c4ded8661b4f2193f3d2b",
            "9903d3d6f847489ba92016d2d0b55e74",
            "5fcd8e398b4442e0ba2e6ad23f97a214",
            "e69d903b629e43da927745a2c8e7472e",
            "7a79dc3cc98041d59d84af8131bcb0a1",
            "feaf472c2cc34b899209d967865f3b88",
            "286a337b98004f609f154da412ae71de",
            "53b8066b46c74e8cbbe5f926121d27de",
            "2f0c304bfbc245d3bc853ac6a35d006b",
            "ba5e05899e23430bb1ce5cdb1ee8132f",
            "ccbf3e8d17a849ab9074b7ce1f024a4b",
            "4a783fe11e4c49689082efe952f26a2f"
          ]
        },
        "outputId": "55811970-e772-432d-c93a-c177f9f4ab63"
      },
      "source": [
        "from transformers import BertTokenizer\n",
        "tokenizer = BertTokenizer.from_pretrained(\n",
        "    args.pretrained_model_name,\n",
        "    do_lower_case=False,\n",
        ")"
      ],
      "execution_count": 11,
      "outputs": [
        {
          "output_type": "display_data",
          "data": {
            "application/vnd.jupyter.widget-view+json": {
              "model_id": "ac1702097dde4709bdd79301c8105963",
              "version_minor": 0,
              "version_major": 2
            },
            "text/plain": [
              "Downloading:   0%|          | 0.00/250k [00:00<?, ?B/s]"
            ]
          },
          "metadata": {}
        },
        {
          "output_type": "display_data",
          "data": {
            "application/vnd.jupyter.widget-view+json": {
              "model_id": "c7fb232d6c26473983b876629943bc2a",
              "version_minor": 0,
              "version_major": 2
            },
            "text/plain": [
              "Downloading:   0%|          | 0.00/49.0 [00:00<?, ?B/s]"
            ]
          },
          "metadata": {}
        },
        {
          "output_type": "display_data",
          "data": {
            "application/vnd.jupyter.widget-view+json": {
              "model_id": "9903d3d6f847489ba92016d2d0b55e74",
              "version_minor": 0,
              "version_major": 2
            },
            "text/plain": [
              "Downloading:   0%|          | 0.00/619 [00:00<?, ?B/s]"
            ]
          },
          "metadata": {}
        }
      ]
    },
    {
      "cell_type": "markdown",
      "metadata": {
        "id": "hZbLCM5e7i6g"
      },
      "source": [
        "# 학습데이터 구축\n",
        "학습데이터를 만듭니다."
      ]
    },
    {
      "cell_type": "markdown",
      "source": [
        "아래의 코드를 수행하면 그림 4-3의 데이터셋(Dataset)을 만들 수 있습니다. 코드 4-8에서 NsmcCorpus는 CSV 파일 형식의 NSMC 데이터를 “문장(영화 리뷰) + 레이블(긍정, 부정)” 형태로 읽어들이는 역할을 하고요. \n",
        "ClassificationDataset는 그림 4-3의 데이터셋 역할을 수행합니다.\n",
        "\n",
        "![캡처.JPG](data:image/jpeg;base64,/9j/4AAQSkZJRgABAQEAYABgAAD/4RDaRXhpZgAATU0AKgAAAAgABAE7AAIAAAAFAAAISodpAAQAAAABAAAIUJydAAEAAAAKAAAQyOocAAcAAAgMAAAAPgAAAAAc6gAAAAgAAAAAAAAAAAAAAAAAAAAAAAAAAAAAAAAAAAAAAAAAAAAAAAAAAAAAAAAAAAAAAAAAAAAAAAAAAAAAAAAAAAAAAAAAAAAAAAAAAAAAAAAAAAAAAAAAAAAAAAAAAAAAAAAAAAAAAAAAAAAAAAAAAAAAAAAAAAAAAAAAAAAAAAAAAAAAAAAAAAAAAAAAAAAAAAAAAAAAAAAAAAAAAAAAAAAAAAAAAAAAAAAAAAAAAAAAAAAAAAAAAAAAAAAAAAAAAAAAAAAAAAAAAAAAAAAAAAAAAAAAAAAAAAAAAAAAAAAAAAAAAAAAAAAAAAAAAAAAAAAAAAAAAAAAAAAAAAAAAAAAAAAAAAAAAAAAAAAAAAAAAAAAAAAAAAAAAAAAAAAAAAAAAAAAAAAAAAAAAAAAAAAAAAAAAAAAAAAAAAAAAAAAAAAAAAAAAAAAAAAAAAAAAAAAAAAAAAAAAAAAAAAAAAAAAAAAAAAAAAAAAAAAAAAAAAAAAAAAAAAAAAAAAAAAAAAAAAAAAAAAAAAAAAAAAAAAAAAAAAAAAAAAAAAAAAAAAAAAAAAAAAAAAAAAAAAAAAAAAAAAAAAAAAAAAAAAAAAAAAAAAAAAAAAAAAAAAAAAAAAAAAAAAAAAAAAAAAAAAAAAAAAAAAAAAAAAAAAAAAAAAAAAAAAAAAAAAAAAAAAAAAAAAAAAAAAAAAAAAAAAAAAAAAAAAAAAAAAAAAAAAAAAAAAAAAAAAAAAAAAAAAAAAAAAAAAAAAAAAAAAAAAAAAAAAAAAAAAAAAAAAAAAAAAAAAAAAAAAAAAAAAAAAAAAAAAAAAAAAAAAAAAAAAAAAAAAAAAAAAAAAAAAAAAAAAAAAAAAAAAAAAAAAAAAAAAAAAAAAAAAAAAAAAAAAAAAAAAAAAAAAAAAAAAAAAAAAAAAAAAAAAAAAAAAAAAAAAAAAAAAAAAAAAAAAAAAAAAAAAAAAAAAAAAAAAAAAAAAAAAAAAAAAAAAAAAAAAAAAAAAAAAAAAAAAAAAAAAAAAAAAAAAAAAAAAAAAAAAAAAAAAAAAAAAAAAAAAAAAAAAAAAAAAAAAAAAAAAAAAAAAAAAAAAAAAAAAAAAAAAAAAAAAAAAAAAAAAAAAAAAAAAAAAAAAAAAAAAAAAAAAAAAAAAAAAAAAAAAAAAAAAAAAAAAAAAAAAAAAAAAAAAAAAAAAAAAAAAAAAAAAAAAAAAAAAAAAAAAAAAAAAAAAAAAAAAAAAAAAAAAAAAAAAAAAAAAAAAAAAAAAAAAAAAAAAAAAAAAAAAAAAAAAAAAAAAAAAAAAAAAAAAAAAAAAAAAAAAAAAAAAAAAAAAAAAAAAAAAAAAAAAAAAAAAAAAAAAAAAAAAAAAAAAAAAAAAAAAAAAAAAAAAAAAAAAAAAAAAAAAAAAAAAAAAAAAAAAAAAAAAAAAAAAAAAAAAAAAAAAAAAAAAAAAAAAAAAAAAAAAAAAAAAAAAAAAAAAAAAAAAAAAAAAAAAAAAAAAAAAAAAAAAAAAAAAAAAAAAAAAAAAAAAAAAAAAAAAAAAAAAAAAAAAAAAAAAAAAAAAAAAAAAAAAAAAAAAAAAAAAAAAAAAAAAAAAAAAAAAAAAAAAAAAAAAAAAAAAAAAAAAAAAAAAAAAAAAAAAAAAAAAAAAAAAAAAAAAAAAAAAAAAAAAAAAAAAAAAAAAAAAAAAAAAAAAAAAAAAAAAAAAAAAAAAAAAAAAAAAAAAAAAAAAAAAAAAAAAAAAAAAAAAAAAAAAAAAAAAAAAAAAAAAAAAAAAAAAAAAAAAAAAAAAAAAAAAAAAAAAAAAAAAAAAAAAAAAAAAAAAAAAAAAAAAAAAAAAAAAAAAAAAAAAAAAAAAAAAAAAAAAAAAAAAAAAAAAAAAAAAAAAAAAAAAAAAAAAAAAAAAAAAAAAAAAAAAAAAAAAAAAAAAAAAAAAAAAAAAAAAAAAAAAAAAAAAAAAAAAAAAAAAAAAAAAAAAAAAAAAAAAAAAAAAAAAAAAAAAAAAAAAAAAAAAAAAAAAAAAAAAAAAAAAAAAAAAAAAAAAAAAAAAAAAAAAAAAAAAAAAAAAAAAAAAAAAAAAAAAAAAAAAAAAAAAAAAAAAAAAAAAAAAAAAAAAAAAAAAAAAAAAAAAAAAAAAAAAAAAAAAAAAAAAAAAAAAAAAAAAAAAAAAAAAAAAAAAAAAAAAAAAAAAAAAAAAAAAAAAAAAAAAAAAAAAAAAAAAAAAAAAAAAAAAAAAAAAAAAAAAAAAAAAAAAAAAAAAAAAAAAAAAAAAAAAAAAAAAAAAAAAAAAAAAAAAAAAAAAAAAAAAAAAAAAAAAAAAAAAAAAAAAAAAAAAAAAAAAAAAAAAAAAAAAAAAAAAAAAAAAAAAAAAAAAAAAAAAAAAAAAAAAAAAAAAAAAAAAAAAAAAAAAAAAAAAAAAAAAAAAAAAAAAAAAAAAAAAAAAAAAAAAAAAAAAAAAAAAAAAAAAAAAAAAAAAAAAAAAAAAAAAAAAAAAAAAAAAAAAAAAAAAAAAAAAAAAAAAAAAAAAAAAAAAAAAAAAAAAAAAAAAAAAAAAAAAAAAAAAAAAAAAAAAAAAAAAAAAAAAAAAAAAAAAAAAAAAAAAAAAAAAAAAAAAAAAAAAAAAAAAAAAAAAAAAAAAAAAAAAAAAAAAAAAAAAAAAAAAAAAAAAAAAAAAAAAAAAAAAAAAAAAAAAAAAAAAAAAAAAAAAAAAAAAAAAAAAAAAAAAAAAAAAAAAAAAAAAAAAGNvbXMAAAAFkAMAAgAAABQAABCekAQAAgAAABQAABCykpEAAgAAAAMzOAAAkpIAAgAAAAMzOAAA6hwABwAACAwAAAiSAAAAABzqAAAACAAAAAAAAAAAAAAAAAAAAAAAAAAAAAAAAAAAAAAAAAAAAAAAAAAAAAAAAAAAAAAAAAAAAAAAAAAAAAAAAAAAAAAAAAAAAAAAAAAAAAAAAAAAAAAAAAAAAAAAAAAAAAAAAAAAAAAAAAAAAAAAAAAAAAAAAAAAAAAAAAAAAAAAAAAAAAAAAAAAAAAAAAAAAAAAAAAAAAAAAAAAAAAAAAAAAAAAAAAAAAAAAAAAAAAAAAAAAAAAAAAAAAAAAAAAAAAAAAAAAAAAAAAAAAAAAAAAAAAAAAAAAAAAAAAAAAAAAAAAAAAAAAAAAAAAAAAAAAAAAAAAAAAAAAAAAAAAAAAAAAAAAAAAAAAAAAAAAAAAAAAAAAAAAAAAAAAAAAAAAAAAAAAAAAAAAAAAAAAAAAAAAAAAAAAAAAAAAAAAAAAAAAAAAAAAAAAAAAAAAAAAAAAAAAAAAAAAAAAAAAAAAAAAAAAAAAAAAAAAAAAAAAAAAAAAAAAAAAAAAAAAAAAAAAAAAAAAAAAAAAAAAAAAAAAAAAAAAAAAAAAAAAAAAAAAAAAAAAAAAAAAAAAAAAAAAAAAAAAAAAAAAAAAAAAAAAAAAAAAAAAAAAAAAAAAAAAAAAAAAAAAAAAAAAAAAAAAAAAAAAAAAAAAAAAAAAAAAAAAAAAAAAAAAAAAAAAAAAAAAAAAAAAAAAAAAAAAAAAAAAAAAAAAAAAAAAAAAAAAAAAAAAAAAAAAAAAAAAAAAAAAAAAAAAAAAAAAAAAAAAAAAAAAAAAAAAAAAAAAAAAAAAAAAAAAAAAAAAAAAAAAAAAAAAAAAAAAAAAAAAAAAAAAAAAAAAAAAAAAAAAAAAAAAAAAAAAAAAAAAAAAAAAAAAAAAAAAAAAAAAAAAAAAAAAAAAAAAAAAAAAAAAAAAAAAAAAAAAAAAAAAAAAAAAAAAAAAAAAAAAAAAAAAAAAAAAAAAAAAAAAAAAAAAAAAAAAAAAAAAAAAAAAAAAAAAAAAAAAAAAAAAAAAAAAAAAAAAAAAAAAAAAAAAAAAAAAAAAAAAAAAAAAAAAAAAAAAAAAAAAAAAAAAAAAAAAAAAAAAAAAAAAAAAAAAAAAAAAAAAAAAAAAAAAAAAAAAAAAAAAAAAAAAAAAAAAAAAAAAAAAAAAAAAAAAAAAAAAAAAAAAAAAAAAAAAAAAAAAAAAAAAAAAAAAAAAAAAAAAAAAAAAAAAAAAAAAAAAAAAAAAAAAAAAAAAAAAAAAAAAAAAAAAAAAAAAAAAAAAAAAAAAAAAAAAAAAAAAAAAAAAAAAAAAAAAAAAAAAAAAAAAAAAAAAAAAAAAAAAAAAAAAAAAAAAAAAAAAAAAAAAAAAAAAAAAAAAAAAAAAAAAAAAAAAAAAAAAAAAAAAAAAAAAAAAAAAAAAAAAAAAAAAAAAAAAAAAAAAAAAAAAAAAAAAAAAAAAAAAAAAAAAAAAAAAAAAAAAAAAAAAAAAAAAAAAAAAAAAAAAAAAAAAAAAAAAAAAAAAAAAAAAAAAAAAAAAAAAAAAAAAAAAAAAAAAAAAAAAAAAAAAAAAAAAAAAAAAAAAAAAAAAAAAAAAAAAAAAAAAAAAAAAAAAAAAAAAAAAAAAAAAAAAAAAAAAAAAAAAAAAAAAAAAAAAAAAAAAAAAAAAAAAAAAAAAAAAAAAAAAAAAAAAAAAAAAAAAAAAAAAAAAAAAAAAAAAAAAAAAAAAAAAAAAAAAAAAAAAAAAAAAAAAAAAAAAAAAAAAAAAAAAAAAAAAAAAAAAAAAAAAAAAAAAAAAAAAAAAAAAAAAAAAAAAAAAAAAAAAAAAAAAAAAAAAAAAAAAAAAAAAAAAAAAAAAAAAAAAAAAAAAAAAAAAAAAAAAAAAAAAAAAAAAAAAAAAAAAAAAAAAAAAAAAAAAAAAAAAAAAAAAAAAAAAAAAAAAAAAAAAAAAAAAAAAAAAAAAAAAAAAAAAAAAAAAAAAAAAAAAAAAAAAAAAAAAAAAAAAAAAAAAAAAAAAAAAAAAAAAAAAAAAAAAAAAAAAAAAAAAAAAAAAAAAAAAAAAAAAAAAAAAAAAAAAAAAAAAAAAAAAAAAAAAAAAAAAAAAAAAAAAAAAAAAAAAAAAAAAAAAAAAAAAAAAAAAAAAAAAAAAAAAAAAAAAAAAAAAAAAAAAAAAAAAAAAAAAAAAAAAAAAAAAAAAAAAAAAAAAAAAAAAAAAAAAAAAAAAAAAAAAAAAAAAAAAAAAAAAAAAAAAAAAAAAAAAAAAAAAAAAAAAAAAAAAAAAAAAAAAAAAAAAAAAAAAAAAAAAAAAAAAAAAAAAAAAAAAAAAAAAAAAAAAAAAAAAAAAAAAAAAAAAAAAAAAAAAAAAAAAAAAAAAAAAAAAAAAAAAAAAAAAAAAAAAAAAAAAAAAAAAAAAAAAAAAAAAAAAAAAAAAAAAAAAAAAAAAAAAAAAAAAAAAAAAAAAAAAAAAAAAAAAAAAAAAAAAAAAAAAAAAAAAAAAAAAAAAAAAAAAAAAAAAAAAAAAAAAAAAAAAAAAAAAAAAAAAAAAAAAAAAAAAAAAAAAAAAAAAAAAAAAAAAAAAAAAAAAAAAAAAAAAAAAAAAAAAAAAAAAAAAAAAAAAAAAAAAAAAAAAAAAAAAAAAAAAAAAAAAAAAAAAAAAAAAAAAAAAAAAAAAAAAAAAAAAAAAAAAAAAAAAAAAAAAAAAAAAAAAAAAAAAAAAAAAAAAAAAAAAAAAAAAAAAAAAAAAAAAAAAAAAAAAAAAAAAAAAAMjAyMjowMjoxOCAxNjowODo1OQAyMDIyOjAyOjE4IDE2OjA4OjU5AAAAYwBvAG0AcwAAAP/hCxdodHRwOi8vbnMuYWRvYmUuY29tL3hhcC8xLjAvADw/eHBhY2tldCBiZWdpbj0n77u/JyBpZD0nVzVNME1wQ2VoaUh6cmVTek5UY3prYzlkJz8+DQo8eDp4bXBtZXRhIHhtbG5zOng9ImFkb2JlOm5zOm1ldGEvIj48cmRmOlJERiB4bWxuczpyZGY9Imh0dHA6Ly93d3cudzMub3JnLzE5OTkvMDIvMjItcmRmLXN5bnRheC1ucyMiPjxyZGY6RGVzY3JpcHRpb24gcmRmOmFib3V0PSJ1dWlkOmZhZjViZGQ1LWJhM2QtMTFkYS1hZDMxLWQzM2Q3NTE4MmYxYiIgeG1sbnM6ZGM9Imh0dHA6Ly9wdXJsLm9yZy9kYy9lbGVtZW50cy8xLjEvIi8+PHJkZjpEZXNjcmlwdGlvbiByZGY6YWJvdXQ9InV1aWQ6ZmFmNWJkZDUtYmEzZC0xMWRhLWFkMzEtZDMzZDc1MTgyZjFiIiB4bWxuczp4bXA9Imh0dHA6Ly9ucy5hZG9iZS5jb20veGFwLzEuMC8iPjx4bXA6Q3JlYXRlRGF0ZT4yMDIyLTAyLTE4VDE2OjA4OjU5LjM4MTwveG1wOkNyZWF0ZURhdGU+PC9yZGY6RGVzY3JpcHRpb24+PHJkZjpEZXNjcmlwdGlvbiByZGY6YWJvdXQ9InV1aWQ6ZmFmNWJkZDUtYmEzZC0xMWRhLWFkMzEtZDMzZDc1MTgyZjFiIiB4bWxuczpkYz0iaHR0cDovL3B1cmwub3JnL2RjL2VsZW1lbnRzLzEuMS8iPjxkYzpjcmVhdG9yPjxyZGY6U2VxIHhtbG5zOnJkZj0iaHR0cDovL3d3dy53My5vcmcvMTk5OS8wMi8yMi1yZGYtc3ludGF4LW5zIyI+PHJkZjpsaT5jb21zPC9yZGY6bGk+PC9yZGY6U2VxPg0KCQkJPC9kYzpjcmVhdG9yPjwvcmRmOkRlc2NyaXB0aW9uPjwvcmRmOlJERj48L3g6eG1wbWV0YT4NCiAgICAgICAgICAgICAgICAgICAgICAgICAgICAgICAgICAgICAgICAgICAgICAgICAgICAgICAgICAgICAgICAgICAgICAgICAgICAgICAgICAgICAgICAgICAgICAgICAgICAKICAgICAgICAgICAgICAgICAgICAgICAgICAgICAgICAgICAgICAgICAgICAgICAgICAgICAgICAgICAgICAgICAgICAgICAgICAgICAgICAgICAgICAgICAgICAgICAgICAgIAogICAgICAgICAgICAgICAgICAgICAgICAgICAgICAgICAgICAgICAgICAgICAgICAgICAgICAgICAgICAgICAgICAgICAgICAgICAgICAgICAgICAgICAgICAgICAgICAgICAgCiAgICAgICAgICAgICAgICAgICAgICAgICAgICAgICAgICAgICAgICAgICAgICAgICAgICAgICAgICAgICAgICAgICAgICAgICAgICAgICAgICAgICAgICAgICAgICAgICAgICAKICAgICAgICAgICAgICAgICAgICAgICAgICAgICAgICAgICAgICAgICAgICAgICAgICAgICAgICAgICAgICAgICAgICAgICAgICAgICAgICAgICAgICAgICAgICAgICAgICAgIAogICAgICAgICAgICAgICAgICAgICAgICAgICAgICAgICAgICAgICAgICAgICAgICAgICAgICAgICAgICAgICAgICAgICAgICAgICAgICAgICAgICAgICAgICAgICAgICAgICAgCiAgICAgICAgICAgICAgICAgICAgICAgICAgICAgICAgICAgICAgICAgICAgICAgICAgICAgICAgICAgICAgICAgICAgICAgICAgICAgICAgICAgICAgICAgICAgICAgICAgICAKICAgICAgICAgICAgICAgICAgICAgICAgICAgICAgICAgICAgICAgICAgICAgICAgICAgICAgICAgICAgICAgICAgICAgICAgICAgICAgICAgICAgICAgICAgICAgICAgICAgIAogICAgICAgICAgICAgICAgICAgICAgICAgICAgICAgICAgICAgICAgICAgICAgICAgICAgICAgICAgICAgICAgICAgICAgICAgICAgICAgICAgICAgICAgICAgICAgICAgICAgCiAgICAgICAgICAgICAgICAgICAgICAgICAgICAgICAgICAgICAgICAgICAgICAgICAgICAgICAgICAgICAgICAgICAgICAgICAgICAgICAgICAgICAgICAgICAgICAgICAgICAKICAgICAgICAgICAgICAgICAgICAgICAgICAgICAgICAgICAgICAgICAgICAgICAgICAgICAgICAgICAgICAgICAgICAgICAgICAgICAgICAgICAgICAgICAgICAgICAgICAgIAogICAgICAgICAgICAgICAgICAgICAgICAgICAgICAgICAgICAgICAgICAgICAgICAgICAgICAgICAgICAgICAgICAgICAgICAgICAgICAgICAgICAgICAgICAgICAgICAgICAgCiAgICAgICAgICAgICAgICAgICAgICAgICAgICAgICAgICAgICAgICAgICAgICAgICAgICAgICAgICAgICAgICAgICAgICAgICAgICAgICAgICAgICAgICAgICAgICAgICAgICAKICAgICAgICAgICAgICAgICAgICAgICAgICAgICAgICAgICAgICAgICAgICAgICAgICAgICAgICAgICAgICAgICAgICAgICAgICAgICAgICAgICAgICAgICAgICAgICAgICAgIAogICAgICAgICAgICAgICAgICAgICAgICAgICAgICAgICAgICAgICAgICAgICAgICAgICAgICAgICAgICAgICAgICAgICAgICAgICAgICAgICAgICAgICAgICAgICAgICAgICAgCiAgICAgICAgICAgICAgICAgICAgICAgICAgICAgICAgICAgICAgICAgICAgICAgICAgICAgICAgICAgICAgICAgICAgICAgICAgICAgICAgICAgICAgICAgICAgICAgICAgICAKICAgICAgICAgICAgICAgICAgICAgICAgICAgICAgICAgICAgICAgICAgICAgICAgICAgICAgICAgICAgICAgICAgICAgICAgICAgICAgICAgICAgICAgICAgICAgICAgICAgIAogICAgICAgICAgICAgICAgICAgICAgICAgICAgICAgICAgICAgICAgICAgICAgICAgICAgICAgICAgICAgICAgICAgICAgICAgICAgICAgICAgICAgICAgICAgICAgICAgICAgCiAgICAgICAgICAgICAgICAgICAgICAgICAgICAgICAgICAgICAgICAgICAgICAgICAgICAgICAgICAgICAgICAgICAgICAgICAgICAgICAgICAgICAgICAgICAgICAgICAgICAKICAgICAgICAgICAgICAgICAgICAgICAgICAgICAgICAgICAgICAgICAgICAgICAgICAgICAgICAgICAgICAgICAgICAgICAgICAgICAgICAgICAgICAgICAgICAgICAgICAgIAogICAgICAgICAgICAgICAgICAgICAgICAgICAgPD94cGFja2V0IGVuZD0ndyc/Pv/bAEMABwUFBgUEBwYFBggHBwgKEQsKCQkKFQ8QDBEYFRoZGBUYFxseJyEbHSUdFxgiLiIlKCkrLCsaIC8zLyoyJyorKv/bAEMBBwgICgkKFAsLFCocGBwqKioqKioqKioqKioqKioqKioqKioqKioqKioqKioqKioqKioqKioqKioqKioqKioqKv/AABEIAVYBawMBIgACEQEDEQH/xAAfAAABBQEBAQEBAQAAAAAAAAAAAQIDBAUGBwgJCgv/xAC1EAACAQMDAgQDBQUEBAAAAX0BAgMABBEFEiExQQYTUWEHInEUMoGRoQgjQrHBFVLR8CQzYnKCCQoWFxgZGiUmJygpKjQ1Njc4OTpDREVGR0hJSlNUVVZXWFlaY2RlZmdoaWpzdHV2d3h5eoOEhYaHiImKkpOUlZaXmJmaoqOkpaanqKmqsrO0tba3uLm6wsPExcbHyMnK0tPU1dbX2Nna4eLj5OXm5+jp6vHy8/T19vf4+fr/xAAfAQADAQEBAQEBAQEBAAAAAAAAAQIDBAUGBwgJCgv/xAC1EQACAQIEBAMEBwUEBAABAncAAQIDEQQFITEGEkFRB2FxEyIygQgUQpGhscEJIzNS8BVictEKFiQ04SXxFxgZGiYnKCkqNTY3ODk6Q0RFRkdISUpTVFVWV1hZWmNkZWZnaGlqc3R1dnd4eXqCg4SFhoeIiYqSk5SVlpeYmZqio6Slpqeoqaqys7S1tre4ubrCw8TFxsfIycrS09TV1tfY2dri4+Tl5ufo6ery8/T19vf4+fr/2gAMAwEAAhEDEQA/APf9T8R6JosyRaxrOn6fJIu5EurpIiw6ZAYjIqxp+q6fq1p9q0q+tr233FfOtplkTI6jcpIzVG98XeG9OvJLTUPEOlWlzGQHhnvY0dOM8qWyODWH8PtV07U7fXhpuoWtxK+q3MpWG4WQhC+1H+U5CsFyD37Uu/pf8gelvX/M3bTxZ4d1CWSKw1/S7mSNGkdIbyNyqL1YgHgDua1YpY54UlhdZI5FDI6HIYHkEHuK8atmfT7e7g1mCa9v7SzuLG51b7Xqt6sbMnzkKbcxryFJw3A/KvVvDqCPwvpaJIsqrZwgOgOGGwcjIBwfcA1S1V/T8biekrev4WNGivKNN1e51H432V5qEWo24ltbu2trSewmjEUaNHtfJTBLncxYEgAoCQa7u/u9E1zSruz1USxWfmrBML6Ga0SRi2FUM4TeC2BhSQ2cc5pbpPv/AJj2k12Nys++1/R9LuorXU9WsbO4mx5UNxcpG8mTj5QSCeeOK5/4cxx2mm6vp0CgJY6rPFmIbYCThmESf8s0BYjZk4IPJq9q1+ljrNzHKdTgN1aRJFc2GnS3JRg0meVjdQRuH3h3p9rdQ7+X+djejuIZmZYpY3ZfvBWBI5I5/FSPqD6VBbatp17eXFpZ6ha3FzanFxBFMrPCf9pQcr+NYvhaJ4bq7iknkuHRCpmlChnP2m4+YhQBk+wA9qi0oma60u0jsrqCfS0dbuWW1eNDlCpCuQFk3PhsqT93JwcUpaXA37vVdO0/TxfX9/a2tmQCLiaZUj56fMTjntTdP1rStWgE2lanZ3sRkMQktrhZFLgbiuVJ5xzj0rntREn/AAguivHLfQeWLZmmsLbz5oxtHKpsfP8A3yadZ3txfajpHk3t1PaQTlJf7S0mW2uJZDFKQ25ljUjHGFj/ABqratdmH+R1lYkXjXwtPcJbweJdHkmkcIkaX8RZmJwAAGyTntWpfXUFlYzXN5cxWsEaEvNNIERB6ljwK8nstZ0tL2GG71bRZvJ8qSSaTx/dvHIdx58tl2scrkqeOR61K1dge1z1LU9Z0zRYUl1jUrTT45G2o91OsSseuAWIyafZanYalbxT6de293DMGaOSCVXVwpwxBBwcHg+hrK1fUoLa80nUgtzdWhEmJLG1kushkG04iVjg+vSq+ku114kivU1HVLmGaC4CW+oWYtvJ+eI4VTEjkc4y27p160LewHT0VwGuAXnw28Q3dyoeW6uZklDAH5Y7gxqn0CqOPUk9zWjBp2maB47srXQbS30+KexnlvYLSNY4iFZNjsq4AbJYBu4yO1HWzDrY66ivPPD+rSy+JYdWn068hsfEDPELmcxGGYfettoDl1/dq/3lGS/0zb8P+GtAsPH2uy22i6bbNaJbNA8dpGhhJR9xUgfLnvijZXYPex3FFeeeHdXmfxPBrEun3tvZ68zxrdTNEYpgPmtioDl1/dq/3lXl/pnoPCH+s8Qf9hmb/wBBShb28r/ilb8RPT77fnr+B0dFcA1hpF9ouvavriwDV7O5uVN5If31ltY+SI2+9H8nlsApGS2eSxy/xNPfatYaRo0the3V5La/bL2KxaJHiYJtQnzHVRiVgw5JzH0o/wCB+P8AwxT3t6/gd5RXBapNa+KrDwc2qWkNwk+pFLq1njWRBKkEwdCDkHa6kfhVbVLe2sNB8eabpEaQ6bb6flbeIARQzNC5kVAOF48tio7sT3ptWuCV3Fd/+D/kejUVyXhnQV01JLg+FtA0dmttouNMk3SPnBKt+4jwOM9TyK47wdpq2yeDJH0HSdJ+0RiVNWtH3TXTCI/uZMRrhnBLcsw+Q9Tg07a2/rr/AJErWPMevVStda0q+ubm3sdTs7me0OLiKG4V2hOSPnAOV5B6+lZxlhsPEmqLJOttaSWSXU7s4VYmyyFyTwMqq5P+x9a57TNf0u4ltrJtb8MEWVu0FoNP1JZJbnKbQPLwPLGADsBfnHPy85391v8Arr/l8yra2Z3ysroGRgysMgg5BFZx8SaGNW/ss6zp41Dds+x/ak87djONmc5x2xVnTf8AkE2n/XBP/QRVLfcapq2xrWWCxspN3mSgL9pkHTavXYp53HGSBjI5NtWlYmLvG5pefD5Ly+anlpu3vuGF29cntjBz9KcZY1VWaRQHICkn7xPTFYE7unhHUvLt5rgvLdIUhaMMAZXBbMjouADk5YdK4nSNJ8U2Wq2txeaXrNxb20iuIxc7vMwO4l1N0HP+yfbHZLWVvQctFp5nq9Ytx4z8L2l1JbXXiTSIJ4mKSRSX8SsjDgggtkH2rYZn8ktGgMm3Ko7YGfQkZx9ea5e9v/FsxbTv7E0VZLm3kKv/AGxKQoG1Tn/Rv9sfrQNWZ0V5qNlp1k15qF5Ba2qYLTzyqiLk4GWJxySKoWPi3w5qd4lppviDS7u5kzsht72OR2wMnCg5PAJqvqOotpnh23/tjVtN8PTuRE00s6yIOuRG0gQF9oyCVIB6qwFY+keI9A/tBF0vxlpv7y48uW1nvIpzdNnHmJhlZXY7emU9Eyc01vYn7Nzt6KKKQwooooAKKKKACiiigAopplQHBPNJ5qf3v0oAwrrwRot3NdvKNQQXjs9xHDqt1FHIWGGJRJAvI68Vt2ttFZ2kNrbJshhjWONck7VAwBk89BTvNT+9+lHmp6/pRsrIOtxjWls95HdvbxNcxKyRzFAXRWxkBuoBwMjvgUXdpbX9pJa31vFc28o2yQzIHRx6EHg0/wA1P736Ueanr+lAEdnZWunWcdpp9tDa20YwkMEYRF5zwo4HNT0zzU/vfpR5qf3v0oAit7G2tJZJLePY8mdx3E5+Zn7/AO07H8asU3zU9f0pPNT+9+lACW8EdrbRW8C7YokCIuScADAHNEkEc0kTyLloX3ocng4K5/JjS+anr+lHmp/e/SgB9FM81P736Uvmp6/pQA6o2gja5SdlzLGjIrZPAYgkf+Oj8qXzU/vfpR5qev6UAUzotk8d7DPCtxbXz75radVeInAB+UjvgEjpnnuaSw0DR9Kt5oNL0mxsoZ/9dHbWyRrJxj5goGeCetXfOT+9+lHmp/e/SgCJ7Czkt4reS1geGBkaKNowVjKEFSo6AggYx0xTjZ2xedzbQlrhQszeWMygDADeowSOfWn+anr+lHmp/e/SjfcNiJ7Czkt4reS1geGBkaKNowVjKEFSo6AggYx0xVM+GdBOq/2mdE046hv8z7WbSPzd397fjOffNaPmp6/pR5qf3v0o63DpYqXGiaVd6lDqN1plnPfQYEV1Jbo0seDkbXIyOSehq0LaBbp7lYYxO6BHlCDcygkgE9SASePc0vmp6/pR5qev6UAUbrw9ot9am2vdIsLmBpjOYprZHUyHOXwRjccnnrzUsGj6Za6WdMttOtIbBlZTaRwKsRDfeGwDGDk545zVnzU/vfpR5qev6UAZ2neGNA0i4NxpOh6bYzMpQyW1pHGxU9RlQDjgcVb/ALNsfskNr9it/s9uUaGHyl2RlTlSq4wMEAjHTFTean979KPNT1/SgCG3sIre9uroM7zXJXczkfKqjCqOOFHJ+rGrDoskbI4yrDBHqKb5qev6Uean979KPIBYo1hhSKMYRFCqM9AKdTPNT1/SjzU/vfpQGxGbG3NnLa+X+5m3+Yu487yS3PXkk1mWvhTT7O6jnhuNWZ4mDKsus3ciH6o0pUj2IIrX81PX9KPNT1/SjrcNx9RtBG1yk7LmWNGRWyeAxBI/8dH5Uvmp/e/SjzU9f0oAfRTPNT+9+lHmp/eoAfRTPNT1/SjzU/vfpQA+imeanr+lHmp/e/SgB9FM81PWl8xCcZ5oAdRRRQBVf/WN9ab34pz/AOsb6mm/lQAZooFFABRS9KSgA70Zo/KgUAFFFLQAlHeij8qADNHWjtRQAUUtJQAUZo/KjtQAdaKKKACiij8qADPpRR2ooAKKKKACjPpR+VFABR/nrRRQAUUUflQAZoxQaKACijrRQAfWjNFBoAMUUUUAFH1oooAM05B+8X6im96cn31+tAFqiiigCo/32+tJTn/1jfWm/WgA5oo/WigAooo+tABWB/wkcn/CwP8AhHGtvkNh9rWfPUhtpX9RW/XmnxA0Sf8A4T3w9qsV9fww3TNp8otbgxFC3zK2QRnleR34oA9LorkNO1HVPDviC30PxBdm+tbwEWN+yhXLAZMb44zgcHvXX0AFFFMSWKRmEcisyHDBWB2n39KAH4Nc54n1i+07VdAtbBokW/vvJmMiFvk8t2IHI5+Uc10f61x3jk7NY8KP3GrKPzikFAHY0UUUAFGD3o49aKAKWsarbaHo11qd8WFvaxNK+0ZOAM8UmjatDrmkw39tHLEko/1cybXU9wRXP/FMkfDPWsd7ciuptRi0iA/uD+VAEtFVxqFkbz7ILyA3OM+T5o34/wB3Oafc3MFnayXF1MsMMSlpJHOAoHcmgCXHrRXID4oeF2cBbi9KE4Eo06cxn6PswR75rrY5FmiWRCSrjIOMcUAOooooAPpR9aOPWigAooooAKPpRRx60AH1pfrSUUAFFFFABz2o6UcetFAC0lFFABRz2o+tH40AHSnJ99frTacn+sX6igC1RRRQBVf77fWm05/9Y31ptABXN+Kta1WzvNP0vw7FbPqF+zkPck+XEiAFmIHJ6jjIrpM+lcrqRz8UdEB5/wBBuj+sVAEKWnxDZfn1fQYz6DT5G/8Aaop32L4gj/mN6E3t/Zkg/wDa1ddiigDK0CDW4LWX/hIr22u53k3J9mgMaouOnLHPrWd8QbR7nwbdSwf6+zZLqIjqGQ5/lmumqG8gW6sZ4GGRJGVI+ooA5Dx5Ml98O01u2I3Wvk6hA47bSr/qOKs+LfG6eGrC2+z2v22+uIzKkO7aFjUAs7HBwBkduc1yct+ZvhDF4eHz30ty2jRp3yshj3fgg3fSoPEUQvdd8Q2j5ad7ez0m255XzCxcj8FB/CgCz4l+KlpdeCYTaTXGn3d88UTS+Q+I1dgHZGI5wCcGtzRPF/gzRdNW10e4d41+eV1icn3d2I/U1g6/Ya9ovg99HvoGvrbSyl3ZahHySkLBxHIOobC4B6H61vfEK7huvCukB5VWwvr+3W4kJwvlnLcn0JAoA6TQfFGkeJYJJdGvFnEZw64KsvcZB56c1ieOxu1LwsB1/thP/RclcxY2OoLrd34/8P20lyJbloJLOM4+0WqAR5TsSChYeora1zV7fU/EHhC4KzW0H2iadhdRNCybYmHIYAj71AHffjXAX3jLW9X8Sajpng2O1WHR1JvLu7QujSdRGoDAg9eecY6Vf0zU9S8V6p/aVlM9noNq58nC/NfsOrc9I89PX6Vyvhq6gt/AUVtpQR9f8QySB9nLDLtukf0Cgnk9yB3oA3ZPFur67FodjoJt7G+1C1N3czTRmVbeMccKCuctwOaf8M/Fk2v6bqC6vqEU9/BeSAgLsHl5+Uqp52kDjrVTUfCWu2esxR+HUiFrNpUenNeNIA1qFY5cL1YkHjHet698A6HeaZbwfYxHcWsHkwXULGKVABgfOuDj2zQBxnxC8Q6t4l8G69/YFpANGtInSW8uCc3DL94RgdgRjce+eK2PEHjeWz+G2nX2V0271Ro7ZHc7lgLD5nz3AUEj8Ko2mm+JLjwL/wAISmhGz/cvaz6jNKjRbCTl1AJZmIOeR161rnwjqOpeBNN066W3sNU0l43tXQ74i6DAJHoQSMe9AGRpOlaZql9pcPhWzeSCzuFubvW5lIM7LyVVjyxY9ewFX/FUd14g+JGj+HvtQGkrbPeX1uP+W21lCqfbcQfwrQDePLyEWb22laaCNr3kcrSED1RMdfrTNF8CvovjoaxHdtNarpv2QCVi0jPvDFyT64oA7FbeJYwixIEAwAFGBTwMemKKMZoAPxrn9T0jxFd3zy6f4ijsrc/chFmHI+pLc10FFAHJ/wBieNE/1Xiyyb/rtpZb+UopDpvj4cL4i0U+50mT/wCP11tH8qAOQ/4RrxZOd154yKE9rSxWNR/30WP60f8ACJ+If4fG1/n3t4v8K6/FFAHHnRvHFiN9l4msr0f88r2wIz/wJHGPyNKNa8bWYxe+F7O8H/PSz1DBP/AWQfzrr6KAOR/4TbU4v+PrwZrYPfyUjkH/AKEKB8QEX/W+GPEUZ97EH+TV11FAHJf8LCt/+gB4g/8AAD/7Kj/hYUB+74e8QMfQWH/2VdbRQByH/CY61df8gzwZqZJ6G9dIF/mx/Sg3vxAm+ZNH0a3HZHvnc/mIxXX0UAciNZ8cINj+FdOkcfxrqxCn8PKoFz4+uWGNO0WxXPO66ec4/BVrrsUUAU9L1S21WxFzZzLMm4ozKMDcOD+tXK5bwKRFZ6pYjhbPUpo1HoCQw/nXU0ALSp99frTacgxIv1FAFqiiigCq/wDrG+tN/GnP99vrTaACuTvf3nxY0tf+eWm3DH8XiH9K6zHvXIynPxgtwOq6TJn8ZE/woA66iiigA/H9KKKMUAcTpPgcWPxM1TXpow9vMqvaZcnypCMSfL0BOOvvWv8A8IZpX/CYN4kPnG8KgeWX/dBgCA+3H3sEjOe9b9FADZI0mieOVQ8bgqykcEGsy18N6ba6O2leSZ7FjkQXB8xVH90Z6D2rVooAjggitrdILeNYoo1CoijAUDsBWdrnhnSfEkcCazaLcrA++PJIwcY7dvatX8aKAGQxR28KQwIscSKFVVGAo9Koad4d0jSbue603T4Lee4OZZI15atKigA/H9KKKPyoAPrRR/KigAo/z0oo/GgAo+tH5UUAFFHWigA/z0ooooAPrRRRQAUUUfjQAUUdKX60AJRRRQAUUfQ0dKACilpCcKSeg60Acr4Iy03iGYfdk1aXb+AUf0rqs1ynw3zJ4PS5brc3E0xPruc11f0NABTk++v1ptOT7659aALVFFFAFVx+8b603inP99vrTc0AH0rj9NH2v4s6vOOVs9PggHsWdyR+QFdhXI+DR5viDxXcH7zaiI8+yxJgfqaAOuooo/GgA4o+lGaKACj6UfjRQAdKOKKKAD6UUUfjQAfSiiigA4o+lGc0tACfWij60UAFHFFFABR9aWkoAOtFFGfegA496KKWgBKOtH40UAFHHvRn3ooAKKKKACiijPvQAce9FFLQAlRXRIs5j6I38qlqG7/48p/+ubfyoA5/4dAD4e6R7wAn8zXTce9c18Oz/wAW90f/AK9xXS0AFKn+sX60Uqf6xfrQBaooooAqv/rG+pptOf8A1jc9zTfxNAB+Fcj4H/5Cnij/ALCzf+io66761yPgf/kJ+KP+ws3/AKKjoA66ilpM+9ABR9BR+Jo+tABRRS0AJRWB4c1y81TU9btL+KGJtPu/KjEZO5kKhlY59jW/+NAB9KKPrRQAUUtJ+NABRR+NFABRRS0AJRR+NH40AFFFFABRS0n40AFH4UfjRQAUUUtACUUybJgfa2DtOCO1UPD08lx4fs5JXZ5DENzMeScc0r62NFTbpufZpfff/I0qKKKZmRXFxDaW7TXMixxIMszdBUisHQMpyCMgjvWR4qAbQZEYZV5EUj1G4VroqpGqpwqjAA7VN/esbSppUoz6tv8AC3+YtFFFUYhVXUpVg0q7lfhY4XY59ApNWqw/G0jReA9ddTgjT58f9+zQBB8P42i+H+jq4w32ZTXR1neHYxD4bsEXgLAoH5Vo0AFOT/WL9RTe9OT76/WgC1RRRQBVf77fWm05x+8b6mm/hQAYrkfA/wDyFPFH/YWb/wBFJXXfSuR8F8a14qHb+1P/AGklAHXUUUUAFH40fhR9KACoru3F3Zy27O8YkQrvjOGXPcGpaKAPGdM8Cy6J8STp2p6nfNDqNqWtb2C6dJXdDnD9RkL+Bx0FdkdQ1fwXeRJrl02qaHKwQX7ria1Y9BJjhlP97jHcd6m8dn7DJoesqMGy1GNXb0SU+W36NmuourWC/spba5iWSGZCrqw4INAEqsHQMjAqRkEd6WvFZ/H2oeHND1DRLCR2bQ5pBcXe0O0NuG/dqAeCxBCjPpk11N/8Sbe08KzzGx1sXK2pKTXGlSorNjgk7do/lQB3K6hZvfGzW5ia5C7jEHBYD1xVivMfCfijw/o3h6CS107VLvUZ4hNdTpp0rPLIwyxLlemScZOAKs+GviRqeta9p0V3oi2mm6wZTYuXzLtQAlmHTB7UAei0fjXJaz4lvrzV5PD/AISiSXUIwPtV3KCYbMHkbvVschfzrntbXxF4cvLbS4PEcl7JrStG810qA2pXBeVdoAChcjB7laAOzvfGXh7TtQFlearBHcEgFOTtPuQML+OKvaxqKaXod5qL8rbQNL9cDNecXVjDq/he58M/D61hnjkUrd6tcAmORv4vn6yOfUZx+lSeJbbx7L8PdROqXOjW6C0bzYIIJGYADkBixHSgDp/B2k3R0+21nVdRvLi+vI/OkjeY+UgfkKqdOBgV1AZWHysCPauH0fw74iv9DsWufF1xFA9vGRHZWsSfLtHG5lJ/I11ulaZBo+mx2Vt5jJHk7pXLMxJySSeSSaALn40Vyt34U1bUNWvLi48T39vbu4+zQWoRBGu0ZBJU5OcnPvUZ8BGT/j58S63KvcfaQn6qAaAOuorifC1s+jeOtY0WO7u7i0W1guYxdXDTMjMzq2GYk4+UcV234UAH40UcelFABRR9aKAEk/1bfSud0HVrK08NI01ygMIO5FOWGTwMe9aeux3Uuh3Safn7QU+TbwT7VxNnoM93HpqabavbzWa77iS6iZFkfIOOeTzzWFSTUlZHr4OhSqUJe1lZXX4J7+t7I37/AMYW32BBaymC5mZQPOT7ik43HHHb1rYiv7W104yS36zrEu55NwJP4CsW30W/i0t9JvLeK7t5M4uFYKUyc8g9cH0qS40J20KEQ2Nsl7G8bSqiqvm7WBIyPXGaSc92VUp4R2hF2V97p6d+69HsR6vrEWoaLOBBPbtE8UhWZQCULcEYJ9DU8OvXbahFNKkY0u4mMETD7wYcBj7Ej+VPm0efW45m1RPsoeLyo4kYMUB6kkcE8CrV5oqv4cGnWvDQovksezLgqfzAp2ne4nPCxiqbXX1STS1T9Uav40VFbeYbWL7QmyXaNwBzg1LW55DVnYKwPHX/ACT/AF7/ALB8/wD6Aa365/x4dvw/14n/AJ8Jh/44aBGjof8AyAbHP/PBf5Vf696o6IMaFZAjpCv8qvcUAFOT76/Wm0qf6xfqKALdFFFAFV/9Y31ptOf/AFjfWm4oAK5LwX/yG/FX/YU/9pJXW/hXJeC/+Q54q/7Cn/tJKAOtooooAK4rVbe51n4i/wBltquoWVpHp4m8uzn8vc5fGScV2tcghP8AwuGUf9Qlf/RlAE//AAi+s2wxp/i6+UdheQpP+vBrT0ax1ezMv9sawmpBseXttBCU9ejHPatWigDG8XaUda8JalYR/wCtlt2ER9Hx8p/PFc9F8QbeTw1Yx2CPd65dW6+VZohyGOQSx6AAg5Nd1XLeF/C1z4e17WZjOsmn3UiyWkWPmhJ3Fx9CSDQB5nYaG8Hw48YRXTJcavqupm1Z26NMxVR+AZsj2r0bw/rFt4k8PvoeqxNaaotuYLq0lQgg4wWU9CvoRVoeBrAeJjq4uLnY0wuTZbh5JmCgCTGM54HfGRnFdJsXdu2ruxjOOaAPNZLu8Hwg13Strf2npNtNZsEHzMoU+Ww+qFTVG306bxPrVhqnhK5VU8N2qR2pcERTu4+dDx2VQM9ia9OTTLSPU5b+OLbcTII5HBPzgdMjofrVmOJIV2xRqi9cKuBQB5jqFzqXg4S+IbRlsv7Rl8y70q+VnVpQACUljDbchRjI59qyriK21bWtC8W+Lba9k0m5iljeC8XKWbsVKfKB907TyfbNeyFQ33hkehGaGRZEKOoZT1BGQaAOXm8YaVFbpZ+Fwmp3jLiC2tR8i+7N0VR/kGtmS0mvPDz2mpsks81uY5igwpJXBwPSrcFrb2qkW0EUIPXy0C5/KpaAOY+Hdy9x4FsEmOZLXfat/wBs3ZP5KK6equn6ba6XbtBYw+VG0jylQScszFmPPuTVqgBaSiigDkLM7PjBqYP8elQEfhJLXX1yEg8v4yQkcebo+D77ZD/jXX0AFLSdKKADp3qO4m+z27y7Hk2DOxBlm9hUlFA1a+pzdlrGt3kt0bfTYtiTbVFxPsKjAOOFb1q0L7X0/wBZpFs3/XK7J/mgqXQzmXUj/wBPjf8AoK1q9Kyim1e5316tONRxVNdO/b1MU6jrjfc0aMf791j+Smj7b4iP3dKsx9bxv/iK2vrRVcr7mPt4f8+1/wCTf5mJ5/iU/wDLlpw9jdOf/ZKX7Z4ij/1mmWcnvHdt/VK2qKOV9w9vH/n3H8f8zF/tHXe+ix/hdf8A2NIdW1eIbptEYoOT5U6s35HFbfSgj5TmjlfcPb0/+fa/8m/zILG8iv7KO5gLeXIuRkYI+tc98R32fDvWAOskBjH/AALj+taHhX/kX4h/tPj/AL6NZnxJ58FyJ/z1uraP850H9acXeKZnXgqdWUFsmzo7BPL063T0iUfpVimQDFvGMdEH8qfVGIU5P9Yv1pv1pyf6xfqKALVFFFAFV/8AWN9TTfzpz/fb602gArkfBf8AyG/FX/YU/wDaSV1341yPg75fEvixM8DUVb84k/woA6+ko60UAH51yCHHxjkB/i0gY/CT/wCvXX1xw/5LMf8AsD/+1BQB2NLSVWkaI38eZ2V0Rj5YPBHHJ+lAFmj86oW+tWFzBcSxTr5duxWRjwBj+lSWupQXcbvEsqogzukjKgj2z1oAt/Wis2y1JriB7y48uC058ssfmIB+8ewzRaa7a3k5jRZkOzerPGQGX1BoA06SsuDX7S51CO1hDt5i5WTHy5xnH1xzUy6pG+pNZxRSybOHlVcqhxnBNAF786PrWOniO2l1QWcEbSAyeWZARjd346kD1rY/GgAozVTVbl7PSbq4j+/HEzKD6gVhJY/2WdNuLe5nkmuJQsu+QsJAVJPB4HTtQB1FH50UUAB96TcvqPzrHGhyXjvJq15cSEsdsMUpjRVzx93BPHqaf/wjGld4pvxupf8A4qt+SktHL7l/wUZc1R7R+9/8BmHdSxr8YLVndVVNIbJJwBmQ/wCFdBP4h0q34e8R2/uxguf/AB3NcmNGsE+LC2htw8H9lCTZKxf5vMYZ+YnsK7eCytbYYtreGIf7CAfyo/cru/uX+YfvX2X4/wCRm/8ACQmX/jy0q/uP9oIqD/x4isvVJ9WnkW7t7G5sJoVx5kkyeWF77lyc11vFUtS00akkUUsrCBXDSRj/AJaAdAfbNa0q1OE0+VJed3/wDOpSnKPxfkhNGvJb/SLe5uE2SSLkgdD7j69avUiqEUKoAAGAPSlrlm05NpWRvFNRSZk6Dz/aB/6fH/kK1vpWRoH3L/8A6/JP6Vr8VlD4TrxX8Z/10Cij9aKs5gooooAKRvuk+1L1psn+rb6Gga3Mrwr/AMi7b+5Y/wDjxrK+JHPhOP8A7CFn/wClCVreF+PDdr/uk/qayviSMeCJ5v8An3ngnP0SVWP8qiHwo6MX/vE/V/mdTF/qU/3RTqjt2DW0TeqA/pUnXvVnMFOT76/Wm05Pvr35oAtUUUUAVX/1jfU038Kc/wB9vrTaAD6CuR8If8jX4t/6/wBP/RS111cj4R48WeLR/wBPyH/yEtAHXUdKKKAD8K46w/f/ABg1V/8An30yBB/wJ3J/9BFdjXH6H83xU8SH0tLQfrLQB2HSsa+tZJ9UnRAR59myq3oQf/r1s0cGgDlrDQfIha1vYH8iS2jZ2jPSRevTvU9lYnUFubW5juZNOZRs+1n5t3t3x9a6LrRQByUvh1YNDuYRp6PPHkRyKAS6+o98cVah0y5vLhtQgL2ThBDFHIv3kHXcO2f6V0dH50Ac5p3h+5s7e23OhljujKxz/B0x/wB84q9FpNzb3c7299tgmcyNGYgTk/7Wa1eP8migDmLG11C0iNpbaakM+5g165XaQWJzxyTz0ro7aH7PbRxF2fauCzHlvepKKAGyRrJGySAMrDBB7is+z0SG0njk82aURAiFJGyIx7VpfnR/nrQAUfUUUUAGKKKKAOPb/ksy/wDYGH/o1q7CuPbH/C5l/wCwMP8A0a1dhQAfUVBLe2sDbZ7mGNvR5ADU+eOa4LxH9nv1ni0m0hPnTCOS7dd7SOTgqmfTnJHTBrqw1BVp8r0Xcwr1XSjdHeI6ugZCGVhkEHINLiorWIW9pFCowEQLj6CpeK5na+hsttTI8PcxX3/X5J/Stf8ACsjw9/qL3/r8k/pWvWcPhOrFfxpBiiij86s5gxRRxR0oAPwpsgzE30NOqO5cRWksh6Ihb8hQOOrSM3wuc+G7T/dP8zWd8SBn4c61ntbMa0/DaeX4dswe8efzrK+JLY+HWrgfxw7PzIH9amHwo3xWtefq/wAzodPJOm2xPP7pf5VY/CoLJdmn26+kS/yqeqOcKcn+sX6im05Pvr9aALVFFFAFV/vt9abinP8A6xvqab+FABzXI+Ev+Rt8W/8AX7H/AOilrrq5Hwl/yNvi3/r9j/8ARS0AddRS0lABiuO0DP8AwtDxR/172n85a7GuO0D/AJKh4o/69rT+ctAHY1Vv7trOBZEhaXLhSF/hB71aqpfXb28ltHEqlp5Qnzdhgk/yoAt/55pCyhgCQGPQZ61ykWp3reLZPMlYWsUwg8voPmXI/XFOkikN6JNXS4gmlm2xTwsGVB2AHOPrQB05ljEoiMihyMhM8n8KfXKQ2DWt3qUtxqF2JoRvDAJl49vHJX6jii31C7ttS08XF7JMkw/0hSF2x5HyDgZoA6h5oo/9ZIic4+ZgKWSRIoy8jBUUZLMeBXMtpp1DxRqMd0pa3VFZQT1JXA/LmnXEksnhaxa6DsolT7RxnKg9T+QoA35723trM3csqiHbu3jnIptjfw6jCZbcnarbWDKQQfxrE1S+s7sWLShk09Zj5jupVTgcfhmrmlSrNPjTYvK09Afm2/61j3Ge3vQBsVRmu5V1y3tExseJ5H9eCAP51e96zZIJh4liuBGTD9nZC2funcD/AEoA0qOlFFAB9aKKKAOPm+X4zW/+1o5z+Eh/xrsK466+X4yWZPAOkP8A+jK1Lm8m1uZ7LSnKWynbcXY/VU9/ftWlOm5vsurInNRXmJc3E2u3UljYM0dnGdtzcqfvH+4v9TWvb2dvawRQwRIkcQwigfdpbS0hsrVLe2QJGgwAKztc1C8soWNrHGiKu57mU5VPYL1JrW7qyVOnov61fn/SM7KmnOerNeiuU8ITaq+oX6atcPMdsciKwA2bs8cewFdXUV6TozcG7+hVKp7WHNaxkeH/APV36+l5J/StfpWRoPyyakh6reOfzVTWvXND4TuxX8Z/L8g+tFFLVnMJRRRQAdKraiCdLux3ML/+gmrNZ+vXqafoV3cS52rERwO54H6mlLRM1oxcqkVHe6DQTnQLLH/PEVjfEr/knupn0RSf++hW1oS7NBs19IlrH+I43fDnWs9rVjSj8KHX/jS9X+Z0VpzZQf8AXNf5VLVfTznTbYn/AJ5L/KrGKoxCnJ/rF+optOT76/WgC1RRRQBVf/WN9abTn/1jfU03mgA4rkfCfHjDxaD/AM/kZ/8AIY/wrrutcl4cGz4g+KU/vC2k/MOP/ZaAOtooooAK47QMf8LQ8Uf9e9p/OWuxrjvD/wDyU/xT/wBcLT/2rQB2NVr2z+1iIq/lvDIJFYDPP+TVmigCsdOtCZS0CN5zB33DO4gcH9KZ/Ztu18LuXdJIv3A7ZVPoO1XKOaAGvFHIrB0DBhggjqKrxaZZQ27QR2sSxMcsgUYJq1RQAAAdAAKMCiigBCFIwQCKUAAcCjmigA+tFFFABRkUUZNABx2qO4uIbWB5riRY41GWZugpt5eQWNs8904jjUZJNZVvZz6xcLe6ojR26HNvaH9Gf1Pt2raFNNc0tF/WiM5Ts+WO5y1+f7b+JWlGeGa1t7iznSNg21pUUqSCOoBz9a9Agt4rWBYbeNY40GFVRgCuU1wY+J/hgdP3F10+iV19KdRy0Wi7BCCjq9WHHesIr/bmtFTzY2L9O0sv+C/zqzrV9NEkdlZYN5dZWPj7g7sfpVvT7CLTrGO1hztQYyerHuT7mtI/uoc/V7fq/wBETL95Ll6Lf/IjstP+yX15clwxuXDAY+6AoGP0P51doorCUnJ3ZrGKirIxLCeK01bVDdSJArzqU8xgu75F5GfpWst1buu5Zo2B6EODUVxplldzebc2sUsmMZdQeKrN4b0hmybCIH2yP5GsUpLY7ZToVHzSbTsui6K3cuPe2kf37mFP96QCq767pMZw2o22faQGmp4e0lOlhDn3XP8AOrCabZRjEdnAv0iFP3yP9mX8z+5f5lf/AISDSMZOo2//AH2KT/hItIxn+0IP++qtf2fZ7s/ZIM+vlinfY7bOfs8Of9wUe+F8N2l96/yM4+KNHz/x8ufcQSEfntrL8Vaxpt/4Wu4re7R3KghDkE4IPQ11IjQDARR9Fpj2dvJnfBExIwcoDSlGTVrmtGth6VSNRRejT3XT5FPw85fw7YM33jCufyrI+JLbfh1q47vAUH1Jx/WumRFjjCRqFRRgKBgCuW+Jf/Ig33+/EP8AyItWlZWOWpJTm5Lqzo7Fdmn26ntEv8qscHrUdt/x6xf7i/yqSmZhTk/1i/Wm05P9Yv1FAFqiiigCq/8ArG4703vTn/1jfWm/lQAVyWg/8lI8T/8AXC1/9q11uDXJeH+fiN4nPpFaj/0bQB1v4UfhRRQAVx+gDHxQ8UA97e0I/wDItdh+Vcfo/HxW8RDpmytD/wCPS0AdhxR+FGaKAD8KKKKACkbhSVHPbJpfrTZVV4XVyQpBBwccUAEZYxqZFUOR8wU5Gad+FR2yxraxrC26MKArZzkYqSgAFFFH1NAB9KPwoooAKhurg21q8qxPKy9EQZLGpqMU1ZPUT20Mm20ya6uUvtYIaRTmK3BykP8Ai3vWt07UfU0VU5ub1FGKitDj9d/5Kh4Y4/5YXX8krqry7isbOS5uDtSMZJ9fauV8Q8fEzwqfWO6H/jq1pkf29rOM5sLF/XiWX+oH86qlBSd5bLf+vMmpJxVluybRbSWSSXVb5cXNyMIh/wCWUfZf6n61r1TfU7VNQSxVjJO3VIxnYPVvQVL9utftTW/2iPz1GTHu5A9cU6nPOXM1/wAMKHLFWT/4cn/CjIAyeMVA99axxrI88YRmCq24YJPQVJ5kbs0W9SwGGXPIzWfK+qNLoIpo54VlhYOjchh3p9c5pepJpfhmd5hv+yzvCqg8sd3A/WtLRtSk1K3kaWFYnjkKHY+9SfY4FbVKEoczWydjKFaMrJ7s0eMc1Vsr+O+abyEbZFIY956MRwcfjxTdWu/sOk3NxnlEJX69qbpFsNO0W3ikIBjiBkY+uMk/nUKK9m5PvZfr+hTk+flRe/CqmoahHp0MTyKzeZKkShfVjiqkXiK0lDyeXOtuoJFy0ZEbAehrO1jVLbUrG2e2Zt0N7DuV1KsMsO341rTw83NKcXYznWjyNxeptWOo/bbm7iERQW0nl7ifvHAP9au8Vz+m3kNhLrU9y4SOO63E/VVqpq3ilJLe0Wze4t0uJzHLMYvmiA6jHY8Vbws51LQWmn5XJ9vGMLyev/BsdX+Fcr8SgP8AhXupHH3VVvycGpp/FljbQpDp8y30ir8zvJtCj/abHU+mKzvG95Jf/CvULmW3a3Z4xlGOf4hzWM6FSnHmkrL+uhrCtCb5YvU6+1/484P+ua/yqaobT/jyg/65r/KpqwNQpU/1i8d6SnJ/rF+ooAtUUUUAVX/1jfWm05/9Y31ptAB/niuS8Pf8lC8Uf7lr/wC1K63iuT8Pf8lC8T/7lt/7UoA6yiiigA/KuO0z5fi5rYH8WnWx4/3pa7GuO08gfGDWB3OmW5H/AH3JQB2NFFFABRwaKM0AFI6742U9wRS8elFAENpH5FnFFt2bFCgE5xipqKKADg0UZo4oAKKKKACjj2ooz60AFFFUNW1IafbgRr5l1MdkEQ/ib/AdTVRi5y5UTKSirs5HxhtvfiD4dtLS9WC5VZ1bAJIDKM498A12ttYw2enraWo8qNV2qR1Hv9a4jWdO/s7xN4RkkbzLqa+lM0vdiY+fw7V39a1JpLkhsvxff/IiEW/flu/wOW0W2m07Ur21s5TdxIhZ5XjCnzT23fxHGP0rJtND1bYdVFsVuljZJIpCN0pYHe2fqePYV3wCrnCgZOTjvS10LGzi20lra/8AXmYPCxaSb2PNrXwlerFCipIiG189wf8AnuGO38cVelglvvEd35dpIb5hAUl6C34BYk/pjvXd9KxtP48VaqP9mI/pXQsdUqc0pLZfqjJ4SEOWKe7/AEZm3Oh3b6NdW7wLOftv2gRlhiZeOP59a0dLhvJrhJZbb+zbSFdsNqGGWPq204+graoz61xSxM5R5WkdMaEYyumY2vf6RNYWA/5bzhnH+ynJ/XFWtctp7vRLq3tOZZEwBnG4dx+I4q09rC91HcMgMsalUcnoDjP8hUtR7Xl5OXp+d/8Ahi/Z35r9Tn7q1vdT8Oi1Wx+ylWUGCWQfOo6jK5xmoYfDMq26kiGF3uI5WjQnaiochR+VdNRVrFVIq0dNbkPDwbvLU5DV9M1FZ53trXz1kvUlUBhgjZjnnsaSTwtqNtblNPkhfe6XBaViGSYYyRgHIJH612GfWj9K0WOqJJJLT8SXhYNts5ibTdQh1g6lHYQXbyxp8skm0xMARx2PWqHjpL4fDfWJNSkjMjRhhHGPljAI4z3rtvpWB46t/tPgHXIwMn7DMR9QhP8ASsKld1I2aRpCkoO6Zs2ZBsYD/wBM1/lU35Cs/QZxc+H7GYc74FP6VocVgbB/KnJ99frTacn31x60AWqKKKAKr/6xvrTfpTn++31ptAC/WuR8OnPxB8UEdALZfxw/+Ndb9a5LwuP+K18Vnv8AaIf/AECgDrfrRRR+FAB9K4+UfZfjHAx6X2lOv4xup/8AahrsK47xBmL4neFpP78V1GfxCH+lAHY0fWj8KZLIYoWk2M+0Z2qMk0APo59abG/mRq+0ruAOGGCKdnHWgA69aKhurqKzt2nnbCL6Dk+gFSK4ZQcY3DODwaAHUU0yorBWZQScAE9TTiccnigA5opkkqQxNJK6oijJYnAFJBcQ3MQkt5FkQ9GU5BoAkoo/CormcWtrLOwyI0LEDvgUAS0uTWLpeuTXs0K3Vn9nFzGZIDv3bgOoPHHrWznAJ9KAK2oX0WnWb3E+SBwqryWPYAetUtLsJmuDqWpAG8kGFTORCv8AdH9TTbaCTVNQF9doUt4SRbRMOp7uf6VsfhXRJ+zjyLd7/wCX+Zilzvme3T/P/I4/xj/yNnhD/r/f/wBArsK4/wAafJ4j8JSnoupFP++kP+FdhXObC5NJRRQAVl2VvIniLUpmQhJFjCtjg4HNan4UVcZuKa7kyjdp9gpcmkoqCgooo/CgAooooAXmkoooAKpaxELjQ76E8iS3kU/ipFXfwqC+/wCQfcf9cm/lQBi+ApTN4B0d88m2Wuiya5j4d/8AJPNG/wCvYV01ABTk/wBYv1FNpyf6xfrQBaooooAqv/rG+tN+ppz/AH2+pptAB171yfh35PH/AIoTsRbyfmHH/stdZ/nFcnoP/JRvE3/XC1/nLQB1lFFFAB+Ncf4sXZ408JTZ4+1yx/nGT/SuwrkfG3y6x4Wl/u6so/ONxQB11VtRuWtNOmnQZaNcgGrNNljWaJo5BuVhgj1oA5XVtS1NNWMVtNsjt7YXDhV4fHJ/OtLW2e4s7V8SNZsd0/kj5sY46c4z1xWqLWER7fLUjZ5eSOSvpSfZoxZ/Zkyke3aNp5AoA5q/snNpYT/2rNLZ+ap3BVAQdj07HHWqKSzwa3LNDJPdC1lJl3uWKoMDge+Sf+A12cNrDBarbRoPKVcBTzxT0hijZmSNVLfeIHWgDhriR7zVr27tX82OzkS6BU53cLx+QNbetXMFzc2NvdXHk2MyNK7htocjGFz+OfwrdS2hiZ2jiRS/3iF60rRRsoVo0IHQEdKAOa1y5Oo6fHFYRTvaxyIZZljz8oPYHlvyqWwlZbf7JoME2GbdJdXEZUAnqcHBJ/DFdEAAMAAD0xS4HagBsassaqzF2AALHv7025gFzaywk4EiFSfTIqSigDL/ALMkjutMZGDJaIyOemflxWp+IoooAKKKKAOP8f8AyzeGpT0TWYcn0zkV2Fcj8T1K+B7i6T/WWcsVyh9Crg11kbbo1b1GaAHfiKKKKACjFFFAB+NH0NGaKACiiigAo/GijNAB9DR0oooAKgvv+QfcZ/55N/Kp6q6mf+JTd4/54P8A+gmgDE+HX/JPNG5/5dhXS/Q1znw+4+H2jf8AXqtdHQAU5Pvr9abTk++v1oAtUUUUAVH/ANY31pPwpz/fb6036GgA/CuT0X5PiZ4iQ/x2lq4/76lFdZ9a5KyO34t6mB/FpcBP4SSf40AdbR1o6daKAD8K5L4ifu9H067Aw1rqdvJ/49j+tdb9DXLfEiJpfAl668mApN/3y4NAHU0UyGRZoI5FOQ6hh+Ip/wBTQAUfhRR+NAB+FFL1pKADNFH40UAH4UUfjR9aACjNRyTwwgmWVEHqzAVkXPjTw3aSFLnW7JGHUeaKANuj8K5ST4l+F/M8u0vnv5f+ednA8rfoKYPiHaA/PomvIv8AeawOP0NAHXUVyZ+Imnn/AFWla1M391LBs/rimjxrqM3/AB5+DdcYdjMkcf8A7MaANHxrp7ar4J1azj/1kts4T/exxVnwxqa6z4W03UUGBc2ySY9MqDisN/EviKeNo38FXLRuMENdxjIq14ZuNXDRWT+HI9G0y2h2Rg3IdsjgAKB0x3zQB034UUfjRQAfSiij9aACj6iij8aACj6UUUAFFFH40AH4UUtJQAVW1EZ0y6B/54v/ACNWar3/APyDbn/rk38qAMP4enPw90b/AK9lrpPqK5v4ef8AJPdG/wCvZa6T8aACnJ99frTacn31+ooAtUUUUAVX/wBY31ptOf8A1jfWm/jQAVyNr/yV7UPfSof/AEY9dd171ySjy/i9IT/y20kY99snP/oVAHW0UUUAHes/X9PfVfD19YR433ELIuemTWh+NFAHLf23qfh/TtPt73QLy7VLSNZZrMrJtkCgMNoOevcVH/wsXTU/12m67Ee4/sa5P6hDXW0fWgDkT8R9Nfi20vXZ2/ujSLhf1ZAKQeNdTmP+h+DdYlz08wxRf+hMK6/Aoz70AcmPEHi6YfufBjxZ6G41CH/2VjQbjx/cf6ux0OzB7yzSSEf98jFdZRQByZ0rxvOMy+JbK2Ppb2IYD/vrNIfDPimb/X+OLpR3ENhbr+u2uupKAOP/AOEEuZj/AKZ4s1yb12TiL/0ACnf8K504/f1fxAx9f7ZuR/7PXXZ96KAOTj+GnhvcGvLa41Ej/oIXktyPydiK2bbw3olkgS00ewgUdBHbIo/QVp0UAMihjgTbDGka+iLin0UZ96AFpKPzooAM0dqX8aSgApaT8aPzoAKM0UfjQAdqKKPxoAWko6UUAGTQaKKACij8aKADmq2ouE0u6ZjwsLk/kas/yrM8TOYvCerSDqllMR+CGgDP8AKU+H+jBuD9mWujrH8JRiLwhpaDotsv8q2OvegApyf6xfrTacn31+tAFqiiigCq/wB9vrTac/8ArG+tN57UAH+ea5TWf9G+JHh6ccfaILm3b8kYf+g11f1FYXiPwwniKSylN/dWMtm7MktqwV/mGCMkHFAG7QTgZYgDvmuWHgKyI/farrUrd2a/bJ/LFNPw18MynN3ZzXZ9bi5kf+tAGzeeI9F0/P2/V7G1x1864RP5ms4/EPwcD/yNGkZ/6/Y/8ans/BXhuwINpolnGR38sE/ma0hpdgP+XG2H/bJf8KAMyHxv4VuB+58SaS/+7exn+tWP+Ep0AjjXNO/8Ck/xqSbw9o9x/r9LtJD/ALUK1XPhDw6eui2X/flaABvGPhpDh/EOlqfQ3kY/rSf8Jn4Y/wChj0r/AMDY/wDGpF8K6Aowuj2QH/XFf8KX/hF9D/6BFn/35WgClcfEDwjbf6zxJphb+6l0jN+QOapn4neGicQTXlyf+nawmlz/AN8qa6G30XTLX/j3061i/wB2FRVpYYkHyRqPooFAHJH4laWf9Xpmvv7jRbn/AOIpD8REk4s/DfiCc++nSRfq4FdjgCigDjv+E11l/wDU+CNXYf7UkSfzal/4THXv+hF1T8bmD/4quw5ooA47/hLPFB5XwFfY9763B/8AQ6D441WHi88FazGe/lmOX/0Fq7GjNAHG/wDCwZ/+hS1//wABf/r0f8J5qDfc8Ga4R7oi/wA2rsqOaAOMPjy/QZk8Ga2q+oRGP5A05fibpEXGo2Os6e3f7Rpc4H/fQXH612NIyKwwyhvqKAOVT4neDn+9r1tCfSdvL/8AQsVai8f+EZv9X4n0g+322Mf1raaytH+/bQt9YxVaXQNIn/1umWj59YV/woAjj8T6DMMw61p8g9UukP8AWphrelHpqVn/AN/1/wAaoS+CPDMxzLoNix/64ioj8P8Awmf+YBY/9+qANX+2tL7aja/9/l/xpra9pCff1SzX6zr/AI1l/wDCvvCf/Qv2X/funL4C8KL93QLH/v0KAL//AAkmiDrrFh/4Ep/jSHxLoQ66zYf+BKf41UHgfwwOmg2P/fkU4eCfDQ/5gVj/AN+RQBK/i3w6n39e0xfrdoP61H/wmnhYf8zHpP8A4Gx/404eD/Dq/d0SxH0gWn/8IroH/QHsv+/K/wCFAEY8Z+GGbC+ItKJ9Bex/41ZTxFosgzHq9iw/2bhD/WoT4U8PkYOjWRH/AFwX/Cq7+BPC0hy2gWJP/XIUAaP9t6X/ANBK1/7/AK/405dY01zhdQtSfQTL/jWT/wAK+8Kf9C/Zf9+6a/w88IuMNoFlj2jxQBuw39ncXDwW91DLKihmRJAWUHOCR+B/Ks3xfNHB4K1l5pFjX7DMMscD7hrFPww0aHUHuNJub7SIpUVJrewn8tJcZwTwT3PerUHw68NxTpNPaSXsiHKm7naXB9cE4oA1fDAK+F9OByD9nX+ValIqhFCoAABgAdqXnuKACnJ99frTacn+sX6igC1RRRQBVf77fU02iigAooooAMYooooAKWiigBKOlFFAAaMUUUALSUUUALSUUUAGKX60UUAJil70UUAJRRRQAtJiiigAooooAKWiigBMZooooAKKKKAF9qTFFFABRRRQAUtFFACYooooAKKKKACnIPnH1oooAtUUUUAf/9k=)"
      ],
      "metadata": {
        "id": "a7hWpL6LqK9g"
      }
    },
    {
      "cell_type": "markdown",
      "source": [
        "# tokenizer=tokenizer 살펴보기 \n",
        "corpus로 들어온 데이터\n",
        "*   text : 아 더빙...진짜 짜증나네요 목소리\n",
        "*   label : 0(부정)\n",
        "\n",
        "-> \n",
        "* input_ids : 텍스트를 인코딩 한 값 \n",
        "* attention_mask : 해당 토큰이 패딩 토큰인지(0) 아닌지(1)\n",
        "* token_type_ids :세그먼트(segment) 정보로 기본값은 모두 0으로 넣습니다.\n",
        "\n",
        "\n",
        "![image.png](data:image/png;base64,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)\n",
        "\n",
        "4개의 요소가 하나의 Instance를 구성\n"
      ],
      "metadata": {
        "id": "0A0EbbedtFl1"
      }
    },
    {
      "cell_type": "markdown",
      "source": [
        "# nlpbook.data_collator 살펴보기 \n",
        "리스트형의 인스턴스 ->   \n",
        "#  \n",
        "RandomSampler 를 사용하여 배치 사이즈만큼 추출 ->\n",
        "#  \n",
        "nlpbook.data_collator 를 사용하여 tensor 형으로 변환 \n",
        "#  \n",
        "![image.png](data:image/png;base64,iVBORw0KGgoAAAANSUhEUgAAAVQAAACtCAYAAADveIfQAAAgAElEQVR4nHy9edxlVXnn+11r7b3POe9QE1VFFRQyC6IEFBUjIJKgEgRnoxm6jRm6Y5K+NzFtuu/tez+d25/upPvGpL12Op2pTaKJUSQEZ1FAURRkBkFmmYoqoCaq6n3fc87ea7h/PGutvc6pSp9YeV/Oe87ea6/1DL/n9zzrWereu24PCnmFEFBK5d/LV/nfWmuUUnjv+78TcMVnlFIoBSGAUvLf/Z+DvK9Bo9IXiu+peD/Vf1ZBCAqtdRynfM37gNbyPsj3vHfx76r4J/cF+bsxVXwuj7Wetu1omhpjTLy/xzmXv6e1IYSAc56us3gfMEbTNFWeM+89SvVjlHv5+N/9PHgfCMED/bN671FxbkOxFuVc9PMY8tzKM/TX7tdR432gbVuc9xACVVVRVTrOFTPXKNe4v2fI6xZCiM/v8CFgrUNpTV0ZjNY45+ichaBn5kJpmb/KyDy1XYdSYIzJ9wtA8B4UaPlCHk9lKqyzaKWoqiqvgQ9+Rv5A4b1jYTTEVBXjyRRCYGE4PKpMp9/btsU5T13XTLsWQH6fTmmaBgDnXF4L7z3WWrTWeZ1DnFvnXJ7bzlqZc2NQ8T2tNN47kVMCwQeUlrFprTFKF7Kc5Nvn9UjymPSvfB7nvXxXKbSZvUa6Tnrvf6Xn5St95mjykde3+Ew5H7KuAYWGAD4EtIp6oQKEEOelv3+vKyLvxuh8rXS/+XvNynzUDS1WJYSAArzzhGxmZMyKgAqglI564PN90z21NtGOhKwD6RpJx0Jw8RkUSmkqQqCc0nJCykntH7R/+JkFUbOfT2/2Awp5wDpNZAig4wMEn5Vba5PvYYzOil+OJRlKrT3OWXrj1A8m3VMpgxiHZMRMeto8UT74aJRkctPzaa3xPv23LLLWNdY6us7StoGqqtFa9YsVJzzEBevHHvA+GUozIyRZ2CGPqb9OyNeH3hjJPz9zT1FW8M7SdZ7OWozWVHWNMZqqMnNzo1FKxuq9CJUIcr+KpaMAUN4RjMY5eR5wvQypEI2ikv8VBlnkQz5mrc3PU1UV1vuoeDIGnZ4xGnUfAp21OOcwxuRrVKZiMBwAYhw767DO453HFGuS1rA0AlleFGhjUFbeTwa0l0Fxss65bDSNMfI51IyhSj9NkpsQMHF9VYBKG3x0CtrorDomOnGlqmJsvd6ktfmnDKECnLU4oFY1Sh1pKNPY58ebXqUTn1/78t5pfPNj6R1KyDIvuq1QqMKoK5ET3YMskXFd6J2ac5iz40zjSp8px6gQA56NdnRaYooCKAjRNmml8cEVzynABgXBO3F89IDOew/RoRFBkQaUNgSgmlmUo0xYuajpYWa8ARCUIppXxHAlT9WjoHJB+kmYNeDyd5Un15hZL9xfIxlEj6BHmYjkUbxPipSuncZOXCydx6mVj+MrEXRv4BIqKL2y1oq6rtBa07Yd7bSlqgX9pWeaR629sT9SaMWQ67n5Mfk7Wqe5Jf+9nDN5Zpnvrm1xPhCQxR40TRyXzJG1NhukNDfz15LnT3NS/j2POLosj/OAMoKOgihEwKM0vQwQI5iM+Jl5VmttVraMPOITW2vjeExWsqSsWmt8EKfbxc8lMUyIPSl56RDkvgFtwBhNO+3QXSeG3do4RzIW59wMIq3rOsvnPEpMjq50rP28JsQBOojT0xFMaCXIMhTRzbwhLecnXXPeIMoc6bi+s3qTxjyPXI/2mo1GZ/UiI+vi/j6iY5D5TirXy/hsNJb0fB51ZgNa6NCsbehlPz2H954qATSlCd4L6vdiTLOtifdQYm3xxL8T8AH5rpJIyRdRrfeCspVSAhRCtqOoEECDUwoV16gqBy36Ho5Y1FJIygeaRaMpzPQYkyakf5RZFNVPar9YKr+XDHN6rzdK8xRCQmg6C4t8Nim/zteaNfDRCyoJvXwIhDDrbRN6M7oC1Qt0ryRQVWLAu87RdR3OaeraRESTBLL8TunVE+r3zOlFDG3L8fROAaDrOpRSGUk657E20FkXUVOgbirqqkbrWUOYlLgwz4WxJ6+JMYok3/IMzMxPcizORS+tTbFGMtfWWrTS1E3VOyjvsjlOBjYhwlLuVFzsEO8vobDCGCPRBIqmrjPyDM5npakqQ7CecBSjkl5aC2qq6oohgbaz+C4hdCOOyFR457BHGV/6Pa1F+vuMPsXnKCkyH98zRkfkFnVLz/IvRyBQ1V97HvgQlRlKoz4LfvJqx8+V4bVEGaIPPnhMQTsRUtjWo3kBIH4GLMllk44ZAj7rYprvck7k2hCUFz3Mz6vAgws+6ld0x0dBz+n5460hwjrnfQR1ngTQeoemIxUhX3G+h4LeRVkKCkVyqGRgpnUQg1s6zaDyfZVSswg1LWgZXiTvmMKeo72yGYwG1HuO8vCz3iYpcTJ8wi0Z+hC251K0rrKApLtlYYm8kXhHO4f2NJCeRSYkGzd8DI7TGHtedobyKDiu3vAkjytj11rTdYq27eispalrqspkPiwZsfm56G2YmJh0fy8TKAIXF7/8nBhcMUTee7ouCq9WNLWhiug5PV/pxJQWL66RyGJ+IVUUA6FdS4Xsw7gZBQ2O4L0IHhB8nBclyq2jQUnhrfd+BvXPGwmlImXhfeZovZfwzWi5HsHMUDEqiAxUdS0IBah0FaOWWb7/CLkMMGgGGG1oIxI1SmEi7VRVVeZAyxA3OYGkF+U1SyBSGuEyTE3ro3Qfqc3PhaC9o6DLJKeFozXG0LYtSikaU+f3S7RcRpxZzoCus9jOMRoN8QScdxGFSkCrBSHFWycU6uUfiroyYnDjXafTaZb9kIx1iJxldGSBwLRtqYzp+fRIO3kfqOK6K3p5cNZlOrCqhHKS+fL5umQdFa5aRb6Wo9AcM0jX+Tg3KjqRfv6TvHqvjvrdXk801YzxKCY8LerRBGKeOwEZQ2/wmFEQ+TUQfB/ehhiqxw9l1JIEJxH4iUPTukIB1iUSuOdgRECjdqDQCklk6OQEdPaoyWqo6GpV5Nl0fl5FCv8Tki3RwfwrPWfTVFSVwVqHc57pVIS7qgzGaEEk8VopzAvR2OvSsADBJ94mGtpoFF0QisN74QtV5ilhMKglAZLWMCtUOVYJU3JygBSKp4SYysikRFn9c87KhYSpvWE3lcFgxKMjPKJKTiWouDYKXxiO0iBlhElESkbmztlogGPEUjq5/p+aWSOlEmpiRo5L2Z0P10fGMPOKUYSLtERVVdmQJyqhqnpMUs5V+n1eKTNV4T1GCbIvQ/pEU5T8YUlXZJCT1iIkJNlzzd55tEnR3NGNfa/rcWaNGLmus3SdpWnq+AVPU1yjs5bOCioPPuC8x1nLcDCUfMjMXMFk0htX5xx1XdPEe7dtR6dspFEShy66Xdcmyr2Mz/uEJnuHZK3FeTHsEo1JJNXZLoOVlGwykTLqUW8PkpRSBbWkcbbnjed53FJmSspCxuqoSpB2tMzdvBDOe9EQQowKFP21YrIjSIhXVxWDwYDgHeNJi1EGXYF1ErJrpRgMBkzbDpRkwU0FSlf4qOyrK6tMuo5jNq4TyB0U1jkJT6KQSCY5cGhtzGIzyB60n4Pk2pN3JRPOopA6hz9iRBPXqvrvB7IhlOfv50USaIq6jp7WyfN757AqQjhiYisiuHTpxKElpJrGIdxQT7IL6oNmcYTRgh600aj4rCgR6uCFU3YhhTSSBdcKOuewvkc2C7rBtp18VhW0QA5tZnm4jHCiM8BIgk3i8x7J6DnUoKMBMfG7VTJIoQ8JVTYaOjtaUxi6MvQr5bQ0OPNym1d/DgjM0FDykOKIQv95FRc5GURjzExo7yI0L5MuJQJMRi4h0zSH3jmUqVDpnnHh/Zwzy2MsJDiF+UWIQ0AqDVTUH9BEMHcUzr0HO2IwQo6YknNKc56rcOJ1Otc7ljQH0+mEznZUtRjhFJ0lnTARhdZ1PTcPMtZsmDQEF3KUVK45IWRgUUYIdVXR2Q7nfa60SHkCkX+5kLxXYcxs9cx8jkPsuqD0QhREp/Lcy08bIn2VKRBFhZpFpqXglYI4D5V7TkKQC1FhvPIC7aPC1lXNyniNb95yF1uO2cyrzzmDm265g8XFdZz3itNoreXgi4d5aufzvPIVp9M5S10Zvvn9O3n2+QOsGw15/WteyerqCvc88Djve9tPsDaeYL3lH758M1e+6QKWFipAYV3H57/1PZ7bs8q/+vkr6Nq2eCbJLioV0ChU0BL+At4ENFBXOoYUKdwBlcLMcnFVKoGJnmyGq4McjEUE0HaSnbbO03YdE2txrptRHms91lkmbYf3gcm0pe06nLXYSPS31uGCx1nhcayTLL61Dusls23bFuuhcxI6dW0bEz8igK1t8ejo8aX06fQTT+DnfuoiGiMI26ve6AiacpLEmav0SMKlFSitY0mUCHlAKAUVDYWK3zNaYXSdEWy2Ekmu4ppQILkk8GXpz6xBKKok/hdyfDR5zgYuhIiOEqlUOMqY7DlC9tN4o0yU45m5T3Q8af6cc+JIIgYJoU+UBj8bDc47inIN+p9+Zr3S51OyNi1ZeY1M65FQrUOjCErn9ypjpMIpPqv1juA8OhrGdE1jqkID5FVyujDLk89TENY5mroiU1PFPOdnTEgj/s1aizISyUquo39uow0mcfraEJQY1Hm5mIk4A3iXZNQIYtWxYsCDi/JR0kEKSVTFWhQC9CH/PPqYf82jgWhGMyGc6g0VCm105rK6ruPab9zMpnWbuOXOB6iamv2HDjGxFUQP9sKBA9xw+3287tVn41ZX0ErxyBM7WVy/kS3bjuXw6mFuuOVutm4+lqACg6Zh7/MHuOmu+7nkovM5dtMy07bj9vseYNfzL7C4tLnwHAKbrRdld16ExzlLG8twOuuZjCe5VMc6RxeNn3ce6xzWepy3TKctLoRYMtVJMsODtR3OS3JjOm0J0eB2nc2hiussnetkgSLiCSicTUptCd5gGgPBYehDYqMl/FVaU5kKYzSDQQMR6dV1g1KGQTViqa4ZDBqMhqZq0ErWbNAMaWoJxQZ1hYmlHp/9+o388ae/yIc/+C6YycQnz6sz/3w0ikjHDKkxwmm6AqkFpQS0qsToJqWare9MMliGvvOo6mjlSfMKcjT5nQ/Fj3ZPUaQ+K5zQSEDKyJKTmAnxtMrOIFmUZEBKw1pWLvxT4w0FUpsf4wyShiOesTTkUh+tYsifQsY5J9jPjERiROohzoExmq5tMc0glgiR58cqaKdT6lijm+gPqdmdjWZKeqMvyRO02nVdNqAg+YeqqqiMcN+ds9RUxfzE3Huk5LIxjvW+qoiqfPDoMOt4Uaqg1vpEdr8GfYVLOc8iowK0QtehTOG4vUdVUvlhrZUoYX6BjuYBj7YYSmtGgwZMX2gvygXWBlYnE5q6YuczexhPPf/yA+/mmq9+g0ef2sniYMBw2KCNoXUdt979ILt37+fO+x/lgledwaGVNeq6plKaYKe0bpHVtQ7wVLXh2Rde4MvX38brX3sun/3i13j/lT/Jts0bOPesMzlu+zauv/UBKSMiheIVn/zMV3j4yeeomiaGWUgSQimMMj0Jr8WrSSgq5SBVLXV9RiuMUlSm99BNU1NXNcaMGDSGpZGhqWvqytDUFXVlqIyhqQXl1I2EPiYmXOq6whhDZQRBG62pKvG4Rotz0jH0TAk4rSXTrXVfLK4QPpOg4nOQw8J5blRJzCKcVlVz8ok/w7/9r3/Jw08+y5knbhPqJancUWQgKcsshwS1qehCd0TG2ZOK/IsQ2veVIt73Aj7/mjcw8xzgvHEqgcG8IZ2X4fmo62iv4IlcvrzSM1cxUeNjbkBomdmQOtXMzvNxobhOCJKsSdxhaYiONtajORGlRE4UPcUy/72jzVOKpqK9IXiPMRVN3WDdmGnXMqibAhlCHUvLJpMJqUSraZoeYcf7VVWVnYvooMl8cmLLQwqVQ0+flM+d5Sx+p0+W9bynTgBD97SQUlo+G6SuGSLdVNfxntCzSFqonkJeyvI+iR6Sg+xzE8lRWGcJeMlDpKTU0cKZf4qDSl7GectNt9/Nk7t2SzG1tayNp6xOO0474SW849ILCd5x7LFbqfB87M8/zf6Dh3jnWy7mjvvuY31teOrZ3fzjV2/i1JNO462XvpG//ewX2LXreS675DUoD9Y6nt+7n70HD3Puy07FOcezz77AZ6/9Fq973au55PWv4Kbv3cF1N97ClW+6kC3HbGBtbRwLbXsU7Zzl0gt/nAteZ6kqQ23E0AlJXePjQi+MhphIYSTup66qaLwkENSRI54PsaK6xXlLTib9rvDeksu1tM7cUVp079I9iAIkCupdB1oQoLMxBlC2V4o50rxUJh1D7qww0cBKSC2oaNp2bFgectyWzezdv0J1imFK1ycMmTVGR2zoKGRFEY1oLIBPz5rli4Cm3KVVKvvRKaXSSJaI7Wjyme5X/r2sVzyaXM8DiBnQoIQici4a1ECMElSO0pT3qGrWYBpjaOfuV5b1xcmQ6wdw1gnCSom8wqAeQbEcZX5klRJalrrJchdWOa/ldUQIZutMfeQCF4YjxtMJ4+mEpmniuEChGQ6GtF2LjUmmecowvWxRGzzz7AqaumYaqxJEPnX+TlVJyJ7XneiEQsy5aDHOAjSU5BFyolszaJoYaVqClYSVqVKYrkH1zoSgE6cx+wyRppa5kjGaWIMseDbmjlD5cyogdagl0jhaVmteyMbTMX/26c+za+9hTj/pBJqmoWkWWF5qaJqGHVuPEattHYOm5qffdinfuf0+fvxVr+eUHdu48bu3sGFDB1Rc9OOv4rxzzkbj+PVfeT9PP/UM3geuvPQi7rj/MV5++mls2byRe+5/gHHXYSrNlZdfyLqlBR548GF2bD+GDcuvzpzhZDrFdVJLZ2XAAJx84tZopLyEV8Xid9birGM0lHAjhJ7IbzuLAmyBHmTy+0UAVRiFnl8LxX+XoUY5r2lnEEHF+jlZQJ+ynj5EtB13j4QQS8xSoioaTPq/Jf5MVyaOQyQkGXtCmPH0QsArfDjSaJXrXpbTzSt0djBKUxuFVX1BfE5iIJUNKeGXuL9MHUTjNu/gy7GU5U/l2OZDzKQUSQSOhnRLozVDJ4SeAwcwlUELTTqDutLPDDS0EaTqZudJqSKy0FIzS3QoPvgcoqbNBEca9dmyr5ltu0W0INx+mmM1M7dHA0cynyEnuko0DTBsBnnDhIT2Ho3Ca+HwUYq2bWcqKFJiLF0jJYjKkF8FIIEOrXoeukD45XOm8fXlm0T9E9mtgok7UY5E4Er3JXspMpC1Fuogfi1z11BWNvkZ+ZBkoiR8g+opBK3ESLedFYM6L5jlAswsjA8MhwO++u3vEfSIP/p3H6SuVH4wGZBwKpNpCypuh7Mtne047eTj6JzlDee/Cmc99z/4IAdXVrjvgUfwGCHFg3CMJ594PA8/+TTnnXsmk+lhjtu2hdGg4vY7f8DTu/egTYU2tRg773jZqadw/LZjWBotsH3zOuFtcnChmE673hhG4ZPJM7I/33aYzuRi+YCP4bPuM6xHhI49Z5T+Oy2k8yELg8hezE76Tmj3KDypMD4b53izQEoagda+F5aSn0xrpWUfuIvKaZTGe1lwY1QOafqxzqEdlBSx+9ldYbPO4EgEUspOEvYZQxAdQ591TegrfUq2vaZxzO+cKV9Hk8v5Vxq3ZLl9pkFCAFVV4JwkWbQRox5raPVgAM4R4nZYmfuUeVYYDKi+rKscUzLieX6CUDNGVTGU9zk0xodokFROgvkQhDZTPZov53s2yXRkLeWswYxor3TsxVhn1i0iU63jPXzxt/j5jPZ8zHoTcu2yfKffJOBjll3RO73RaDRTVlbHKoC0KzZHByFWi6hYSdAFmoUGFZ1TMrB1vFZyHoHecKbn67qecgoR44ynU0xEksYoRgujApVyhEyln1qpXPif8zEhbYdX2fa46Cycd0c3qPPoI/8N8ajP7N7DJa99NcMK9h8+HD9bKmBCG/3gHnjoSf5y5SsoZVHK8JofO4uTT9jBeDxlMBxiqjomWxTrl0Z45xg0I67+0reoCXg05571Un7yDReKp9QiPElYnbOMx1NOPH47J+7YxnQ6KYQ+AdVoDDPfk56xDN8VqXBfcncue8MyNM0esJir9F7bWbquL5PKxcLlolFmYKMxyXW5chuFOLHEQYacUo9bFfNKi5RmxVBSjuJicbzKPFnacpq1Jwumtd3MM5QKOR8qJi9foqbS4KWfYkT6OtVkdL3WcfNwutcsMplBwYEcypUv730Oc5MR9MFTmYpqZOgmEwbDBfz4MKjA+MXDVMN1eFMxmK6gg6PTQ1QzZPL8M1QL69CDEQThRQEGiwO883STLpelzetLmp8ycw5E6gi0kiyzDx5ipBEiv58Qm9GK0igcrZqhdObz6PRI56JyNFCuj1JpXXs9Ja5Teb95ox4UmLpCVyYicY2JPH4yJkpFjjwg/HJCcDEySeMN6fZBqgjarsv3DHGtVQRiWVeMygZfQu4QnUFEjcETgs6lWfOOOT2nd7Il2ntXJAp7O1U6rOz81WxIn8jXxBkrL8qqY7Ktml+keWGZzTxKca53FqUVrbWFoeqLcPvFkHKDhdGQd//UGzm4MqFpKmpTsWXDOjZtXEa6tcj3fBAFcl62Df7ye9+Cc7HAW2u8t3TdJI4r2R2VvUVGkxF1Sdg2W5yfyOVsteLwdQyFyZ7eR2TXC2AK78vvz9IAnhAXiEDOCKqgUUXWMd1W6bLjUhSCtHAolPE4OuEdtYrb3MhUgshlNMylcYloz3mNsj5vKvDZHqdSn3g9pYitdzLpPv8qjWWSi9L5zhu8hDxSmOxjwbcPsTSoiuVoc8ivRKpK97vMSjnVWmd7L7eJ3HRVM96zk0NP/Ihjz3stL3z/O0z37WO0sMATd93LS9/502w+7SU89ld/x+qPnmTTRRdw+nvex/W//5845fIr2XTeedjJhKBgeeMiT13zGawbcfzb3oZdWxVeOfRjSGOVtZztxaCSQ05y5YWLdd4Lj5f4UhTB94nD1BmMZES9j3PUr33wvZzKuvoZCieabXqdFHmSsqDesKb/60Pg1LxnNgIQPj0+i/IoFfDBAjo7dglO5TNNLRymd1FmEhURkD3vUS4kmWvyGL33NHWTHUzis3wQg1XHiCd1ekv6XNJopXOYoTpUiL1BJH8RQoh1uiHu7pulVjJAgLz5p79fckiauuorUJxzvUEtlaUcjOzkSNuyYuJESd2e8+UClMXoCenF0iCvePlpJwjCjZxNay3T6TQ+rFyz30kV/avvUDpIQsfPetB5uJ6ypPIcCb2pmX/986l8W5lS6TjjfDQ4EA1pWdg/Oz/lK8+V0rhogFPiIkTnoCISTNvagkp1gHpGaFOWPmj5nlZ9zRtafiZjFrIkx58xSBBjSQzTNB4peVEh4LOyKIIjE/uiHCYbjHl5KAXqaJxcGfaWKFzGIygjRGWyzgqarGqMVrLrJ3hQRhZAC8IJWsXNDjqGmtG4mtgSznbonGAAbTTtnv28cPOtnHD2y3nimzdz7IknY+qaga5oNDx47Wdo9+5isHGJZ++6nQ0nnsigblBO4RV4pTAqcP9f/hm7v3Ad23/ycrQxsTwwOb8A3qPqmrqRzLGK4TaKrLCKxFFb4cAD1FG+VJyTtDEFpYTyKoxhhAsSn5lUIRHnIPKwSeeCd1nxiQ5eaqhFhlOEEBerlxsl0ZPSmuCcxGehT7ikzS0xZOpDeqUh9Am9JA3JYerCGaJSRJY+5HONcupvECc263/w/T78jEBq6ebkve/5y7guglzlOfCevI8/uSLlcUFK/CQB6PLfybsjZax6bmfk0SKCeaOdflZJWcpXj3LEEOhi0QV5iJYkNOOloxV9i7necKmoUONpWWSfkF9AqbTFLBQ/U2kPKAxBpRq+cpwFKgzMPFQ/Gb2XFoJZJj1ZbvGWSMMDB8SavH7l541pmBnDDA+ponBGwC0eOu0BjvfTCo/NxtW5IKVhybBqDybypcQNEmmhYwcdNBikntaFXrAy2A4yjuBnuxS5GPKYqqIyRZhYUDNS/Ex+zlIujsZxznPK5f72tEQanUO01M80XcvajhATIVXdMBpVuMOHoGujksizeO8I3qKCl/Z33ovvWLcZTC0mJ0hNYr2wyPiJH3H3H32M0cImhosDnrvhW3gn99j0svOY+AFPf+1GzvzVX2G45djsc8XhBabjCUsvfTnn/OJ2dj+xG6V05PcLI2Qqxk8+zPTxx6iqWnbE+UCKWryTSMjajuAkQRu8lVrntkN7cC45Wi+1uqFHtF03zQbJeIfzNm+v7GwnBh1QtcE7j+s6dFULeqskv1CBOKuqkiSlMUzbKSEEKjS+MpiUIFQBNRhkedUB6nrI1LY0TSOVMFqjB40YwyRnwVE1NUppOtsX70ubyBB3J1UiO6ZCVUYitxBQxuT6UWU0LnaI0lWNrgzOO0xV9VFwRPSpPptK0KYydezUZaKnEqpFKdkp6OOuKUVA6SrWm7uIuKXfh1aKUA2wZpF2dQpFW8w0J/P0yiywkDEdwaH2v0fPFErlStCX3PRA/vtI5BZi2FoqUEkFJAuQvutTr8ZkpHrfEo23yqVLZdjeh9vJU5R9TcmfCUF4WArDndCWj8/YO4n+emVNWnreo22ASLRkKtBOT1gEZhGFO8q2eF51cWEjKiOOn8ifRr7H53CRXKqiSjQpVjgPpiTYlVK49GzeoZREHd4HBk0V0YCEUdGdx2nvO1H1/OpsFDPvtQOzhndmHCFEdBC35Kai8OEIc3gPj/z3T7Lvh49J0ohYO4gYBWs7Epfq2xa1uMR5v/f76PVDsJ0ouNb48ZR1p57FmT/zbu666nME66jMIlM3wQV4yYUX8PTTT3Hw0ac49syXUh23FTftpEg7yo9uBux445vY9Y//QOccxG3K0foRfMAsDtjzg0d4+jP/wOL6dbgEDLWWXWvROITGoL2E5aau0cpIc3/QDSAAACAASURBVHOlIkqvwIjB1ii0ke3WKXPngpNaY+sxIylf6myHrgzaiMlM9ZlVIyVYVSVbt4P1aAKmEqpFxbBUFQhamoNbTFVBtUbbTrGTKYO6YTRaZGX1cKTDpDGJi+DA2hZic2XvQfmAtz5uIoHxZIrWBg1UWuOtw2hFUw+Y2i4+u2GgDT5W0rRdh/UWpTTWCcocjka07VTk3hima6uyU2s4wHUtvm2pmgHOe+rclhJ8kK3UdVNLw6LBiK51GCNVG1VlmIwnGKVpmlqcnlZsv+QNbHvLT7G2FnW42GhSRmclz1oa2yohvSMMYjIIKYQkhcLy99RNuye7eyWT7lGipAnCQ98mLCHaJMBCG3mgrxmUEhKTExqlYuakSoEYe27PFahazX4mFsBLx6XUyceTNgFIiEXmAlKYVHqmeT4v/d5aCSGcEyOREkwCLhUe4blSdlUlBxHD/+QAEt2gqfDKgu4jgczblWEQfR1rMmpKq1wGkhMMxdY/Fw1ZXwIk5SDW2uwA+p03s/vAZ9c5Gez+vUA46ufK31O/TiPSjW7XuO3//g/UzTInf/BfUC8ugRH0IDvDjNRfK6SiQRuoDGY0wlubQAmSQvQwHcPKXtR0wtRajnnDa5k88CCg2P+dG3j0K1/nZR/8Ob7zu/8PF/37f4tpBoWTlOfpxmsoAnU62YGQowXvPdODhznhsss58fIr8/pIOV5/WoSOmxVU9FNBqZjMCTGrr/rkGiDNuXtOMXHlPspkyoSntonei8EEFU9LCFS505RHVyb3vYBAcE4aaau+RE/yIj4a9JBDZV80Wk4prj7iCxnk9IlVJQ296R2wigZDem5IlQN4VPBCj3kvUVz8XPCBKgio8E5qrWU+hM5KdIS0gARilUYIAW8FcOiAVLy4Dtt2YswjxYQngwdQmdM3AbT3TF88yOPXfhm3NuW4d7+X8cpaluX5CosSVJV0Vw75e2WI9VyxSUAyqCp6VOR/mViOkjCj4LOGNCq9T8Iq2xjT53t9mw/ZC64mhmN9EmBWYfteiy4LafqcjD/+zvxLCw5WKXHFEddOGwTy+OIWPR35H2sdAR0FPNIkqdFKiD05iw72IWiMMqB7dKxVyPcPQYFXoEEbhfdloi1NW+gb0igYDIcEH2ink9xCMa1b5udUfyxECJIQydFA8FQmNrTQPfGfZOOf+hlCubulX8fyCIp5BJucSBV3ztTDhv23fhtWLK/7q//MijHY8RgVdyIlCkHrlHhU2XnYrkVJw0qZY+9ojtmMqxt+ePWX2frys7HdGDteA+cJ0wl3f/46Tn3/z7L90ouZ/uVfs/vOe1HDCh8TTtH3o7SSPgjTVhKCSmU5SHNgg5Ra2VhknoriYywnz6z6IqYQZkvLQhC51nnxyRUGwff6lRoh60ztiKmVLmFi7HK9aES9WW5DTLjiI17p6bj0/+WSinSahKxZv0lFtqWmEkCXAUeuaSZFMzrrkFJl5zNih6ooN8lAawW6zrKqtcLm+8unfFS2hI2UUuhE88WqgoBUVVT4+BlpwTiIz1Yavz5xl2p204XBjEYsnXkq9//Xj7H1wjdQbdiEa7vsMEu5LwFW+X4lu3tSyJiUPm3Xmr1I4j28D5Hg7XmlPhsrYXxpUPtMXD9ZZSgOs1niGW4uPngafLpWUmBpDSaIZ75RcY+cBP3qYntaXQ/w3tFZCTG06Q18QtRpzFkMs3IIh9nZEHkw2QGkdGAwqHNDE+lp0KNSUxmqQYVtLcPhAGM01jna6TSHYCqI8VhYXkQpz+FDh3HOznjBZjikaWT8hw4e5Af33EsIgZNOPpnR4kI+XiQj0GJ+E/KQTLEgkoQUvPe0nTRUJvTlO2WIM/8q0Xs2IIkznkOqPlZBmOgwpeRNM33hBY4546WE0QhefBEdOcGMoo1J1HR/2kCko4wxyQThrcVsOoaXf+TDBA/18gIPffJvoRoynkyxaM77rd/GBs+LO3dzynvezdJwwANfv55jne0z9QpC27Fwyuk0m7bTjSd456mqPkNcIngAZUw8E6pvJVgqn3wnRX19AkTULila7/ZT1/lkyNLGgiyj9KVZvjC+JnZ5U0XWvzdkfQKP4PvnjVQMkTZK0V36nuQVkhZoSD1vU7SV9DnKVQli8oBzCV9Emi4BnpCwhshNqqQgRaIBXCFH9AAvuN5hp/dFxmcTRRQlbUqp2Mxb0h3lpgO7Nmb5pBNhOOLw08+wfvNWQqpMKa5Jca95+a9yJlvYFoLvy5hEiUrlkc/WcRA+LkTiJHOokjx9kpI8Ff37SqXyEp2DCUF9cxRCRKZEb940A5qmZm1tNRu8ZtDQtR2BSA/Q15SG6LFmldtx4MBBXnzxIJu3bGZhYRmAZlAzGa8VYWrA1A2KgKkaurgrpKorJuMx3ntWVlbRGobDRUYLI55/7jnWLa+jampsbD3ovGyn0wpeeH43W7du4aEHf8ieF/YwGAw46ZRTWF5eInhFVSnGkxU+//lr8N5z2WWX0QwHeefUaGGBxx55nK9+8Utc8hNv5JxXnctzzz/Hzd/+Fle87R2c//rX41ZXe5pELFc/8YGe4vAO30ks5ZzDdlYSQEEUIgCt7fIW3CRIpYfOGyHinHVdJ/0tc8Bayk9SzLSuku31DkKV9nojSZVICSQe+wjOOhp42UMtcpZCzOlESuumeyeccOmlGG048cRT0OvXSeG3tWitaNfWeHE64eU//wsMNqzHTibgxfA761g+43RJ5KysglK0rZ1RKKXSziC5vzRFTtnp5OzVDNpPZU8JbQOCspJRKR/SqNhHdva5071TqU5ynvNOr89ZxBKhUCCsGFVITWxC1X05WrlW8zxhevVVPakaIO53jwY3UyGh2DocYXNv7Pu8QQjJIMct3krH3XZzUaOaBWPzydKj1SzPTmI/92X/gIBCBcVgOMD7LuvMbPKp/+7RQIYukWT/oGVT6blEhMxfP8jQh+/Rf2TP5n1sXhwRX8heLgZFqi9vSscPUCjSjBIpaAYDHnv4Yb78+S8yGi1I6FrV3HvPvRx48cXYKb/Kza6TIZ1BUFqxNp7w53/2p3zrhhuYjKfcdcdt/MHv/x7f+OrXaJphvuVgOOS+u+/hP//H3+d/fPzjdF3Ho488wn/897/L/n37OXhgP5/9u0/xJx//ONdddx0/uP9+/uYTn+Azf/9p2tZiMGgMg2bE2niNj3/so3zqr/6S0WjI/gP7eP753Vx79efYvXMng8FAPLVSrK2tcdxxxzGdTvjHa65hcXEJUGhV0U4c3/jqV3jjT17CNVddxcEDL/K+9/8sr3n1+Uwm07ztEYj9AcwMuvUR1Q3qhkHT0FQVdVVRVRXD4UCabGjps2oq0xdOM+uV53/2u6DSLpI+3CsFcfb0ApGDgKC0oEBXOitikoO0eaOsEkiKkrZEWivdv5xzOCv/VAiEwQDX1Kw/8wzCoCY46amQGoG7rmPp5JNQi4vSEzZez4dAO56yeujwTJtFMaLS1Cb1/SznQn7vj8dJ1FVuMJ0oA6Vyoii9L5FnSb+pnMRTquDFTd+IOumJLbaIwqxRSdt+UcnIp7+pjA5Td3y5p84JRudc3n3kfaxWyPORqmyiTodUfjS/5kfuABNk6vHBRbMh5XHpGZKTLr9DIYOlkTwyvzGr8/O/l9ebaeYdQMUeHspKr+Uy0vpfyX9+zjjlJKQKsjMnKAVpu2AeOYn9IHXDT0Y3GeOyaTIEPv1Xf82BfQdomiHD4ZDhcAGUZmFhgXXr1iEH3kk5yGi0yPLyMrfffjtPPPEUy+s24EMSQA0+MBiOWL9ho2Qz6wHOOm757i0cOngI7wO7nt0tfFBQVE0tYXewFNCIyWTC+vXH8C9/7dfYunUzbddy2Vvfyi03f4+dz+zEVDUBjbWOdevW88u/+iGM0dz63Vt4Ye8eDq2scODAi+w48SX81r/+COeddz6LSwvcccdtfOCXfoWHf/gAjzz4IIPhqFcWrzj/9RexeetWppMpF174Bt77vp/hJS85ieNPOIG2ayOVYNl67LFccOGFbNqwiWM2bRKeTUmrw337XmDDpg00g4bdzz7Dnj17mE6njKdtPOWz3+6YGm5QCGHqbFXFGshsAJWKm6zSya6ihJU2ec0Tl1i+fEKnws1g6rLPZwq5+pRGSB6ZaFS8l40L0Zgoev432p0jaIcS3ZSvEEI84rvnp21EpNPVFWzX0bad9I+1VjLazjNZXcVblw1BUpzKaAZ1gzHSi6Cuq2hIq5mttInjPVLpZ1F1Od7yZNW8dySul4ooLj2DSslLeu68RE3JQCdDUQKRvjeAZPVyACo3JB1Al2WFPqqY7yvggxeON5S63pcU+khvlWuUxpeGJFx+tDehtzlyPHmPNOcNc5rXRLeUzzhr4JTkf0LIjpgod+lf+UxHHu0k3eWIoX55/XJ+y+dLNtD7kOpi0yLETvZpi1z0lBl/xokTbxj50tLbkc6cl8k4cOAAr37d61i3cRN79+3jrjvu4L6774EQ+O53v8tVn72K8doajz32CNPphB/+8AEeefQxrr7qc3zqE3/DQw89xDDWxmmtmU6nfO1rX2bcjllaXubWW77HH/7B/8tTTz1F5y1/8ed/wT9ecy0PPvgIC4uLfPyjH+Xeu+5mOFrISgq9J15bkzKRCy68kJeffTbrltcxHA7zYrVtxwknncS27duYdh3btm/jTW96M2eedRZtO2U6mXBo5TBPPf0kL3v5WVTacN899+C1op1O8xEg1lrWr9/AS898GZ1z6HgMw+23fZ/hwohtx21HhVgOFbPat9/+fb7x9a9ywgknAjAcDagagzaKXbt2cs/dd3HBGy9hsrZGOmobZD3KI07wIfK4fXerVAAuu6mKbaRZUMolVTNOdYYfRDKu1ruZZjMJ0eWyp3Q20pwCJHSUw0CScvaJyf7wv9lmy+l4lKQ0dV3HJj3NjCKlxsMlV5++L468r4xIlSvpGX10FOkIm9TLM4WYveHo1TG9J8hnlnsrt+rOJ0rKMXov/xLVkVC4fCieAWXTwZByTJA2enYNijLFfmwmhtWCBsVRxmiR3iC3bVv0K43yUqx7Mt62QHfzuZDS+LjYf7g8I6s3SqlB89z7hazMO85ynjMY8CE/lzxjNHQu4F2KAFREwiZ+LkWxOns1qcCIFIeRzTDzRvRI1BzlVwW0nK3uka7sSQjigOgtenp4RTq6IBpeqemIpU8S4ocgZ9U/+8xOPnf11RACt97yXb78pS/z7Zu+za233MqXvvRF9u/bz5e/8lVu/u53WV1Z4ZbvfQ9tFKedcTrnvOqVbN26BWtjb87gGY1GnH7GmTz+2BO0bcvtt97GP/vgL7LjxJewsjLmmaee5E2XvZkfO+ds1lZXef1FF7P9+OOwXQe5opHsEEwVnUFQfObvPs3pZ76UY7cdi6kqRgsLWCv8yheuvZZjNh/D2T92Nqura9jOsri0xOLSEk8//RSqqjjhhJfwo0cfY+/evVzypstoO+mTqI1CmcjVoBg0A5rBAELggR88wDnnngteztfZt+8FKi3Ndt/8lsv4zY/8Dtdffx0Ezf33PcDhg4dYt7zME489zgVvuBhTNQxGC/l8+LS6ecF9RBRRCZRSchxLPIsnWQKtpOjbWskalzSPZ5Z/cqWieC80QzTGGuFeU2ivlNRkTqYt1tlsPJNjS+BZKSWfa6d94+0QaLuO6XQ6YxymkynWOqYRaSYkVxoqpRSTySQj8pLySIa0P+vLzBhBCW+TEXO08cSDI9FIv/PIuRDL5frER/qMtamVYU+BlegphcM5gAq9HqUm5mUEkJBka1tcqhpQku2eR5S9QTvyCJTkUKftFOts/hvEhh+xBWPaMiw6o3InfOcd03aKiyG/tZau6+Q8p0JGptMpbdeSNuOXKN75Lpc5mtgP2Fpp0C7XcT1qnnOqM/eYdHStJZ2GG4EqIShpCJ+eJW1Djxx38CmUSnyv5Iy0qeg3L8milInx5CSyQ4u17xF3q95KU8Jt2e3h88ATb5E8RsoC9osnOipvdF3Leee9mpNPOonJ6iqgeMe73sO5572S5557lvNf++O87+d/ln0H9kMwDIcj6kHD4miRzcds5owzzuCYYzZkg5qUY+ux21i/YYNksrVix44dmFqzfccJ/Nb/8X9y9Wc/yw3fuJ7RwoiTTzmJDRs2zAlUTLTEhambAd+56VusHjzEW9/5Dqxt+eH993PT9Teyfv0G7r7jdu67806uuOJtTCdjxmtrHNi7l5UDL1Kbmru+fxunn3YadV0zGA45dvtWdj71JCedchLP7PwRf/B7v8vh1RU65/j+LTfzwH1384N772Xvvv3sef4FzjjjDLqu4/ChQ3z0v/w+k8mEB+77AR/7wz/kmquu4swzz2A4HHDdF7/EN772NY7ZsoWLL3kjX7j6c0zGq5x82imMRgs0g6GgmGwkY/lbiC39iKGpkj3d1tpsCLvOJgos17jmMNvPemhdKGPXWgkhg8F7OasKehooBOni5WzIXYci6CWdZJoMq0JJj4ho9Nu2ZTrtsqNODlzWUmE7h20dXRsdRGGIk7HLlQ2+6Iak+ux14pfTtt95FFIi0BLtiTLZLFfJ6JSbQLz3tG0b3/fxrKMO5+w/kSQhXtvGxF6VG32ko6pLhC5rofMOsWnXCrIsjvqAZGTFYPgQG/Cofo66risig56bTEi8ixUrBPJZZSGkihRQIRrglGAskDjEDQ1adiqlObIu0TJ98tg7H/MokLfXZp6ImefOBtk5ptNpnhsBChEF+1DkZaTEjBDkpI44V2lnYAiyIcLaWBOrJBru2k6e/Shzn5xsMqrSsc6he34jQl5S8CUP5n1qhhwzrZkLUYS8zzeBILHwKbxLJS1NMwCkbvDwymGU1hw6+CK7nn6G4WhIUJannnySp598Gq0Nk/GYBx64n337DuREhNaGAy8e5Pbbbufee+7mwIH9DIYD/uYTf8UjDzzEzscf5aYbrmfdpg3s3bePpm744z/6GA8//DCD0UK/KhA7WQ1Yt24jnbN8+6Zv8vzzz/E///RP6NoOb1u+8oXPU5mKxx9/HOs8n/zkp9izdy933nEHL+4/wK3fu4Xdu3az9dhjOfeV57K2sspPv/9n+OH99/PS005lxwk70FRMpk4M8WQNZx2vfe3r2L//AD4Ernz722iaGms7Dh0+xHHbj4cQOOnkkzh+xw4u/ok3csU73sHuZ3dyzObNnHXWy7HTKVe8/R1c8IY38M8/+Au4ruMLn7+W++6+i0FVR2MlbfxIFRgxq+xsbwSEb+yYti0QYoesjm7aiYGlD62zIEXDR+TcUjgs3xd+sm0t47Wp9KX1CbWlXSdiaJ2P9562hJCuJ6U61nra1olzBlznsF3Ru0BpoRi8z/XQ3vVGrTQI6VWG3PNhWoncJMmUkkmz2eTyX+JSE8KtqqIZspotMSvpiMFgIM2ajZkdTwipuDsj1KSw4gSKZE2sYkl0TdLcaJexvuhaNveSxka+D4dnKmL6Z8aHSONER2Qq0Ko3nIVh0VrnfgSpGN+6vuC+byIj76fuVEIJSRvFEORMNYlG0hgUthWULmVQs+g2hJ4SMZVQMq6zxdlRqu+2lta/mHPr++N3FNLMPh3Mp4zBx0RcdspxntLzaDWLlttOjG+VC1tjxg4lSpg2T2bLTKxfVMTdKpq83zIT6b1xrkzDV772VW674w6WlpfZvGUzzWDAhvUb0Ci++e2b2P38Ht7z3vewf/9evn7dNzj15FMZDEZc9IaL+fIXvsDTT+3k1FNPZW11StNUHD58mLquOfPMs9i7dx/vevd7uOXbN/OBD/xzTjzpJA4e2M/Gs17BRW+4mLXVVX7zI/+aetDQTsbZIzeNoTI1jz7yMFdf9Vledd6r+bX//cN0bUfTVPgQePTxx7n87W9nbW2NK9/xDgbva2IoDZu3buEnLr0E7wKHDh3mkje/JaKpKcefsINf/fXfoKkq1iZr3HvPnVz5jnewdctmVldXede734s2hoOHD2LblpeddQa261DasH/vPt71nvewvG4JZy1XXPFWXPB0bcfa2mEuvPj1nPWKs1lbk+Nhzj77FbJqzjEa1lx+5eWceurpTNYmM8bAqL4rktRSmsy5Jlqgjpl+OX22wRXOpxfgIM3NY1hVV7Wc1BDSkSBVDpun05bFhQUIGmMq2mkXG2b0CScpV5EWcOPOMumkHlhpqaMk0w+eOp6hZePGjcWlJabTaUZ/CtkEkTjQbHyCx7l0FEnfBFlp2QrZR1R9GK+1pm4aunZayLZmMBgwHo//ybC6NL7pla7XUwZh5nvpOp6YePI98nTOMRgO5dRgk04zjbuYfGrWLKcFTybSpckHT9t2mf7JzoIChQVLVVe5RK1umrxJJyd3YhWB9H2oWVk5zGA0whgBO81gINFOpCycIDOIp46mXVDlXIUQD2UMIZ5/FgFc5IarukJpaX2JNhgTN6PotKNsdp5LY+ci0lRa556rIT6Tcy62EyQawp57NbHfgE9IOdKaddOg/Fzyz3uC0rl5UucsumjYJIyMokqTqSM3mrfvRe4FpDYy7RsnELOknSQ64iBFcPqGKs61nHXWWZx11iuoTMXGTZsAOWDv0Ucf5qSdu/ilX/olQmfZcfwJnHPOq6jrmtXVNXaccBK/+a9/h0OHDvH5f7yGAwcOsHHjJi6/4ko+8Au/KD0UgyTRfvrnfxbbdaytrfGWK65EKcXqymG8CywtL0ZkLePtuoBSFcds2cI73/NeVtdWpK51MKCpGqqmxnWW155/Adu2bWdlRXq9dqpFa5XPeJpOViOND6uHVwWpaE03neK0xkZBeuNP/CSgaKctdSW1s6lhSqUNq6trDIcDrO04/3XnEwhMxmPq2jAer5KSxMcdfzxVVTEej8VodR0hKmpT17zuggvxwbO2MsZZK+kG1SdVEv+TkitVLIdK3NK066T+OASmXcdkMpUDAEtjmkK5ICYgocS+IU6/TbWqpElFRl8Q62h1rqsMscMRPjDtWhyyRVI2F7QYpRk0A9qujYhZUMlwOOQLn7uGU196Gmec9TK6tqWqqkwNpbFobZBTECQvYKqa4MXYB+8ZLYxm+DDvPYPhkHvuuo/bvnMrH/rwh1hdWaFpGvbu3cvTTz3Da89/DdZ22Bg+JiOdToQtQ1KlJMn43O7nOWbzJpqmoW07mkEjtItP3edFsdtpR9u11HVDVddM1tb4yue/wE9deQVVZXJntuDlVIoQdzY9/thjnHzqqVE2NIPhIENWKX2rZKNJ11E1gpS76Ijq2OPUdTaa+hDlRAxQ3TR87lOf5pxXncsJJ53En/3X/8ZwaYFL3nQpp5x+Gq6dQHF6gDEGZyUXU8VnSwg3RTtlok3WCKzz+GBlHpVsDEmbU+q66kvIikgjb+JRJtJCPh4UOOfk8n8zc+S8IlIYuty5JqCrtR0LqX9D6PmYVAsOZMefKFETS6Z0JnCjMSWG7s4JOpLjjr0ot9J4J+F8qk2UcEvCOOGQYvdq59m2bTvHbd/O5s2bUXGPWNc5tm3fwVsv+ymm4zGT6ZRp/Hfo0CG8F/7sxRcPYq3jzT/1Vn7+Ax/kbe98F7oyHDx4kMOHDrG2toa1jgMHDrBv/wEm047Dh1bYv28/k3HHZGoZjwWtTaYda2tSItPaDgW8/Owf4zWvfV1Mxli6rmVtdZXOdmzctJG2m8qZS9OW1dUx02lMjnkkQ+hVbkWXFDIlMVJlhHMSxgTi/u/pFOscw+GAZlBn1BxCoG0nebdSAjk+8mnjyYSVlZUcQqWwtjKGzjnGa2tMxuOYMJTTUKWhhothmCeEvseBjqdiKk3egmqBqffRGGcZmxFk6ecpO6mcs7g4b+Xz98ZVHFnaEjmdCh3QdhZr4zEzkU+rtEG5gPV2JgHQ2S5jOmc9tnVoXbG0fkPsYORYWFrC1A3NcIR1nsFwhK5qhsMFrAtywKJWNE3D4tIy37/l+1z3letYWlrM3FdCp9Npy8ZNGzn3Na9kMpnGo54Vz+7cxbdu+CZLy+sYT6Yc2P8iKNlPPxgMGY1GM+E+SB2qdY7/+Wd/wbNPP8NkMmHd+nXs2f0849UxCwsLBCvz9sRjP2K8tsbS0hJ79uxh59M7Ucrw4L338/STT3LgwAFAxbOnNMPhkIWFEQ/cez9X/e1VvPD8C2Kc0Tzy0CPY2HFqMpnw5GOPC7I2hrW1NR568CGm4zFN03Dw4EEeefgRqbntZAPHi/sPsOf5F1heWua7N93E6mSVc1/zGg6vSFOSX/n1D3HyqafQtlNcEFpAG+Ev25hATEfelAk8gjh0bTRt25KUSVI3wuVqLZFOlUudYiVBQVOVcqljgs572VHngzjjFPYrFUugIOtNkuOimrAwqGK32q7D2k5Qq9a5GkVFT6lU7GirVEa+AUnYVs73h8OhZfukcrLtS7qyyMFUrfMEF6ibKpLVHts5pErAieEtDu3quo52KplBCaM0ChNRVSNGKx7SFQgo3zd3bVtpGZY4sXQ20WAwIGUU0wSJ0YS6TqGVJigXPaHKIQBKuDGtJJM4Hk+yx9RK5/DFdhbbWeFkvKOuq9iQIVIeSPLNe9mnv7S8TGUMqysrOQyxnYRVKZmhkBSgUrI/vWtjBYAuOTpBNJPpNG+5TGE6StEMh+g4r8kQm6qia1sWRiMWFhZYW1tjdWWFXc/uZmFhkeV1y5mzSvWnUtkg1Rm5vhRykqGuqv6oCtVnjtMxJhldGElkGqOyQU1r4pynbgw+PqNWOjYOEaOV2rcFNEOtqU08/iY2kEkHtPW7vRRBBUYLI+6+604eevCHnPGyl2JMxef+/rPsee4FNm3ayNt++l188hN/w/PPv8CJJ53IpW+6lBuu+w7veO87ueaqq/jxiy7ixq/fyIEDBxksjLjiysuxcSeYMQ2HDq9w7VVXs337sVzwxtez86ln+Lu//lustWzdupXHH3mUHFXZzAAAIABJREFUT33ir2mGAy6/8nLOPe88/vxP/gfL69bx7ve+h7W1tayYddNw3z238OjDj3D1Z6/mF/7FL3HP3Xdz2623Y3zgNz78v/Hd73yXr3/ta2zYtJE3XfZmmqrh7//mU6zbsJF3/fR7WZtM+PK1X6JrW37513+VhcURzonB6rqO+++7n2d27eSGb1zPW99+Jdd85irqQcOD9/2Ai99yKX/60f/GjpNPYDAY8L6f/xn+5s8/wbFbt7D3+ed55Wtezd9/8u/QwGlnnsHFP3EJ/99HP8b65SVGwxEvecmJ3HPXvbzpskuZjNdQKIajYeyx20cCrmjZZ61lOBxGh5qy+j7qnuh52llnnaPWkhevKkNVjeT9TrjhphJHmGuKixA/VUeUVRUyLtG1Mlro4okAYnDDzPdNgaKNMRhl0FVF3Ugdam1Mvy2YELdMp8gLTOwNHaJ9aOoa3U7bOFgwihiSBelJkict0E1tRCaSMZa6Mk87lSyu7SwKTde5uGPFx1KFhFpjaULMMKbMZVLWlAHM94yeqYrbHstQbriwkPst9juxZLxNUzMY1FRGk44BqeuKwUBqDlN5Rl7swuOJ0THS6IhQGCITWeZ+coXWcHzv5m9z7TX/wJ69e9m8ZTMbNm6UrKCSetKUHKnrmtFoKMg3Xm00GhYOouLxxx7Hx/nVmpjEGLBhwwZ2PfM0u3ftmiHCrXMsLy/zg/vu46///C+Yjie0XcuNN36TP/njP2ZtdZXFhQUGmfNS+CBZcdvFo2915K+Cz82eyxA/KUtZv1kZE5NTMg9yTs+QuqnQRjEcNfmMdUmaKgbDhroxjEYDhk3NsKkZDRq5VvCQ6p8LDtQHSQANhlHICbzsZS9j7fBhnn7qSQbDAXfddhuXv/1KDh46xBOPPs6PHnucD/zyL/LMU8/wwx88wO5ndqIUPHj/wywtL3H+Refzmte+kivffkVENv1ppIsLC7zpsjfz7LO7WF5exze/cQPnnHcu7/259xMI7Hr2Wfbs2cMHfvkXOe3001k5fJgtW7eyefNmyQp3Xcz+Ow4fOswFF13A2a/8MX75V3+FHTuO56brb+Q3f+fDnH3OuXzj+hvZ/+KLnHHmGfz+H32Uc191HtdedQ0f/LUP8du/++/Ysn0Lg8GQ3/jt32J5/Qae+tGPpM520MTjng0XX3oxr/ixl/Pr/+rX2bN7Nw888ACnnn4aP7zrbn70yKNsO34b/+rf/DbjlVUOHjzIeDzmrHNewTvf925uuflmjjvheH7jIx/mkYcfYv++vawcPsTP/eIv8J5/9rOsrq4BgW3bt0vXppiw0zFBpkLkflVf81rVNekMsUSDZP2K3fEJfVSUHPG8vfDe4YPNpVipnK805JBaQLqZU0+V6RtbJxkqKzbEhuiY7AsEHM53dF0bs/oWXdVUWvpspAhLCTrKz6SLMSigqSoJ+QWOK4JX+ZC3hE5yNti2OO8yWZ54CRFER9cJ0tRG52qApIQ6lmQZXbG4MMoop47dzstsYVnsnBCgivt5Q5Dw7fu3fo8bv/51RkPx1slgpVZcckyFz8feSqjRxB4Aouh1XbFh40aGwwURhKZm/fr1LC8v88MH7+db3/oW69ZJkX/icnSRDEjJupXDh7n5mzdw/PbtbNm8mR899hj/17/9HZ558gmWlhalt2UMgfbu38cf/N5/4PNXfYYNG9dHJC/PXNcDrv7sZ/jvH/sjuq5jOBpKtllrFhYXuOfOu/jPv/ufuPv2O9iwcWMWiOFwyMEDB7jxG9czWl7mrz7xFxx/3PH8yw99iG3bt7Ny+BBd1+ZynbbtaKcd3oF1Uu8nmSZFZWp0rAOUbH2bQyIdyf6cDFB9QT0o6qbO3GxVmdj4JRbkx5KkKmbDq8owaGqGg0FOthgtmXB0H6Kl8ry0H95oiRg2bNzA8S85kYWhtO47bscOTj/zDJbWr2eyNuaEE1/C2eeezXHbt7N3zx4GCyNMM2C0MKQyFQvDARs2rGPTpg05Mkhy3jQN6zdsYDAa0TQN47UJW7ZuY93yOibjCZdefhnv/2c/x8f/yx9y1x13Y4zhsrdezgUXXch0Op2pLW2auGlAKRaWFqUqQCmWFhdYv2E9a2trjBZHnHjSyawcXslh7eYtW6iNQRnD4uIitmsj911BCOzetSujxLZtY1TY0E1bNi6vZ/u27fzGv/kIxx2/g4XFBXzXobRi44YNfOTf/Q53fv9O/uzjf0rwgdHCAs1wgKkMKysrbD7mGEYLI0HtVUU37fAE6qamqWupa47GM7V7NFXNYNjQDCoGAzmefbQwoBkk3rSaKd1KVUXiyCqRjcoUclbRNLLbLoGx5JRLDlXkUFGZeCqGD2Lk58rnUhSYwFpqXRljTTJvXGmJ7pWiGS0Isg1emtCncrhIF4QQ+pNaETqpjjSH7rePKULQsbSAqOyCQkxUqLRjRoMcF2J0NoTpIdLPhBbXrV8nhdS14bbbv8900rK4tMijDz/Ekz96nPXr11HVhuXlJdatW2YUw9fFhQVGwxHPP7ebL33hiwyHQ7xzbN6yla3HHkfbdWhtOHToEMPRSMLl8Rr79u6lbgbprDoCcOjgIZ568gmefOJJ9u3dz3g84fqvX8ezz+5ktLDAzmee5h+u/hy7du1idbzGeDxhz5593H//D9Ba8dSTT2K7Fm1MfHoRiq6bsnXbdi659CdZt27p/6frrePtus477+/acOiymJnJsixLikGOnZhiiB3HAQebJoWB9G0mM530zdtpZzqFaQpJ2zCDYyYZ4tgyyiijwJKFtli60uUDG9f7x7PW3vvImZOPI+nec/bZe8GzHvg9vx+DgwP09PYQBo1skdhXHEYsW3kOJdOJVeynDoIW5647nyXLlhMFYQa906TEScCcubP52Kc+iXSLtbIF4rou+/bsZunyZfRNmMDu7bsYHRklTWIcR0vKxndxPQe/5FEqe3i+j+uJ8avVKpRKnsiIpFH2c1nUJTzXw1GiqKpQxAb3l5Kf+qJWUujb19qQ8tpCmHjGIMVLz3GzDWZ11j1f8LGOcgjCgCiJSZJYKr2OEiYvs55GR0fpP3GSEydO0AwCoqAFaUyz0cBxFGf6T/PCluc5fuwIS1Yu52R/Py899xIH9+3DL5eoVKq8s+8Au3fuyflKlcLzfEZGRnjj9dd458A77Ny+k5kzZ7DtlVd47NHfUq83eGnLc5RcjxkzZ/DiCy8wcfIkvvl33+AXP/gxvX29GabV7qlSqYQL3Hvn3ZwZGGT2nLnc/tNf8sKzz7F27RoawyM0W01c16HWUWX+ogX8+Dvf5Z5f38nhdw8RxgGeJwKUKBgbGeVv//wv6T95ikqlzLhx4+g/fpI7bruNqTNnUKlV2LdnD2/u2E4YSCefi3T77H17Lw/c8wDTZ01n+7Y3mT1vHrve3M7dt95Gb3c348ePZ2x0LNvDnV0dTBw/jgN79lOuVNramdMkAUeaVCS3qHAcL/u9sT6gJOqxHp6VW1aORKpiwAoy48qy/XumIOVTLpfxfLetOFo0mEma4rjgeLJfhCS9qDmls5bWrPPNc3OsGaKmWvJ9sXGWS0KD6/t4xu61o0dyqJ2kq8j+7X7h977wlzbskbyWBhwpAiRRhgMF8SRcR/HGrrfp7R3H/JmTDf2d7QzRpsorJCVHjh7i+S3PMXHiJOr1Ub75L/9Mo9Fk2rRp/OqXP2XrS1uZOXMWQavFr371K5PYDrn7jjt47ZWtzJk7l8cffZgnNj9BZ1cPkyZN4I5f/ZxJkyYxb8ECHn7wQR7a9ACtZpOxep3bf/5Ldm7bRt+4cUybPp04Tujo6OShTQ9wx623s3f3boZHRvD9Ert27eLll19i/oKF/ORH32f8pCl0dXUSBgEDg4O89uqrzJoljQHf/uY3mTNvHtOmTzMwD/HiR0ZH2bd3LytXrSKMIpYtX87J48epVqvMnD27gOeEiRMnUq3VOLBvH+evW0dkigA2oT579hxe3foyixYvprOrE+VIcSaNE8ZNGM+hw+8wNtZgxcpVxElMqVzG932OHj7Ea6+9jq8cOru6WLBoIR2dHWx9+SUWLV5MT283WoPVnnQdhe+7JqcLyhUI1JbXtzFlwkQWzZmKqMrKJxxTKRVP0hgLyKIUm3+ye8gWlFJTXHKUI2JshRZSm5tNU3BLPkM7ttHqH2LaZRtROqVU8iiXS5SMV6xNpbVUKvHk45s5efwEg0ODTJ85ne7ebmbNmoWnoGfcOHa+uZ1Tx49x3vlruOiSjYwMj/L2W7t43/s2MGvObKbPmMa7+99hYGiIpSsEJaBNEefUqX52bt/BtGnTaDbqfOj6a9i7azdJmnLpBy+jt7eHpx57jM7ubm7+5MdIk5Sevl7mLVxAtVbLITZmvEg1c+bN5fDhI0ydNo3z37eevXv2snTVMs5bfz6VSoXZs2dTqZRpBS1WrV7NyOAQcRSx+rw1zJk7h57eHiZNnsSEyROpdtQ4b91axk+aSJqm9Pb1MWXyZIaGBlm6cjnzFyxg1/YdTJ48iSVLlzJz5kyqHTWmTZ/OlOlTOX36NANnznDjzR9l0ZLFdHZ20hgb46rrrqFSqTJl+lR6uruzlulx48fz7G83s3z1KtI05flntzBv/nxJw5VKlD3fGCbDSmeJrAvVHse1vLvFholiCH52E0LBAFsja9agzYE6JmVgMbA23HfdrMKOLbYr+37XMYgDR9Z/blHJ227BLZWob9uB7yq6zzmH2DQO2HvKIFdmH5ytGOtZTRdzZWzrYRSFWL5MrVKiKEF5Cs+X0B40OknwXQWOsLPEUZIBl33fp7+/n/4z/Wy6/36uvPZKKrUanR0dVMpVevrGM3HiFMaN6+PWX/yM8ZMm8/hjv2X+3HmUSmUmTBrHzh07WbtuPc1mzKWXXoJf9liyfDlnTp0mCpocPLCPr/+Pv+BnP/4JQ4ODrN2wjimTJrN79x7OXbsm66LQwKo159LVVSPVimlTp3Bi+jTe2b+fVqvJ3LnzGRsaYPGSJWx96QV++qMf8Pnf+xIXbbyIo0eO8vX/+T9JkohWs4ltu7VdRzLA4plEUUgQBoJjUw5KaTo6qgbyIqBsv1QyQPCU1BTNJHyBarlCtdaBchSNekvE4xxJ4tcqNWodDaq1MoMDEcNnBpg6fTqVWgf7du3ii3/4h9z6s19QqpRyb8LeW0FOWIpkDq4jbFTatkJSwXE8KVNpW5AyLXoUPExXZZ0zrnJwDdcCtB36pphEtvAtGLwYZguzlaG3U1IQSzwXq+FkXwLi14RhwBVXX8E1H75WCgFxzNLFi2i1WrzvogvoP32aSVMm8p++8ickcczw0CAfuu5qQwKjGBsbAzy++J//CNd12fbGNp59/Al8z6ezt5vrb7qBL//pl7FA7TAI+PSXfg/XcUwXUsSX//tX0WnK6MgYQdBiyfIlppYQYpUI7FhHccS0mTP4/T/8YsZr+8nPfoooihkeGGL2nDkAuViljrnhYzeBgtGRUeYtnE+r2WTOvLkZVHHKjOkGd6kJg4Dlq1excs1qxkZGmTh5Ep/50u+RJtKlNXPubIIwYMbsWYRBwOVXX4HruAStgJGhIVauWc2569bSqjdItWbZ8mW0LDKm2WLOwvlccMlG9ry1m8UrlzNjzmx++9AjbLx0IwsWLSQMQ0NfqoxMm6w3mezca7NziGkMsREOtEOcLPjeVarAEWLXDQbChMipuFJI1mkKiWiNmW7R7H1Kg+Ob1mM0JSevxdh5yqr/2S0rEo0Qi1swWeGAaDsszm6IADzXhLHStpiiEY5SYf2Wb3FdF6fs4jsOJd/FM33anufhpykJUC6bz2CLFw5Tpkzl7d1vc/LUaXp7xrFw8SLOX7+Bzs5O5s6dx7hxfUycPJH+M2eYMGkq71u3gSiJ6Bs3Hs9zGB1uUO2o0dHTxfiJ4wmCFuMnTGZ0aBSdJpRLJfrGjTeEGIoJEycBguvTaWJAuNrAbwzGLIr58U9/xCWXXc7EyVNI45jPf+mLPHz//Xzjb/6WtRvO55rrr+P48WO88errTJsxnc2PPcba88+jszYxy18BBUJiGeThoWFOnDhBpVRG65Q9e/bw7NNP8cU/+EPSJGHPnrfZu3cPhw8dYsKECfzD3/wN19/4EVaecw7bt73J9m3bmTR5Ktd/5Dp+s/kJ3jlwgK9+7c85fvwYzzzzNAOnB1i+YgVTp0/nb//qf/G5L36BhYsXsWTZMjbdcy89XV30jR9nxNxyBvl8URbCJuNBGvbOrI3RGj6b6866nEzuWCnB0No2RquOKUgNstBKDKotv9kFXLwXjByFDfvaAdk232Zzdi5S6Y/jOAOSK6UIDEF4o9mgXC5xy+c+TWNslMSAeJum8u4UQtGxUcEXz5o1k0///ufsbBLHMYODg5l3pLWmPpaHwUopRodHsn87jkNoxCdtGqPIvauUIo4iw4QmhdmR4WEy7KmBD9m0WZIkjIyMZOsrCiWtZdEujqMML0W+oQPDWZDqhDCU3nlL4hKGwmBmCcxbjSaWnN1zXSliYpEoELSCrPiiFNTHxli+djVxGJJEMZ/67C0ooNVqZjnjotqwrbJjG0AKxtSOkRhNQQwVnyMTBFVZ+QmNxjHXN/qUImOiVN5ObtaxUmKoHUfhGEiUchzDeaJMPUzzniiCouNgWN3KJVQQZHjuXG/sLJzVWftKKYXjey5KaaJYSAwE6walkofnOEaPRuG7hvQVCelRynRU5MoKyvzedT2SKOTee+5h3pLFdHd1CpB9bJShwQEcR/KG7x58h0ajQW/fONaedx7rN2xAKenGCFoBURRQrVQ4uG8Pr73yGqdPnOTNV1/lla0vMzrWwAG+++//hlKKCZMn0Gy1iLQgFCqVKtVqlWpHB+VSCd/z8f0SHbUq3d3dvL51K8ODg6RJyrf+8R/Ytn0HCxcvoquzk4svupgrrr6c57c8Q6ph//69JEmcKzQKIA0Qo1WpChZx545tjA2PcPjwIY4fP07fuD6OvvMuaZrSaDTpP36cmdOnc3D/PirlMuVymfroKI7r0N/fz+q1a4jTiLFGE69UplKukqQpzVaL+YsXseGii9BJQmNslElTp1Aql+nq7ubDN9/E1OlTuPlTH2N4cIjnt2zhyKHDEmqluWGyIbpN4WTscq7TBuOScD43dvlCyuMom+DHFnVSTYoosWbOZWFDZXhEbMtgwWu27E72O8wcojBy3KoQ4rm5zK+p4lpKO9d1BbAPWf41ny+LO8w3k+u5ZtOpXJ6C3GuyHyrm7Yqbp9iz/rs2W77pcrLpomdmI4azP59/jzguFslimbfse7ICiTFmxfvSxkuzJ5qkb4oSJXkMcHZuUmyidNlFQSD/Vor6WJ16vSnsTdla0QbtYYs8ZG2nKKmCu0quFZv5KkT5BeOW/0xrMaSuNWjm2VIKxCeOWSfmwymiDWWNcbYEtcbJ9LHsYdHe1eYgCCeQqK1Sq4hoobnXIsa4bZwKz5Dl4jUWOuNmbNlam/XlGLfZPFCiUzwjC2zzGNkiNRowGgF1e47L5EkTeWbzE0yeOJWOzg6WLlnKpgfuY+qUqWxYt55bf/4z9u/Zz40fuZFbf/lLVq5azaqVq1BKjHYraDFjxkzWbXgfh48ep9bRwaSpU5g2YybNZsBHP/FJntuyhQsvvhjfc0nTGMf1mDt/Ji+++CJDw8NUymUuvfQyyqUy9lbTNOX4kaNMnzkdr1TmI12foNFosHDBQtI0zuSWZ8+YjU4ivvz/fIU0CSTEKbj5pVKJgYFBvvft7/Ch667l/HXrueDCiwDN2FiDRx58kJs+8XEq5TKuq/jD//DH2Sn9/JbnWLpsOeeefx7DQ4NccslGPnjFB0m15tTJflrNgI988uOMNcaYOGkiH77hBhQif/vqSy9z1ZVXMW/+XOqjo8yaNYtFixcRhxEjQ6c59M4hLrzoIvr6+n4n8XAR04fGVGyTTMlWoxFOiEIV3HixFDxPyHk9zz71bSdZkS3I3oddgInZYK7rmcvqrKiRGqOanV32GpmdkxPcMR6xcWQKVV55X6VSplKtEIURzWbTXKddIkcZIyB4ZBmXDHcLWWeTYyB3ZgVkZN1Kk5Ge2GcrbjrH8A84rhwISZpmyhhFA2lJtC2EUFpnCyTUSuGXSsLJkKZUSoJeiaIwa/ywrzTVuOa7ddEA6Oz/2iKAoucGmFZY69lrrCqbzUlqrNfpkmppY5XrJWZcDD1gqkkd240p33x2S2rbfWuNSqWghaPaKAltHjXLqzoOmHRZFuMXDk/5sUOSzUMhPC9+P+IPuya3G4YRbpLrqhWbabJ7+R1rHkC9uvVFnZ0AhU1X/KCLEFCgFB3VMj+6exNTJ83imo2rqTcapGbS7A3avCUaGvUxunt6iaKQcrlMnMToRLCPvu8TBqEJ2V2S1LLQWDiDIopiOrs6hYUnjOjs6kIpRaNeR6Pp6KjRajaxUgYaqYC/sOVZRoZH6ezu4sKLLqRUrmRUaFJJdEEnRFFCFJuQzSwKmzu29HCum+sEFTdLkgg1XRg26e7qynJoWkOSSI6+Wq3QrDfw/VzN0gwslXI5o5lrW9BapE7CKCRJIoR9R5oW0jSlXC7juC7NRqPtnux81UyBpF6vv2fRvmcRaE2lWubvf3AvqxYv4Jr3y5wW+8EFjiamxFZApcFBZzC74iLLQikr4lbw6jIPwWyOUleNY7fdQf3gcRb+tz8haI619Vtn4bcJmRUYVqwUC+LWWmeKpLbkag3U0aNH2fHmDsZPmMCGCzYQJwmjo2P09fbSajXaNna5XKHVatFsNhg3fjxxFFGt1RgbHUMhLGWtVgvXEXWDSrnMmdNnQCn6xvcRtFptqBdpkFCMjdWpVCoMDQ4QNFv4fonO7k6Drc3HrtVsceTQEWbMmkGts4MwCAoRgjB27d+3n9lzZ1Ot1njk/gc59O67nLvmXM7bsI56vZ59d9H4WXKjvMDcbgTe43kZmJrd1MrQdqSpqPk6ykVjZWlkbZ5tkO0+ExIlhTaaXRk+VevMWP7f0lKCKEgtHClnutIYWKTK4Jw2wnGUPVRNnQctarNmLYrLmff2y1iBY7T1vM4Ojt99H9HpQeb+we8TNJpZaqp9ndtP0vYMnuuojPtUHt4MoHHntNYk5C551sWjjftuQ0BUltx1tBZiVoVoJcUC4pcktkC0IsMMg9Y0W7GcdCZPlAPujWRJvY7N04yODGepBVCMjozKwOm8m0Jp+MDlV2ZyykHQzIxpHiqlKGMUdCKttbbqrlxzPaOJ/n9beI4DnR0VqFWy/EwWypmQJDCEGvnn7JNpWq1mdgrm15RTudlsmJ/KwrA5TcDkyd5L0iHjoKg36iZs12YDWHG5wsKw4aAiQ2cIu1CBW5XcI1B20RhjKtFIDiEpPmMWUtncWvEksSGb1tmmLXfUaJYtAU27d5f9XVl9pjQLX+3v5P6sZ5trH3V2dvHE5idp1uvMXzCfocEBfvHDn3G8/zQXb7yQq6+7RrqAlKJarfLOgYPc+tNfMDo6ylXXXsP7P3gpP/jXb3Pm1Gm+/jf/kycf38yWZ59jaGiIZcuXceVVV/CD7/2AUrnMjR+5gbkL5mU5Vd/3OXH0ON/55r8xb+F8/tN/+VN+89BDHHnnEO8eOMhlV13ONTdcT31sDBAs78MPPMyhQ+/SGBrhs1/6AhOmTDK0ciLqeO+dd3P43XfoGzeOz3/x9zlv/VqiMOTlF15kw8aLUI1GPsyOMuxVVhU47zKCPK9ZLAjZuSskvqUAi3EUAJ0I8bKtJRTnXT5vvUNDspT9LtfWyt9vCZ5V2zrKRCaNWoRN76DFW3cM9aMyqSB7s7aTKT8kbU5WZ/ePWZdnRzraOguIEbfY+ixVQG7w2w2q2UTm9w6OMLpIqtQthBfyd1cp47mZwbI34zigHNLC4MuetoUIwQ/qNL8h6+0ohU0OoDKPIjWeIBk+zU5o/kyFLyM/ufOHtS58Sr3ZYGx0TAhJrDojOT+kl0F98s2ozKZVCGmwzQ9mCXclxt4Ci1GKarUmlXlzv7aiDSp7NrvI7DrK+/Xbw2BL7lD08uxBUiqVszbg4v0AeJ5HraMGKOI4odUMMfwdhjLPQL20pWG0KqfSOqw1aEtaoS3ZuCkGeQIPsd6oBdaZJ2zLH6U6zbpf7GY9myLOzqEdL4UiiSOIm0bLyM3CRweVEVCgZTPnDR/FMYJEJ9Jbnubzk5jU08ZLLuH8DeuI44SbbvkYX/t//4znn36WhvHolFLESUy1o8Yf/el/5o+/8ic899Sz9J84JWoPjsfY2CjnrVvLX/7NX7H2vDX0ju/j8cce5xOf+QQ9PT1suu9BKpVyW15zZGSYRUsWQyLRwhVXX8l/+f/+OzPmzmXK1KkC2dJy0DXqDa780JV841v/xLgJE9ixbQelUikzzgOnz3DqxAm++uf/la3PvsBbO3cxd9485i+YT62zsw3Qno1LwRBkjRZnzVnxT/s6OxzP2k0LysE28VG8hlw/LzzZRZ/EsUDoC85IXvXP/233uoUiFfP+ieUlRTq0EnOsW7pFGxnaEzt/JoVyXJPzzfdcdi/yD7k/Y+QcHOneU/nYyTMWCXBsusSsamMrHJVayw2QSsFaKVCpSTgrU7XLq3AAaRyDLl7QbhQT7rsKbVoZk0IBQv5iJBsydqpiB4S1+MUwNXt0YcgpeLFFI6VUnhORyp/ONp/VgzdWkqGhIUPIYAyhUtIGaSYhl8XWGQBd7lNgTI4jDEFPbn6ChzY9xFi9gVeqMDpaxy+VTdpA7jrV4PslRkZGGRurUy6Xs9SGUpL+CMOQvW/vEbZw8mKKUgI6f/31Nzh27Hgm0WI3TrVa4fjREzz60KOkKQwNDfPzn/yUf/o/32BwcIgk1QShkMXEiZYUR5QQBAmtlmn5M3lWrSEKYyEpxhhQE3VohLDXeqi2q07rnMhXaZWzoyf5nKdQ2JQqm1/+sHCEAAAgAElEQVQxjooojCCVtZKaLhYrVR6nhnhYpxkBdmJyvmd7PMWoyv7MdRwa9TpjY6P09PYwb9EC3nn3XcZNmEC1Vs02bRJLF9aUqVPYuX0n4yZPZvqcWVx3840oVzgY4iRmeGSEHTt3seGCC2g0Ghx+9wj7396L47gEYZSlOFqtFitWn8P6C9YTJiGOI4Zi/+59DA4MseKclbRarexeHcchTmL+4qtf4/Chw1zw/osJjBqCchRjo2N0dHZy/12b8MtVhgaHAUUYRViFWrtXNNq0c0cyXnauAK3yteP7fhvfbc7FICQ4Fn6XK6rmDonj5gB8iyoQwprCfBijaUN8ld1ju1H/XfnUok1IDIerBfLbfSWheN4kk3u5dq9TKLRKccvuKWszMpy1/e40RZV90Nq04VvvWWffVUxLWDJ+a6Mce0qI/k+eUzAmTQbirFPPc13pebUPUhikbKDMEwlZQvupEEcxwwY+0jaAiCeUJDklmjC95+HA6GiDIIgQ7KeEInZSPaPeaVwz/FLZeDy5TwWKUrnC7bf+miOHDuP5HuVqiVbQ4L577zRdK510dnaa53Dw/RIWiA55N8fJk6d45JHf0tnVRa2zi82PbeZb//yvbH70cSqVivEG5PPvvnuYn/zwR9z2y1s5eeKEQLu0ybemmjtvu4NNmzbx2988SqVWy0KvSrXKc1ueY8szW7j/nvs43d+febJpmnBmcIjb77iDve8c5LZbf82ESRP51Oc/T6lcyYQL4yTNyH2V45KkmjDKvSMxAk5WmEq1zEWcCIt5s9kSY2HYffIwEYJWSBDGJLHMm8IlifNDKEU8xSCICI10SWLuxb4kFyaGLTJ4ZruZzv4TDUEQErRCbO5OIDTFHJzcWxwnpInZBObgHjozyD2338UNN9+UFZ46u7qQFITH/r37efqJp7j+5o8wNDhEo94QQ69lLe/f9TZdlRrz5s5lZGiUTfc+wEc+dqOwcEUxtY6OjH0qikLCKMTxPMDB9TxefOEF5syfbaSKU2odHRnZieO6XPjB9zN9xnTefOU1iYBqNTzPp1qrsm3r64Sx5rIPfYiR0RGCMABkXdriYEdHF2hoNJrS9aiNETInjj3otNZtrExFAxbHOW9HFEcZIU9m9Ex0mSmomugridvlXbRZL5lXbO2A2YtpKtR9Wb614JUWIzEyw2aMpHHsrL0oPoM4Ymlmc6whzMJ/XYx6HWMRLJRQPpW6LtavE8dCm/WZ5vpoWmeHUW7QFY7GNRdSRuCNNlC1NVjvTRzb3xa8AUvwaw1nkvDSiy/R1dmN53p0d/XR09PHwNAA9957P93dXVQqFXxfxNWq5RJl38+6gDyj1W6ADTiuxx23387+ffvBMH17nk+caMIo5czAECdOnKRaET2obdu202qFZvIS0ynhc/TIUVafdx7TZs4ENPv272Pz5sfpP9mPwuGJxx/nkYcfEgOjFEcPHyUIEkP8IAQYYSRSCgsXLeSqa66mMTbG7p27+dTnPsMj99/PwOmB7B79ks8LW57lsiuuBEfx2KOPU6nUZJJdj7d3vY3C5bobb+SRBzYJCDzVhHFCoxmw7Y03+OSnP8Xhdw6xfdt2ajVRUy2VKmzfvoOZc2dx/vvW8/LzLzI2MkKlUqbWUc0Y13NsH9kCKJVKkuhHmWp7YvqZbXVW/ouiBJ3KZmk1A/E0zcXs4We5Ly19oUhRyO+S2Bb3JB0RxSlBaETm4ly4TTa7MHEFgWXzl3xxsXCntTEepiGg0QxotkKarYBms2UMi6zMOBZijTi2UtMp3/7Wv7PufeuYv3AeaarZu2cvt//iNhzHpdls8Z1vfZsrrr+Wjs4aYRTTaDQYHakzMjpGtVblxaeeY+myJTiOFERWnnMOKIdqrYZfqfDLn/yUF5/bQqVaJYpiBgeHOXN6kMGBQaIw4rWtr7Bm3Xk0DIXeT/79h+zcthPHdTl08F1mzp5DEsecPHYCHMV3/+VfObBvP70TJuCXfFasXsW+vbuZNn0qjUaLKE6y6vTIyCg//PfvMDQwSKlUylJUsZHpEFWFMDOQWUpG5QdlnMQCkE9yyZkow74W0yzGIBrpkDhKTf7amo2CtwkS+RnEAFrTbDQJQ8tzm0ca9u9pktJqheiEPNQmT0tYL9Qa1TzVI+suSiJaYSDabloipMQ0iBRtm9ba8AGLRHYYxlSqVUhjdCJoinqjQaPZIk7SDDFQTFMUc8JZKU8nScYSoynQuhUMKdiT0EhmFDRiBDYiubFUC6To+ee28P0f/IAnnthMEAb8+Eff5Y7bfo0GatUqu3bt5tlnn+XgwYP8yz/9M888/Sxv793LP/3d/+Ffv/ktzpwZwPd9MUq+x969u3nh2ad5+IGH2fP229z269tIE8Vdd93Dgw89xD/83d/xgx/8mLf3HWDTA/fz/LPPctdtt4ucQpRkLPHDw8PccdttnOk/w/DYKHffdSfHT54iTR0e3/w4m594nM6ODoJAOFK/82/f5Pjx48KkFcUEoSEQiSKiKKBeb3D0yBE6uzrYvm0bcZJy5vSAhFxpStAKCKOEQ4fe5Z0DB4njlGYroNUKiaOYkZFREq154dnnmDxpEoNnBgkCYfNqNOq4JZ8nfvs4XskniuSAkeqvIg5jTp44yc6tb7Jg/nzqdSG/TjPYjZ1XOZUts5ddDMLfKovBHsvFBa6UFEx83yeKYqIwITFMVRaXbDdCHMfmYJYCZBJLqJZ5nCY/GwSiF2VJkqV4YZUr0wytIWAPx+TllHjBcZob+1BY0NIkIYlTktR6OoYy0vOJkphKtYOunh6OHj3K0UNH2b/3AN//9ndJkpTOrh5+89DDhGHMu+8collv8MYLL/LAXXeTaM2D997P8NAg999zH/V6A69cYtX5azh1qp8bPnojg2f6eeKxzdKRpaRS/8RjT1KrdXDi2DGe3Pwkp/vP8OJzLxBGIeecs5JZs2YKOUqtxtDQINve3EZHZycvP/8Cf/uX/wvtKi696nJ8z2docJh9u/Ywbvw4bvzUJ7n/1l8zd+YMFi9dhsKhVPaxWlYTJkzg4L79nDp5knK5bDC8eRFKFXgGip6/7G9jElKdh+nGGNq2TXv4RVFCK4gJw5g4TExkkxpy6TQLnUW80BhtLV6+TpX8TEs+30Z8xVyuNYqh0XSyqbxUJ8Jsl0iNQwidzSFbsJMJ8t1xoomSlFYYE6fFlGKuMyaaXDqLPlMtlITCrieRnU1pJCblEMUxYRS1/Ts2Y+MlOsVBCKLjGHxfYAepTZ8WwMi2XqaUAiOoJekFbboUEOygdiFN6evuYvKUKcyYPoNnn3kW1y8xNDzEjje2MTY6xKOPPMJV11zLvXffzZRp09i8eTNTZ85gxsxZ9I3v443X3uTqa68miccIw5C5cxawZsMGLrtMlE2ffvopnnrqKRwFlbLP1ddcS9/4cTz04CaGB06zZOEitm/bwejIMH5ZpB6arSbnnLOaFStXEaUpe/buZeasudzwkY9w2y9+xYyZc3DcLYSpprevl2ajwdf/6n8RxSLMJq2igp20OFzBpyq2vfk66zdexqp164jCFq7jUiqVaLUC6s0m+/fu46rrr+ed/QdkM1QqeJ5HtVrjxS1b+IP//J9wlENkGNTLZeFAPX7kGCXlcfX11zF4+pSEs1GC65aoVqu88tzzfP2v/prHH32EsmkFlRAnD6OyxH7hoJRcp/HcPS8zrMUcky0y2c9YoDmpaiO+sO/1q6Zwpq3MiekC0oVQznoXkmuSzYImCA1ZtRZ+3FYhzFRBhI00kkT4ZMU4iBGwuEdJq5lN7DjUqlUeefBhzgycZu268/nLv/1rqeCaavIrL2/l2huux3E95syby19/4+8JWqKMoJOYT//e53FdlygMaI41+MTnPkWcJoRBi8lTp/CFP/oDHEe4ene/9Rb1IOTmW25hZHiYyVOm8Gdf/+9SRTbV25s/fQsDAwNUKhW2vbmNngm9XHnNVYwMj3DTLZ+g2WrR090NWvPy888zc85sLnr/xZw+dZo1a9ewcuVy/FKJOEnY/NvHeHXrK8ycPRvP83nq8SdZed65LF62lDAMMtpLz/OIoxjflZRYEVNp5w50FqHYQqI2oa5KFZWylx3IQRhk16hWKiSxiDF6roeONeWST6whCKMMclQ23Ywt241FVuVue4nxFEo/wf8mpKmkGIWn2MiDuy6pZ7DMpkBcMkKQQRBn6SylhIg8jXUmy1IqeXmzhNG1SjTZeg7TlJH6cIaTts9tSVyshx+ZNEvJ9yHVNKNQVE+1ciRvlmqTj5HQS5GTEBTznSiETgyHKNFEUYqAzm2oqInjhDlz57Bg/nxWrVrJyVMnWbt2HYuXLGVkaIi3dm6nv/8006dPY2hoAM9xuezSy+jr7WPW/Nl0dXXm6QVsISImCmO6OjtxlMvCRUu47967Wbx4CdVqlZ7eXlKtCaIWXd29bLhgI//hT/4Et+QRxbIhkySh1QoIwohSuSxphThmZHiYwaFBZsyYwVe/+uc88dvHePqJJ+no7OT5554zbEbSHqjTNKPDA8HsTZo8CYVi7qLFDAycZsbMGex9ew+/+tnPqVQqVCtl5i2cT7PeoLenh0SnfP8732H/vgNMnjyF8RMmoJWiv/80U2dMZcvTT/HLn/yUru5uJk2aRN+48ezesZN58+bRajb4h7/537z99i5mzZ7DvHkL2LNnF61Wi56eXnzfw/P8tn7oYvW5LdftCDWc0gJJUWZD2YKdUirzaGXOjTJnKNIkbcQQnmcE2kxKSOXwHAurywtWiiAMqdfrGQerAlyjbSW5ewn9otDk8JRFDsj10O0V6SiOZQObZxsdGeHSD17KpZe/nwkTxwsAnRTHFB+TJGX1mnP54NVXEQStzJt3XA/XFZ0t13GFvd118XyfIJSoAuON2kOp2WxSqVa55dOfZP5CYbS3azeOYprNJnGcMDZqcLYoJk+ezCc+dQu9vb2iXhBF+IasvNlsMm/+Am78+E24vnAsxEYIztL2LVm1gs986Qtcd9OHOd1/iiXLl3LDRz/S5n1muWdoy4XaV1bJT1LSxNBqFotNKle6tcU2tMb3hIMiNodmpVzGcYS/IE5SWmFIkgjReqlUQqNphaLAILjznG0tjpNMQdc6aRbRYm2O53pG7JMs/x6GsRhtRHo9CCLCSFqTfc9DeJgFFWLZrSSqFgxSGIparE0HGGsOSongJZhGjKStQSZzDGQAjcdqKEwl/yCnhfnqLD9qpU2yi5D/OzI63cVqHVoKTkEQEoQRzWbAqZMn2H9gP9VqhW1vvsGhdw+B43HOeRtYuHgxd995J1OmT6NvfB/jJ00iTVLq9YYZ5FAm1/GM7ozQZW269z4OHjjI6jXnkqQp02fMIGgGbLrrXh7/zaNcdtkHqVbK3HvPnTy2+XEcx6VSqdDZ0YHv+dx/3z1se20rd912GxP6JjJw5hT/9q1/obu7kxde2MK//fP/oaezxsxZsxgbG+PVV14miWMxVK5H2VDbgSAgypUyfX3juebD1/PwXbezetU5jJ8wGVXyeX3bGzTGGlxx5ZU0Wy3efecdLtp4MVqnNMbGePedg0yfMYPLr76Kpx/7LR+44gNCt1eucPLkSVrNFjfcfDODo4PMmj2TZStW0gojnEqJeqPBlClTjTLqUT7ysZtptlocOnSIgdOnyYDvIPnSQrI/W6ieB0rkdVUW/uXV+qyQaKrGkiNNCuqS+abUWmck0dZzzLxbyLTjSyXfbFYJ55M0MXSL7e2cFqdsqSMzF4ZcB8p6wI5rpCocMqMbRRHdvV2sXrOaBQsX4CqRqk7TBFKN77pMnzGVJM514xMj7xJGEVEscDPXccwGpe05LRGQeKApPd3d1Go1wiDEyrJbccKSIcgGLSTRWppStNIZ5lGKqm7mRVaqFYEcpbazzYLlpVYxcdJEJkyaQLlSxnEcOjpq7XNm6BaTWBQobMHpPcXg4vvDIDtYbHHKYkPt3KQGGaJsekiRtUhbSk+b647jOJOyUYg0TFpAiIRRSKsZZDpXcSRpAM8X4hzl2HZZqdH4vl+AWgo6I4kT0bxD1p1f9vB8URux9smOreDuU2mHNXIsImxoOZjB832qlWqmsybwwZxiMEXjeC6+VRUwCArXdfHy5Kok+q0HbiEKJd/NEsw2ya0UZkOZPJpreFQLrPtJnFLr6mHqtGk8+sijXPmha7jrztsZ1zeeCy6+iGNHjrJ02VK2vvwy565Zw28e+Q1RK2DNuedS6+gA5DTct/8AYRjiuQ49feO47sM3sHPbdlzP5cSx46xYsZLJUybRbDWZPHky77/ig8yYPYuJEyfx9q5dzJw1h/7+fna9tVM8yLlzWbd+PeesXk0cJ/T19vHJWz7DwNAgkyZNRimH+fPm0dPTQ62zizAI+Op/+xqNRj0LV5QSQ1St1Xj34EF++L3vcuVVH+IDH7ycVatX01HrZGhwmF07dnDjDTeCo6h1dPLZz30+o7V7/ZVXmDNvHudv2MDIyDAXXHQBF1+ykSiOOXLoGCdOnOBTn/scQRDQ2dHBZz//eRQi6bD1pa1seN9FrFixiqGhAZYuX8rKc1aRpgnHjh3l8Ud+y9QpU+ju7gag7PuM1etQkHywxSpM+OVXKhkGVyA1payQZ41bDo9xCzIUeQtlW8+zYZAqnuhZ6t7mU5OEqicSM1GcmIKY8ToVeI7XvumNV1CE29h1mcZpDukrKJi6JofoKEWqJL+rY21pbbOcbVFPXtJcOZzIM8bUNjnYZ87CY1Nx1ibNIaFkDn43OJgMimdK7gbJogR4jaAESiWf2BgbxxX9qFRLHr5SKVEquzQbTaIwxHEq2d58jzQ1kvvUWuMbkmevLGgC+/6zq+qOI1SOQIY6cH1PcqimGl8ul7M1FEYRaSJQyziJKfnCpKaw8uJ+FiILikiMseu4UvRywPVK+BU/axZCS8txkuQyP9k5KmYPB5UZbhGElH2hkHWjLBrgrKYDMtgUhplKCqp2rdo1FSUJYRBmuGtMOsCy+Ns5TI3KhDREGYz9Sy+8qAUqI+FQyfOJIoORdETwzVXF5LXL/ZufoNF0+fR1H6DRGpNkM+3hoQKU69LV1UUci9BcrdaBo2BkZJSqwVN6vk/QatHb00sQhoRhkMm7Npp1Htr0IFEUMXHCJC7ceDGe79Pd1Umz2eSeO+9i+YoVrFi1gjff2E5nZxfzFsynPjaK1koUIIEjhw/x1o7t+H6ZBQsXsmjxYskFBUGGs7QemWXCtwUbGxZbxhmpYCfCYK419bFRgiBg4sSJBv5iPSeXMAqp1mrUx8ayEMq+oiiiWquKVx9LUc8CkYMgEOJtz6PVamab1FbTMVCssbExdBpn+U8Jy11qRvK3Xq9nhqVlGIcsdtDmyJRSVMol/vFnm1izbCFXXriSkbFGdqja97RarYyWsc2QpTkfqhQorYEl86Ts2knMmir5vjEoCbWePs7cfw/9b+1n/lf+hKjRMFGXTU2QXU+aDBRBEOL5LqWSL96SOSDk/mQDWr2yMIoYODOA57rCKVquCrIhjknSmJIx6EmSEIUJfrmE7/uMjozil3xRXnAUzUaDMIrxPZdarWZC+JjiAVWtVrN0QhxFRGZTWmNXKZfxStIR1qiPZfhk0Jmh6+joAGBsbIzjR48xMDDIrNmzmDRlInv37KP/9CBzZs9k8uSJ7Nt3gBkzp2ctzEmSCMZZa6IwzAyctekZ21OaczkUC4o2ZSKwyJyjwcKarOdsfx5GIo0SR1IYdHwP13HwXI8kTQjjOFfcNZylQRBSKpmWc0MQ5LmSVhHyaQm740iaIcq1CmXfx1ECn4zjCK0kBZBmRtcVMm3XyVi8SqVSvm8KeeMoigyzmTyz75UEhaIU5ZKHW67SfH0bRzdvZvFXvkwUpyJImCRUq4JbTqIo20dxmqAxKSpHiYeKkjYv+U6NUqlhp5eF5/o5kYYNe40rYQoQRqvJybXPbWGiUa9LscL3CVstk//K8zlBJAS/w6MjWUuoj49SkvC+5VOfEa2aOGF4ZIg0jqRdTyk+/bnPEgYBIyOjrFi5XIxRqwFaqtwCjE6YNXsOs2bNyTyEZr1BqiVt4RsyCrvIbGiLkUdIkpg0ysPjNLUgY1mM3T19Em5qLcWKSMI9v1Si4lYyhn37X7ErKmgJD6aENW5WxBFDGuB5uSCfhL0qw9XGUQvXARwvI/FIU4HINGn34uyzSTBR0Kc3npV4g+a9OieNLpJCVKvVXA7GdcwGdU0BM+dfTdMEy4np+O0G1bYipmlKuSSbxDG6VCUjiZOGLpZqT+u8kcRxVMb25ZdyrS7lKFyzaWwFG6BU8unq7ubXv7iV/bv3sP7CDUyZOpX77rqHY4ePctV1H2Lh4oUi92HCabfms3fvAXZt28F1N1xLs9Xilz/6GaNjo1yw8QJWnbsaB8V9d9/L6jXnMmPmDCMVo+ns7OTtXW/z2MOP0t3TxU2fuFkaB5I0Q72cOX2a239+G9Nnz+TaD19jPFijKea6HDl0mAfuuZelS5Zx1Yc/xKlTp9j60is8/8wW/uwvvsbAmQFefvZ5tm0t85WvfZVjR47w6osv85kvfLZNuDKrmpsxtx5/5rkW8t72VTzsAfxC5T3z3F03g19J+C2KDspXREiKJ0klf+m5noFd5VXyVGs83yOKY1wvX1+x1tk9ykEuaRDP8/AdD7S0Odv7zBmr5H1xIvfml+RwsoazuIbjWAq9nuviuw5BEBoyHGUgArZVGnyDEcbkTm1EEoVhjpIoDpYxpkmS5hIoUgRIBBDveVIRdKUClqW1LO7LchGqvG9do9FpkunO2MqbGCDdZrSA3JPVEna1mk3iRJL9jjKiWxqCoEl9bISRsWFCM8j2nuv1Os2WkQSJY6JQ8kWpTvB8l7Ivp1qjXhep5VYo+d1I/vRMWKdNbirP1emsaQA0nmcXD/ieawT/hCIuTWPQCY7SmQSzQoNOAOFkzRafGXTJ/+lC6JhrJ9kFnxh5antfyuR8nCx/lG+QLFzVGscsOAuUt9fLw3v7+bOwfzo1+ceiFHTuodp8rOsJ47/nO2idECeRSeqLcbAywFaC2XGUOc3JBP58zxY7nIxgW7wrn1LJo+R7lEvyd8+TqqyVZznbcNpNZrWLIE8/OI5Dq9Hkmuuv5cMfvYmR4SEmjO9j3fq1/OonPzcHp4yB7/sMDpzhNw9t4sUtz1Aq+5w6cZL+/lN89JaPMWfObHq7u9m9cxff+/fv03+q/z0SxZ7v8YnPfopatcp9d95DR2dndmBVKmXuv+MeNmy8kMMHD/LcM1vo6OjMxrhcLvHw/Zu4+vrreO3lV3h966tccfUVfPTjN+H7HvV6nUsvez83ffwmPM+h0ahz+ZWXMzo4xGtbX80KPXY/2op+cR6LeVP7yiIARMLZjuXZsiRZt5TrUq6Uxfs1h7vruqLZ5vuiJ+Y5eL4jgoyVkln7wq5fLVfoqIq8kWOA9bpwL47hWa51VOioSXNMMVTHwulMGsU10iVWtNOmJWx+2z6r74suluuJM1gqSfHNzr3v2/Zpo5mXalEscV06KlUpupl8uet5WZGy5Jeo+KLH5rkujqMUXkYy4ACOtNqZ8DPvPpDKrTWeqdaZt5OaUM5xHNPalmaGoLOzE8ctJsEFDlSpVrPOJq8kD+q7HuVSmZ7enqyiZz0Uz3WpViqSo1Hyc98v0ds3jo6OmhGJkwVRKfuUS5K8rlUrlEsiIFbyFZ4r8Arf93A8IyCorDaWK5u3sDFlsZQolfxcb8kXo+B7UglWdjE4UC55VCo+SqW42b/lM5KUNyw4OqVU8qlWytQqpUz2w/ddfBPO2oprueQbSIgsrgxnacPvNDUa97IYirIldkFlaqWFn4FRoDRFhCgS6kKb7bQYVGHWh1LZy2RZ0DoT3Cv5royJEVgT70OBTnFcKTCUKyVKvkul5LfBrVzTSOB6Xsa+ZjsHPSWb0MpcKKyBdjJyGLvZbVNJ8dk0oqvVDFqMjo4wcdIkrrnxepafew61jmr27NYL6+3t4ct/+mWmzZppusQiTvf3s2/Xbnp6+2i1Wjz75JNceuVlEnoWyGaCIGDhooUoUoYGR5i/aDGRJZBWDvWxMaI4ZvzUiezZtYfDh4+YPKOkYYYHhyT9Uuvg3YPvcPzYceI4IWy1MqM3Vh8ThjEzZihYu+F8Xn/5VYNakEMNLWiJ4sFytlHNx8iMlLIOkhT2spbsNtikqCq4xujZQo3F/rqeEn0w81nXc7O1oww7tOTli6QtZI6bxSW35dwda3/IMKRWilqpfP3Cew8O+/die60x3eIqqfbDN3spKVhaRitl2Lc88zPHdfEcR9qNHMdE+CanK4QApjXLLF6ldAYjsBAWWawOSRxLpS6NTWeEQBBco3tf8T1UyUcjpMmjI6PMmT8vYwdK05QgaDE0OMTU6dOJogjf8VCefHez2eC+xx9l1eo1TJsxVbBndvK1ENmCxvdLnD7dz0svvcQll7yfzs5O4jjC971CDs4aRWvEDB+Bp1CpYWe0xCmGJNd1XBwHQxqi7Re3ufny8/z6WudLMw+1CxvceJOuixA1YPItnshdy8KQ63iubyRGLBO5neSiIUxxXVGUxMxPHMe4joiduEoV7jP/PAWDYz1WRzkF3k/Jf7lOJEl4E5bZxWurutl1U1msrp0hrUkUYDqZlMoNoRmcLHfreV7WySUKuBKuFfWHspAIGw3adZqD062nXoRPtRWLdL4Jg5YcGLf+7Bdc+P6LKVcqWb6t1Wrh+57p6oI4jpg5ZyYfveVjvPrSKxw5cpwJfX2MmzKJcY5Do94w6QeRdQ5DkWN/a/tODuzfz8UfuIQkjSmbin4YhsQ65d7b72bjlR+g1WiSpim1SlUiM6DZbPHYgw/zwauvJIpkPjV5MczWJhzlCCInipkwcWLGCWBSeeLkCLV9m2Gx4yGRj7C+aQSOlhUDwRwUtkBgXQgAACAASURBVMoOvuejE51V5ov/ZcvLkT1h85bZnlBKeHmQluB8Keb3ZNMCaLEr2vzP0j+apVWwAYYiJbMHqvC7/EA9O09sXya4NsiQPNXlWqE1zzEE02RpTbsGs3pAIZfcVthTpKAT42GJZIBMXIpSCUoVSC4MA4vriEdgwwPRVyoMIJpSyWNwaIAf/+RHjAwPi/dSLtHd083A4Gme3Pw4XZ2dlMolyZ3pBNdzKZV99u/bw87t26lUKniua6r+5vrIhnIUPHj/A5zu7+euO+7E90rZiZcbz9wTApVNqOUJyDaeZYQ3RqZtk2aTYQkQ7KlWXHwy3GdzphZPRBvylnyXSqVEueTje45ZEJgUQiGel7IjFn5jkRgaO8/2mnJiOibMtoB6rXXWj20r5MXFkdp/Y4oUKvcKHKUMxERSL8XW1eIiKlZGlRk71xE4iYT+Xtvvi96xTQWBIbg2RRnaDKnOxsRWZbFkPuSHZW5cCxtc2WuYAy3V1Do6eOSBB+kbN57rb7qRIGgxODDI3j37srxwZ1dXpqbQ29PLtR++no9+4maOHHqHkaFB+o+f4MUnnmHriy+TpCmHD77L8WPHQUmR5pYvfI7P/8HneeDue+iodbJz+w5OnjxJV3c3R4+dYMmq5SxZvkTm3HN487U3GBwYorevh+NHjnDBRe9j9rw5eL4nhtYcGqlOzeHnSXEPCVvPDJzBN7LdmfFIU0hzliabOsrGycDOZG2Qfc6+0jRFhI1sJ5MYxPx0p/B5i45wsjWZ0UGmMu6SJmw3dvZl92BOqSmeKlq65TAeImjjOSuEb8q2uuZFs7P/K6IessOCbGsZpRFz4BpZHzBcI0ODxoC2K53a8bUtqEXwv/lebSQKkAStyjkElZ0c89LYSmEqObfMXc65MY1/QRTGrDpnNStWrSRJEs4MnOKf/+Hv+dH3vofneRw4uJ+/+99/zcEDB9m9ezc//N53+c3DD9Hb18fKc1aLkXA8jp84xjf/8RumU8GEea7L8eNHqXV0snL1arZu3Uq92cgWjXhvZmNimamsV9l+attBtF1gsuByHsfcCIhxs96nXBdjpCVdIpIVhQaILHRuX0zWswWdAZltyJNXVB1cR2UGV+viKZgvDm1WiLDet8OJ0DpjkkILk1MGLcJA3+zpaudZv7dAYddd8SQ+W+3x/56jU20XKS5MkPy563mUy+U2j9PqW5nJya+lVHbPZ/dS2/uxuek0FZbvUsmno7OD40eO8uuf/IJGo8lPv/9THM9jdHiEf/jrb9BsBriex52/uoOdb27nvrvu49lnnudf/v6f+PH3vs+a9Wv5+Bc+w5/+2X9lxZrVnH/Bevr6+nj95a386oc/pW/cOB7e9Ah/9bX/wR2/uI11G9ZRqpTZuuUFbvvpL6jValx5xQc4sm8vj296mPddsB7HcXl40yM8vOkhunt6uOzyy9jy7Baeefopzj1vNXEcU60JGiY1XlypXDYNJRLWv7VjJ8tXLiNJYooDltU5zCvD9ypNmsamIy3O+vWL8+KIBUUhcKnACNYlBe6ForHShlDZ7o0schMzQRLnnyne03vWDxocbYMpLIdvmibiUspRYLzq9tTVe9I9Zx+u9j3YKNLNGlCyZzfXdH1fsNKOiQR0DsWzkar9PgsHUyb68uxAFENFu4HkZsgWugViO46L45h8TfZe6xVqLEN1FNhuEUXJL/P+y6/gNw89xLY3tzF7zlzWr9vAM089SXNslOnTZvDCC89x4cUXGAMtLbC+X2LO7LmCF9N2EgTneOzYMerNgMVLlzI6Msb4CT1Sq8tCcBseOPm9nTWRjgNxnKI9FysUpkzoGdvFlQ1g++IsLsLcQNqWSEVO7ZVr+dixzMbNjn+a86K2LwJ7n5J0d1Q+5lqBYzTO01Q8Hkfnhtp2udnT2rUTiimgZUUHyZn7votf8ojT+D3P97ueWZoG8vG2fuzZxvXskLw4ZsIdYeAy5O+11y5KYNiOKjsHyhBnm9HMvisMw4yaLooCtr2xg/GTJ9PX28N/+Yuv0Ww08DyfKAgZHBxi6Yol+L5PHMcsXraIBYsXoJRi0rQpkIasWr2SpSuWMzI0jOM4XHP9tVQqZU6eOEmqNItXLKXZaLBhw/nseXsvF268kOWrlnP08BGq1SpTZ05ncGiQjZddQl9fD919vcydP58j7x5m3PheFi5ZxNDgIFdffx2vv/IqE6dMYtqM6eza8RbbXnmNsbExXNdj91u7eOPV14nCkEq5wvNPb6FZb3L+hvU0TQoh81Ste2VegiTIQfKaNEsp6VT+LLYmy3ibsBZlSGbigqebGtyoWZtpCkryjClWdUO8S0c7WRpLmQjYdXLcbNYYZOdX5YEKFELtLILReTBcWFPF9fa7/p05gGDMsg3lVVbUBS19/0lqnAxb7EpRys0OcaUcw8yWZjSFynXwlNlkRWe8mG/JDYnKLlzyPeK4VTC6ynhnZtNhK8Ni1irVMsdPHGPrC8/T2dFBHCdMnjiZpYsX8fQzT1Fv1ql1d/KxT95CX2+fSE9UO/A8l56eXj50/XVyAtvwFCiVSxzY/TZf+fO/4LnnnqLs+6agQmYY5VksmYh4ezb/WRxkZfKXpKCdfOPaEFicWzEcFnBsT6pi7ikfP7NkC9RijlM0lPnisYeZ9cqy35r10/a5szxqCWflP2mwMG2ZjoOnHJJY5/eY3x1Ki0yzY/Llnu8gWuaGFV/LoWIX+3sPjnydnO0dFvv+7XtsWFfcPLYrRTkG2xvHhpgjT03kqZrUDlnbZrFRyNnG3tIbNpst1m9Yz2uvvM7eXW+z8bKNLF62VDxlNEErYKw+yi2f+ySiKBqzZMUyHLNxwqDFhZdszFpLBaWR0N3dheO49J/qZ8q0aaxZt5b62Ch94/u45LKN0t7cbDE8OMS8JQtZc/5aGmN1tNasOPccUZFoSbrh/PetY9Wac0XSR2vO23A+cRQTBiH10VFK5TJXX3s1aZowOjqC67tc9sFLadQboBQ3fvwmoihqa410TQpIFzhp7eHlOPmBZd8vYbaMcVtqwAx1alszSUliLZGszXRqLZvGEMSLFyipJMcxJD1YH0siYPvpTHIoW1v5vis6MkV0ELRT9mXvdy0Revv6K4b8di2Lh5mKR1r4DpR49jgKnQjeVOpBhnM2NRGw45rD3sLJTGRJipd7RDkDfm5E7eLNQ9wkTTIvMGMLMsYq1cYwa2XjWkaHR9j91lscOvIuXZ0dJHFMHEVs276DZtBk3MQJou/TaBLUW6RaPKYtzzzDsmXLCIIGP/jXb/Nf/+LrVCol00uv6Rs3gTXrzuWpzb+hq7OLiRPHMdoYM4ZDtYUNwt1o85VnhQUmv6ZcDSrNcm+6YJSLyf7iZDmFxWDDYNthYw2iHcvE9J9n3TI2/aBUTvCcLSwl4mOO9cCsB0f2WWu086KR5J2sZ57100vshutZqV5HcHeFEEyf5RnbZofigiw+d9GTad+A7Qu9+Bl777YAIZGD3FsShAT1JoUgv21jaCsAmbaHsbYAcrbht+PfarZYvHwJq9asJoojmo1GgYpOrr3x/ZdI+2EgXXCNsUYuL6OhZYT95J503u/vOPSN62XDhRdkWOM0TTMhwDRNGTdhPFOmTaXZbGbj2Gw0s/GZOXsmjusafTT5zOjIqDAbJRHLzlnBuevWEgYhrWaDc9acw7lrzyWOEhrNBitWrySK47woddYrX76qbV7aijW24VznOk3FMc3JcfIowqYIlKuyegY6JUljkrS9GJRFGNp4pWlua1KzSWyaLl/fhX2gyDkmdL5uiy3Kyuyh4losrqMsmtJixOM0EcVmu760tWG5NxybHv80jXOnSaVZsVWMusFcY5211AD7MVo8Os/ZyWbJRefk37lHlpi8pPVtbQLAQRkWJtks69efz4F9B9hwwQU8+dtHmTp5CuetX093VydHjx3n2htuoOQ43HfPPQyNDJGiOXftWlpBwNDgADNnzeQL/+GPpHBlPcNU8r7Xf/SjbHvtdS648BJaYYD1ic/O4dnDITMwxVyq8XzSRJL+GIxbaj3Gs5LaxQl7b57GbniLKkiMUXWzAyY1XpgFw7dd00782RvDhBdgCRzaO5XsmNi8l7aMTcrmfu118lBZKWW6msQjdRxlyEiSbCPZhVj8Hnu/Z3uFbQYwW6Dv9RKKn8VMh0Z6o13XIW6LjOxYGy/EuDfp79hU9uDJ70m+q9lsCaFH23jm31Gvj2UHkvzMUBM6buFebR6+fcNHUWTymXl+TYTw5HuiSMiZ7XPb77D3HQTBe36ebXzlEIURQSvM1nSz3iBJbeeVQ6OgIaWhzahkbZiOk7PRi4sv3T2qXeRQnI+0bV6TxChNKgel0rY1YNVU0xQco9989rwVn9tG6qkJv7KxVTqTSbJY1yKpj21MUKmWqKl4aJIfGsVoyXqb9nd2T8nYeSJHbWyBZaACChFSFpQajzuf8zSVNJt8XwGFY+7WywZJ58llrRQpSvSsldX4EVVAAQD7BsCfZA+mKTBim/xJGASsW7+BCy+6iFYz5A/+45fRaOr1BrPnzsNxHJp1KSZ96Y//I1Ek/KOVSo3rbrhR2vvCiGkzposXZx0wJb3D43vHc9WHrqXeqBPHEbYJoRjWywFRDBfkTwHlm/cpk681WEhtPMA0AZwUJ00zDOfZhkPGxl7bGm07poVwxk6I6Ve2RuFsjNzZCyPzvDR5+iFbRHazF8JuEzl4BquXGIOQmPBPpCFzDyCTAtdiaJM0p/krbnZ7P23fZdMQZg3ZcDOKhMrNSjLni7EdymRfNgenNRl7kw0fXdfNDu1UmRTGWYZdKWVSQnmerGgI7dcVD1p7aAAZlZ9CsJO+79NqBoV5zTW25Fx0zDVNY0dh3mzLq31eC663r2IvfblcJmi12gqgkHvecs3E/CzNPhfHCVqbDjXjSYs0tYSxYPZgqiFJSRTm+0oEgRwu2uauVZ6/FMSLZVQjM5L2oE+1JooCadxwjYKqEt5R86WAUUpIU0MIk0eLWqeUyxWaDRGurFTLpKngp6WIlphDXzw/S9aDJkO4FMfJ7qmznQtF3uxi59jOQ5zEWf42TvJrai11kzTROJ5HpVbFpjXSVAs2Wtk5t/tAk2rJyYrH7hRCfjnOZJMqG97nXqlMsgs232I2eGosuvWGrH6UrXy1Wi2ClkZrJ6tOpmnK6LB0IWAGYmR42AyWg05gZGhUTlvHIwrNKa/t5MiDRnFEXLe5uTzELnoRjs2PZtX4NPPUzJvMwjDenLlQHrbkxiBPnucTm91PYWLtd4MjCfpCXzRYo5DnsOS7jACetXtaGiespyhhYJptaItKMPspu5a9LysLkuVczWLwDCZXdIbklC2Zu0rSnKno/6frzYPtLK48wV/mt9zlvSe9J7QgEBa72CV2EGIRm8EG29hgbGNXlaurXJ6q6e6a6a7piOmZ+WOmI2Z6YronoqYjunpxVdku7PICNhjMIiQhkBBaLGR2tK9IQmh5y12+JTPnj3NOZt4r+kYQD71373e/L/PkWX/nd0Sb0OHgSbdDClEEGuBUEP9NqqPi7UrE8llevjEGSSOHVdJVN8gkL7AUQZPUxgwYN2sdet0umu2mv59ut4d2u0VM9ZacgiQRvCFFYjSskBRVWZZotVvI0hQffPAB1q1Zh+//xfe98pOXGFACqNvIuwuNLkpR/tDzQPBn430ESKFv2/I7TJw1gXnz58NYQ3DEVKrPEqbagc9Pnp5Gs93yeXHj4N9rDLVTSyGyLqnnHFphcnISHx46jCuvvpKNT5x+oosR8XeJdrtFjSK1RbPV4jQeUXIaY9DIc1jjULvaj3kGAsh+pkvDD3VC44hMXQOKupVefWUNrrp2KXqdLta+tAqtkTbuffA+jM0aQ10RqbMCfK5X5FpkQoxUwm2wsYEXgy5GtzbGp0PynDgadJqy5+1QWROiaYBkUNeoeb1NWUM1Se9QAcoBzvjv0gnx/AqxuTMGuqoqGKNAhRtA6RTOUN8qtVBatsJilUkIi4Ima1oJweygO15b41sgK0MjNih04SQ3h6X+M5E35BCsizUW1gjuzXoPk9AGVK8TkHJV0dz0oiiG8mqOD2bUScGAfuu/ng5vXdfo9nsoq4pFVjH/aWC+J6/H+ufwg+lsuD4dMsLW9Xo99Pt97gu2KHmsB8154jk+xqDT6aHb63mBcAieZKyQKLYPFVOZxCotoMZQEt1Yg6qq0O12YWp6T6/fx3Sn45mCaJ2FgbwO3iDjAsPcJuMroRI+yfP6VlobeqYtr7eA94NCGjR4zhGmj/DP9Nkk0aitwUy3h5lOF/1+H2VJhz3LctR1jUaeI0lTTE/N4Cc/fJKwr1mGI4eO4qd//1NAp+j2S6RZA1PT0xTqsYc00+mhMgpZ3sDGDW9i9cuvoN0eQVXXmJiYwLXXXUe94CnhcKuyQppnFIXpBJ3ODJRW6Ha7A/vjcbcsN81Wk+nzSD6SNEFZlCjLEu2RNja8th5HjxxDo9n0ONwsz2GtZWVuwjmwFidPnMQvf/xTVEVB6YS6xtQ0kbhAKd+t2JmZoYaYLEWvLFCUJXqdLt7c8AYqY6iLSpSpAivJBt7+/dt49ZU1GBkZQ20cM445f/28kXPBS1PkxgbDM5BlRNKT5TmgFHSakLOVaGSNBtasWoPTp05hzpw5OHbkKMqqwl333QOtUsxMd6i4VoUZVi7SDwqDsDjJhceK1v/bEVNdr9ejltM896N5nHPeSMt1Si7qFWWJqq5RMQcv4JiOtEC/LAkvXdfolQW6RR+VoXFAAsoEgLQ2DomrYIxjt5jDQ0e5NWeIpo+sfBK8Dk3M8qYm4lYH62E4kl8Sy1lxFw9VXzVbY00jDSqDJEkpj6Y0t6gRKYmxBkmSeQB4moV2NfEMSfEoL7TSG06Fgzj842mJkkpSIczyhzyBV0IxzrI2zoeUaUatpppHvQj5LllSGsvsqdSc8+QKcVW1qmoOwRXynMZ/GBMRlojyjBSPdZTzUlxdjL1jWOmm4Typ43wjXCjCKMn70eGsqz6RKGcpjCXlbUy4XyjAGfJatQoFHxEiMkZxzjIYJlGokEiA0zQqSglpRU0kVV2jYGNTG0O/MzSZlZQEsW/VxmBs1hjeXL8R6199DQvPXYhv//Ef4dXVq/G7TZvxg1zjq9/4Ol54/rfY+sYmNNsNfP2Jb2LV8y/io527sGTJJbjh5hvxsx/9DfpFD5dcdhnue+B+vPLSKkyeOolmu4mV996DX//8aYxPjOPW227ByRMn8OQPn8Tk1DS+9vWvYmp6Ci/+5mUkcFj5+Xtx1bKrPZN7ohT+7j//AKdPnIKGxuVLr8SFl16EXz/1NJqNBr75nW/h44+PYO2qtWg2G3jiD7+N2ePjGBkbw9M//TkWX3g+rrvpRvzDf/o7XHb1lVhy1WXo93pImdUsSVP87s0t2PXRDjz186fwyONfw7vbfo+3Nm/F/LMX4NFvfQMbX1+PnTt2YGp6Bg9/+UtIkwS/+dUzGJ8zjvsffBBlv8DPfvQk5p01F/c9/ADLDhUgPzn2CTauXY8Tp06gPTqGO+66Ay8//wKOHz2GG269GXMXzMeaF1/G5OQUbl1xKxadvxhrX1qNqdOTuP3uOzF3/jw8/+tnAQAPPPQFTE5P4923tuPkpyew+KILcP3NN2H3jp34zj/5DjtBGq2RNubPn4fJyUmURQWt80BAxGdHXsJ2JpGSc9SDH6cBxLiH6MV6feANuDHQ4GnMhvWQodlxCRuI2lr0hZqQPd0YfggXpY8skEjdSAFaJRxuWgrLvfcAhdpYnmHkUNcFjCGtnagENV/YGCLr1ZI8BgFdhepNJ4mvhkOuLCMw2IsSTkFqXyNlkuVCDgskmYZOMEB2IItkLfw4WVFIgRvSeSVKjP8CYo5GFfNcG8WHVzwksYRyDRm/TBEYMYT3ezwXivvoy6Km3xUFz5siZSZUYuI5S5Ww3y9QllUExSIjVRQ0CqQoS3S6XUzPzKBf9EnZG4tur0Cn20enK4PDgF6/QKfbQ7dXwDlRkKGwJAo9zzPiDEgznxuEBWwFFEWFflX4mTlTM9PodLvEau4samvQ7fUwNTmDbreHXr+P2hpUxqDT7WF6pktM7cy6VfJIk7Iq/ZrMdInQpldQJFFbi16vj06vR3O2pCJuKfJQIG/ZGIPOTAfzFi7AQ1/9CnZ9tAvbNm/BrStuw/kXX4gHH34IWmtcf+N1uPyqy/HNP/gWDh7Yj3VrXsXyFbdj9Ytr8N477+LEiZP44+9/D+9u244k0Vi+YjmuveF6LL99BXrdHm5cfjN279qNJM+w6sXVmJg7D4898XWsemEV9u/eh3kL5uKhr30ZW97cRBMKOGqp6xqd6WnMXbgA4/Pm4vDBQ5iYexYe+fpjgFPYsmkrdu/chSxN8e3v/gFGx9poZBl+8eTPMNPtEs51chJZnqLdbiHLMvR4OKHW1PJ97Y3XYfElF+Lhr30Fyjls2bgJf/znfwrrHLa/9RYO7z+ARqOBP/jedzFrYgzPP/sbPPDwF/Dw176CoioAKHz50Ufw6Sef4sjhj1HxvRf9PhqtJq65/lpccc3VWHnf3Xhn+++xe+dOLL1+Gda+tAp7d+5Gt9PFFx95GHt27cGxI8ewd89e3PelL+K88xdj3StrcN75n8PS66/F+lfXodfr4dC+g3jgyw/hmmuX4sihQ2g2c7TaI6grcr4ozVQjy4j7QfLfcs7j+VdaaxQFsbOlaeqhccFZEWeEeC2ynAZ/9no9FEXhOwolGoJSXq4kApBimLHW11N0ogccJK01EgC2qiknajlX7SgvTSE/lXkhjivlbYQxyvn2Ukn0Kw2UVUGkqjy/W2kFWBnGRflAywUGWqjgyaU6jFZJEgWlrc/LKi4IUcWUWafih43a5Xxy2FoGvDsmtaiJ+UUx1MZaFEWNfkHhT82jFvoFwWWsqTm1YbxlDIBxDIQLVVXTkDIOD8qqZGVLIQNNKuijripKRVhqq6zKCtY4Zjs3jJYgwHVZlD50MUw8orgiq+CQJholD/STpgMFapEzxnimLXlmuT610xI1HxE50Bwo5RzynNjLG1mCk1NTOHTiOMZnt1H0C1R16Y2BAnzKgiKSGkrD59jqijCXYsWrska/X/gKtxRqTF0P4CWJj7ZEXVaSWYG11qdsqrpGr9NHZ6ZLVXdO8by3/R2sX/sq8jxDURRI8xxJlmHirDlIs5xYj/IcY+NzcPz4CVgAx48fx0Nf/SLa7SbOXbwIY7PGkDWb5H0nGu3RUcweH4fSGs1WC61mC1AaJ09OYv6C+TjnnIXol6T8F1/wOaSNFE4wlo5bfJ1Da3QErXYbrbE20maOd7dtx7pVqz2v7ePf/iYWLlqI//D//jWOHf8UlamxY8cO5M0WskYDVV3h8T/6Di65Ygn63Pknnla/30dRFtBJgtmzZqHX7SNNc0ycNYHxiXFMTk6hOTaKi5dcilmjo3y+EixavBhz589Dq9XCyOgIxmbPgkoUyrIAlOKx3haNRk78pK1RjE9MYHq6i8pYTM90cfMdt6G2BosWfw5z5sxFXVVYcsVluP6Wm/D8U7/C8U8+gbUW55y7EAvPOQf9Th91UWHR4vOwYOECLFx4DhvzBqfwKHIi8hgFY4kXudfreSMszy3pD1GwMjFCFGGo8lv/s6xK5hxJfc46SVI6i+wsxPWG2OGQya3k5RqPDZf0QMWTY+P0lQPniY1Fap2D1Oqtqcly8OA+aJoTJblLpRxqW2NifBzHT5zGiak+Fk6Moq4N95In3i2W2Us6Tfws8JyJJKyjEQRKKdRSXWauzYxDHFMbNNKUC2WU60mSFDphoma/gPBKO35AP3NbKZS1gU4zJEmKqqIpn2maQjEnQVmUcPzd2lDomXFoX9eGxy5QK12SJCh4XlCa5z6pXVU1dJoSK7nkjStSHqV1cDpB7RTnMsmAGUtgYFcbJJXhHGEKWxl0KsNGJlDx9Tp9n6zxaY0uPU9Rlsj7NefGCPYjVIGau8xkymSqNSpD83j6VYWnVr2Js8YnsGTxAvT6pQ/PtVIeflXXNRk+OGQclhGhNOVztXKo6oI+a7OB/RAFKpXWUEQhIgzUBq4mgTXWQrHxKpnIt9VqegTDpg0b8Qd/+kd4+smfoa4qNBoNTE9NYcd7H+DCSy9Bs93C8U8/xfbfbcP8ufPQardw2eWXoejPoNftYGryNOAcZnodzh1m2LNzN/bs3ouRdgt7duzGscOHsWfnLpx/0fnYvm0bqrKPZqtFzFUzXdSlQdnr+1w3ybhBt9tFs9mCShKURY1NG9/EHSvvxLvb30VZVNi6eSuuuOZq7N21H2+8/iaUtfjLf/HPseG1N/D62nW465678G//j/8TNy+/BTfcdN3A2iXMadGZnsG729/GuYsXQSvgrS3bcPjgIdx+90oc2neASVoMRsfG4KzF5o0bce55i5AlKaqiRFWW6Ha6yNIch/YdxN/+zX/B9/+Hf4p2q4lEJzh68GMc2LsXc+ZOoNFo4rIrL4dxFof2HcCRQ4dRVsQxfHDfPlx7/VIkcFj1m9/i/Isuwr7d+zA9NYPmSAtwDr1eDwrA5OQk5pw1F2XRp5A7o/TfaHvUR5ai0Kqq8gTv4kCJ4pM0XJLowM3LaBOudrB6PbPJRFKAYDchjtwGUwKUJoCzNJqGC10pO1ZVVaGZN3z07T/H10u11gAnaSulmViWWs1oJhtZsyzL6UGMxblnL8CiBXPwH378c9x1y7U0NdUQOiBJEvZGamrvMoJl5AdRQMlTE6kg45ClCSouUiWcc5VcrbXOow8UHJROKL9rpUrNFsz7U5QDMQy9IEQQu+uJpk21jgG6CqlKYOqKwL6KoE5FWfq57+Ttaro/G9jMSXETqkEYkkTxO0f43FQnsA6wpuLfa08iU1uqZkIJz6T2hTetNDKtYJxCzfi7JE1hK/K8rbPUFkjAbwAAIABJREFUIEWIOl9ltIagYxo06VEnVJ00UNDKQnNBKUtTUgBFDeM0Lr/wPHz9wVuQJApFHfJFhCkGelIwiYTPVzoj654kgeNVXjHUSpSDzIzXijg4bW3Ya85RMTDeGMPpiYZP5TSaDTz8yJfwygsv4dzPLcI55y1Ce6SF21Ysx6Y3NmLhuedg3tkLcPV1y7Bx3Wv45h8+gQcfegA/+fEPcfnll+OW227Gzbfdgqoucdc9d6IqSyy7/joc2H8AH73/Aa68+gocOXwYF1+2BNs2bcG9Dz6A/swU9u3eg/se/Dx6HSqcjI6NYvntt6FmzxtM73bb7ctpXpQFyqLEyKxb8Pqr6zA+Po5lN1yLbqeLF5/7Lc4+Zx7uvucO7Hx/B+bMm4tHHnsEH7z/PsqywM3Lb8bChQsGvSZew/GJCSy/fTne2roFi84/B1/86kNYu2o1Fl+4GOdfuBinPj2J2ROzaTpvkuKBL38Rr7y0CocPHsJd996Fy6+5CtY6XLnsKuTNBtJGjs9/8QHMGhtBUVa44qolOLR3DzZtWI/7v/AgPv3kUzz5o3/Atdcvw6WXLgH4vF5y2WWw1uG5X/4aZVnh9pV3YtHi8/DCb17AiRMncfvKOzE1NYXPXbgYzlKEMjFnDpqjI9i0aRNW3ns3C4fyKUEh4a6qCkVReG6HeLSLjGVptVo+Tyr1BsbWMC+u6Bh4JIOgkDwKAAHL7POvdQ2VpWg2GpSqKgvkHNJrcMQH4j1NksSPzxFEDACodevWupRcEpofA/iqdsKeTcWjDtI0h+FukX5Z4DdrN+L9PQeh2GtJkwxayXhhBWiueLJCpdyk8sS+yndZUJ6ykefINDNyI+DHxKNkohnmAWVbpDTnXrXPudHSMitWqpkv1NKEU05Ea02VZJneCGdpfIYFyrpCmlE3j1ahuJMkmhoMapoZ3mzkHpGQZhnAuRcp5AhhdVH0eRJp6tEMEpbnTFKstEJtqMouA8bKkkDdzUbDw0RKns+TZUTanCY0nbHT7UIlgTs0z8mLLEqaU9Rq8Kyg0tDYClPDWIux0TbGR9volwXKqkZR9JHnNMFSICqdDsFgGjxqI89znxrJuSotCpYUYe496LgooJTyn1eM9xqbOwcHn3wSp3bsxWX/+l+hPzWFLMt8eCXEyZqLmmmW+gPYmekgTYmv1vKB6Pf7GJs1C2mWEpyq0aQhbJxSUFqh2+mi3W77+x4dG/UIkYRH4JiqxvT0NNrtFoy16Pf6aLVa6DHiYGLOBNatXos9O3ZDa43PnX8e7n/oARQ8CbU2NdKEruUAFP0+ET+nGaCAbqcLpRS6va4fNy6KxMODEpoFL2gCrTXa7TZ0QvSBSZpAmgno36kfC55nGRyYZxZER9hsNVFXNX8Hpc5GRkbQ4wYBpWiSRFXX6MzMYGRkxEcVgk/ud0u0R9swluTIWXIG6qpEq9VGkiQ4fXoSRVFg1qwxTvNQZNTr9bH6ty/i/oc+j6ooseaFNWiOtnH73Sswb/48GMavCheDpDqUUkh41IrWhKeVkF/wvIDzkZlS4BE17F0KFpgLvVLQrTiC9A0FSkElCRpFgV1/87dY9M2vAvPmcyoTno9AzqxzznM6y+dTapNRFEIThT8MK1iawV5z9TyFcwZElFAiTxM88fC9XPm3SDLKd1obEsVsFOC47Uxz21ZV1VB86ElJMvRBgT06AfkSZyjBtsih14rmYCtOQgbgtoKUkwneUFFPe5agKinv0Wg2URYVw8M0+kXpZyClKSnPXlGwhdd+bkzF+T+adpqgqmm8ivTwJlp7JUB5Hc3CTjkZKjwZNFtN2gyneLa588l1ErzKC8nIyAgVbTjlQOkTzcrd+LxOyuzho+2M8z3CWJ5hanoajUxhpN1Glmdwjoa9mdogy4mEO001Ov0e+v2C90mjkREna13VHk8pSlDWRDB/IoySV4qxugKeD4VCwRMaTt8kvgDlTCCWAeAPVMljJ6SwR/k06fgioS4YRiSfL/p99LoUMXXqMFdLKYWyV/rrpjwWe2pqyod7Ra+Huiz8AT158hSShGarlWVBExi0wuTpU7j2+mVYet1SWhMAp0+e8imvXq/nx8aIsoIhzzVmUbLGwvIU2SRJqICiQ3eaGChZ06qqgIpbfrkobDmqMDz6O89zj1OFzwNSO2WapL6JAQB63RlftFUqDLuT/xcvUPO/jalg6pLZlbifnzG0/V6PPTeDLE38fCoiogdG2uP48mOPwNY1RkdH8eAjX4RSyo+KkSJUq9Xy+dFWo8FeoEYzo7NC/TJiTAIzWoAVhvltkloimXHI0xSJJmRNyphUkdu6rqEVIcLrukaqNWGkhd1LE6ubeLYA/B6F+hDfgjVEgCxQH/IRjQ9f45yYAqAcsUlBhqIV1cB7JfITzV06cpvTNEVREU6yrjIIwF2wlJYhCFLQKauK87rOe039soCKoDwBJkVdCNaQl503MuhKcYW/hkVBhSHuwa0NKQwyEooXnhSrsRaGGwrkUJRVjaomLgOdMFEKh9GGB7IRHMoicRKOgFl+FHe42NDSphUqw+kKRbPINXvRRVlQflEDRVVA6wSphBuOGwJUAqccK93UGxgwHKnRaKDZpP2QDh6dJJ7NnbxMOkiNRs4NDQksIzEazcaAsIiASigmobgcYhFMCaOkkEkNGppCe6U4fRSA2UoBWU6UaT0GYisFn0uT7xAgP0VLge+S7r/hnzG+T8nLywGQKQcC8ncMVxOITMrYS7oGeT++OQSEOhHSaMlJi6MghUsxPGIc5R7l78HocCUbguUOHWe+EYQ97yTygiTUFEVHUJ4I40tVXb9H8uyJlnFHcX4xGah0g89ozI1AeeKUqOlEcXGdAwDjcwMPQJZl3qmK8eDWWjQaGQzvXaNFvMBKhfSGNNZkWQbHYHnn6N6dcjAwSBRN1qA1rRCaZERxBiWnFI2uFiikSohnVTnAGcvtzKHFOEYJKUcMfAQH1bCeGzpgb+PoyznHY6ThACYn8HyHgC+GpHkG50LyNUlosiMpHummcnxD5EXJERSmfprHQgc11SmD3hFtGoXsKaMNhDUJXuFSWE8WQmBSIuQasWektPNCIYdLil1JQrlBYwyHzplf/DzL/eGVZxdsa1xggdJIUg0oCxgTcJbQvBYBYKwVTzNIHIwj2JXvxuJNkHyuVsTTaHnTjQujRjR/RsIf7VQ09ZENHoBEpf7QyrrJv+PfC2VDfICh2OcwzqMQ4oMlBzo+JGJs4vfIK/4dFR1F8RKEzeNuGecrxjp4AGFiaMh1WZSleBXhAMSehgg5QILfbDVhjEWv1x0o6inOzQu2UFpyQ2GV5Mx4cmRCNkj0ZS3loOjrTHTd0CNPM85cdMADRrLZbCHLqJVUSFisc9R7L+vNz0HdRgEymPFaBO7XwT2i1t3AtCbFZdmeGEGgdZhoKs0coqRE/pUiliWVRUMfh2RBzp8om1gOAtyRcOtKpUjEQWNikbo2Qa8YKiJZ9hitq3miRObzmzQTKlT3XbTOYkx8PUDOA7fwOtDAUUfKKaQKFZW0LJN4WxWoTSXiigm75WU5oqGilA6jKYIbLbhShEJLNBZYNDJnKyNPM1hgNpT8e1K63nvxYyzCwRbeUH9YQKp5+EDzI3sr79iihQ20Aw8bKw1pxfTvlQMgh4CFuuj1YZ1F1sj9d8vP8Px04PwURgdwY6kvXEmPdUiOA85RCkMOgzMcmjjjOQYcb6ooa3kJnEngY+K1+/sbgJcFIxBbUy8EzkHJPXjvBn7PbRQVxFMOCNVQEf5Xhf0JIT4hMuS+Yq/Nh2Agw1KWJUxVw1QlV/kprQRID324P7pmEGjngpDH0Yo/SEmCAwcO4KP3P8KsWWNYet21GB0bBZxjYhE7oBSsoVZLZwNrVPxszjkKR60lyI8TrgR5j0K7PYKyLFAyF3Asf81WE2VReo96546d2L1zN85ZeDYuvuwSDzIX2ZU0QCyrsrc+uFXae8Jenpzxay6hLjkvgXlJ9iawfyl/PRG4GAfqhmRHnst70rxWUn0/o2ikYjkVj5D+RuOGeGorg+z9GVbU0irvr+sAebK+3XlwllRcLA26SBwc5WUfjtJ1iNZDaWlhpXUVfL1cV9Yl/p4kSVDWFKGnPmyD5Gyd34S4oiv6KVZUfqMjr4Q6kiJlLO8Bg1+dBdHMsWerBq8jEYvwcgLG35/hfKlYXNl4sT4ibHKt+J7lQMQbLHftrEXlHPWIQyFrNvDTn/5XmNriT/7s+5iZmRqoBgJgKjODmO1c1o9SDmD4kYbTES1g1KFBXsSZIxpk7SzzKsR/I+vNYGZjYb1LTM9SuRD+0Yxz/j0qbzwEGgcVdVsheNVwgdijqmzgaVVx6G3RbLWh08TzWobbIINZVQU6zPMZd8DI4ZCZs1VdcTZOOqsG94lCuEE+VblfSfXEykvkoNVuY+NrGzA5PYXlK26D0hqbN27CKy+8jH/y330Ps8dneXkhxZLilZdW4a2t2/Dn/+zPkTLpdHxYf/3zp3Ds6FF89/t/Cht5h1J8fOZnT0FB46vfepSLirQmeZ7j2MdH8eJzLyDLcjz01S9hZKQNnSRY9eLLuOjSi/3QOHm2WBkM/16eNXhjminw6MzWteGoTwhQ3MDaxN5kHGkExXqmIyP7H59XAB4nOrw3suf+cPjPYeA8xh2NwVEhj1qgUuIZxrqm9oY11j+DUYbcm/+bVoRpBrfLGwKlG4ZaEiIINKiUXyT/9ox9iL8vURqVrZEqrhTCWv+g1obQQA4AKb9kQLjCFwj9l4MMu/OWnW7dfzl5SvDV8djCyStsquOwih3AKFwDBj837El81iLHCwIwO1aaomAwsTyH6TucnpqERuoLIXHBBABsLZurJPvvwy7SnQRZokidhUW+14cg4Z7DWkSbxQo4jgicHsw3iQIWJSSLJHlD5xiSVQ+z9SimM9MDQqkBXyxKOPzyYSrCAWi1R/Hsr57Bu9vfppwiU58laUq55rLAVVdfga9+43Gmzws5+CTRPu2RpqkPKWWul3SkxAc5TUMBLE5jxDI0rAw0e8o33HAdlt92Kz4+chRHP/4YRVWi0+1gzpzx4KWlCWampjB1+jTKokK/X2CMi0GUF0xx+NBhTE/PYHpmBnVdimRBa+pA2793D2ZmplAZyjmqSEk1mk28vmYdVty9Ets2b8UrL76M73z3O5i/YD72797DiAhqA47JZOIUAXh9hg+1nEHicWUES22iAorhv8vY66DU4vWKrxunA+JzKQouXv9hpTYM9xreS7+HVsIhDHzW6wj2tKmIHe4tvkacw4yNRHzm42s7cNgcUe9prblQ5WAVdUxaAI7TecYOttXLPRCrv4NR0rykIz5UUKHJyRhh9qiCuwtoHZRGvKGUY5KUgPLhhVKKyIH5wIPHkYi2h6LRH/RnajWkFaaQ3ofp4JZWrSKlRTG2XDpe7Ni6ysYOh7vxi6q0Cq2RNgCg0Wyi2Wghz3KMz5njR0f0ut0IZ5lCFCKB30NYpTWxQVGhQ7zxsIHxvcWHZmDDtHi0CAaJ5S9JEvbWA5eAY45GZR2cIrC5RuIVf5ZngKMUBOWGNBINH15LccQ5x5AzGnVD92M9d4HjMC3RCRpZjvbICJp5TgLImOJRRf34rZERf0Bk3TQraQ3ljaTWJMSUajjTC4oLHlprz28qHpD8Xrys2OCkaYKyrDEzM408S/DN73wTn3xynD6nNcBICeccxmaN4lt/+AT+v//nrwdkRimFqjI4e+FCPPqtx/D3//lvz8gdFkWBiy9dgvHxcfz6l8/4e/dhpDEwtUVtauzZtRvnLjoXRVGi2+1woSTQKdJU01BFjuU6TlFIRAdQSilJCLdN3qmEpHSeKIS1A1GbFGEHIq//xvrHZ2nYCYrzqaLk4r/L/YoM+PSTCn8P3y3Uh8FZG3A+VJj3lvDZgh5sIonvXWatiVHxnZgs59AaVilodgicRM1KwZoaDuxYCKYhNmLcqi6pr0RrpAA8dEg7zqHpaNBW5PkNK6XYatDBOLOIQZZRKtAy2ItCPiFoja2OLGLshUpV3MVCKl7I0GIOK9JYsIfDQnllaYqyKPGbX/0KvV4XaZpi/+69SLMM//D3f0czfFpNrLz7bhIejYHx2uR9EuECVLDgNBo7OeOe4wMi9/OZVpXti3KS2gjGg8hlhkJBpeF0SHUAnJqwYf3od9yPzApbQi7Ie5wUBCUNQJCRTHFTAYB+v4evPf4Ymu0WoyhCqyq1/KWYnpnB6VMn/dx1KTTpJOPvcoGFX0fEMHyfcXohPuiC1YxD19hbIbmh/zOS90ozAMRAZGvj+7ilaNXpzAAAOjPTAzm6LM/RaDTRmZmBtRZlv/CpE+cc8gbhZHtdInjp9fscsHCkwN10WpNz8cIzz+Hu++/GgT37fVFUM167rmu0223UpkZd1APPrJRQyA2PpbHeiBtT01mDnEMp7sQpsQA3k6jL+ehSGjRCjtCBOhETrT2eM4YMDe/NcCgs0Zi8Vwq8sn/yfRI1UY3AQeuUHZSoeAuhBwLn+K0n7hmOPuXZwhkL0DDNa0m6xQW5BylHC0LcOEP6i5qM4tHlrFc0FXfl7MABqW/wdw5GvAE51EOe07DnB4QOhKAsRWkRyzdtauieIUU96FVKVVGUKXwlRvmquEHIrYXPGcho6HD9z7ZWn7XZIngA0O11sXXLm5ienEaapjh54hS0Vnhry5soywrz5s3HXSvvQpbmsCYwaQGkXEkRiYUNFld+xqGbFz75bKToFUcGhgl15bA5NkAiJMaaMy285Eyt81ZTKeUVsw/TBAAt3LaA5wkFh2GSPlBQgDOAS0LkAodGs4m3frcNRw4f9sZSQUa9AGVZY8HZ87H0uqURPEp5b9Tw/C+/bja0EA4fkDhsHD44MSxJDnyQU4muony6FDkVwZ8O7j+I9955F3fdu5LfoFGVBZRWaI+0seP9D3Hk8BHctvIO1BVV2su64s838M5bb6Oqaiy9bilqaYaBhQUpj7e2bkejkeLG225E0Stx0cWX4NzzFuHg3n3QKRkqrRM4BaRZhg2vb8B5nzsPZ59zdoAlucH0WHzGqLBG3YNQ5IWWZUUwOASPMW7hjNNlgx4wyZgUlrxxRYAixeG8KFJrLTf/pAP3KO8RwyV7FV9HUi7k5cq5tbC2CDpBUfQDDc+3LNGzcdZD3oYdJbrusM6gCE7q+s6fnZC+UAmNVDFVzbwZdK6kz5/qS4Zms4njwf+lfqGhPMO65yB00nM9OA5DbkxC8GFFK7lAyGL4wgsB/6W6Sp9jqA+CUhGPl+ZUASqqpMbvkcOnGEsm6xkrqLjSLC8XCYQ82+xZs/C//e//hpVFA//3//Vv0Wy28C//5V9henqawf0lnK19btMLlc+tBg5HpQDtlA/l5H5iT1Q8hQHrrjj85cJeIoqEGdYlVFVK0RA2WgRozZwJonAk7cINFXR9IruBUqg9m1Ow/oCj8DPKfQnjf2UMUs7RKVCVeuOGN7B+3Wvca5+w50bv6fZ7uPGmG3DDzTf4UJwOVTQ+hVaMWHtKIdmhVuh4ryVvF0ccw95+/P7wk/7ebDbQarVRlRV+88xv8MGOHTg9PYXvff97mD0+G79++hksvf5aLFy4AL/8x19i/4GD+MVPf44/+f6fQCcJnvn5U7j59ttgjcGvfvE0Dh06jJ//4y/w3T/+IxS9Ei88+wJuWn4Tpo4dxwu/fg6H9h3Ac08/i0e//TimpiaxZcMm3HDLTbjr/rvx+trX8NzTz+DBhx8EHNBujwCKYFHtkTb27tmPjz7cgT/7i+9hanLKP59HIjjZc4T0SyJ1D4Y5pgmE6CdWgCJ7sWc/rIRYdCjxJmvMn6mYh1YUZ/yy1g50zsW/dy5U/+V3lLdMPDG5/J6UdECkSEFSKcDVg3tNRdNQdBJ5EAUtukv0FjmLklAULDd5d3LHVs4SpxPr2lAh2YbiJam1EEkrPrMGjkagQPEYiijklv73OB8ynBsR8o34gRKtiSREa1+ocOKLuDD6g4pcvFA+BFFclQwYUyiGHsmDu2gmvFeUkl9TRNTL9/dZORW/oZ8RflclNRzAWRR1gcw20e120el0ufYUcr8SapCCI8NQW8KNekC1cxAQiuXnCdkgvicMGiTNmzOQokDIbVlLEYXkMWtTU0okrqayp6rYW7WKRj9oEJeCKMzayL0GYXKcviAhI+tfcgeOUgoJ5647Mx186w+/jW985wnuMFG+mJVLWOesb1ulkKuGY4SH96BBStWADaS1LMjCeZkO7NPwnkq3mBzAGO8JAFmWY+3qV1GVJW64+Sbcctty3LJiOaqyQqPZwLZNW3H33SsxPj6Ofr/AnfesxH0P3I+yLNHpdLHzw52476EvMCEH8NBXHsYjj30VZVXi1KlTOHj4EG6/Z4VvG/3K419DmlJK45Ojn+D0qdNYvvIOdLtdnH/R+Zg9exZqU2Pegnn44L0d2PH+DkyeOIUsz3Hs6DHkSYKlN9/oGbekTRogGJVEJWLABOPqHI0ciZ89DslDiuwzCEGc5BrhSYDAMscumYcuxagKyT3H3yWf89FQpBhFOde1QcMFFIAUG+V+6lrum7xw56SnP/CjyprINYwxnDvmcAzRM2DQiBgHP0JaECyao2TH57Q2NYpeH+0k40jBeTQLpUJo0J9TgLaOojsFUqhpmvpJl94L5S+UvlpZlJCXoH5268DAczqsUtyyNTGKW+fQyHKmOjPUi63DAzu2tGVRQScamU4h2RJfkFGAqYkiL8sTOMtJfCgPaVCg4liv10OSpsgZsG8NERXL5hMbj0Wr1RrcaOeisChB2StQJSWzeFcB56oEOxsOdr9fol+UUGDu09p5SsMsS4jQhT8hHp8YGdmggQq2cV4hOcltqVCU8cJnebAgXMRGbpDnDRqfwoep1+vDggtLrPCUjiuznKiXMEgOibFEd8iHKFZcWjuvbJ21UJFgl84hSRPAwXsbZVkiSamQ5xxBpRKdoMkerz8IfBj7vR5yxgArRbk1uYf4UBVFcUYEJes5NTWNFXeuwIWXXIhGTrwLjUaDnqdBa7HgnLNx1bJrUHJb5tjYGF07TVD0C1x65WU459xzUfSJi3NkdBSSO+10Olhy5RJcfNFFKPsVkiRFe7TNeWRq/b162TW44MLzUfRp7PrsidkoigLdTheNZgMTc8fxwKVfQKI1+lWF2+68DeectwidTsfzHsQpDQ3NUxBCbrRflMShkUpbqQDaw5kVuYkLU7L3FO5SvJBA5FDSb5IiCdFVURQDUZVwwtK8K+o+bLfbkYfsoFSCflH6/vm6rtFqNnyUKF6ryFhVVZ6zo2aOhjznfHPkwFU8WaMoSq9QtU6QZQmkfV0cPYnu/DmTZCw7S0kCmMrCykReY2Ac0WM6UI1JKe2nv0q2X9JzSZpSyC83JsStIpQCIpeDMgyDIIapBEVVI02pi8k4S6QEWqPiHuPa0O8AwLgKrZyor0IOjeju8iRBWbMSoRONNE/5GjXq2iLPG3BOsIk1NSEkUmFnNWWpFbbmXKf0Bos1JyXYHxgpLBuaZRn6/QJfevgryLIMXfawwNeuqgpQmsNfCdNBpBcIeeSqqtFsNdhTJXUqrOOyvobn8bS4yDJQYHEWvX4BOCJLcbCApbRGlqVIVICu1EzG0S8LtBpNNi4h/2YMMeEbW/n3OyZiEYMqOTPFHokDUQIClCsU8pBWq8neCF1XJm2C18YLrlFe6Yln45yD4y67qqqBlJ8XlgHt8ArXRftChrAaIGIZzknHBkkOLYzByNgorrr6KigVWj/lM2VZYuG55xBetCaDIiGi4cO5cOFCdGZmfGut8HXmeQPNZgsXnH8ByrJiJjbDCovCxrHRUcyePStSQM7zPQDAgrMX4NxF56Db66EsSsyeGCeik27X74usgRDtxJGLz0VSZQTOCeGHQp6lA9eI9yL28mUNCfNJ8ZRMO/ZTJPh7LRCA8TbwlQKhXTVe59gb9h1poGKfpJP83yPHpjYh30ueZ+1lgGB2gbVf7qGqSmid+r2tKuEgyeCcAbKMsdE174H1cL2qqpAlCdJWgpS9VK0TFL0+8cUybFLuJ08zZHmGqg5NNsYaNFwDqXhusesee2v+QLKLXlWVbx8lJUPtbZLMNpWl1sgsgdRNKkd5DmvI8vXrGplyyBOq5BkbwZ9YuWdpSpaT70FzjjQmbODjB20F1Eyfp57ecKCNDblF2QT5Kc9vrWXWGiKWverqq+GcxalTp+kwscIoub/fpqnvJyaCmJq8PCVga4LsKEUhFE2MNNCKBrEpncDUJc8p5xA7Cs+gqEIbmJ+U0DySEDNMRgSPaPuILyBLgiU2tREj7BVmXDCIi2SSC4r3XWkN7UIuXQD2ch+h+4nSHcYSoXar1UKitfde4pSFcDoQTSRNRVCJ8O46OGv8M4kHFJ4zhHBxflEwlxAV7b1salMUNjI59AC8R8ViMxDOyhqJZyyv+DtIgVW8LqSMaN3IaxJG/1jZy6EEyNMrK82pJufZluhhQ1VasLqxchEjQm+lIkod5w2ThNs064FUSfz/Po0CoqxsNBpQhvP/nK91lriLqR3T+ShW7sXnJqPoaRBVIB17lmWc+SwYDVOWJfr9vp/9pJzz0bKxNH9NjEld17xHGNhHWbC4SUGe0zCWtFYGLpGaj0aLnR2AuXqzjDMF7LFq6h7NkgSOvztJEmQR57GwqUnNQikFHXucsshx+1gsCFQBo6JDwgO44BcLPscpoaX34Bz14GZZCqeIuTvVKWojLY3ZANxDKLearSa77naAcYeUX452u4WqIgbu2lgY45AmIT0xYI2VGoC7DLfcxakMpZRnjpfqnyjTLMsiejkDY4kST1IJ8n2CbSX/q4ZSlpS+imZbgYtbUUeUF3gnAYULwHc5RIpaaGtLUy4l7E3TDGVdoVP0UHNvvIk8g7gxYViZeo+DCV8M5ziFRk/i4GMYAAAgAElEQVTIJeLwelhetNY+xSIeb2ys/YFmAyd74gCoJOTbpLpLh1Yo2YJ3FV9T7kMiqLAHFDnUxqDb7WFmZhplRemLVrs1UGCVPLK1FkmaYmRkxMt8iCaIkpGIntsDB1nGStd1jUazidGxMe/Jxp60cw7tdhuzZs3ynly/1/ND7YqSCKDB6Y+6rpDlDVgb2LxkeqfsidybrK3sSa/X86xu9GvBiIsHSt9hXaiN5HnOeNXa45UdyCjZSGiJBa32nWA2OlexkosNk2F8uxgIaw16vZ5fE6UUZmZm/Jo5F7rzxIjQT3oWMmixvBDWNG6XTdMEdV1BJ/QeigjJMSNyHTuAaKhrQylLpQCeFCKIF68DlUaSpjRbjeVPc0pFQ0HTNMliYEFISNUZi1WWJXX/pBSuG2d9D6ukAJIEUNoJpwno3hze37UXx09NodnI8d5HO3H42KdIEmKaKYo+pqanobWAjYGjn57Ajr0HcOjjT6FUgrc/3IlOv0TGIUxRFDwSQsMa8oK6RR+Hj58EFM+xkgRzVaHo9/1myWiE2GAEgwIOT4znP4w9upitiEgaStR1hTzLqJ008nD6/QJFv+KKFK1nVdWo6hLGVrDOMOF0ZGlFKBUVeSTUFuvc5zlDMjCx1+v5VtY0SdButaCg2MgYT7wiB284EomVlLyEmdwaE7yFKOUjo0xiRSFKNk1TNJjDVA7VoDJ3/nGldVOnVO1NIyVHQPUEkgIASGHJWJX4eWKv0itIEA3c+nXr8V//5gfYsvFN70n87s2tPIHgTOasuiyxeeOmgRHS3vikCTrdGbyz/Z0B4y4ylTdyvLV5C7au34Rms8mTc8M1sizH+tfWY8PrGzA6OopjR4/hN08/iyd/8A/QOsWh/Yfwkx/9FD/70U+h0wwfHzqKda+sRd5soDZCXTjYRg1gIFXnHOWJ0zRF5dtmAcdEO9aFefTOMXlRtIayb2VZ0iTcmkcHMTeBMQa1CS3pMq1VvHu5v9iDjBWk92xF1kE4cPFCq7pGVdc0ApwLjnI/EtVIayogxsogcE6EKK9iVjuSS2m/JRmkMT1BhuUakPSHSqhrkOsfEommGUWlDaYSLIoCtqqRgJwDLQdFiHyDlzCYJ5EL5lkGxTgsnabQSe6tl2ZLzbUFn+9YvWErNr71Pp59ZT0OfHwM+w99jH2HP0GakWJ7f9cevLb1bR6R4jDd7eAXz6/BuzsPYde+o2jkI3jvw32YnunBwaLVamLL9nfx5rYPkGcpsryB01PTePKXL+KFtZvx3Jo3YKxCoqhyKcWZ+PnkMMTPRwJKxSTNQ70AwgfmWcbzmiqfu0pTCgEanF8LzD9R36+Mq2aPmISQiKMbjZxp88I9OV58Ud5EVZd6I9BqtUjIWKk0mw2MjIwgSYl3MkvocGml2Etl9iC+vhTqPGTKwnsAIjiivMQjNhzayO8l3ImfUzwJ6bn2Snko1+XD+kgpCnm3oErCfZCnSQdrcOLlsIctzwkOU+ua0A+Tk6dx40034JHHHoXWCZ755a/w4x/8ECc+PXFGodIag5/++Cf48Q9+iKIo0OR8cZIkaLfbmDp9Gk/+4Ed47qlfs5Jy/rnTLMXOD3fgvbffxcED+7Fh7euYPWsWBFbYbLWwfes2fPj+h9izey/WrVmHJZcvwVcefxRlXaHXmcGFF1+Ar3/rcUKWTE7i6mVX4uihj7F101bMmkXFsm636x2guL1YjItEEfL32IiWVUnpBRtgiDZSouI8KKWY1wK+GBXXVWh+GhWcZdKG/N05dyY7GxAY6kTRKoVms0kyxca72Wgw17E4H2F+U1zHEWKggO7RXlGGqciBlFyiG3lMOoeJV9hCYu+cAyxRiCZpQsRBTjpAXcCkAj5tFUeVBo7ZpoCBh6e84+Do1HjjtNbI0hR5mqKRU2tfzjkIDapsl1UFOIfpmWkcPnIc//SPH8c7H36Ibe/vxryJERooByBrpthz8Bj2Hj7BC0wKtTakmbM8x9oNm7H/4+O449YGRttNNJtN7DhwGFY18fmVt6DX7+LQoaO49fpluOH6q/Dv/tOPcGpyBhOzWzC1QbvdRrvZJO8qz6Hg+P7A82OcJ6ZQDB2xxhJQm/NJaZphZKTNBQZmy9LUdVHXNc0AZ4PQbDWjVAIz6CD1HnNV0Xz5Rp77IYTgGVjWEu6tqiVSyNlTC9Y+ztkopXhEN43UtdYgUxmsdSSo1qLRaBGqwDlu8ZTWXiaEUQ5FQbysWmu0mi0fVopCkXBTlKrci+S2gtyE90vqJlaoogQdh/zQCqnSKOpBOJm1DlkmnTuD+F25J7mfONeZJDSiRikgzTMiKFZM6G0sHn70yyiqktmkArFwlmXQSuNr3/g6KdmigDFhQBy4GPjEHz6BZ3/1LI3HyAMTWZpm+OC9D3DrnSvw/rsfYMvm3+H+hx/wRjRNU+zZtRv3Png/1ry0Gtu3/R73PngfEkUkyl45KCoCQpECvPXOFVj38qu49bZbPOO+1DNieRDlEHuIxKQU0li1IZSNjKZ2yhHehNEk8Z6Kt2qt9Y6FGA8pKsHBD4aU98YRhnh94pw56zxmFiDOiFSim+h7JdSXaFAKyM1mk58tRAfigQY2NWkDpyJbIDbHgFyS4QgpRsOz5BKvD0HXUQLoZwMOJahEXnNNRfCqRjNNkcZtZiLsVnKjkWcqL6L202g2Mmz83Tt4ZfPb3GElVWJgJG/g219+AHPGR9HMm5gzPoJfPr8ap6emcM1lSzDTmWIvVmH161tw4sQkzlswGz979mU8dN/tPjdy7rnnYrSZwbkaZ03MJlylVnjmxVeR6AxpmuLFtZtx1y3X4PplV2Jyehr/8e9/gtmzxrBwwVx0u1No5Bm2v/shtr63iw4AhwbU9eKQMaGwtY4Fh8LcNCXrXpQFlKKxLGQ9pYADOBN4RGkzwIeZhdw5JGmGquwzhEjQETWSJGNlYxivywUhRXi3oqSQPU1S4hIA55LA+D2u7JNOIjC8VgnN6WL2A4DmazlnPX5XDgag0C9rjLZzLF1yAa674gKYqqK5UXCoTagi06wfGgtNcDM5pDJ/rA4VXc61koINeESRozh8T9IUWZoh1exdpynqKIqICy/iOUkhSZTqGQUX9n4zzsmTogiFpDlz5sCZMPY84+kE1lAxdWJsHBVPAjXGoNFsQCvNA/gaaDRykh0wcIZOP4ylAYnbt72Fsldi4cKF6Pf7wSNzDjpL8dabW1H2C8yeGKfxzY0cqWBAlQrKzjoUvQLzz56H0hpMT05hZGyEDvxQumE4/eA9xVQ8S+eVgqRwwBLi5QcBIy4GTRROHBGkaYo0ozlrrVZzwFiCrxsgWzLK3XkFJmebnAUaS+TcYFQnvh0pSefJukUehMdDSOljGYj1WMwfIcZAmg9E6YuBsNb4ugelaZXvGvRrKufeGfSLCo6ftTS1L4Kmw+16VBCh3EFtB0MwSd428wy/e+d9/Oql9bh35a2YNdrmmSs1FZ3SDO1mDmtqGFjct+ImrFn/Fi5YdB5W3HQNnnruBbRHZuO9jz7C3n378d2vP4RWM8U/PrMKr7y6ETdddzlmj+TYvfMj1FWJSy+6AO0WYSdXrdmAw8dO48+e+Br6ZQ9PP7cWr298C/evXI7p6RksOX8Rdu4/gmOfnsBZs9twDsgSjbFWA1lO8B+nFHTO01UNc54qObQi3OTp5Ikmpcb4s7o27KEyCTWoGpuyp0icKRYO1m+czdrc008epLEOOuE2TOQgrKYMCZSkOKUJCGgtBSqZQgpWsmQ9KVRx/h7JGmsPDen3uwAS6oRjoW02W6iqClOdLp5+8Q0cOzGNr6y8HmVFrqLMBQtEvUFJqoivwFrr87RK8SHVxN4TF2TibimAvJMsy5AklBPTHLIlShNEDIMjUURhs9D6opaEtHFKQku+y3vI4aATjlCj1W4h43lZpqowMpuG2yVJgryRo9miyZ2mNqhhuIvQIW80kKQpGs0cBFUkQL2MWn93+zv43l/+BV569nmCDpY1sjxFktJ4k/0H9uDRP/gGVr+whqrzvtUXEE/SWiJRyVTO+fAClak9lAtwnP9VA4oObDrEq241AluWoqmOsJZCbNpjbpuMPHUFeH6BuBgTpzcUWP4jpEUwnKQMKe0QWpuVUrCOEB3eQDKiJihjMbxUGIvz01Q8AqgbEWfcWxz5xNX+2CCLcyDyJJGfMc4jcpTWHMUpnwJx1gbnB/w3Ffh9KfKjqD6VL4tzYfK7mPWelDYd6MpW2PzeR3jwvjvxxbtupBniiWKhpb7iXlGQJ+YUskaOsyZGccct10Iph3PPXohGo4HRsXHcd89dOH7qFMrS4LZbbkK/KKB0ggfvvhWHPv4U999+I4yxmJw8jdrUuPTSJVh2bQvHT54ClMbn71mBqqyxduMWTMyejUe+cDf+/X/5CfYePIJ5cy5BWRosvfIK3Hjt1TRgrSoJIAzauLqqYUGhL0gvsWA478nmOQ/Siyy5ZSXnNPWt94sCmeRmLE8DSFO28uIpmChnRddIUrLClA+PoGAgRWM4YS6eMW+O9waUUrAqasGUPCQfPIKmSBVeAeBqqOLZXFrh2qsuxA+eWo3br78C4yM5akMh7Ogor4/lWVON3E9gcM4RdEunNGpXDnRKc8IUFMEjlUJto3ZJvk9JGYnXaTn5rrWGdsGISRFSvDYnaQudoLZh5AgQPDRS1InP2+U5IUyazSbe+f3beP+996A18Ni3HkNvpov/+O/+Gv/8f/4XmJh7Ft7e9jb27NiHLW9uxv1fuB87PvgIv/jZL/BX//p/Qp7n2LJpC3bt2oc312/C7XffgS2btmLrxk347//qn2HhwrNxfPF5eP+d9zB7bBRz5szBs08/g3ffeR9/+a/+R5x33iIoB+x67yPMmTuHGMAkl+k9IBXYz1otHNy9FyONHOPj49ySG7wmBQq7S0OjeSTPTsMpE9+pJ+8XAyQy0mjkSJWOYFnW52BF6cQvSfsMzrtPInkm1n1S1M7LX8h3J1CKK/HRfsV8DNSaLCT3lp0Q53PoSonnGzDxsQ6LlWtcQI51W4xqUgoDz+PYMUnyjCJQJ3ytiRwpQCk0cjKoiudUpUmGRIHo++L8qXypbHLsiYgyKMo+jAUWzpuLzswMz1mCD0UoF0R5xqyZwSmHXfv3oTAOC+bNQW0czhpt4d0PPsKR46cYQ2g4BElw/x03oSwrbHv/I5x7znz0+n0s/twiOGuw/s3tqCxhWuUB8zzDonPOwpoNm7Hp7fegkwzLLr+YLYtGUZfo85x76xyKouRbFeNhURSl+PMQtabZmyGGIQMNjURRz651Q9Yb0rpJwkhgew7/oUK13ZC344thCJ0oJKDaW0VRjLHBi1/BQ+Wapw7hEvh+JGyrPDaP9sdohbImxXrReWdj9kiOA0eOY/4VF8D0eZ6VowqsY48YNmqHjfY6Z9iP47SIrAerfKqIqmAH4sOkHKFFBB9oWaAbec5Fs+DByQQBujXq/Eqz1MNxnKN0SZIGvoC6rnH06Cc4ffI02iNt9Ls93LHyTjhQo0Wz1cSsiXEyZtZiemoKK+66DSqlybQT4xNoN1v+HHQ7Hdy64mb0uh3UVYmJidlQmhAXt6y4BbWp8cmx43jg4QcxPTOFefPmUaW818Otty/H62tfx8zkFO598F50Zrr0t7Kg7idDBrwoaDDhSKuJzW+8iRtuvZFGpVSAdTVDUQKjfZ7naDaD4sozAfM7WMP7lVBtI9HsXSEoJzkLhLIZDJPp7AuZSVBMAjsUzlIfrbDHq1jJxa3AWik08oZPb4jCjXUPeZgaWgv8kSLC0K0phadBmJYYgtgLjT3n+BUXpgF4zKk8NxRIoUp6hFL9IDKh4PSQaCoem8LFvPhwxLmrONzyXwRqR0wUzZwHOPRk1vqUYS5eUfH1Up1g6eWXYf/Hn1CIVdeY1W7ji/esIJgUAsdhlqbk2WqLs2aPYt2b26BAye+Vy2/Etx/7AuqKXG+pXltLuMaLFy/C8ZOncf55C5Eph8oSn6FyklNU0B7GQkpGc+jDERd5qfTAgFI8W0a8AWl4hQ8PJISO84PxZsZKkJ0wyAhfn/tR8uWh6MIX8deKLbJX5PRXH2bJNeU62v8ByHgkiSh2KWBZTfi5Zt6ERTxTLHCtSs7VWMrhyj15QY2eMf7+uAIKB1jOm8ZeiRgP4XOIQ0Qvl3w/SaIDhwJ7X/G4GwXlJ9EqRcW/iy65CBvWb8Sql17GA194EMuuX4abl98E4yyKXoE1L6/BA19+CHPnz0W/18OKlbf5CnCv28M7b7+Nrz/xOFrNJsqiwH0P3A8ZR37y5Cns2bUbj37jUe7CqbDynpVI0gRlUeDUydPYu3sfvvHEN6AVcT3c9+C9lE6rauzeuRuvvfo6sjzDxMQ4jhw+gnWvvo5mu4WxsTF89OEOnH3uQlx/8w3odfqMPAlcCKLIiByZmhuETwFigHhtjDEUMWVnNnbQWgf5ibG98T4oNVi8JqUaTZDwMkA/B9JCSkHYpKwNaYV4xE3sSQZ5D3ngwXsZlDnx7D9LBj/rXGr22GMPGkqRR+qYP8RYdrQddaKZQdIeMPtUqiP0yeqXXnIilHEeVXIR8e8kx5ekwA9+8QKW33A9li75HIqiHHg/EDPH0EK3GUxNG5uhrEo/L50+IogCJsvVKRqNRrAIiloKa9/3KwoF4HYqn9ssCurBl8GDVkJO1i70PXTAB7weBh8nbCygEIC+tEO0wApE1sIeciwA/pYi4+Sf4Yx8EyspVjiDL1EMofV3uAgzLCTyGma2HxbEAaUNQKca//7vnsV9K27EDZefh16/9B6FnA6HYCA/Kz30Wfchzy/rITIChNbYxtgoDvzw7zB98Aiu+l//FxTT0xA0BPyyU8FQ0WJ4j1yKBBLOisWS39WG4ExZlqOuDaqyCN4zE4JLWqsoijOeBYBHKRT9vh8gR89DhZ4sy0BcFOWAoZA1oxnu0nNONyxGId6v0HmkkWWpL7w1WzzNFYI9tSBqB95PhwH5AuANvePCocIwn7HAjXh+mZOZZwoyzuUzIyKlQIP/Qs5X9jhUzs8cNyTvlTw6fSblTj8e2ZyG9Efs8cYyM+xQxK9heY/3If6svFJNdJREFhTJswMa7Rb2/fAf0Zg9Cwu+8kWUvS6lTiJy/fg8xXKfDmvx+A1xp0d8MLSjooNMBlUs/MOWKjwN0Ol06doA+qqQbeVQEQBPj3Rsaa216HS7kGhYoAqUBUTkdYbnrGuD0hKYN0kT1DaeQRSUk+XKL6lPB+v4MHLRhro85TODzE9eGQKehzFeZAmHggBKG6TjkSja37dz7A47UQ4SztK9CupNgbpxJNeKQVk6I7KIqdKGDdywwpDQXjCC4jErpbyH459BKzjeY630wHN+1rXjl5bqtAvFJsvhvIYGaseUaQpDFLe8LhJqSWpDcM9M6sMSRXtF79GaevLrqjewPtZaT/osuNnhtkV5GVZsMdTL8X4qcIEHocd9wIgBHs4ltIf+3nWYJyaUcEkS5EdpmrRJbalgA8AFGQskCfwaxDKggAHGMMWIO8GKxsrI+IkSyv9/mDARutWUGLhojQnhMcgZMWxo6TuCTgi6QdYqxhQb73ANO3ZBXgRNIPWAM71Q2UcbGf/4XiS6rF0gOpEoCYrSlPIJy23b0so7fKYokmOpZAckjUP0OASIX7FV0JqmQ8qNGmtDpXnoAUPIFlf63KA+iCydjFGRUb0h4UwHn64p2DkVXYefgb1GK8dLBUhHgIfR+7krmRQ150LiBLekIGJu0Njy+qUceu5hz1RCAygFlbBX7UKBxQptGIdpFJKHIXoO7CXLxouijQ72cB4qfsX7Obw3g+G89FgPerM+FJJwT+4pguzEzx1ff9hTAdzQegHQCtopKK6jDTvqsZcy7GV4uQL8ehKbFE9PjYxp2KuQV5bDLp6fi0JeF8mpl/uhZ4z/XzC4kHtkGSKYEU2EkD0E76epYmVA6AnBQVpYGFsDnuciGk2EUMCsnWHDq3jqgT8wAFR0vBwSpkIko8ZGPsqBaj0ot/G+iZwIsoAeMe6sDLIXcyLEDgZATTKJ1swmRRjrsipRM5nJZ0Vfsez+t/4dO4HxZ4d1kcwtM6CUl2K4YqISYu9HOP91WUJF+eBY43j5Fwl0lCbQsSWQB/IFk89wq/lOfTdKPB112CrIteKDN+AqawnZxDKKtYwXVVRKxF6viDTFsqUxvADWWdjI8xrG0EnSXC7reLyuUiEfKYpZaTVQeJLniZ8t/jcQ2jP932Vjh7zSkC9k+AsrGqdBM8hB/K8CKnZsMGQoXzzbaVjwhgVuQAHZwecBeA0g3JMhHeB/RipOIVR1YwMT77F4NsOefXxPAwoJynum4MMeH46Yx5KuYQfae+O9UErh6JGjqHxoGXaV9tt6jS2yHg6xGjC8n7W/w54TrakN+8zvoe8jI/DJ0WN4a/M2GpTI31WbEp3OzACF4sCagdYh5XnxAocDaMpATIojEQUU0cgJgYkUEikCowGLRb/0XA1KKc+1SmgIMuRZNsiaJusoWM2AAR3UG/KisH4wZBeZ0IlGd6aLwwcPIU0T7N97AJvf2Ixjh496CsFYBuNnjJWtePzyvmEmvDNlxvm/SXE91mwigw7w7da62UTFRlar0OGlEKIaH6EhGH4dD+mK/4vbzeLFFUWRJmHqX/zww++NH2oYi+icF8MgnE5yJgFjKEJmwcqTvoyIHRwFX0aOPnsb8pCxUiEFJs8qSiN4ZiQ0NZw1fmGHDcHwJsWv4XUUy+ZqE4oItYGKDIYkvrXkPfmhpMrvwErPCCoA3sONBVm+c9gQftYexs+jdcCu0jVobYuq9OMm6Jpk7ISBKP6eWAGLdvksDwIO/hl8NATy1kI/vQ6K6QyDQPSNT//yad9Xnec5Zs0aQ3tkBFma4hf/+AtMTc9gbPYsAFSoaDVbaDYaUNAYHRvD2NgYWu3WGddvtpo4vP8g3nxtAybmzCG8aaMBB/j++NGxUYyOjXkGstZIG2OzxnwvuooUSZal6HZ62LVzF+PELcZmjeL0qdN4/tfPI88ytPnzogiSNEWSJYAjuVAMSXLWYXRsFJs2bEbRI3SCcw4joyNotdtwigo9zWYDY2OzqOtQ0RiX0bFR5FmOl595Ef1OgVmzxqnBhZUwHNUNyrrGGxveQN7IvMFsj7SQ5RmUcsgbKVrtJhpNolHM8gxjY6O+qp7lGRPPpP7vjUaDOpwSjUSnePm5l9DvFkjTHC8/vwoH9x9Av9f3+dThM+VlZ0jO5fyKohwupElqYNirrWsTZuh9BuQKoH2qqwrKBdSMP1/OepjZsFE3xiCVKtuw5yBMMnFRhUg4EjDyAtbIVMUzX7FSQXQN8QLooYnSjtjC5eZlLhNADDnyk5JHWmvQ7CyaQ5hoBQfqEY+fQyyX/M57jjyhdTBhbf1PsfjexVcI4HrxZB3n79Sg9woMFoRi4DNpLBCrEujaw96dcw6JouYBcGhP1W26pqlqz2wjQgUEJMYZz+oGn/OzBFaUqJLZAvzs5KkoDjNDygWgNI+OvicuABhrfMEoblGt/aiL4PmTt0Yhq0BUrDOAZTyqonG+IvitVgsbN2zEqudfxszUNL70tUdQ9np44fkXcf4F5+Pez98HC4dWu4WXn/0tllxzJaYnp/Da2tewbNkyXHPd1fjts8/j6NFPcNllS3DT8hvR7Xb9+vd6ffz2md/i4IFDaIy0sGD+fHQ7fSy9fhnefOMNzB6fjX279+HIx0ex/PbluHjJRXh97evYu3cf7lp5JxYsPJtYpix50VOTUziwZx+uWnq1H663+oXVOHzwIBWalMKal1Zj8vQkVty5AuNnTeD4sU+QJgnGzxoPBlMRscquHXuxdtU6HDl0FCvuWo6JuXPw2suvIUkT3Hz7cpw88SlOnTyNQ3sPYOGihbhq6VX4/dbf45OjR3HTiuVQSmHrlq2YmHsWll13DTsPlCrQOsHbm7dj1QurkKYprrzmSsAAG15bj8UXLMaiz52Hg/sO4+jHR3DW3Dm48NKL8OnxE/jwnfexYOF8XHn1lfj48FHs+HAHLrvqcsyemI0jhz/B5OQkZqamcNOtN+F3m7eh0Wzg/+frvYPsuK40z1+6l8+UNwCqUPDeW8KSBEgCJEAripTU3SOxR22mZzZ6ezt6NjYmZmM2JmajZ2PH7G5vt1pSU6bVEiVBEkHvQQsaeMJ7ECiYAlDePpN2/7j3Zt73gN6HQFTVc5l5895zz/nOd76zfM0KRodHqa8rsO3R7dTV11OamEg859rE0x1RleY86PNePVK8VUiLgmIkiOIW0xDOoOhmLD8XiRbowikwsJ0MhMLbxpDRd5QWNygbJhJqaU2/qYvu6hJoqc5jKk0nl6QA6uO0JXGtN4JhCLUaz8PTFIJAL78USknCQwwIwwAItUUv+KKVipf0SlKZfUFWjojigDCq/n49/AMxENVi0sJY68rfAJ5XwfO9xJMyDFMq8dR4f2qBG6nB0j0//TprWRLi6Ebi1ev1y4r6FcvPqkywUBkKkp03jNONQrV5rmUY3A1nSjzRJFxTnmVNQqMqnEuzwoFU5lcanVEcJ2pRYj7GVKSMYlLCKJMhiZGVO3wo/yM3TuGJK4zYkFzhitBWlXMwjoWIybTp05jaNZVFy5aRqyuw65e7WLtxPWdOnebLI0dobW/h7Zde58JXl8nWFfjtC79m5ZpVvPXmm5w5dYbXX3mDpcuWsff9jxkeGq5KdliWTfOUNhraW5k2YzphHPPOG28xMjLKxx/s5dbNXj58531mzJ7BO2+/y4kvj7H/84NM6ezgty/8Rqg4qc00jsi4LqWJcfa88TbZXJ4j+7+k+8o16poaIYbjR4/z+ecHmDFnNmNjo2RzOT589wPefvlNMtmcwPElfhoEoSjRtSz8OALLYe/7e+m73culi5c5fOAwA72DvPD8z+RYVRPReYwAACAASURBVDhy4Ahf7P0cPwzo7btNsVxmZGiUYwe+5PzJs2Qyrqzwkfc5FMT9ifFx4ijm9VdeI4gC9n60l+7L13nldy8zMDDI++9+QN+tft548XUqQcTw6DgDgyO8tPsVisUi77z6Fp4f8PKuFzm8/yC9fX2MjU3w1YWLzJ4/h2JxAgEjCK0P36sksImun6uvZ2WP9PWtOyK1Uom6x6onZONIlp3L+asgmjT5KrSEwzjC94Seg3L09IdyFvRuJoZhYKoTV5Js6m9RvRLhh2nLglSXUJyI51WoVAT9SadEIC84JCY2DZxMNgHRxcHT3UXhGqouNwwDWWopaC+RnJxBEOJVAgxMLMeBMMQCPKnNGCjZL2nAdZ6dDiOAGOx8vk6KsYgMp+f5SWJDGZMolupI4Z3hrbqpd/2d9OYpiKTKcBpKwPdO7VmFjyoLl2A+pilkE+M7DbmaePpPZVj151UyKwzDVIPVMjENCyPx8HXZNU10wjCI5Xl6ns/4+ETyN5BsoDEQxjFeEFCuCNhAwBniWkqlMuVyhTAK8T0fT94zxY8lFsIkvu+Lvkqa2pDv+7RPaqeprYnlK5YR+gFxGLLmntV0zZjOjes9jPYP8uKvdrHtsUcojpcYGx7jq8uXaJvUTqlUZtGSJazfvIGM6zIyPJrelzAik7GZM3cOs2fNYv6ihcxdOJ+G5iZeeelVZs6aQXNLEyvWrmbn4zuxTIvDh45SnBhnoH+QQn1DknhSTA7HsVm5fi25fAE/CLly5QoLFs/nvq334dgWc+fNoa21kWtXummZMpmBgUG2Pf4wT//Bs4yPjhEGEWEgPKYojJg+azozpk9lzcZ7aGxr4atLl9m0dTNbt2/hqwsXKZUrLF65jK/93tOs27yRU8dPsmXbVr7+rW8wb+48giBgy7YHWLJ8KT03b+F5QbKN+oHPkpWL6Ozq4KGHt1Epe3Rf6MYr+5RLZfp7e+no6uSJrz9J2+RJDA0OMblzCr09N1m0ZAk3e/vIFwp889u/h+1muNZ9lbqmBh7auY3HnnwcN+syMT6BmxOtY1R33MiPiCKV8Iopl0UrExCRmuf5NdFkut5q9X2VOpX+nL4OoijCDyLGS2W8wE+4zCaCseQFvszHyEKTxJhHlCseQcIyoMoe6Ebd1EUHlHUPw5DA9wUYW0PuVyVdyuCapiV7SplVC9iQYcqJ48d55513yLhZojAmDFQ21RKhvmkKYxaLDLygMkBZLs4YUXVU8QMMy+bkiZMc/OIgbtYlMgR+Oj42Lo4dRVXetJ48UeVxnudz69Zt9rz3PgcPHsG0bCzbwbYzZLM5SqVKomNaLnu4bpZ8XggK27ZNLieUmJDGOuO6CZ4ldyhRemo5OG6WbCGP5diyQAB5TQa26+K4Lo5s65FAImGIYVryOBmiCLovd3P61JnkOu9myFWIo2g+iUdY5UEjvW9DJi4EbpzoitbABXFSwVStcamwPiW+ncoZip5Rujch5AtjCZ2kIim2ZafGxxQshzBIkypImpjqElGpeEm0ND46zsiw8C79MKDvVh8D/QPUN9Zh2DZ/9Bf/hl/99J/wvQp1zQ089tTjfOePn6O5tYlysUSxVKISqVpzca2KMB94PuWJIr4XEEewcMli3n7pNZatWE4cxQwPDTM4MEilVKKhoYEpUzv5vW//Pt/6zu8TA+VSRUZbYo6HoYB6hDC0yPaPjxcZGRnFcmz+1Z//GyqlMrt/8RuyWZeeqz10X75KGIVSODyiVPISceVicYKg7IlSR9NkYnwc0QpISPkZlsn42AS+J54rF8tEUUy54pGxHcolKZyOQeAHHP78EEP9w9i2TblSxq94qK4JjQ31rNuwju989znmLZhHpVymUirL/m4ejzy1g0Url/OzH/6Iwb5+iEVE4Ut4xzQEv3dsbFRUSWVdxkbGq9qyxBKzV/NZ8YKFVqmIpIIgQs/1/HOPIEgjpmSDj4UGsR6Fq7lqmqaIoKMQL/CF/qv0aDNZl9AXcFQUBfiBj+cHUv+42gkKgpBy2RMdOcIoolwR4gvKo0vEdxGZUX0nUMRe2zKTkCzSFqMKmWNiqU5Ux7QZMwnCEDebo1SpEMeQcV3COMYwLTJuDtOyyOez1DfU89kXX3Dq9GmaGptSQyXLz7zAx/PKxIaB6wqj8/LLr+J7IXV19eTzhSTxpMurgWwuZllcOn+eL/btw3YzjAwP8Y8//CHPf//7XLncjeu6mKaF67rk8nnOnzvHT374Y6IgZLBvgOe/9/f8/Ec/YuB2L7l8gUvnL/Da717GsmwRnkYRjuty9epVfvB33+NXP/knxobHCSOo+AG+F2CYNp998hk/+cHz3Lp5C8d1JZErBsNgcGCQf3z+R3y05wPcbJb+gT7efettPnzvA3L5PBExfihucihDVVH5JRTHlWiLHwR4fkAQhaIyyPMTjC/WkkthGOBHikqT7u5pCJXqUCaZd0gyxrFkRqQdODWMNPCTCW2ApMoIr9APApF5j2JhQFHZZyvhuYreVSlG7mZdVqxczi/+8ecMDw3x4MPb+Ycf/ANBELJ67RqaJ7WzbvMm5s5fwNXuq2zYvIH/9tf/lZ//+GeYpkNn11SiMGLqtE4sx8YwLeyMi2nZhEHI/IXzGejv4+f/8FMq5TKLlixk2vQuOqd1YhrQfekyP/y755k7fx4P7djG2PAo/9f/8d945823yLgu+UKBTDaPm8vRfeUqr+1+hWvd13jrpddZtW4thw8cYtfPfk22UM/p42f43n//W/r7+umY2oljO5w7dZbDBw7hutkEclF17KZpMmfuXN588WXOnDzFxvs38+4b7/HBOx+yaMkioS9sCv3aIPBYs+EePtzzEd//m7/nzJmzuHU54jgUSSZZdXXsi4Pc6L6O7Tg0t7TgOFl+9dNfEgMds7p4+9XXef2lV8QGYAtlrozr4gUev/v1i5w9ewbbtJg6tRMi+OHf/gCimM7OThQVLYpFldis2bO4cOY8jpMhDANCBGtBaWUIr1TSp6QjFQRhlaeqY6w6NJBGutUGt1KpMDFRRBUsKKeilhVQKlfSzxoiYSfaxovo2M04Qg1N5Wbi1NFQ0FkYRdi2NJae52NKz1N5BdS4zMo4hZEU8Q1DyV8UiyPNmKaJmP37Pmfy5KnMnTOb73//7yiVKux89FGuX73GgQMH2LplC5M7pwhPJhStWd/fswffD8m6WeYtmIcv+zgNDw9x6tRJVq1aS8bJsn/fF7z//vv4khf7u127KJXKPPLoTgr5PCdOnGDatGlVZN9cxiUiZv0969lwzzouX7zAQzt2cPPmTfZ+/Al/9K/+hED2Qx8bH+Pol4e5eeMGfhhy8fIlcoV6nvjaU1S8MuVSmVd+9yJhCA/u3EmxWMbNOkRljygKeezJJzi8bz8fvfceO556iomJEtmsy60bNzh57BjLVqzgd7/5LX/yZ38mFo8BluPwwZ736Jw1gzPHT9DY3MKWBx4kY2e4evlKgicFgWhTUZEdJj3PE+GhTKJlXZdSuUIUxViBgeu6eAoKkRJ7rusm7S0MYsqeLLgwVNJLTDxVW67uv2EICkyEyuqnmLCSWqvtfSQ0YVXCUSYNVfLNkNVN0mVRmKEhE3SihXOQTN6dTz7Ogw9vwzAMJk+axKw5szFMk8AP2blzB8QxDz+2gygIaGpqZNmK5bjZLBEGO57YwejoCI89+RijI6O8+crrkpIUs2rNGiZ3TOJP/8d/TXFigrGRUd569S2Wrl5JPp9jZGSM2Qvm8+wffIOcm6HsVfj97/4BIyOjtLS00v3VFbqvXMWyTGzHYdGSRXztm18XdKYI2trbePr3nqVSKtPY0kw+myVfyGPZFjNnTmdkeJgHd24nl3VFZZYMY0WvMyiXStz30BamzZ5Boa6O9smTyNfliaOYlrYWAt+na9pUfE/kC2bNmcU3vvMNem/eZkrHFFrbWijk88xbNBffE50gnvuLPwUMyiUhNfjY04/Rc70Hy7bYuv1BLp49h+u6tE9uY9vObYRRyKb7NmJaBo1NLfTc6GHTpg20tLWy86lHuXK5m5mzZuA4Dtt2bieTFXOsVCyzYt1qvrp0mZNfnmTJiiVUKh6HDhxmoeosWynJdRoDItpyXVcL532y2ZQ/rG/+QmErhawymUySa1DFCYaca6qkWtmqWIbCKTVKyF4CieaxZVpCJ0LOVeVsqq6rmYwj4K1a+ksV7UmGjrrepYFwl7MZRy40s+oERXgn+Fr5bJbVq1dRLI5TLBUJA59HH32Uc2fPcvPmTb729Nfo6bnBsSNHCXyPG7du4Hk+a9eu4p41q5kzZ7asLhI7dF1dHflcnpMnjhOEIXs//ohVa1aScRyOHv2SsxfOsWr9OlzbYWxsjDdfeSUJv1JYQ0ji+b5HsThOc2sri5YsYWJigkltbamxiIT6+9e/+Q1mzJ6JH/iYlkX31at8sW8/uboGDh06TGN7C7MWzsKQeGccGZRKJaZM6SAIQm7dvk3nzBmYhuxWalnc6ulh2vTpjE8UuXXrJuMT4wiVKtELqFQq0T65k+7LVxkfG4NItGywJUdQwClOEhWoENvJSMELGRqLUNBMyiez2axokWKknoDqTBDGBq6bSYSGIW1Alyg3yR3ZkR0kozCV5kuEmEmrg3TjGsVpa5W0OkmIb4dRKLzoIK26UfJx6nrFoglEa+tKRYSJQLlSJpt1JdVKsk8kDhsEAePjEzQ1NwmjFEkNWeldW5ZF++RJdE6dSvukycTEiTEq1NURxTHTZnSx47FHqFQqTJ3Wxcb7NpDPu/iyo65pGMyY3oXjWJiWRSabSarOHNuifVIbzS0ttLQ2EfgejU2NtE+ZRM51CaOQqdM6mTZjmqajqzC8SJZjkiRdlePSNWMadfV1FCcmaGtvo21Sa5JgybhOkqPwKhWmTJnC8lUraairo725BddxyOWzNDQ24Fg2qr9UHEVUyqIh3rxF83CcDCYGi5ctZfrsWYRhSF1dHSDoZWDS0trC8pXLaGpuolIu4TgO8xfMI5fL4Xs+btZNkrqRTK5uffgB/MBnfGKctetXYgDFiYnE2Im1aiTeufIqxTwPEjulJ6ZUf6uqXITGQFEJaKXir+AdlRgTYizV3F6lLGfILL9f8YXGiGXhOEIWseRV8HxfdO5wbLIZF1tdhKqbv1uCJb0wSelB1BuHyIlvpbQovUQVIF8oUCjUUV9fT1v7FJqamrEMg4amJmbOnMXlSxcZHh4lny+Qy+YRbT4KFFrraWxqZHhkWOiQ+qIB2oxZs7nZ00P/YC/ZXJ4Htz/E5StXWbZiOddvXOPI/gPMefYZMjmXf/cf/jfGx0YT3pna6QVWY5JxBZewu/sK506e5rk//i4T4+MUCgU838cPhAHwfJ9yucKChQtob2vnw3ff4wPP40r3FVasWsaZ4yekAHEWN+smBqXn5k2GRkbJOEIXtVAoEEYCfzxz6gRz5s9n8bJlVCoVmhqbCOIIwpA4gn2f7GXFPWvTvlCmIXFREi9VhzXE5LGTxZTQmOS1J7CNFsoLA2kRh4qLq08orTmdRntTC1w3ro6km6iJrtTjLctK2BW2aWG5ZlXVnNBNtTBkw0fLskip0tVcaLUp+L6f9k9CyBwqWMLJ2IRBRLlUIpvNygSapy0okdxR59bQ0MCKVSsQDdyUaHSa7Kivr+OBhx+gVCwS+AGTp0xiijGZUrGMgOQF5qeyxu2TWuns6kg4wqZKKuowSBQDBn4UClGTSHIetWhQPdT4qrbHyriEfpDoKpRLpaRxZBAIzVQrYyVslHKpXHW/IMaIzYRjHUjlNUd28I0M2V/JEBS2MBBGxTBigsATG6nkbvu+IPtns9nEIwyCgFxWdLw1DInrmuJeh0FAoa7AvEXzCPyARUsXsXLtSjxPJCD13l6ZjEMQhInGQhAEScsU3Wgqu2TLOagiI50FoNskwxAqYuUoxnZMlBCO4lqr7sqGZSb3yrasRBhFYa9xHOOYFpGtnFEp85cuRkv2MLKrqye0Glb1iMJALAyZXAo8vyoRIRaLwcj4GB9/+D5Hjhzk4vmLZJyMmERhSKU4weuvvsLI6BhLFs/nwIH9fLb3M7KZDLmcy6mTx+nu7hY7pWlh2jZjY6NcvniRWz03MCJFDTlEz40exiYmePyxxxno6+fjvZ/i+z67f70L3w+xHUcKW5hJCGGZQjcy9D1e/NUuNmy9n7qmegwzZs+773L92g2pjGTiS66ubTvMX7iQKV1TGR7oY+rkSVw6dYZL5y8yPjpCf38fx788SqFQIAgCHtq+g63bt3Hk4AFs2+bIoUMUiyWBi/b3c+/WB/DLZQr5PNevXeVGdzd1dXn6e2/TNXsGkzun4NhCWzKOhRQhhvD0TEOE8bWtQWonmzK4OrapJ5hMUyltqVYS6Wuu6+K6bjIvMpkMmUxG4szSmFqiIZ4qpFCTLgzDpGusI5uriXYraT19FKZ6r6oaBQ1/1c8349jCg1aJtqQAIpabDAk2lnXdRF3fdTOC9WuITLKAH9LOqOL7tHY/mlMABqViKaGKpZ64eE3R+ZAL2jQMvHKZwKtgUK3VKfjVmq4EoJgtOp4HJIkPdQ9z2Sy2JRTuTeXJxdUtZlTVosCf02OpVjFqXZsSn065nqoMVzMekRCYUMbFkuOvwl2V2LTtdMNTfZ6Ul21aAvuNIoGBhkEAyHseCNHtIAiYmJgQDoict3qbkmw2IzfDmHw+RyaTJrP0iFi9X2f0qI29VtdCRNAxli1416p7rBgHyZEOI5lAFVoOJDBEDU0LxTtX9zLAFuF0dZdCIK13DcKEvApCXs92ZOuISLi6gcz4Jo8YOdEjli9fQSbjUsi7bN/2IHWFAvdv3cJrr72GZVo8/Mh2pk7tYmh4lI4pU5g+vYvp0zu5dOEiN2/00N7WTuiHZNwMt272MDzQRxDG9N7qZe26tbzz5tssXrCI0eFhfvfzn1NfX8+qVSsoFYuij1AsPAQl0WeImJBsNkdDYyPnz5yhODrGycNHKI+O8sgTOzl39gxxZLBoySJeeXE3F86eZ2/hI6Z0dnLi5EmiIOTr33iWzs4Obt+6TUNTM7PnzuHw4SO8/OJulq5YzoH9+zhz4hSjYyPsfPxxLMfio/f3EAYhy1YtZ9GSJby8axeTOybT2t7OscNHOHLgIH/1H/4da9at5/LlK4S+xzPfehbDNMlmc4zGgwmOGCloxajut6Q2NKVyrhasYVQvaBUiBb6PJ3mAqpBAaZCqjVY30nEcS68v7fCqzkN5VapTgVr0ljY3BBPDl61UpJKWFySGVC1WwbEVhSMZmWyJ45iMk0l4g6rwQNo3TNMkmxGLEMNAVcBNjI/j+z6FuoJoYe7YhNKTUS1FEqNmif5hlUpZQl3VzAfbscm5ottBYAomgPLeldq/k8mInlRBmBgsQQsKyWQcMhlXdqsN5HOZKsOqFmm5XCGXy4rqKSmNqTLfCt9wbFtuSqKdiJtxxOtaIYY+PxK2sbyPCs7xtFbhjm2h6zpEoRSgMQ1s6SyZccoMEoLY4l6Kqqo0qWlZJn6gdry071gcxWBK6EXjworjiu/Vy5zlHlINLVItvqKOmbCQouqSaGWcbNsSzTGBOLarSsYNbS7HcsM0TJMw9MhkVK84BTP4MmFoI+iXAbaiPNVafdO2cOTf+oJAYhG2bRN4JDuxKp00DJFdsG2bpvpG7rv3/iSTRiwoMVOnTmX+/PmsXbOGpqZmSsUizzz7DUzTolQqEochf/Jn/wPFYpE9777F7Vu3cXM5Hn/iSf7i3/4vxESUykVs0+LejfcSxxHlwGf50iXYliWy257Pd/74jxgZHpbhl5EY1EIhz4cffoQX+GzavJm/+vf/jnKxiJvLceHcBVpbWlizbhWliXE2bt7Epns3i3EwYMb0abS0tuE4DpVSiabmRh559FFGx0bpvXmTe9YJMeCVq1fS2t5KW2sbXdO6uHDhAh0dHcyeO5Ns1uWxJx/nVk8Ps+fOZWx0hJGxEVauW0vg+azftJ7W9hYmT55MW3s7p0+c4sSx47S3tWBhUMgX8HxBK1PehpPJ3IF16uG73vrBMGyBOypwXRYy2JoClKLCKhpaYiQh+duSxl35XDGCu2fLHljKe1EPlbgShjhCaXpZpkUo51iqwQoglPstI42STIO0MEIL5UzDEKWaytCGEdl8js8+2ct7777PksWLeexrYsw/2/sZ9225n+kzp1MqlZJF5GazdF+6zOEDh7h36320trfJzUN4s66b4/y5i5w+fZYHH9pCxs1UGduM63L10hW6L3ezccvmJAwX4xDjZLJc+eoKvT232LRlE0PDE7zz5juM9g/xxLNP0j55EpVKRVbeCJsZhhGOrfOMVX8jIWZiYGBbtvTCUxxZQUMqWog0g5VW2sUJhmpblhSmVscxk99N2U4ntQ+qAESMd8axkcFF6gUqO2KaiK8VEoyCmhSkQuTyhNV9U8ZYP0d1nro6lWGI5n1hGCbN+2olBGupnGr+12KwipyfKIYBTiYjL1ToajiyK7RqYa2MtjpPFd1Zf/id7/zH1FYql1ZVJqVN3fSsmpvJ8NX1G0yUApbMm1XF+9Tda8En87VJJTG2OGLO7DlYti17NMnkhedBLJNGst3t3HlzWb5iOUuXLibjZiiVS4I2JdJskhrkJxU2XiASD0jag2Ua2HKwkefT1tbGnLlzaWtvo6GxQXg3loVl2/hewKKli2lpbcEPAnK5LNlcFssWHllLU7NQ7THSjcS2BVZomCbrN67HiEWWvWNKB4V8Ad/zGBsZZdHixXRM7RQ9jPJ52idNEhnQiQks02TdhvXJjt3Z1UW+ro4wCLjW3U3GsVm+cjn5QgHTMMnYGTKOI8NoI/kJaOGdKVt/uBqmJDwNtatapoVtO3x+7DwLZk1jcku9wIOkJ6tkzUQNP3KzlDxSbc4YEuB1ZCdX3SvW54aa+ArrsrMZiseO44+XmLT1PkI/AGkgHVXSZ2pqT4ZqKqeF5nEq9qEecRyTy2U59uUxpk3r4lvf+T2KxSK7fvYLZs2Zwwdvv8PKNaux7DQELlcqvPjCb5gxfRofvP0eqzfck/TGsm2LsdEJdv/mJRqbGjm4bz9r1q8lDHwMQ3jlA339vPHyG7jZDKeOnWLFmpUCCguEFzrY1887b71LueLRfbmbtevXsnj5Ei6cPkdjcwOTOzuScRFrSmCJ+ppKQmpDiK7XKmrp2KH6W2GListqGEoBKpYcctXfLOUKVyVxTNXXXtP9iFLBb8cRc0k3guq46joM+d4oEvNbwAFRjc3gDs9Uv8+12KhuPO9WClpr1/S5oWs3698FQhGrfPUG49d7aF23WnSajUSUWytok/LcRaRo6geKJHaihDDufuBINjPTvI843RH13UkfMMVDNE2hEO97ohe3hHTFZ9W/WEwQ0xS7hi2FFYhE7b5t21JJR+yUmGn5mC2xOtW3RoQWRkL1MgAnk2XW7NlMnTo1eU71sGlpa6ZQV0elXMEAwdH0PBkGG6LDYZRqscbye7Ouy8KFC4hj0awwCkMC3yMIJIVl9hymdHYQ+IIxIUpKBY2pvqGelatXaxVZhuy8KSRfVq9dw84nHmNSh/i8igJUaO/YjoBYorjqXplm9UaYhu+ihUwCHciig4SxIW+qieidk3VdshlXcPGkIIllmlWTPuM45LLZpKCgltaie822ZYke7BmHrOuK46p5E0XYll0F/usTXnm+6joVjphxnKrjCQMcSzV1wWftudFDc1sry1at4tixE9y40SMShohN6PKlr5g0dQpLVy7l8MED9Pb2igZ8EnL56sJFZs+ZxZo1qzl26BhDg8OidXgc42Qczp05z+LlS1mwcAH79n7O+Ni4CKEzoqnf+bNnWL5yJfMWLeDQvgOUSmWyku+s3MqMTPLZtk0+l0X1gk8NlWqPbFZBLfqYpB5YmohRiSsF7zmOI+AEy0Rxy3VjIdakVrKphdsZxybrOhLXdqrgIN3YiLyMjW2rpo3gZhwZbt9ZaWgYgmlSO2cVZql/v4IalCiNek155LWGXVekqjW4upKVsCdiThkSKnRtcb2WbdWsL32Oy7mtZ+fVwOlhTG3ZF4aoJzcNE0vK7sXJ7lgNHegTPJYuv2Vb+H4gOYsyC2iIGwhKMVxhH6JZnhJXBshlXQzLYmx8AsswZPsH+WnNmIsbqjpeiqECQ0gGAhWvIn6Rm7t+zSrsTHetNDRBSyCoSaM8AE92LpAXXbWDBoGuN5CGcLZtEQQhxWKx6j4Qp6WinizBNA0jwar18AZpEMJE3KUa4FcepII+lOhL0nBPu7cKf1PXABKpVILeMVXH1cdNnye1XpK+6ETyCRGiQ2LADekBKDxOeR66h1JdyZUmCvTQTi0iI/ly2ZAx8CmVynz20cfcs2kDE6NjYtwklS4MIibGJvj4470s23APA4ODzJjRhRmKe+15HiPDIxzef5BFSxYxNjJKc3NjspEFYUhfXz89128wd/E8RkdHaWtvxYxF9BOFMb23bhL4PjNmzWR8fIz6hoLkAZvJhhYBtp7TMMC2bFTrHOFspII06vqrHZhUbUmvdhPjn6xMea+qPUAxD62q+1Xr4ann9HPQk6K6MNGdGyMgr1efO2qz141hbeiuG7Haeaafp34t+vnqAta6xq5awyqsV0ls0zKJQ4U9U3Uc3TYqLNes9QD0hx6mi79TnEuAy2onqNZDrXqYBqZjExFT9n1u9NwSYZZl0t8/IIU00PA/qhaSaViSqiXEg8+dPssnH31CQe7qoXDVxDlZVmJM9MGOY2kiTLGCDVPK+KnZql170v5Em6j6uOhJGt/36b3dS+/t3sQLKBQKd4Qoygi5EusRoZCaHKnH4EqqT3Le0uvMOBnq6upTY6s94lhQp1SSJ45jbMPEzbigfHi5SSQYkVZvrpI7hsymqnmThPFqIzJ0Q1/tdarj3u1/7Wu1E1Esf9MxWgAAIABJREFUapG9No20xYj+/bWeT/X33t2gp8mtNNpqaGzkwBcHWLlmFbNmzyKWC8GreNiWTXNzM3s/+oxla1fTNX06BjGBH4oeZjG4uSyfffgJazbcw+TOSYLmFYh6eMsUWelPPviIzQ9uobGxWSY1IOOKLHsun+Pg5/vY8MD95OsbkntjyJ5QpmWJyi3pbdeq4evjUjsHlDFLvVPzjrEyTcXxrE5g/nPhca3x0sdYN3b637oR073aag86vuv36nOjmiGRlpHXesO1c00/jh4lq79r563+3coGmaZwGg3LxIiFRrF+3bXzTT0fx3FKmwISlSC9fXTVYBMlXpPogxMnr+gXpB6WZXH7di+njp/EzeU4e/oUb772GoEfMjI6yq5duxgeGcdyHIIwoFyu4DhZobSDKEubKJd46aVXcN0cIJrsmdKbyuayNDU0isyq49DY2EghX0iwX7VD5/M56uvrqKsr4GYy2JZNoVCHYzsQQzafp1BfR6Gunj3vvcf1a9epa6jHkpSUZFFHqZJNLp/n6JdH+OmPnufcmTNkc1mGB4fY++EnQoXL0AbfEEbv2JEj9Pb2JgC34ow6ToaRoWEunTsvFhXpJMxkHIaGhnjnrbcYHxtLzknQNAQl7MTxExw6eJCCLIX9yQ+f5+XfvSg4ntIbVWMBgrkhnhIGVCmHKWNmWqkgtqHwNW0i1oL9On9Qf+gLXZ+E1YsMyQgxktYnugegeyW1WL3uvarvrwrdYnF9GUdAIm2trSxYtICB/gG+On+BefPnUiwW+S//8a+5fOkrOqZ2MH3WVMaGR7hx5RqzZ8+mt6+Pv/5Pf83t2710dnXRMb2L8bFR+m710jV9Kjeu9fC3/+X/oVgs0tU1la6uLsZGxxgfG6ezq5Mrl7v52//+N/gVj47OTjqndjIxNk5pYozGpiZMQ7BsFL/2+NFjvPDTF8hkUkpcrcOjj70Yi7vBOikjoNoQkszNFP8zq1opq7HWvc9ag3q3jV2/v2lmPj1P3TnTw3D9GOreKkdIN576edR6q/qY3O2c0vl2p9OovxYTEwaioaFtWVpUd/eH/nlAdD3Vydt3w77UyRkmGJLuYJvKcwRkxk/3oJQHe+bUCS5euIjve/Te7uHkyRMcP34cyzb48tiXtLdP4qHt23h1925y+Truf3Arb73+GkPjYzz1xFP09t7k9Tdfx81k2L5zJ4cOHmHRsqVks1kOHzjEB++9z7YdO2hsqmffp58TxzEPPbwdJ2MTxyIbff7MWb766gqW4zBv/lziKODgvv2s27ierukzOHb4KLdv3uDeBx5goL8fZ+kSbly/joFBY2MjnueRyWSqyinjKGJ0dIx779/K408+yZUrl/n1Cy8wNjLO6vVrpVGX1RqOzYd79vDa7pf5g+e+Q8fUzoTMbds2t2/d4sc/+CHtbe3MX7KIitQIBVHP/NKLu2lsbeHlF1/iue/+yyRUyeXznDp5mk8+/piMmyHwA9asv4eGpibefPU1QUUxpNaoqTBK4WGq0k7TQpK8Te1epnhlqDiJZs1c0Bb5naF2dYZfz6rqr8cgjKghDHft4qn9vD6/ahdG7XxV3x+GEUMDQwwNDpHPZfn2v/w277z9Dtt2PExjcxOe75Er5BmbGGdOXZ5vffv3+fiDj9nx2CM0NjVhmAaOaTExPsbM2bN44pkn+PSTT3nokYewbYeWtlbiOGJ4aJiZc2azfcc29u39lAd3PkgcQ0NjI8NDIwwNDjJnwVxWrF7BZx98yMM7H06SNFEk9QzimLa2Nvp7+wijtNQ2vSYRLaRjpMZBZcHjmvFJQ3rDkC0/7uJ9qjHWH7W6vrWRSGq0o+S9tZ9VzkfKU9WjxvQ79A1Utf8R31c9v3Qvtfacq8cp3fxr504tdKG+NxkXiQHajoOlosSaOV/70MfEeu7b/+I/1g7yP7sbqUEyDHoHBrk9OM6yRbMFwZk7+9HYmQxRHHG5u5vYi1i/eSN+EPLUk09RXygwNDzCd//wD9n36SdcvXadiufR19+LX6mwbds2vjx8jC3338+tmzd4+umvU6iv5/qNq1y+0s3K1Sv56fM/YtN9m9h/8CC3b/Vys+cabjZLsVhk7ty5VCoV3GyW3bt+zalTJ+m+dhU/CGioq2NsbIwTR0/Q1NzIb375S2bOmU++Lk9fby+VUoVPPviQjZs3cfbMGV789W/YsHmTpKpIDNO2+eqrSzi2w7Rp0ymXK8xbtIDe/j4WLFhYhQ/5fsCUzk4MUxRPdE2fJtS81IIxTaZM62J4aJCly5YnoZ5tW1y/do3e/n4233cvL+36LRs3b6JQV0cYhri5LB+8t4fNW+7j+pWr3Lh6jc1b7sPzPC6dv8DK1auEATWVOr7K8qcJDVG+GrPv+DmWzZ9Fc0NOtpOR5HNl8O6yR98Nr9Kf15+rndBq0tvZLGOHjxAWi7RvvZ9Qyq9Vh453985qn9dfj2UUE4Uhx4+doOfGDWbMmkH75MmsW7+O1rY2ojBk/xf76Oyaxpp1qymXSrS1t7F+03pa2lrw/YD9n+5j/vx5LFy6iHK5RGdnB+s2rKO5pZlyucwnH3zCsuVLmTV3NpVKhekzZ7B2/VoaGxupVMp8vvczlq9cztz586hUPObMm8va9Wtpam5icHCQ1156hWtXrrJ81QrqG+r5Yu9nbNi8nrbJk5IGgNXXp0MfShO3Js+BSgqZSQY/isI71rS+8Smeea1DpR4qkVOLmdfCPneLUmqhBR0e0D1qfa7Uvu8O5+4unmZi1Kw7RdfVa7UbiT5fhCkVXUHigSEGzl5k8sa1hDLaqd3QayMzw5BJqVqPQJ20+gJVShjHSBq1JngRx3ecNIBjOwwODvDG66+zaMUKvNESUSDen3EEFcSMTZxsFj8MyeXzPLBtGzExp06cpGPSFE6bZ3DdDA31jUzqmEoch0yfOZNKxWdoYJB8oZ4tWx/k7NlzlEtFNt57H1EQMjoyIqqjDIPQ92lqaaW+qZlK6Cfh+sjIGIODg9TV1TOpYwqVIGTGrDl88O4eXnxhF//7f/0/KdTVMaWjg2d+/1sk1TlJGJN6fFEc4LoOUeQmWXgRyjtSezSmuaVFjGlVokiA5IW6OhoaGiTXj0SOzZDyZ+VymYOffs68+fMYGxujubUFQQvzMS2T418eZWJ8nLa2tkQTUg/ZTJmJi2X1i8IXkwkvyfxJ+CU9m8iIk4KIOAiTKqJaLDehNNVO0LsYwaqFIJ8Lo1iASYYhWQd3hm6QJqr079Z/rw0rK5Uys+fP4c8X/jmqMqtULDGhSOsYrN+4nmzWpVwuJWPvT3jJNazfvJ6Mm5FJQZPADySNRoi7bN22BSfj4FU8ecxK1WLd+tBWcrlc8rznecn1FQoFtu/YjuO42I5FpeKxZdsD5HJ5gkqq66kiQD16UCE9BFXrNYV27sy868ZXh2P0yEH1HdPvVW3IXxt26xFIrQerbId+Lsp43y3y0O+3Po66p1trgGs31Ug2Nqxuwlh9TbUeslgHiGSUZQn1NUkfFcv9zvZCeuIvmZ/6IClMo7b7YNVJxTFBGCSk7iBMBxNShewgDHAyGZpaWzi07wBhFFDf2EDvzZu88tLLuDmXKPL45Qu/pK2zE9OI6e/tpThRlCV+HmWvjGM7jI6McPzIYSbGRjh35hzXrl7DD0L8yOfIoSNMTExQqMtRKpXx/Ap+kCrPxIj+SIIEHDM8OMCLu37D+ns3UyjkMUyT5/74j+i58RW7f/Mb7EyGjVvu5dC+fYRSQMOveFItSZtMGBAboqGevH4nk8Gyberq6jBNk97eXiYmimAIj7aQL5DL5shkXIIwYHBoSPTJiiIs0yLjupi2TQyUSkJ5p1Co48i+wyxbuYIp07rEoqx4hIGgVJWLZc6dPsNDj+9Iy+z0iSuNv2ULtRwlop1k2GWSwjBttXaTBR/HMX4gkzLSI0pwr5oFpi+02kct9nmnpyQYDUEYVHs+WnjoB0GSRErwN21hq80pocyIzBmBH1CRBHB9U1GFHoJhUdLOv/rc41iIjAgDnBoiMb4Co/YrvnQzqPLjhSEwKBaLVeOmhhlMsjmhNqUMmWXZBJ6ftLpRLYbEMcXHdcMCKZYcBGGCm0aR0OlUEogi/Eee4Z2eamokqztQ1NqG2ucFvzWsCul1Y60nktT8VPepFhtPeOph9fep12oJ+brRrrZBQdV36fOtiiKlOZLpcQMBdcl14MhEue5wqt89T1x7rD1v6hNSxxL+/3al5ES01xORYjmAQRDgZlwe3/k4z337D3j40UfIZLJ8/dlvMH3WTMIQHt6xg46OySxeuIg1a9bS33ubjsmTuP++e3HdHJvu3Yjjutyzfh1nz56mf2CA27dvYToWPTdv8MDW+3n1tZfZsHEDCxcuoK21lcbGJjo6p4Bhks0XyLhZ2idPpq29jZaWFtFCY+YMXv7tb4nCgP6+fn789z+g91Y/7ZMmU19X4MlnnmGiOMGp4ye4dfMmr7+4G9fNYGhzMQpDKVghKTFRzId79nDq2DE+eP99cvk87737Hq+/8hq5bIGzJ06zb++nfL73Uwb6+hkYGOQff/AjKZpcYd+nn3H65ClOHz9JvlDgFz/+KYf3H6R9ymRmzZ7BrZu36Ou5xbSZMzh39izP/933pGxbK1O7ujh34jRt7e0iMymNhYJi9O6t+mIgFt6oEhRXHkooF28gy479MJCtTSIiwPN9gjuyyrXZdynoq/6Hqfhv7eJR3r8Iu9KwTH1Oec9BGCQavGpz173X2nkqenMZFOrrKRQKkuMs8cYoFpqcYUgUxkkmX5gcIzUsNYtOvSnhhpK2osEQ2WHdSzbN6maXfhAQJWMQSi6lnSQ8HcfGzblpxCe9TrU21dikxtYgiqobUuqtjNQVifsRJtqy+j1Kzk3yomvHVDdgOl6q1rk+5gl9KLElaRtpnQtatfnVeLX6nKr9jDqmOmfd0OtG05OdHnRHT6dyKcchioS2gNIiSdaMIaINvRhCN+AVT6yJIBLFROrcbJ07podTejhQ5VUk7027XCquaC1fzQCam5poamoSAxAETJvWRRwLUYKpU6czffosSqUyq+9Zz+b7tiSlgBXfZ3ZzMxMTRe69f6tQFC9X+Iu//CsMU4hWmKbBshWrIIaKDMnE4AXs+uUuJibGyWaz3P/AFpGkklSlcrnMxPg4zc3NhGHIE08/jWEYtE+eTHFiAtfN8sQzXyfwferr6pn3lwvwkoZzaQuXOAo5e+o0Uzo66OjooHPqVJ751jco1NUxPjaGm3FobhZYnOd73LN5I7ZlEYQ+XqVCY2MjBgYVr0JTczP3bFjPRHFCKPYUCkRxRC6X47GnHueLz75g+85HxDlYJuUwoFwus27TBj58/318z2f7jkcYGxllbHRclPhFocweO4lajr5bR1GEiSmkBZUnEEeEUYwie6t7HFETJklvVz2Ud5d4grHAYZPXDQM0zVy1SCyViU6MeUgcp+cShEJH1TKF+o+oUJN83DiWLIUoobslyvtSJH2ob4CP39mD7TpsuHcz9fUNFCcmcNwMhpcqcoVRgG1ZONks5ZIQsJkYH0/ER1QTQcfJEAS+KD2ulEXiAonXxjEZNwORgHYmisVE9EONnZt1k7U2OjLK6ZOnsO0MM2fNICbm2NHzZF1X9LQKfIrjE3RO7aRcKSfMkDAUYxCGiryvNndhwAxDrT6VmApRXNR0Zab3TQ9l1X1R8IqenNIFSAzDqOJtJmveSA2oeF96v9XnFfaopCGV56oXEanPCO86rvpedc/U+dXiuik1UZfwq+7unLT1lseI0ddFiGkLDQo/CIgtK3lVGHE57wCvInRr66QsZiLfV+uB6g89BFCZONt2BIAbxliSipGGIWlYULUrGIZUaRd/B74vPCPToFgq4UnVmUgKqyhJL9FmVgz2xMSEdsOtBEgWYZ6aNAb3rFsj1I4MQwhGyCGJwhDHcWhpbU0m+5TOTuIwpFwu4zgOURSSy+Ywcnl57qYUQxZ8zTgM8SoVFi5cSLlUpufGDaZOncqKlavAFHnCa93ddEzpZOU9axkbG2XqtGnMnjsX0zLwKxWOHz3GjqceF2Icjs0DUjA5DEPOnDrNrLlzWLNhHWOjo8yaPYe58+fj+R4jIyNcuXSZrz3zjCxBtXnyyScF5moaHD3yJZ998hkdHVOElxoLMRJHUuH0SaVCUC8I8A2DOIyTyjEDWZsvO77q8yDxPqlNYiAa8AWhFG02sAwzMdIiaE6NmGEYSaVZGKuQVkxuFboaqExrnAhBKy8CwIrNxFtM7pX0WuoKefafPM3J46d56NHtZLM5Pn7/Q/Z9sZ9VK1fw0M7tFKXRM02TTNbls48/54vPPmf9hnvYcN9mAt/DMMTxXTfLx+9/zNGjx9i0eSNr163F9yrJ4nWzWT7Z8zHnT55hy/YHmbdkPpWyEu02yLgue/d8zLmz59myfStd06czMjzCwX2H2bptC8tWLmWgf4Av9x3ioce2s2rNKt7c/TprN61j/qK5lEsprhrK7r3CI1UGpXqtKuOge7ZpNJque90RqpW/042U/nk92lGGS5V9RtL7F8dRUE+1F2tZtjTWsntEnHq/uh3R7U6tXdF1K3RbpUMN+mfU7+oYAjQ1qroah2EIQQAqYpeerPghbBOxlG3UWBNhGOF7kaBN1QK1tbuB7jqrRaBK1qI4xtZe0xMHQIJVRXGEaViJMTUMGSqBbB9LglGlOyxVN7PaUxb4VnyXATNNk46OqWKix6FQnQpD6dVAHMmdyVB82jDR7VQ33fO8JLMpsuKiRXKs6nqiiI6pXcyaOw/f86hUKnheBQPRMbGptZX2yZOTTSGOYkqlolgEhsl9999PTMxEsUgcx4yPj8uEUczsObNZsnQJlYpoyxD4wqNVbXa373xEePGlsvxZwbeEUtD8BfOZt2C+UBCSilJRVafUatEURfAPNOI+hiDyR5HsqZOA89piSmhUMWmpsCmFOmRvLAPhUcqW27HEohRly7aFqEcgw2RLbpCC5iPoWoqdQLIhqn5ZwoCLiCn1WKI4IjakwlIMsQmLVyzhvq33c+3KVQ7tP8B3//Wf8N/+039mweIFTOnswAs8bMtioH+Qffv389yfPsf/+5//b+bMn0f7JCGQYtkWvbf7OP7lcZ7+5jP8+O+fZ878ORQKeaJYlJ5eu3KN82cv8NBjj/Dbn+/iL//XfysYFoFIUF693M2FC5fZ/OD9/OYXu/i3//5/ZueTOwkCkSzLZrM8+fQT+GWPSqmCm81w/8NbeeV3rzFjzsyq+6a8Nj1qqHV89Pt1N/xardVaw3i399T+rofx6pgptKHbjiiN6LTzEfdWfTatYlKbk15Sql+TmsO19CndwNduBsIOxLLKEekqSM5uLB2GONZsjkFoirUYBAHYQsA8DGQuwQAzFg5CsgnIeZcWoWmDWotJqBNSJ+j7vtCilAs1JoUJqmgJcQym1OSUFjOWi0Qp6oQylDbRJ0s6aHp2UB9c0zDvmEjqczpG48ta+nRXFTfQkaITtddaOznUpDEAx0z7b2MYhKHPxPgovufJ0EtlzIUBEm2yFaaWltMCsqOnLz2wSNzsKEoglWKxKHp1mWZaQRTHWDLTrMRY4jiWLTbUZBM3OFHNN1P5PB0fU49Qab1GIZHKJqsJJt9qm8I4mRjJ2CvvPh1TlfSQ9z1KE18gvVMlPZe8TYSuylNQvav0eSSMN8n5KH6zSgSIuRklVC+l2SA/jGlZVCoVKsUyQ4ODdHR20XPlKn0DffTe7hWtlGNRISd6O3XQf7OX4cFh+m73JiIypmlz6+YtZsycwe3bvfT236a/r18Yc7kZ3LzRQ9eMGfQO9HGz9yYD/f1JO3Dbsbl57SbTZ8xkeGiE0eFRBgYG8L0gkRKMYxgfHxdKYnGE73tMmzmNXC7LpfOXZO+ldG4qR6B2DiunJDU8VK0J3evUcVTlrSocVr1PdXcIgkDMW3nMWlhQrRX13epv/RxrvV99fevnp2PC6nP69SVeJnc6CUlYrxleU8JGppGCIcSq6ymYsYFlGKKYUkZGUZwa8igSdKowjvCkIJNuKw3TFBWgtSern7A+yAapsbUdRyRiUI3WwiqPNvF4gXK5zPETJ2VSAPL1BfJ1eU6ePsWpUyepq8tjywtXupB6aKmHc+pc9FSqXk2iFph6byTDV/2nmmy3em5R8byqwVcdSPUJkYTGpK0pYrWbmRagsBjB1XO0xoDpOERgxELmzDCSBEygmtTFggVgK5qVOk95cyOEdxcb4vcoDJEcbyJiLcsrwqy6ujrRpiJON5/aTSlNsohxVC00kCW5USTI5nFYvdBUFOH5vuiEIDPHSbgpjany7sXuLydxMunTbHUcRVKkWsuyy/trmnLjxEjeS6xagqcJIpDVXVrxgcJ+xfFlWGnApfPnuXD2PI8+/jjFiSKYkMvmMWJhfK99dYULZ86x5eGtFMfHMU1TtPIgJpNxOHf+HJe7r3Df1i1MjE0k8zaMQjJZl7Onz9J7q49V69YwNjYm55XQrLBsi9PHTtLf18fKdaspFUWEYaDj0UZy/Wr+N7c0MjTUL+dk2qcL0vbudxqfNBRViaG7sXj08FhP8oShgPPUmleJIH2N3Q0urKVA6Q8dT61NnOm4rW6gqz+f5nZ06Tx1rTp9Tzl6yjs25HoyY1Idkpjkc4aZfoeKfAxTCDmpTcmQuKtin6iuGer8TdPEVKGDHhao32uTTGpBWaaF62QSY2dadtWNiWORnXTcDJ99/im7fvVrTp04g23bfPLBR/QPDDA0PMTQ8LDsk12h7AXcvHkbN+ti21aCZ1qy42Mcx9TX17N/336+unSFhoYGcrkcpmmIklLXpaGhnoYGUfPuZhyamhuFKKw8f0sNFvDGq68xOjKK7TjU19fT29vH559/Tr5QSPQVk3Gw0jJR5Ynl8gXOnDjBD/7mb/h876fk6wpcuXKFQwcOSk0BrQIjFlzLL788TnG8lHihapK42Sz9vX303e7FzWSEZqisKVb6BoODQ0LsRUsuRGEoxIw9jzCMyNcVuHjxAq++/ApnTp3GsmQIHFeTmqs8CyWgbKTeZyzVpwwNZ6s1wOIczQSsV9dj23bSScAwjITbpx5iwhuJUU3MiJzAIlQ35HiTtEwxLSthMGgr7I7QrhrjE8URcSxgi5bWFq5du8aWbVuxMKmrr6dSqbD/8/1U/IDm5mZ6vrrC/Q89gGkYZLIuxVKJU0dPEIYh9fX1XP2qmwceepAwjMjmRBHJpbPnsUyLQl2B7stXeHD7gxCK1tFjY2NcvnCZMIwo1Ndxo/sKD2x/kDAIyGbdJPoT8ogiAWNbdpLQMwyDUqmC6+aqxkoZFFsqU+ken+416hGjWtO15P1aD1FJ+6mQXH1GqTvdrdRY9zT1pFCtoa/1OFX9vJo7tfineq86XpokS6ECHf5I5jfIKCnCNrRr/mfGpHbMBHNHJCt1iEs/jrrOIBAJYim8Xu1+6wNdFb4ngy/k6UzLFvhDLNwP5QUlbjYiBMsXcpiWQaGuwIfvvc/xY8d49+33cAyRtf+nn/2Cgf5+dv9uF2+88Rrnzp3jZz/+MT/83vf4/NNPyeVyImSybW739bJ792/59a9+wanTp/l076c4jsORL7/kzJkz7Prlr3nhF7/Csm1u9/bykx//hIsXL5HN5eXiNchksty4cYMVq1fR1t6GZTlcvHSZL48cZrR/kHwux7kzZ+jr60uuxbFSMVw9hL99q4elK1fy0M4dXLt6jbfffIuTp05y6MAB2dBMjGEun2PP2+9w+OBh3nnrHTAMLNvGtCwcN8O1q1d5dfdL7HnnPW713MJ1s9iSbuNkM7z9xpvs/u1uDn1xkKzMJsZxjOXYDPYP8OsXfsXu3/6Ogb5B8vk6PM/j4w8+kqLQ1d677k0kfyuDJj1BYhJdTIFLVtPjiAUuqlT0oyhNKCmYIvWG42qeXvJaCv9ESvQ4ipPjio1aUo7kHFMesGGYyWtqYteGiQmeGse4mQy5Qp6GhgYe2vkIr7z8Gjd7eliwZCFuJsPLu1/hyOEjTOmYwoYt9/LO628z1D/A3IULMIBf/vQXnD11hs6uTtbcs5Z3X3+L8dERZsycQRhGvPDTX3D1ylVmzprJ0pXLeOvVt/ADn86uqYRhyC+e/ym3rvcwY84M5iyex57X34YwYtKUyQKHs+0kiaOEVIgFHDI0NERf7wAzZ83Gl0Ujerirrrc2nK+F7uJYhf5RFe2o1rCkv6tKq1SoSBkUvU2SkgWs/my19m0K3aX82Wo1fiPREtDnTi08oHvEhkyE1xpd5QAZhoEhAsMq/Vzdy601jun5iqRdKFs9KduuXlfnoZfYqp58po6B3Q3UTUJ+NXktdVEyjIpk0oGai0e417Nnz2X5ilUsXbqE6z09fONf/Avy+SwDw4P8009/wvx5c7DtkO7uKxDH7PvsC0zT5Lk//A4XL5xPsMA4iqmrK7Bk6VJWrVrFvPlzOXr0Sy5euMTBAwfovvIVFy9dwA8r7Nmzh9deeZWGunpeeeklxsfGZc8fEyJBmn/91VcpFcv03LjOa7t/R9/16xTyBd59/U0+ev99zpw6hZt1OXP6JP/wg+9pivUS9yMmNk3yhTqyWZeTx4+xdv062ie3c+jAAZFgMYRnVRyfYGhgkGd/75scOniAwf4+nIyDaYlw8fChQzy881Fsy+HA/gPU1deJxIptc/XKVcbGJnjia0/x7ptvJthpFMe4mRx7P/yETZs3QRzx0Z49LF6ymI0bN1DI5cRE0AynIo/rhhWQ3E+h2K5P3OTnHZtqnHgV6URNZnbVd1tm6s3om7RpiARWskgEqCXwUUOEV0KYRSqIiTyr0L6tCTV1w6JvHJbEj08ePcmH735AcWKCrz37NdasXcW3nvsD3KzLtavXmDFzOh2dUyiXyzz29aeYOXcWT33zGXK5HP19/cyaO4cxkp8XAAAgAElEQVTmlmaCMOSpZ59k2tQOvvbM1zBti5GhYeYsmEc2l8V2LJ78+uNMntLO09/8OqZhMD42zsy5s3GzGXK5LE89+xRtrc08+vTjEMecO3uO7itXCSXP9/zps1y7ep1ACld/9O5HzJk3m7ZJbYQ1hlDdB31sFdapb6JRpIRvxP9avFF9XvUO0w1aLaSm2wdlGHVjpV5XOrUqnLak95k8bxhJlwWhY2xJQRI76RqrwwCp8a3O6OvnlJ6bNJxGnJRO1zqMtQZa3zRC2VMKWQSisqAG6XyrisY1A2uLZEla41FrVKsrCyKU2rvjVyTWJuK2JMsqrb/C7wxgYnyM4cFh7IzDyNAwvh9iRiFLly7lVm8PhYYcLc0tPPvM1wnCkI/e/5BsNpeoqUdGhGmZ5HJZmppbmDptBq0tbaxeu4aXX9rNmjVraWxppLG5lZkzZ/Dyiy8yMDBELpulkMsSRgGWlRdlg4HHkqXLmTbjM3zf4/TpE6xdt54ZM6Zz9Muj5B2TfKHAhs2bieKIxuYm1q5fn4YRRtoaogrvs0y+unSJiZERWtva8SrlxNMYHx8nm8+x75O9tE1qo1QsJUYijmNM2+b6tev09PSwcNFCgc0gqmbGRkdpbmrm6KHD5AsFihMTNLU0EXsiKWiYEPghly5cYtmKFQRBQElSdTCoMny191fuqJhJV1XVniS+4zO6d6kWreu6CR6mb8j6RNN/qs05KT2MVWcAgQUnEIFuDGq8FMUIEQfiDm6k/tlyucKiJYsplyuMjY/JsDpixaqV+IFQ0h8aGOSB7Q8ye84syuUKbibDuk3r8TyfMAjovXWb7Y89TNf0LkoTRTJZl433bRItsT2P27293PvQFppbWvAqHk1Njdy75V6ZiIkZuN3PQzu209zaSmmiSEtbK/dtf0CQxr2A82cvUGioY8GihZSKJc6ePktjcwOz5sxmoG+QppYmVt+zhrLUy9UxO/3eOFpLkdpWINWhtokSdFeTRP8uZRjUfdLH9W4JYj2BqN/rqjkWy41RRcNRRMYW56sgLIFzChzItqo34Wp44c7rV3+ruWQZBpFk78QIaIyq7+CfnaeoJS2z/GYYE8nNPpLlqGEUYVuWEIjSFOlMw8BORaFjRL4rrhrk6soIQ7TBMIVFd1TJnCFCsSiOxcUg3PEojmhtaSObc3nzrTe4Z+0aXv7tb5gzZw5z5s5j2vQZDPb3c/PGTRoaG3l/zx4WLlyIaYInyfAYhmyXEAuCt2Vy/txZli5ewspVK/jJj3/IY088yfjEGH19/RAJrBUMdjy2g2wui4FUbZftVVSGOp8v4DoOURwzUfEYGxvjm7//Leo+/pjnv/99vvsnf8yUKR20tbYDIgRVN8J2xG5qGqbg1JkGxw4f5k//p79g30efyA4AglSdcTMcP3acJ558ilVrBD/WMk1cR+DFke9z9MgRdjzxKJcvXATDIJ/PE4Yhruuyb++nPPLU48yPFoqOkU4G23Rkh8aAj/Z8wNaHtzPY2yuJ8VHikdfiReqRJgCkhxojleAtYqKqREft4lEL7p+j1ukLWF9Ydyw06U0Qx7LwwEjYHmqC6kZDJDLSkkUV2tV6C8qoRGFIXUM923duxzDMhHVRLpeT81y4ZDGGYVAqlZPz8yoVsYDCkGWrlmGZJuX/r7D3DLbkuM4Ev8ysuvc+2953A+3gG2h4oGEJggToQO8kjcxoZjSaWMWszGomYjZmY2N/bMT+WWliJrSSlpShRA09QZAgBe8IT6AbHg00QKAbQKPR9vUz11Rl5v4452Seqvc4exGI7n7v3rpVmSfP+c533GAI6yjwl+dQAZdedgkVIHAOta7ICSHgost2I8ZI32lMGgkkJ/ejt96MbrfDaXcVPnHbJ+EcFZ/UdcA111+D4XCUgQqaaFx7kO01N0soEVKm2iNdzFU659Lo6XYnKTGo7XXXiLKxx9bCtLzXAOV223x/tTR2jjnDI8ctmtWcDaTIwUoDk3tVBIrs29Y6tA2ADmQl76soEFwBA4kzWESeOFs4x2fewVkDV/Qwquo0/beIMbuwQu5qhaoXTB8uy8mwVUrgpaABgKy0AineL375S4gc+f1Xv/evsWzZsjT+V1yS03Oz2P/Kq9i+YyfOOHMrOr0ebvnYJzA3exrDwZD6gMJgzzXX4se334733n0Xl15+KS44/yJs3Xom9u57Bk89+Sg2b9yM3/it38YrLz6P//Jnf44zz9yG3/ndf4my1+FyUY87vvt9vPX6a7jz9h/g+htvwE9u/zHuv+ceXHTRbvzkjp/gg6MfIFQevW4XL7/4Eh6+73784X/8Uwz5IKaULcS0sOvWr8eOHTuw/6WXsGxqAlNTU/jbv/x/sWbdWtx4y81Yu2Y1lk1P4uUXX8Cea/bgwP7X8cyjj+O3f//foNfpYufO7ZibPY3p6Sk4a/FPX/s7XHXDdVi+Yjm6HRpfvf/Fl7Fu/Tq8/PyL+OD9D/CJz34Kg4U+tp21A8tXrMTC6ZkULZcDqwVTC35GnaQYpDsWWsKveaO2AtWHXB9IHa3VfJVkS4hbFriVoC3EQ4r5PnjkjLOOA1OLA6eS3K0Pl9wHAA4mBvT7g0wHMB1lDJFwksguy2W51V1EQDARvq7hIXzdYtQkkV65Xro2v6RRjVZ24tgYII0xln0aDIaQQXrWGlTDUeqboZWLVgR6s/Uwu/a+0N4HyMfk8+3KJX39ZjRdXOAmJZj3tj1hVdYZjddSnLd+X5uKaHOe2ngD0nKviVaNMTz2uimf+rnbZ6Fh+A21zvSBovqUD0Xz6SQRI4YAZwx6ZZHogIL6dkrUTLY5H8K2MIg4OMMbXtUs/PRRcdka842iASw1HJhavoJTfWgZrKV80MmpSWzbtp2nPpbwPuC8NWvw0IMPYP/+V1G6Ah+55VZs3rwZf/hHf4wQI77+13+FjRuoae+TTz2B66+/EV/60pcwMzODK/fswXkXnI/JySm8+967eOLxJwFjsH37dlx57R5cevXlqKoK69ZtwK2f/DgW+n1s2rIFp0+ehK8rXPe7v4XJyQls37ENmzb/JqpqlB4/MCIf9gc4Wh3F0Q8+wO6LLsbpUzP44L3D+PhnbkO/34dzDjOnTqHT6eBzn/8c7r3nXlx2+eVYs3o1jh89ikPvvoPZ2Vnc9JGb8dOf/hSzb76JL3zxi4iIOHr0Axx6+21cf/NNuOHmm/Cdb/wjrthzFXrjY4AFHnn4Qdz88Y/iQ7d8FA/cdQ+eePddfOk3vgprLMbHxzmndDGxr1+RrXqIlA8sSkOqaxoooy1wSoBFRtr8krxHrtueEhkjV6TAoIgGxhGql3xlxMid/E0KMBWFw8TEBPoL/VS4QNVtdEi6vS5GwyE17QnNpPQQqD9up9fF/OxcYz0MI5vctMPAupLuweXqq/ZzL6W4xPA4a1GUJYZSYMGKQSL4qaG3psqg1xuIhoJJusSyvYfEAVL/gfzi2AiAskMTAOq6QskBz9p7DPoLiVbTXZxkTT0XZ9D3BBRFibLswBWWU74iN8euG8hRKzyRjRBonHsIkb/TJL49KTjOybbWog4Rla9SsKrBDXM3KcjgP8uBVNFefO3QkneNVBd5S0q5xhgxZO9YNJ81DhFR9GpTxtU+FOAcQnpwSbxu8jNtQjchUkMzuwvnMKqGsJHdYkmNkVy4EABr4ExE5MPqY0Bh8uzs6D189LDItb2zs7O48qqrcc111wFRmhIMUNVk9W++9VasWL4CJ46fwJVXXA0AOHXqFEKkjjETk1OI0WCs18M5Z+/AqKqwcuUyrFy9mhfPYtDvY/PWMxE5/WHthvXYsvUMDEcj9AcDTExMYmrKJjeNY+KoqxrbdmzDE48/iScffxI33XwTrrvxRpRlgbqu8eYbb8B2Ctx86y2YPTWDbTt24PfO2okYI06dOoWXXnwJt9z2CbjCYWJyEl/8ypdpZLK1eOm5F7B28wZceOklGPT7uO6mG3HpVVdgYnISJ4+fwBuvv46P3HorqtEIm7dswWe++HmaWLB8OZ55+hd47IknYcDKxDSFRxtI1iEIHGjLP29a+rZiTopBBQy0O9p2z1i+AYnq607yhnIls+Llg2Vy3bQUMHS7HRw8eBCPPPAIPvbxW7ByzWrusJQV27NPPYOzzzmbcoqpLI/mvnsaN/zivhdw9P0juPrGa1voNgdskkzyGtUcCDQQFMwAxFpYNKuFNFIbDoZ4793D2LhpI0IM6eA12UComvisaGOMGcrym/W9tc9nXVewyn2m9wR0x8bwywNv4fTMDC685EI8+sCjePe993DOuWfh4ssuwfFjxzEc9KlfwGCQ9k3yZq0rMHt6FhMTE3j3ncN44tEnsXLZcnzo1g/hrbcOYmF2AZdcsRv9hX4DSeqX5BBH5F4LWlaSnIWs2Eqe4qFlLUbAWvKAAwAXRHqbVUu8OQk16kymthxrTyqvqaXUP0t5qHUIMCGkwHvbiOoXt+9jxcf5Z/LGNslMijXyg1F5YFXXjZw56gxEQhOYExkb66XDYoyB8cRvBATVEd7CgbjcFKXlBapGFaqK2rchmrRIq1at5PSsGmNjXYyN9RC4qQdVSwb4UGH5ipW4cPfFuOTSy7Bx46YULR0OB3CO6vRr7tXqvcfc3DyqETXX0JZRDEsMAcPBEOdfsAu//z/9Pm66+UZU1QhVNcL8wjyGwyHWrluHz37h83ywKRF+MBxSMYEBbvrIh3HRRbtpXHaMQIiohtRmcN369fj05z6HyYlxIFDt+vjYOOpRBcSIK668EldfczVGgyF8XWN6ehnKbheDwQDjE+O46MIL8KlPfYqv3dx0jTYDz6yiF+f38X9LoVodgJJraZdPC2YTsch7AWOkS1JMXZeMsXCFopo4oA9raEhalJp1j7Vr1+HY+0fx1ptv0Ryubge+9in/9aEHHsHp2Vl0yhLWGnSYI+92u7CW0PvDdz+AuZnTKEoKjo1PTBC1IBF0S25t4RzmTs/hx9+/A9NT07CWDlpZdilNxtN46ImJCYyNUe4yTRMdw+TkJObn53H33feiNzHGVU46Gk6NUt55+xB+/sDDWLFyBQyAXq+HTreLslMAhqYy9Ma66HBxQW9sLOX5xkBzysYnxtHpdlHXAd3uGLq9MfpZp4NTJ0/hrjv/GavXroYxFq++9ArOOOMMbNi4EUcOH8EPv/193Hn7ndj/8mvo9XqNPe7PD/APX/8mvvvN76EsO1i+fBqXXnEJ3nj9AE6eOIGt287E8/texOuvHECn21mE/uS8p+GS4loHSqXT3o6zFsYZeEREm+VIricUiOZ5RWe5SB65D7lFYzTUzxeGaJ4QcpFQmyLKui0X/jhXwllH5aaRglHakAWlt/Izp6mnTQTTdhPly8Q6SzeWXlliWFMrN0IbJlUnwFoYZ3Fy5hRmjp/A1m3bEC2R810eQxxggJgfQm6s2yWBnZ+fz0pY4BQr1RAAX1dwJcHyuq5gkHlevUDUH9EkrooULqeeqAXNdIdwPJ7+Tm9In4UxsIVF8B6jgYo6WiO9P2AtBRZC5I2N+efWUpWG1OonxcVrQDmsQKh5zZVS7HR6WL9+IqGaEAI8zwwPIeDMM8/E2Wefhbr2aVJqVEYyRIqmGnXPBjSxs23JZe3l1XRNM4JN6D3mNJtFvKFyh60hqw9ecWst6saexITkjOH9h0FdV5heNo1tO7ejGo3Q63bx4D0P4qFHHsGqlcvxm7/7O7CI+NY/fgvLpqfwr/7tv8Fz+/bhsQcfxdr1a/Gpz92G8y68AFvP2YHBcJSCdnf96E5cdOlurFy9mjhViSfA4d4778LDDz0C4xxu+9xteH7v83j0kcdw0YW7cNMtN+GRBx/BBx8cxXvvvItPff4ziCHizh/8CGvWrsGeD12L4Vwf//D1v8f6detw480f4m5cxF3Pz83jvp/djSPvHkan28ENN9+EJx59Ai+/9Ar2XHsVNm7Zgvvufggnjh/H+Reeh92X7MZD9z2EX775JnZfegkuufxiPHDfg3jj9Tdwy0dvxvotG/Hznz+O4++/j8FCH5/7tS/imcefxs6dO7B953bMzJxGb7yHnWfvwIZNG/GzO36Kc3adA+e6uOdn9+Hc889pBLhmZk5j3Yb1+ODw+/C+wuTkBFauWoWnH3sSvq4xPjGOPddeiacfewpnnbuTPFIFTpPysw4mBNhkroUxzy/PCDYXkzCoYm8lWjpvct2GUiQhQYzU6Mc5l1x1ob5MNDDOpmpDIpcM0JLvJOM2X1P4cf1Mhkumg9YjkfuhSqKvVkJNjU3cBtV9kysUY6BD7JFqxQnh0Gp5XrrBoI8f3P4DHD9xEmXZwYoVKzC9fDleffU1PPfMPqxZvTrlfXW7Y+h1u3j2F0/hv//jN1MKjxxyXa4Wgke320On6CF4ecimpdGLL/+ulXvmrE08zmIUhzScSzY3LaZafLmWZffAmFZnHl5tzbNI6Wn7GnKdJJCIjV4J0p1HBzF0sFAUVr8/4NSrrIzS82X7mYQheA9rYg7KKB5dr1/bY5G/52mRdtFeyTo0/s7rkrMFAqoWpZQNOq0dKWji0kZVBeMcRsMRtu3chq/+2ldw7OhxvPDcC4gAbvvCZzA+MYH773sA99x1L66+8Rq8ceAAnn78ycQN6m5Lzz27FzMnZ7Icc5+KgICzLjgXm7ZsxlXXXY35hXk8cPf9+MRnPom9e/fi0KF38fQTT+HUiRP48C03wzmLO773I1x42W6cc8G5qKsKC3NzuPzKy7H/1ddw/NhxCgDREUG328W2s3dg4xlbcMHuC/HWm7/Eoz9/DJdfcxXuu+s+vPn6m3h+715cftVleOrxp/DeO4fx+EOP4urrr8XGLRux/9X9OLD/dVx3w7W4846fYmF+AT/78U8xPjmJXbsvxGAwwKGDVFAwGFC7S+lnG7zHYDiAcx28+uIrMGWJhX4/BSlH1QibNq/HnuuuoviHp0ZI8icADAcjbD5zC2bn5nH82PFUTWT5XBXWwXEWhzwzTXY1aa2FjwwkfCglqCUKkUuhDUCl2EZlnvBZAlOIMYQUoIqR+E7HNE60lEWAyEVIhpryCBCUlxS2kF4IqOtR4mQbOiUglecKBeqshZU8P6ls8qHZIJcUpEmdmqRnpWHLUXsPZ3UkUJCux3BYYeOGTdh5zjmovEd/YQF//3ffwOM/fwIRHnv3Pouf//xxjI1PYO70aTzzi2cQArBhw3q8ffDt1LU+TQlVjRM6nQ5++eYb+I9//Cc4cODNVKmQlFFs8r6xvSDyP/9eBy/oGaRtApKC0Z8Nqkkv6ShavwhV2kkfSJ3yrTE0BkYpF/1qK39RSpqX0mS/Fq6lft92vdK9czMRq5StR/O729dr/679v15vyWHUFIC+5yaFFGA4AVsMkvCs+mUACoRyFJ56HxTY+4tnce/d9wA8OXRq2TTO2LIZm7ZsxnvvvIuqqvDagQPYsGUT1m3YQKl4iMkwxRjxn/+v/wM7zzubsji0txQi1q9fjxUrVmDn2Ttx4vgJlGM97L7sYqzbuBGH3jqI5SuW49obrseu3btof+Fx/Yeuw0WX7Uan08XqdWuw+9KLsGx6GfrzC3DOYZybXZdlgQ0bNmD5ypU469ydOHnyJEb9AQ6+dgCbNm1EiB47zt6J83adj05RYnr5NPZcfw0evOse2Bhw4thxbNi0AVdcczl6Y10cP3YUmzdtxDXXX4Pzd+/C5OQEe3EcYILw1Dnw9OgDj+CSyy7GipXTqHnyaqfTSS55ClYapmka1A7x2q5wUnbZNKSQ/rrc7Uk+F7MsOO5ORon+uRVhAgLKk9HK2oDQrOfKr9QQh4OZRsVwpDGK3JNUixnDwXUl44G50sAeK8mbVAvmvkG6Mq2uuXkUImztPeoQ4GNEzQ8v6QK6IYcEN+pAXdOjAQpXYMiNjFMbF1ZRIQAGJOSBx2iMRiNs23YmnnryCRw5chTHT53EM3t/gb179+FHP7wDjz/1FB544CFsOXMbVqxcgVFVoTc+hu9/+9t4bu8+dHu9hnKYmzuN6ZXLMXN6FsnXVgsvG6+Vi0aKGo3r/MGsPHLTjzbZ3iDeZaWBpKAkKT1FdJ1F9FlJtNGbdqWFxwJyHnD7/pZKstYoVxPv8nu9FvJ8VV3RCGnoXM/cEEOQtFaeeo20glyqekQ/X5tOojEdMoMLKbggB6NtIKVptPc13jl0CMdPnsBjjz6Gj378FnTKEnVd48TREziw/wAOvvU2Nm7aiMmJCVx52eX49Gc/gzXr18L7GtVohPnZOUJKzuEf/urvcfCtg+h0u3S4LWcbgPq79ufncerkSUwum8ZwYQHHPziG/uw8lq9YjtFwhNFoiH6/j/GJcVTDEd49dBgnj53CaEQFGsPBEKNqhKIscOzYcXz9L76G/sICIasQMT8/h/m5BUyOjWP5smX41Jc/jdu+8GmMj4+hv9CHrz1CAE6dOok9H9qDD3/0Zvz9X38D3W4PJ46fwOmTp1GPKvTGxhB8QDUaohoNUboCk8umcOzocVJcMcDI7DADlGWJ8ckJbD7jDFT9PpavWIFnnt6Hhx54lJv8GIyGFfrzC6hGNQBq6RgjGFRFzM3OIUbqU9DIQjAmK1PEpEsi5PtzPng0hD4RAjxkOgNPAIlUcWkCyURgaiACRBtxAj4CgQIYk5qeyFhyA74GK2hpHwkgdWqTMyafECUJ/ozoQTk3Uo0lcilyb6M8LENoYw3gLAKY11DQuoFeGH4PRqNENocABG8QPIBos8vJs51iCDj45i8xP0dzy/dccy1uvOkmPPToI3jn/SOwxuB1Ljet+CarqkJ3rIux8bGGYhgOh7hqzzW4YNcuVNUIurGwVjghRtTeU/DMN8clSIBJH3h9gOkauXkvNezwqbZcns1YS+FHUR4cyNL3AxiKmraU0yKrrpS9WEBpgVbzqIYYczcnUWT/I+XcVuCyLjpqWdUeNd+HpoA08tRr1OZa9c+AxY2KtcLPckSlqZTPy7Xmav210ZLv6i8s4JLLLsXhw+/j4MF38PHP3obvf+f7GJ+YxIYtG3HW+efg7n++CwsL8/jQTTfg1o/dgu9961v4+699HadPz8BZhx3nno0f/+jHOPzeYXQ6HZw+PUOd11XRB0DGaN36ddi8ZTP+8WvfQK/Xw2VXXY7/9mf/DePj49h+zg6s3bAOZZdynMfHx3HNDdfiG1/7O/zwO99H7T02bt6IGIHNZ2xGtyeNejjLIURs27kNg1Ef3/ybb2LbWTuwZsM6/Nn/+X/jh9/5AcpuF6vWrob3Hhs2rUdd1/jbv/wb3H/XvTh317m46OILMVZ28Zd//v9g+zk7sGr1aqxZs5oRVMSwqnD+hbvw8ouvoJAmJMZgbGwMxgAXX3YJ1qxejdu/8z1cfPklNHfMODz64KOwlgZE3n/3PTh96jTuvvOfARhMTk+nHPOJyUm8sO8FrFu3Fsump39llF8bfp1sDwAmRliplooxn0cGdeIdk3I0CU2KJxFjRABxp6KoQ6Q2e3UIqKS1o6d5UWAPDZ7+l3Om527FGCAcRQIyosVjlvV2vMaHAPPDH3xPyqgpHUGhjcSJhQgjB8tYwFh0OwXuevhxlL0pfOy6SzAYjuA9UmBD0M7EeA933HEHlq9ei9OnjqFTdjA/u0CNQXpdbNu+DQ89/BAmexP46q9/FdYalEUH3/rWt/Dbv/VbiDDodcdQVyOM6oqgOzPak1MT+N73voe1a9biuuuuw+zc6YaCqXmwWwiBchbRrPwSpaEPv26F1zzYRGMAkirk0uoaY7hHp/C0dXJdrLUoVPmnFi4RQN0wQv4tSjYh7Ui7KYEUKTWUz8pn9POJ0OpAUcNoBEqNOTZzGn/13fvx737tE1i3bByD4Sgh019FKWi3fXHeabOQoP17/fnO5ATe+su/RDXbx9n/4U8wnJ1Nz60FVgx7iBFlt4OiLLCwsIBet4fa1xgfG8NgMIDlQoDCOVSjETrdbpo4KgG0sixTJZAxhnNXRylg5pObGZkXtFiYX0DZKdHtdTEzcwoTk5MInrh8OT8hBJSdDk6cOIGisJgcnwT4GVxBlVsG1Ll/MBjQczqL4AMGjHA7ZQfHjh7DxMQEtf2LXAFkLVVQ9fuYOX0aa9etRQwBo6rG7OlZLF+xHHVds2srwRSg0+3izh/9BBs3bsRV112Nv/mLr6FTlLjg4gtx4SUXYX5+DqPhAMtWrMTs6Tn8/P4HsWr1Klyx5ypU1TDNGjO2wMypGex9eh/eev11/Nrv/jqsK3D3j3+GT3z2NoxPjiUaTIymNurJEEOqm4jj9AqcBADBh9QoRqb1djgXNfiAmgOwMZDSlMY9RD3aRZ23IphHjRHRUNZIIIjdKljJqNM4AzM/j73/9a9xwW//BrpbNiJWviGX8mzDagQZeeMR4X79K1/5352h8i3qKSnNZQMLDDdODjTiOBpKBHcGePvdw4ApsOOMDahGxKksQhYAbGHw5psHcN755+PF55/DcGGI8y7cheee24s3XnkVn/v853F65iTuu/d+lK7E2eeeg0d//gjef+8ILrr4IvzFf/lzzMzMUl32cJAO6mhU4cEHH0aExfbt21PeoU5Ml8NbVRU/w+K8Wq0c2oqj2edV0KU0aWi7pdzbQK4hNEhEUjJLBf/yK/NUWvmmZ4nNXpiyDnK//3+Kr0lxSL6kxXx/gGdeOYgrLzwL410aYaFdfbm1lFesavfbnG27Wkkj2kXrjQjb6WDmF8+gWhhi1XV7EKs6f04QiKyTHAjvMRqSVwKWTV/XhF5Sr1mq46bntIzaMuKXwxQCjWyRPao5sZ/iCnSX3tecHE/X7nV7eex2Qi0cFGR+v+Qx4CFyHq2iUSTRPzIkjyEkAwkAE5MTKV8zQnsZlJ85OTUFGrZH9zo2NoZqRAZBGrfT/dBanbH1DDjn0O2W2LR5A6anJjC9fBrjE+OcejaGGGrUlcfyFctxzsD90LYAACAASURBVHnnchaJg7WOXGQr/XYjZUSsWYPBQh9nnXsOxicnWPHKGVgsv2TwQ+N5YIA6kGfkPReZpCbkKsAbqbG6dMtPBkwZW42JF6Nkw31+aS8sB8r0+72PiV+FdTC1x8lnn8eqiy6AW7YM0Us6WfNsmfwNcMag0PXSEZn8JQGTnpYyeE246QCRpcFgSEKBJvISoawqj507zsb551+I0ajCOWedSwhhVOHcc86BMQZTU9OYnp7G1m0HcdZZZ2M4GOGjt9yC9987jIX5Bdz8sVsxNbUM8wvzAAu9K0u8/cabmJs9jYOjET44ehSrV6/iJOw8WEzKTTVq1gdcpx/JQRal0J5tk1I5VHlebjQhfRDokBhI6lVNG9RCxVmf58Tj5Aq2FCkR9EBQ95IrerKyluv/KhSphVwngYtgWEeJLVCKPgl/BKpQsyekEECMTeXE9yXKS6NMfT1riQYirrnZQSk9o3BdhlO/IqWS6VfitNhdEzpGf5esrSg9zZe1OWGYLAOSJkhKlRoDxRBSypfIl1xHG2uqBAopGOK9TxSa7GcEUjBFSjoBNMpZE7IH/TqEgKiClfKcpNwJOJQFTRnQxmPDxg0IIWD12rVYs34djdceDqnyyTlUlUdROKxes5qRPvWogKXIfAw0MPL8C3fBWItqNMLk9DRijDzzzSBGKRLKey9VTiTXZPBCjDBFAR8jYjQwpjlLSu+JdQ428tBFZxmdBlZGSIZQA4mGB9jykGSP4QjJE3KlrCQL4l8DK3QbQQVHIVBXf0sK34CAm3Tbk+8tqNtUTC6OZY1KzUiAGAT1WDjml+QmjS3Q7RQY+pAOhhYqEXRrDUajCqORtOFzGA1pamSn04WxhJAmJpdj98VrEXyFejTCuvUbsG79BoyqClvO2JoS7GWhhoMBtpxxBv7X//SfUPka/f4Aw9GQ6AmmHqIRxUTCaFTgRZSouAuCXpNyZeshP2eJYGVg0j9FUESIfAiJWiCUVcAYm5qW0Pog8T9ScRZjc7b4orVUQiNGQCuNGGMaoSKSFtP9NgWKrLSqaHI2k/mBEu6lRaAE1zjdA957lB0HH3ySmwik3pmiELz33OgiH/hFKFopRnIrDU+vNQ0UToFEJHSa9sQHRPaqojU8vC+3KWzztfq7dICMGsLE1MwaoCCJ7CmhKqS1DL5eZACkXFU8DMN8ZYNf47WS9xrT8oBsrsbSPQCMMYgKEGhDobuJyTMJxaTlRRScGD35Xt11Xrr/a7eW9jWPqpZ2mjpoSUozV9vJxFx9T0KPkacQEGNuMajvNe8X86rewzhHzx8ibPA0gZcXU9ZIaAB9biwMB+F84mCdFc8D3GHNInoPx9QO0rmU/HMCi4HpttrzGHAjppbPUEH3WEgqRWTlR+eGyraI25DUIXoKYwyccdxc1mF0esgKYnEUWKKl1i6u7fWcNI/gubQwYKG/gIJri42xGA4H6Ha78HWF2teQhHu5VuVrHDt5CtZmQcvfo8fZBiAamgnj64TCJaeugZ4U2tOZAgl9xAgjqR18CELI6CO9lzkdayXlgiw4kmFtB12QAjPWSku6tPJsyWk/rG2i0uyWizAFyFjvdP30PcSHRxFeFnDws8EZmJB5UFKaWQFa5xCCYQpAUrUD6BKMIr3qRsTaUHhgw1ArhpjGtzhrIaNXym4HRkX/ZXFijKiDhxSCyHNHdpmDBA6MFJcsbisnNI02/m2KQv+Z0LIRAxgQwuKeCMlAWAOEZhNt8jYNDBvYZO64AYopisTXS49QnZnRPlfakMozZq8jozHdwk//qWVURjiPRqOEJKVpdFVVGI1GqUm5XjP5e8H3vhhZksQtRo0kS9K+Ua9x00Un75hOCW+rNYg+sJeWaaAEjDgtMQFXVuICRsSAGV5nH/O1YwwpZS8y+vIxo1DDnw9eyyRd1seYB5GGgALOwnHKSgjpblT6CltlRJr9BMcKiiyh9yGlHuhmtNbmed0xLm7+axo3C0hVElkJg6LoMHrLOWFawPK9LebwtKB5XwGw8KHOrbx416P6P7QUYuaMWEnxJulgkbVk3bT7LS9f16h587QyE7MnyltgLrnNuVMQfbcKDCalHCDJ197n8jdxj6CeRb7TmDxXKiHnJGjkJtPe8phcSIKzSUZUOM3my7LnFPLzIMIWlLwOgzz/PE2otbCivNmjNmWJUNVE1ahGO7LfQfh75V6RuxxhbFRjrll8OW+Gcm3pRmg5QuuaTaOk16yGT2ZEywlNY1UvNhSQNQWjRrkZeRtft91OLmKxMskDHXPhhpbxtjIFmlVsGrXKM4ZALR0FZEgOsgY6mhYjWckBnrZx0mdG3Gi5lmO9oMEPdcHieAx/v/YSm+BCNSuJNA9KVADFJSwMK3ExUk7iP2kfwADDNu7Rk2CQbHBpPFxBss/PBFdQ+00GezJsMjrXkAVEGmA5qnOAs4gQxUhTL511zCNQVMyoRWQai/i8EBhJCWpqNj2QTZYF0ugxudDp71lJ5DniQc57Ey2oRdcHQa4twtC0lr6xgVAKUgSg6bpR9VdUVl1QVqEayorwaaFMB8+Sexpawp7cSna7RRlHIOXe0YNxQIMVH7ndcogyX+mc9CUl86vdXl4pVsLcIJsNkA8gZcQ7Kn/6OvdrMCaQsozZ6MXIKVswXCCg9IZGd2iiKEHwDqTWDAxiHTEcDFBs3Y6ZBx6BnTmFYmoKw/kBXKfDSjjS2G+QG64PRzSU3hcRSFYdJYZbY5m/AiLnKSbpYdnzfONOPmNpzWEi9WZlpKuRlTEWAdJoHKnLEiLAoD1VE9p0EKVwhtEPDIzlrIsYElJC5AIQzwPyxH1F5pKJUvK8Tx5FmS1PNFJWyZFz0LmktEjq3hS4kYyvPayz3HsWScFFQ3mxUlFlQOl0ej/LsuDnJG9PzkyEQRI56xCDR6CRdUhG3wDRZsMaSRMmTy+hyhBQyxkDdakjqsTBCzfMIMGDKp9oHalDmFArEoSKzH/L9wAUQAIAW5aZ7gkBpe2g0+1h9rFHUZ2eQbF8GqGqE+ej9yEaQwdJ6ZLChIhoyf0CElWWG7Xa7GZ7fmBxTdavWYt9rxyC9wFj3S5GdQ2B2cnCAGnInfBDIkwGWaEY0KgECYrUPLCMEBVd0zHHgRaa0JZbu+nkdlDgSAdtYoycfsUltczPVlWVBvQ1lbJy5WMzt7KtjDVfuNjlzPxOoQJbi7hF5U4JqZ7uPV0PFDQwwjGKomEhIggHA0pzC4ysnLEwDkDwQHQMkAP9PFE8ci8RBhEhehSuRIy0j+T2e1gnypMI+RBZ6YrZVQdRXnJ45VlHwz6WXXYJih//GM//5/8Nm7/yWcSxLmoAZdGldBKI12YZxXoYV8AUDsY5OFdQmaGkwQCoBK0VJbuMlOpmokUdPArpFGgjClAKjgE1EI5OSBmahiADLYwBz3EnBW8LwHuq/beRx3Q4MoKG9wVWOHMD44ieiGGUlHRpDOCo8s4GStOiPEjmJushPYct2BgHHlkM1FUfpR0n/g8e0fB0T+85kERr7+BRWAND2e2oIoBIUzPorDv6na8oLa8AnA+oqxFnKNB9OQA2UO628R4FiPeGR7qOjUR3jTkL+ApV7dnQBtgYUFrHY9OzJSbZi4icbREREH0erZTPOp9h7zmAFOEEMXrPZa7UCHowGAGRvOaqrrg4gDVzCKnZia95jHcINNAPBvPvHMHRp5/DGZ/+JIqVK1H3h4Cz3ASdcqdhuQsVMjVY1zUFpeiAShcgcOSRcy1Ns3IHAAxD+o1rVmHFVBff+eeHccMVu9DrGJRlB+M9GsxXOJqbJJFOC1KOgQ+pICknc2IiR9JibvdlQP0oaaBAzomVwJAPGZFKHXpGsyTYItCAZUFb3GQhzb8xZknlmV1Cul4yBAqdyjXbgQJEUkJJaSqDkKmJ5vVEsep7SXvjRBFGWMtVaZaCSobRrpfKMXaXpKbZyD0UNo14llHR2QgR8qG2ehyQtGTMXGT0y5NJYWSabAH4mikCXm8ZTwJS1EYmO5D5hLEONkagLHDBn/4veOtvv4FX/urrMCbABoOCa+rhuTTWURqPjEsxCEBZgBOjAERYfl4fgaIoSQk5opJsUaRxGEVZUtejGOENKQyZ3kuGIMLaIvWZEF7WlQUdrirAFQXqSAnjhIJsmkEkXkrkZy1cwWeJKBGw7AZPyhkcIJHqLTHyUpJJSDLmiidDc5pE1KuqSqDIGouyKFH5Eaq6Qll0UJad7I0ID81NcqTjmjTyhg9pplc6h5byaAvnUoA5UU0cECTKioxvGncSuaRdlJphl5+j7OkBIhDrGsKo+BhhSoe6quEKR5NgQwS4a5RzBQx7MLCO9CTLdqKCImCMI28REYEbHTnnElK1ad0proMIuOlJbPvXv43pC87FcGGQ6CbCmBKDiI0eJuKpFjFGVIG0e1AVC8kNR7O6JYQIi1GKTn/0usvx/Xsexd989ycoy5IUYOHQ7XQxNtZFt7CYGO9hYmwMkxMTmJoYR6/bQbdToFuWGOv10O12MNbpossjaktbwFgH57jfauGoz6ivUdcUvZPgRKCWro2+mDLnCsZBWn6lTQvg42cQQg0IGR2bYzsy0d8sP42xyeG26QhF/7Fwy3oqfleUZfoOGtbXflljMOIKKWtMQtVyfeLkLGxh0rhbuQlqcGWo61eIIJKfrL+4PpIzS1F+OkDGRkRPwpOjtoLQkZA3CRAbYV4fGAPL3xOYg8w8Hxs96wgcs6IBgDiq4Fasws7/8CcYHDsBjCpYHxlBEdKjPOLI1S2e01k8rA/svpGiqGtPRSj1CCF4wDM6BPHSvq4hgVjA5KyBCIRQE13AQcYQA/PS4Eo4YgUENSMZIdl8aYTNlAYyZ0pVQLSuZUGt/IR7E8pHeG4qcmR6QH4f6qSkSYcUbOi5gk9RIWBD7GxudGOtpUALyxWQU7eMM1S6GTyKopN+jvSYMbXfE0AhGQm6jZ5Mo7WFg0TMYdkgWJt6SBh2v4uiJPkUwJKEF/Ag5WY5OOVcQYP+bO5jGhnBkqdhaShfJMBXsC6p6xp1CJz5YHKPCZMVa6L+ZEBh4eBDoFxnNipysLzPXmMGo3mNC0I2MUUXxaWngEEN6pOpUhEscyXBo/bA5NgY/sWnb8Fcv4/hqEZ/UGG+38dcf4C5/jyGgxqzC30cOXoSb773Ac3HqcnqeQ9WjAZlUUBG13a7HZTWodfrotMp0et1MDneQ6/TQVkU6HSK/LtOgV63w9kBREWUZQnH3Jnja4pwlnBp/nnsWERGdyF6SM9EgFwwGbsincYJIYP5VHFDhUYgpOecoNyYjBEEsYHTi0yexySUhnWcXweayy4DxhoIGYRQJWeRFB25QlJRQ8pD+CL5nATeYiqvRMzjRoSrI70nyqY5zoL2XrI2mmly8h59uCx0xRYhk+RFFEilzMJzoa4xGgW4yUkAgQ6i42gwgCLmDA3qmyvdiniwIAs0uXKknCSpXjjPXMmTOx2BVYs8k7womBgaXCYTGWywI6+rnBmbgqfpOqbxRzZ4jKIVs8vJ5kiUDgy3kINJ2i3EqIxxnVxxtmVIl2PZcCZTOqynSLYZdRLa5WZHTH+NBkN0uhQQlikJAHj0h0lFCsl7U3QUDBlJndetEb/cqAR0kHZXEvbp3DhnYVLmA9EsMl5cvBDeiFSKGthYWV5wH4BoLWJRAt7zGBuD2hpENnc+Bho1zXdScwpZHFIDnaViQVZ5nwKGcoAQKKyxEqfIVpWtPVlkyuNCkHw96VREbngdPGAtpsbGMD2R0VNRFCjLIllrsixkwYd1jRAo/3MwpOYco6rCwsIAo8pjYTjCcDjCoD9Cvxphod/H6dMDjOqAhUEfPoxQe4m4U3NoChaJi1qCBvIFFEWHlRjxlmVJFq9bktK2zqDXLdEtaRRLWTp0eNZ4WRbodWjmuAXQ6RSUMlZQqk9Z0KBC2ZLC5ebJBjTsCzHCe076LTgVJAC2WzJiYUsH8P3TxvtAkeKyzJHWhkDCACn9JCBEaeBMCtFGdseMQXSk5EruJSCBDQDodkoMR8QDdngYoj78iU5RdEgIrTaD/J6c6oWklI0xsC7nM5NXuZhjBiiOFOqK+EM4GHDTCTnAQnvweon3wCPvEBJNAwQjc4pM7kmBnLZnJFgVm8+gn7c5AqSZ+gdRFDG3I9TPIu93ziVXVAcdLQdjxFhF7QkwdRBYntM1Ae49HBo8dMqZhFBRdOirOJK7UnvFawkgWsqRFoVnDHkz1cIAZadMQSdjgFHM3klSJDHLSoixwS3KKBOGLgkpR7qJdN8GquKJ18NXyghJjMHXDdCQjFu+aNIzfCEEDuZZUeYwiKHpcZedIq17puQAnR3QjptoOWkG24EiWRJrEInTbboGIbuttBEWhSVLEEKgB+KIl5H2LgB8qDCqVIqGICNjUJgIWxi4bhcrJseSebWGanGddSmQhRghHdQJchORPhp6rj7x6A9GqOoalaecurr2GFU1BqMR6hAwHFY8OTKiPxhgVFUY1TVGwwrDqsbMzAJ8Hbhrf0CfebbgqbMWjAE8pXAAtD61D+iUHRJCQ8+Zxu5aErjCOcqgCB7WFVSTbKnhblnS7xyjanJFaJpqpyxhDEUinXOwjnhKZ2mWPRmInHEQEdHplCisY3RG+yk9GsFGsigc7xGjdedwcm4BP3rgF9i6aR2WT/fQ74/IrKrDIuhTBE+CP6I4RIkpAAYwSqRyw8ium4GMGpEjrlO86JDlDAwtrM33iPIR5UfIJr8/f0ZnGmi0jygoNyvAPMAP6hAtVrbykMlzkFQkzuwQtNymhnSaU4aVSOusn41+ZxcpfDqLJinNZKiUFyHPneQj5rQoa4tE3/CV+e90BvN8LgNjHNfVA9YSYMnpZoLOwdyxrFtubgJkbyChcV5nneKlEat4CiJnOmvHsB6Rf0sTnzyWPAAhBye17KTiJWsbgWQ9S6udwqUNiBQ96L6/+iUyVsgPiHxXScCBkmiN9KDkunQDVroGeQaMycKrkYyVBPQYicsqipR8G9hFNqw0jaWcRh8qxDhK8N7w+/W4WbEiRQEUxqHXmyDLmzZbpzKI5ZLAVyTKwTRz+gJzZrWPqbwtQtywyDXHAVVVow41oo+ofMCwqlKrr7qqUyJ87T29t6qJ3zXAcEjK3jpypwaDIQbeUzQ29lHXnsvxIkajEdMJ3AHKe1JQnC3hA6W1WWNSM2kqyJA1Z0/CCltmIOmRjtFyCAFHj89gy9rVuO2my3kQYTMncKkEef2n7EcIVGEHwxHcCHLjLIhGWIImaET/Y05Mzy41GocpoVV1DZYIQqUqu0IjCH3/ulGM5s1F3hBzypkoDvl7e6Ry29ikBHdg0YFrc/TyameGND+XA4RaGQtNpNFzfoa8ru3SafpdXPQ9kRGefFbPuIqROld1u5QFMhpVsE7QOXtmheXgKPHEeYw2YCDln4JQI0XgoTxeptTKsoCDRcUeUwhU8ht8QNkRoGHSs0lRQYw05SOEwEM+C5Rl2VgzUcBVVeURMkqx6zFHsg6yTnpNtIuvg8/y80I2xIBdLlkJtakxRhhHFUEwRAZLHmo01DRZuIWlvri90ZrQbQiCcp3opQQ6UDtBUuDEodC5IxJfkIRwRDqViq6E3EUoAhE5MVg+h8jIW4hnQ667AfGyEsHNwsmJwa1Db6RpbcxpMHLAcz235SkIXMrLSi/GiNpzSZ8lFzlAOvdLBgSjjii9CqhDT4Bsvoekmnmf+90aQ9lSoqwHVYVlE+PYsWU9el0LXxMfyKms6Xl03XtbKQjasZaezXDEPEqeP5DS4TJ4JAirFV9uXKIUFqMmQTeRDW/6vWm6b67Fb2lE2kaY7Smiok/Ruqa+Vnst5M9234L2PUmWTJs2WIr20NeVn2uln59jcSOaJghpXq+5b1oZ5/3QLq7cr9yn9zWKoiSwE7mjFZSB8hGAp4ZK4MT5QDGDEpasKzw7nDa79z5w+l/gvG8CcQachlUC0Smahj/X7/dTM2zp3CX7KcqxLauyLtJprJ2ymCga5TXpfRRjr/WKoGPPrQCL9EVAg2vSm2lMIO4BrHiZpxD+QxCtRL/aG62FQpRsGznoyo+29mcRgLTMo6T5kFAZFDrQ9y+uRVowFiDva0RDCeA5LUkQiU43kqTrAAckZCTuYYwRjr/OhxoxZhcYIE4VyC0R5czqgyyVHjYhJymhzXXdjDtZybl0cOg2S0hOozxgOtjCxYl7xYEFSgqnNDHqfjSETBdFiLAmh0vabqtY9kUKwFrODjAcELeICClyHZHzCmFsYwyMRgVNdyqCshI42u1c6sWpAyZLKSEgowZ5tWkK+Zmgtra710bH+uf6e/TvNKrRfzZ6E7SUvNzrUs/Tfp/8vCiKBkAhhUKK1pjs9upnpc+C5VT2NCR5A5pITSudZiUWZYVEqSRk6TaGZq1VVUXepzM8Oy7y+BKkMyUuvby0m26YdwkpvRGwrrn28vwhhJQh0zasUtKr21rqNEX9vfKzRgBKyWKWnSZ9lBR5pPSrggS55uha0djwpkDKWA/6sG70Cl6gqHgb7VYI36OVqd60bAWb1l9HCrOLwwnAkEhs83Cle4rgkrVM9Et1BOmeZtlbA82qe9L/bhiKqDMjkAJ6AFdZISJ18otZQQm/pl0K4WiyACN9r/A/6eDxZ1KVDpD4rCQs0r4w5llN1lrUAj1hUA2GyZBYSwiBnIFmc4umMDUVUWOfQiT3np6Q7FyIAJcqG8OUEfczSDITVfCm4RnpA5RlpdlOURRv5jq1UmwbWa1gtKHQ69383maEdyll2L6WfOZXIdylUJN8Jpd8ukWfb1+rLbuiiLKibCrn5n3KnyoSj7yXMcaEvGRfqqpSY20iijJ30SodpzMxXw4AnYJy0Ouq5tzajLKdyzSHXF+uTeDCstFUSf2BgtryDJ1Ohzwttd56jXWv04wum16BXpe28myX7+Y1to31SUbN8bpI2eJSc9nl78aYNEdKbxyzkwl5QX1x072RJNvYvAm1EPrfbatN/xbyXQIJjCBT/wEipa24z9zPFaBRLbLRkhomgtdWpvqZ24K81CFrfEbeYwzTcdnv1Ueurin9x6vNXGpyqFjy9vdqy7uUgdL3pg++Xvf8krWw0JxbW2ksReNQUxrhq8kwu0IKGHJKCVVlkAWHyR2W5J6a6ES+UwwOBUN0pFi/MlpfjFLbyr+xtkoxIe1QG821lWZ2qRueT0vupZuTdin1fWhD1JY7bVz1XmnEtBT/q/dXP7tGZfk5mOJqfC/tYR5i2BwhJPcLZKqtU5YYDkfwoBJoqhzL92Wt5O4aAFKq3pz6kPYigqeZUNpUHbNLba0hSqD1zN1ut9EoXGRJF+notdZ73l47vZd6fWVd27y0NuzyDEBAoSGvLELb+skrxKBukkhpQh6GgxyiOOn3GeVlZKRvYCl3R0fVRPj1PelXUhCqkoRSbPL1KTnb5KqgKPeChiJqGoDQOAz6fUkAlDXUSEg2KrkU1iZjIy3z0pgNdT3tSssGCtpvr5cWRu1JtAVOK4z282lh04q0rYjbz66vVXufjBZlcYiyoqoZQhxsgEHpdzQh1XIVVlOJNg0s8WlQdEdEUwnqZ1gaecozRAgaayvB/FyLP6+v2T5k+vr67/LepZDsUoa4vZeyP3r/9V7q/W4HC9toun0/7XWRc6CbmbTlUMtnvncK4BbGodspqeDGV7Cp2w0hzKqqEgI1Bnnialg8bpzWV/aLYgDJWDPgk0eIkYK2so4a4Wqw0ESWzX1dipbUv9drpp9f9sRz+atMcSXgYFC0N123/dKaWGBwvgEBX4wmgieymlv/RSx2ldsPIB3GtQC0uZ+msEjJKiA9RpKFN/ln0MoaWXii/A7Ne5AxyG2lJc+91ILr79ZIS28YKfTkg8G3rtNGDklRqSirfsmhbhs//Xd9La0ElkLiOlDSFOym16CftY2SkrAaA0SDGJtutqTxSKv1CCN2pCHkokSags9G1FChkka2+j7kWsZkLl+ChXmvmodYZDt/xizaa61YGmhKnRl9/1oxthW2XmP9M31N8Ty0Yv1V5yGE0Dg/8rmlgJA8Q9utze+VTJdMr+gzKy5z3n8APqAGUBQGRWG5SAcg7t9S9YVaQ2OaHCz9O++nPAsMYCzgrKFKKhMbz9/eb32GdOR+KQCiu+G1lWw2VDGhXHk1eX3eLyABIyoYCTS4tG0dY2zyA5ILtpQV1YutOURjHSpPUxF1jlxuvJHurUEEa4SiLWveeIr80SHLrfSC+gwagmep6QOnYNDBkYhkXkgtrEuhiLbA6s0SRbAU8gmBRlu0G/zqDvfp/Wi/FiNGmXekD7wWMPq54YIKXgNLQSgAibwPkcrqaJbSsPF5bY3189NMn+acK30ffLdJJiQv1DlGqJ5+H3wTQWlD1l5zy3m14JLCtDeLnlkZuRhhGoeO1nLR+7SrzcZa30MbVLSVaBsRLnarF8uO/t42lyrGrfn8Kom+5bLq55Azqg2OvkfnaMyz/Nunvp6iTMV4aU9Gcobz/dC9cLmuJeBENSJkTAGqsbeO10zRSFl/0HNLfrQxVCXp62zcYzTEwXOZtPdNmRO50eBPhliKu98+k0uBRlk/vdaEDZotD5OcaHkDUXYxUC9VxwajgVDbGluEqS2M2u1IN1m4rByNQWEdQqiTBZWD2Faa6WFYsKV8NMomglSLPKDlztr6vgyQu7in+xePml3rGOGKZjNevUhLHaT2AdKIVDajbSX1NdqWTQ6SViDpM+wypO9HYJI/c0OBry3tFuV6eW1oXd448A6Kgno6jo2NY3JqAkDA6/v3I/iI5StWYs3a1Xju2edx9rlnUcI/92Klht71IkPX4Z/rw2+4QxWtQ+QqFTk4tDMSYDCG+i20FUZbUI0xzJeChZuMonQNMjAw3OREriEctICBZjL44u+QGm/nLIrCoa48PHcmEpSo9/dXHcaljL/+qXI6EQAAFdxJREFUuXxv+2capWpE1UbIbWqmrUzl2dvv0evRNo4kw8InU0xC+OqioGAn152zbHGEXOg8Re0kvZFiK8SRS8VfouKi9MQIKIsyVaBZm+c7Wcet+jylVkEaedul08PaxrQdRFoKCEoJelEU1ExGgUK9l/ol11g64i/KlXWKsYsRqnCdGZ679Kdspq7ZlovmZF4un0ReLGnSqh9YXDK5UccP4zT6af8J0Y3MVyhl3Sb3KVpdM2ii9BvApdESGg3I4izFjy11UPRB1gehjSIAJC5Yo0l9nbRxLZes9oE7/pO/q6kJg1xuqBGqtRZVNcJzzz6N+bl5FGWJ9w69g4987FZcdvWVePedd3Dk8BG88epr+IM//SM88dhj2Hn2NhhDPS574z288foB3PGDO/AHf/QHoLNHLs3f/PXXMRwNsGLFCnzmc59DWVILPxigLKglWy1uG0gZjkY1jh87iU63RPARU9OTCH5pake/JL1KgpgGDh+8fwzLlk9RIxcxWDwx9J2Dh7Bu/Tp0el0cOfwBJqcmURRsIHoTmDl5Er2xHsYnJrAwv4B+fx4rVi7HieMnMHNqBmvWrkGnU2JhfoEMSvBLHmJ9r9qYCgpsZ6m0P9+WKUGC+nr6M9mTIV6xfS0NeNrcvRjaNk2Sg5jEcQI5BSmf7ZxRI9/n1HuQdIaAHqZZDPOrgSueuKMcgayYlKi8jHDi0dNnDVf6WcONegqazNtKwk+BZ4mFsDxIvIJK402Dg87nO3vFej/bBknvoTZaes2pQ5mD5erSKAi1vZn6gukQt5CYdnn07+jfXDJnsotmDXIeIYtR4E2xJjdVaAsjoTVwc968GDI3R9DbUnwkbSRvns3P03bX0ga3EPr/CIGI8InQttdABDm5DJGu2eZHg/eN7jVy/fR9Ct0DaOQJtl1vGpHcwRd/7auwxmB8fAzf+eZ/RzUcIgJ4+61D2LBxHS7YvQvdsV7qRmQtd5oywO3f/QFmT8+h7HRRlgXKTokX9j6P2ZMn8YV/8RWM9XpccUXVK94HLMz3MTk9CWMtiqKDalRhfGIMRz84hL3P7sOqVatgDXDN9ddiMKBx3t1uFy/s3YfJZcuwftNGGoLmaPhbVdWpjLA3No7nnn0Ob775Fm777CcT0vChhq897v3ZPQihxr4QcNtnP4MX9j2PXbt3Yc3aNXCuwNOPPYk3f3kAzhU4/4JdeP/wERRFgV27z8OD9z+Mw+8dxvm7zsfOHdvx6kuv4JZP3Yq52blFe60NbvsQakXaRpFtFET/68yG5iFuR8DpHkQxEe2llbv8va5z3wENLtre4FJcuD4L2jAA1B/WqOu0uVg+LQ3UnJ4T5BXyA3F/Vk8FAqDqIxikNnjyDEQTcT57CmrlNXIM1CCABkj3CACFYXqQbijnykdZ22YGg5xJOZ/ZzafPaNAkNGOMEaWRPhtcBGFBaVNtl8EYJF6lzSE03HwVhW8qJtIgkidqDTVljUBuKWbA0yOp/ZpupNwWKN5tmBi5K5XkW7ai7xALSN14JNWCEnboepIWErjUNlk1FhQnncQTsl3a9dLIXfgrvfC6s7+13PwAWWBTpNZYmtnOn/U1la/SGOIs1LKwejqmXid9f8PBENZalGWJ+fkFbNk6gX5/AUcOv4dNWzZi2epVOPDaAXS6HZrQYIGp6Snc8b3bsXHLFsAHHDn8Pvb+Yi9WrVqF+flZHH73Xdzz459i584d+PDHPoqFfh/DYYV7f3YP6rrGqtUrcePNH8ID9zyAUydOYOv27dh0xhZ0SmlA08PBtw9i3zN7MTU9jUsuuwRPPvoYlq1YgU9/+Qt4ad8LOPrBUezafQFWrVmVPInhaIRnnnoKW7aeiX6/j2NHjuLY0WO49IpL8MsDb6IsSvzbf/8/45/+4ZvYt3dfeiZrLebmZvHKSy/j9/7w3+H5vc/jvp/eje07dsA5KraYn5vFWKeDk8ePo962Da/tfxPbzjqArdvOTJxjdmsXy6VWpLT3QjNlBbS4AbkHIBU3PgWD2lVeWWmLgRWEl5uyZ7QpHqQoVQOZT0bKNg+3pNHQ9PfEqSvPKck6REEJ70qep9YHWgc0vS6aOlCWZWN9+FOg8CxSbmqMkWdCWSpr5ZfcV1Kohnol1Dam/r9Op9JxgYb3nicQNPsICI0UogelX+bvkWdpU5ng9UeM1DfYU3sqQcKGAZXoIisP3CZ9tYWVJgRLuS96sfTPsrI1ScALx525Gep3Coey4GYfNucJakUt3yVuVeKNmAgmPUXfXzrHDUQsUv8dVsQGjIR5ExwM9QkNQGEo6d9Geo/jhTFieWNeI30fztCmltYlRa/fJ5vojEXp6H/nTOogVThHFUv8zIUjJdjtlOh2y/RdcrKkNWGv28FYt0Prx58RBV8WJTqdDsbGxlAUBebmFnDGtjOxfHoKX/71r+DQW2/jzddex/6XX8X09DKMjY9hrNfD6y+/imeefgbXfOgGnJyZoZ4DNmJu7hR2nnMW/v1//GP8zu/9S7z43At4ff8bmFo2jReeeQ4rli/HF3/ti9i2YzuefvwJ2Ah89qtfwjvvvou3DryBsihSwvepkyexfuNGvPP2Iby+/zWs37wJGzZvxEvP7sP+V/dj9fr1uPvOezAYDJhDJ2EuywLj3S6eeeoZPHDvgzh96hTuu/senLl9KwaDBXzv29/FO28fwpYzNyfUExExMTGOlatX4tEHfo63D7yBVatXYH72NKL3GI1q9AdD7LnhWvT7fYyPd9HtEiKX3gghBE73CjlboyXn0jRDQIRUumU0KIEOcdt1UFEkRCsoq84jH2aTEaGkJubry+c5NSlwAJbPsEZU9Bk6/FVFk4KljzC9h6slQb0iQszKXAft0uwlNGkugJByXZEilu/XtES7JSQpb8NnoGjoIpm86yz1HrPGpLlpIL0GzwpNx1DKspRMdepQlhB7zAMkgTTloSzLFMyidzE4MwSwLJ9za4j6aOwae95lWaAoCxRksXSCs3S4aQaidMSrrUw1MltEDtuccpHfC3ZdpPFKczidfrg2lxHTGAik0lG6Z+p9KkJjYFAah6AbTGOxe5XcOeUGyN8RIwoeHxJhiHYQSx8BWxQwFINDAUKZ3nOjlFDLHgIxcG07KXFnLWoT0xQIi5hmTVl2AREjSkezfaRBtZMkZ8TUiSrG3B+yri3uv/tuHD1yGJ1eD9WoxuGDb+FnP7oDn/zsZzA9PYWF2Tl85stfwDvvvodfPP40YozolF2cOnUC08vHcd9d/4wX9z2LG2+6AV/+9a/AGIOf/vDHWL5yBc694DwEHplNTZIjpqensGLlShw/dhyvvTqD9Rs2Y8P6DVi+bDlOz51OjSh8XWPu1GmMT09hbHwM3V4Pa9evx/qNG/DivucQg8f87ClML5tA8AGT4+MYDkfo9brYeMYZOGPHdhx6+y1cuecKXLj7Ivzw29/F1NQy3PzxW/Hqq6/ixps/hG3bt+Lpx39BaAcWiB4f/uiH8cCDD2NyfAIf+cTHcezocQRfYeOGdbjowgvx1GNPYNOWTThx/Dh2XbILmzZtwHA4SvXmKTGdRUh7K9JB3hbZdTfQyjfzfDpNqJ0dIJV1gmCpfDQXT5BR15U++VxQD2EJ5OauW3KGHU/MGFU1rDXocAZI4IwbV1DAKVNafO88FjxVAxoOTAE89YFS0wrLeZiR3PmytClIZa1F5NpsmzJ8OP0xEIVhYGBcZOQYEaJTBRwRhZx/ATUAHHuZQES0YDDT7L9bFKJ3IhykFLtMaw6+Xyc6D7J/VMREpsok71CuXToHwbbZyOVMgYKsWrvkT4Qhcz9L5XZpRao5J61oNUneRLiZGiCOKF9H+prKzcrPUzTZSFAm8jyaAO64lzbCWhruJZurv7udy6bdZTkHbTQuKyKHLBiiHAqXf2/5TQZAUPSFOo8pmOSsBTx3tVf8car84sbfPkbw7IjEHelx2tZaeh8iYAKuuf5aVKMBNamIAe6Tt2C+P8DU5CTm52YRTMD+/a9h5tQpWFDD4sH8Ai695FJcfvkVOHHqJFZMTmHXrvMxc2oGRVlg21nbcecP78BDDz6IbTvPxLkXnIvhQh8XXbYbD937AL79jX+C9x5XX7cHD9//IL71Dx/gxIkTuGLPlXj91dfQ6/XgfY333z+Mq7ZuxQvP7EM1GKAoHN549TVs3LQBzjls37EN1WCIXq8LYy06ZQdFUaLf72NhMGDlYzAYDOAKh317n8Whtw5ianoKL+17Hm+/8Ubyjqw18FXE5OQEtm07A++9+x72PfsMjh49hu3btmNicgLbd27F4fffQ3/QxxOPPo2xsR6u3nMVlUvKQWOOP7TkwbCM2bKTlGkEd31nj85alftIm0+Iy4lMgumwbMxrj9QkqCyK1FG+th7e59Q4QYDWUhtGx8G6LtNHcnZIZmkscqdTolsUiN4j2IiUFuXkXQJ6oGauRcDlsyhNrYW2i1ECUBHB0lwxJ7noMargsz5jFsZlDtNYkWOgAKX1NdPL6JkFscfg4ZzkM4veaXLPgvQFzRtGmQJWAMOBNLq8AD36uEMBy9RAjpUkasC6FNnX+hAAzE9u/2HMiC1fVN9Im9tcSjm1FSaAxtha4VNEk8umJM4zSN5h5P9pUoBYtUwOgxczps2XzALtCrWT1nVQSacZaf5EG4iEXHWwwBhuzgweGGhSc+68NuI6Map0IhBoPj9oymkWmiVe7ObrZ2mjfWuo+5Zn41VIizMf0OGJjrQu1MR7dm4W83PziCFganIKq1aubOTAhhBoBhMdCeJzyxKjwQCzM6exdsO6VFVjncPC/DyOvP8+Nm7ahLGxMZw4cQKHDh3E1q3b0O10ML8wjxAjOp0OZmdO4+Cbb2HlmlVYtXY1up0uXn95P8698Hy89MJLOPL++zjvvPMwvmwKc7NzKe3ryJEjWLFyJRbm5tApO1i5ahX2v/IKdp57NqrhkPvNOixbNo277rwbF192MTasX09yEPJoDldYvL7/dbyx/3V85Te/ijt/9BO8/OIr2LhlMwaDATasX4+rrrkKdT1KnLugvQhu9syKh4KhljnJpseTRtsor40kOUI60iOpCSQPkR0Ryqn0nidRkBtcVTzwLikQkjXnDHplIdxdg7rT97MwGFLTdJdbPLZBkNyRyKgGHm3Fof9treW0P6CqCdsVhU1UnGndW7tsU75Df08GeaIDWnnPCgjpn7ev2b7ndnGHPvP5GgbGONR1ldAuyTzSOonukf6+ifr4ye0/jLLp7YifLFY7NaeNQvXN641quzZacYgipffnJF8iwcUaQf1cl6fSz3O6VP7OJl+U/97mhbWyXWpT9fMkxWsA6XiiOZv8nCHdb2DyWguAvIcG9jFZHhajfH1PWgiTu6I2PyEf4et4dAVCoIATTOpxkK4n11AeRNpzVuIhBELJYigNccsxSHNibjoO4pB8XUPyGcuyRDUa5WmZznGLR4uyR30rR8MREIGiU6AajlCURWom89ze5/DBkQ8QfY3pZctw1Z49NIwRSMUFnW6X6CGbu8I76/DBBx9g2bJlKMsSw+EwyZS4vzOnTmPm5EnsPHcnDh18B+8cOgTHo5EnJiZx5tYzkhxQMKZGs4eoqMHmGdHNXTK/iUZ8AEDuLcyGTj4vPCw1dSZDIGlzIpNyqEPMny2cRWFNmqK7lIzUCTG7FEHXZ1g/i0aCv+rVptD0z4VzLQqn7iWm5Pz2urUDvkmuG0o888byaj9jvjag6cql9JLWDa7l0mdgaZh+kXSwfB2dChkjjZIRrtrc+aPbF62cPIxGcG1r0F6AdrNV/R79b42yRFHq92WFJtcmRWGZ/5CDQcLuGwIvgrkUMpW/tzuAy3XaAqTzJNP7QkjlZnnTNXVB9ci57jgmTkty4BKnxtCW5sg3v6e95gArWVF4rOQk0V+CbjJIzQef3Bt5r6BieUrtWbRRehJG3qeKh9c5w9UzBkBArsdvuG8ZmYCvsVRAR39Pew+63S4pEzYk/eGA3DJIMjgr8xC4WTdBOwODQlWJSeOMNn1TlBbD4ZCDESXAaM8Hmvgg7qxeG33/8qfO8Uz0yxIHWPoItM9H+yWfyeipXb2ExPFHZJScrgvhKvO6JtAh8qSUmt4L7Y21AYku2WzvnfzZzGYwSQTyGsjPcsaCID19/mPMbfTaXbfagXF56Xtv74v+efvZlrqGfE/2WLOca7Qs+0PHKBvN1GC6LQTtxdM9BZMAqMPTJOubPU+1wGllJK46kLmmqqoYRlu2ps1KD9kYimSapMBgmvXlWpnq6pf2wrYhv6xHG30TfxQwDB6dokwZAM0D22ymTd+Vr5nnA5lcTtda/6VStAQhRlBAIB0SY2C4Egm83cZwRNI2c1v5YilRWqOp9j1HjkyLy9oRDskTFUPK23AicUypXDL/Rxp5QxSfrLPNSfnt79bKq67rNB8KMaaARtoffk5XFPRMnMsbQkjJ6vrAtA3naJTloq5qVtTN3F7NmTX2Qe2XXsc2aFjsvUXQwSOQ0EaJogiayjYHu7SsSmvExkRfQ0FTHwMZU2TFktaWbr6x/hpNt414vvelUakGXhkECX0nipu5Ypm1Zix7mDmQ0/bI2ki0DXhkfwT0yP213Xi51lJFJEvpOW1YkqxFgEAfZyg1gIADFTJQ0RBgaKbUr1IqSZE0FKAgKw/zK+C6Fi69EHqD80LIItAYDeEkjAFD7sUzXLL7kJumLHJdkYW8rcj183pBfnLvJi+mpjpSv1IYVKqxbrbeaHDQZNl840CEkMsBDYDofYO/1MLS2HS9tqxY5eeUzpGtsD4UbXTWRugNNKr+bRVnTZ+lYFA0dJC5zwkhuYhcny/PjKVfMchYliV6AZjMNwJAVdeExkGK3esDxZ9JP1MHRa63FOpqGhJaPJniGULTsGgZ0IevjWyWOjeL3ViRaR1UohfJcn4fMzecj6l9CjHYdO8x+vQ5MTyUi6K+N0onKZ/WQ8cy2go0ttZRP7M+0/r5mucpNxih96bdal2XPM2l5FMak4is6rOr72Gp9Ku20v1V+9lG4vr9SxlO8aJp7ZtNbkhxR0iHNZs5yqZA6BvLvTqbi67f196cpa7ZJqPz+5t9NfOit62HB3UzykKkobjcz6LBXksomnSf8jyGELcPvtnP0loMqhFGdUVuL3N2g2qUpqcLp0sWTNoDCgUQUdWeZvEw2h5xgKGOET7Q72vmYLTwp//5CVPkVSsP/kwKQCgr3c6QALAkZ6QFLQtwDt5RI19eR5EDvkb6j3/R5rb0Xi8lY1qG9O/FtY8A6shdu1qHX1/Xq+dvowxa13a9vEEMTUW5lHvfPqjauOs1az9jW86yUpDKQw0q6H/nKP0nRF0yCl57cUdFjnPifl440Brx37WyaQRX1XNo5SQvmb2kAdVSa6D3kdbBIfOPmffU5zxfZ7GXovehLc9tRdfWPfoz2dthzplpN6mIkr1rG4/29bKMRaYWmzRZPqv5s/8fXRnPzTjsQ9AAAAAASUVORK5CYII=)"
      ],
      "metadata": {
        "id": "RoaqE9yr3sPN"
      }
    },
    {
      "cell_type": "code",
      "metadata": {
        "id": "v9s8znA17ovP",
        "colab": {
          "base_uri": "https://localhost:8080/"
        },
        "outputId": "728cd0e4-c33b-4a1b-bfcc-c8da4ff8fad6"
      },
      "source": [
        "from torch.utils.data import DataLoader, SequentialSampler, RandomSampler\n",
        "from ratsnlp.nlpbook.classification import NsmcCorpus, ClassificationDataset\n",
        "corpus = NsmcCorpus()    #“문장(영화 리뷰) + 레이블(긍정, 부정)”\n",
        "\n",
        "## 데이터 토크나이저 하기 : 모델이 학습할 수 있는 형태로 가공\n",
        "train_dataset = ClassificationDataset(  \n",
        "    args=args,\n",
        "    corpus=corpus,#“문장(영화 리뷰) + 레이블(긍정, 부정)”\n",
        "    tokenizer=tokenizer, #모델이 학습할 수 있는 형태로 가공\n",
        "    mode=\"train\",\n",
        ")\n",
        "\n",
        "# 전체 인스턴스 가운데 배치크기 만큼 뽑아 배치형태로 가공하기 \n",
        "train_dataloader = DataLoader(\n",
        "    train_dataset,\n",
        "    batch_size=args.batch_size,\n",
        "    sampler=RandomSampler(train_dataset, replacement=False), # 배치를 만들 대 전체 인스턴스 중 배치사이즈 수 만큼 비복원 추출을 한다. \n",
        "    collate_fn=nlpbook.data_collator, # 리스트 형의 ClassificationDataset를 tensor형으로 바꾼다. \n",
        "    drop_last=False,\n",
        "    num_workers=args.cpu_workers,\n",
        ")"
      ],
      "execution_count": 12,
      "outputs": [
        {
          "output_type": "stream",
          "name": "stderr",
          "text": [
            "INFO:ratsnlp:Creating features from dataset file at /content/Korpora/nsmc\n",
            "INFO:ratsnlp:Creating features from dataset file at /content/Korpora/nsmc\n",
            "INFO:ratsnlp:Creating features from dataset file at /content/Korpora/nsmc\n",
            "INFO:ratsnlp:loading train data... LOOKING AT /content/Korpora/nsmc/ratings_train.txt\n",
            "INFO:ratsnlp:loading train data... LOOKING AT /content/Korpora/nsmc/ratings_train.txt\n",
            "INFO:ratsnlp:loading train data... LOOKING AT /content/Korpora/nsmc/ratings_train.txt\n",
            "INFO:ratsnlp:tokenize sentences, it could take a lot of time...\n",
            "INFO:ratsnlp:tokenize sentences, it could take a lot of time...\n",
            "INFO:ratsnlp:tokenize sentences, it could take a lot of time...\n",
            "INFO:ratsnlp:tokenize sentences [took 47.257 s]\n",
            "INFO:ratsnlp:tokenize sentences [took 47.257 s]\n",
            "INFO:ratsnlp:tokenize sentences [took 47.257 s]\n",
            "INFO:ratsnlp:*** Example ***\n",
            "INFO:ratsnlp:*** Example ***\n",
            "INFO:ratsnlp:*** Example ***\n",
            "INFO:ratsnlp:sentence: 아 더빙.. 진짜 짜증나네요 목소리\n",
            "INFO:ratsnlp:sentence: 아 더빙.. 진짜 짜증나네요 목소리\n",
            "INFO:ratsnlp:sentence: 아 더빙.. 진짜 짜증나네요 목소리\n",
            "INFO:ratsnlp:tokens: [CLS] 아 더 ##빙 . . 진짜 짜증나네 ##요 목소리 [SEP] [PAD] [PAD] [PAD] [PAD] [PAD] [PAD] [PAD] [PAD] [PAD] [PAD] [PAD] [PAD] [PAD] [PAD] [PAD] [PAD] [PAD] [PAD] [PAD] [PAD] [PAD] [PAD] [PAD] [PAD] [PAD] [PAD] [PAD] [PAD] [PAD] [PAD] [PAD] [PAD] [PAD] [PAD] [PAD] [PAD] [PAD] [PAD] [PAD] [PAD] [PAD] [PAD] [PAD] [PAD] [PAD] [PAD] [PAD] [PAD] [PAD] [PAD] [PAD] [PAD] [PAD] [PAD] [PAD] [PAD] [PAD] [PAD] [PAD] [PAD] [PAD] [PAD] [PAD] [PAD] [PAD] [PAD] [PAD] [PAD] [PAD] [PAD] [PAD] [PAD] [PAD] [PAD] [PAD] [PAD] [PAD] [PAD] [PAD] [PAD] [PAD] [PAD] [PAD] [PAD] [PAD] [PAD] [PAD] [PAD] [PAD] [PAD] [PAD] [PAD] [PAD] [PAD] [PAD] [PAD] [PAD] [PAD] [PAD] [PAD] [PAD] [PAD] [PAD] [PAD] [PAD] [PAD] [PAD] [PAD] [PAD] [PAD] [PAD] [PAD] [PAD] [PAD] [PAD] [PAD] [PAD]\n",
            "INFO:ratsnlp:tokens: [CLS] 아 더 ##빙 . . 진짜 짜증나네 ##요 목소리 [SEP] [PAD] [PAD] [PAD] [PAD] [PAD] [PAD] [PAD] [PAD] [PAD] [PAD] [PAD] [PAD] [PAD] [PAD] [PAD] [PAD] [PAD] [PAD] [PAD] [PAD] [PAD] [PAD] [PAD] [PAD] [PAD] [PAD] [PAD] [PAD] [PAD] [PAD] [PAD] [PAD] [PAD] [PAD] [PAD] [PAD] [PAD] [PAD] [PAD] [PAD] [PAD] [PAD] [PAD] [PAD] [PAD] [PAD] [PAD] [PAD] [PAD] [PAD] [PAD] [PAD] [PAD] [PAD] [PAD] [PAD] [PAD] [PAD] [PAD] [PAD] [PAD] [PAD] [PAD] [PAD] [PAD] [PAD] [PAD] [PAD] [PAD] [PAD] [PAD] [PAD] [PAD] [PAD] [PAD] [PAD] [PAD] [PAD] [PAD] [PAD] [PAD] [PAD] [PAD] [PAD] [PAD] [PAD] [PAD] [PAD] [PAD] [PAD] [PAD] [PAD] [PAD] [PAD] [PAD] [PAD] [PAD] [PAD] [PAD] [PAD] [PAD] [PAD] [PAD] [PAD] [PAD] [PAD] [PAD] [PAD] [PAD] [PAD] [PAD] [PAD] [PAD] [PAD] [PAD] [PAD] [PAD]\n",
            "INFO:ratsnlp:tokens: [CLS] 아 더 ##빙 . . 진짜 짜증나네 ##요 목소리 [SEP] [PAD] [PAD] [PAD] [PAD] [PAD] [PAD] [PAD] [PAD] [PAD] [PAD] [PAD] [PAD] [PAD] [PAD] [PAD] [PAD] [PAD] [PAD] [PAD] [PAD] [PAD] [PAD] [PAD] [PAD] [PAD] [PAD] [PAD] [PAD] [PAD] [PAD] [PAD] [PAD] [PAD] [PAD] [PAD] [PAD] [PAD] [PAD] [PAD] [PAD] [PAD] [PAD] [PAD] [PAD] [PAD] [PAD] [PAD] [PAD] [PAD] [PAD] [PAD] [PAD] [PAD] [PAD] [PAD] [PAD] [PAD] [PAD] [PAD] [PAD] [PAD] [PAD] [PAD] [PAD] [PAD] [PAD] [PAD] [PAD] [PAD] [PAD] [PAD] [PAD] [PAD] [PAD] [PAD] [PAD] [PAD] [PAD] [PAD] [PAD] [PAD] [PAD] [PAD] [PAD] [PAD] [PAD] [PAD] [PAD] [PAD] [PAD] [PAD] [PAD] [PAD] [PAD] [PAD] [PAD] [PAD] [PAD] [PAD] [PAD] [PAD] [PAD] [PAD] [PAD] [PAD] [PAD] [PAD] [PAD] [PAD] [PAD] [PAD] [PAD] [PAD] [PAD] [PAD] [PAD] [PAD]\n",
            "INFO:ratsnlp:label: 0\n",
            "INFO:ratsnlp:label: 0\n",
            "INFO:ratsnlp:label: 0\n",
            "INFO:ratsnlp:features: ClassificationFeatures(input_ids=[2, 2170, 832, 5045, 17, 17, 7992, 29734, 4040, 10720, 3, 0, 0, 0, 0, 0, 0, 0, 0, 0, 0, 0, 0, 0, 0, 0, 0, 0, 0, 0, 0, 0, 0, 0, 0, 0, 0, 0, 0, 0, 0, 0, 0, 0, 0, 0, 0, 0, 0, 0, 0, 0, 0, 0, 0, 0, 0, 0, 0, 0, 0, 0, 0, 0, 0, 0, 0, 0, 0, 0, 0, 0, 0, 0, 0, 0, 0, 0, 0, 0, 0, 0, 0, 0, 0, 0, 0, 0, 0, 0, 0, 0, 0, 0, 0, 0, 0, 0, 0, 0, 0, 0, 0, 0, 0, 0, 0, 0, 0, 0, 0, 0, 0, 0, 0, 0, 0, 0, 0, 0, 0, 0, 0, 0, 0, 0, 0, 0], attention_mask=[1, 1, 1, 1, 1, 1, 1, 1, 1, 1, 1, 0, 0, 0, 0, 0, 0, 0, 0, 0, 0, 0, 0, 0, 0, 0, 0, 0, 0, 0, 0, 0, 0, 0, 0, 0, 0, 0, 0, 0, 0, 0, 0, 0, 0, 0, 0, 0, 0, 0, 0, 0, 0, 0, 0, 0, 0, 0, 0, 0, 0, 0, 0, 0, 0, 0, 0, 0, 0, 0, 0, 0, 0, 0, 0, 0, 0, 0, 0, 0, 0, 0, 0, 0, 0, 0, 0, 0, 0, 0, 0, 0, 0, 0, 0, 0, 0, 0, 0, 0, 0, 0, 0, 0, 0, 0, 0, 0, 0, 0, 0, 0, 0, 0, 0, 0, 0, 0, 0, 0, 0, 0, 0, 0, 0, 0, 0, 0], token_type_ids=[0, 0, 0, 0, 0, 0, 0, 0, 0, 0, 0, 0, 0, 0, 0, 0, 0, 0, 0, 0, 0, 0, 0, 0, 0, 0, 0, 0, 0, 0, 0, 0, 0, 0, 0, 0, 0, 0, 0, 0, 0, 0, 0, 0, 0, 0, 0, 0, 0, 0, 0, 0, 0, 0, 0, 0, 0, 0, 0, 0, 0, 0, 0, 0, 0, 0, 0, 0, 0, 0, 0, 0, 0, 0, 0, 0, 0, 0, 0, 0, 0, 0, 0, 0, 0, 0, 0, 0, 0, 0, 0, 0, 0, 0, 0, 0, 0, 0, 0, 0, 0, 0, 0, 0, 0, 0, 0, 0, 0, 0, 0, 0, 0, 0, 0, 0, 0, 0, 0, 0, 0, 0, 0, 0, 0, 0, 0, 0], label=0)\n",
            "INFO:ratsnlp:features: ClassificationFeatures(input_ids=[2, 2170, 832, 5045, 17, 17, 7992, 29734, 4040, 10720, 3, 0, 0, 0, 0, 0, 0, 0, 0, 0, 0, 0, 0, 0, 0, 0, 0, 0, 0, 0, 0, 0, 0, 0, 0, 0, 0, 0, 0, 0, 0, 0, 0, 0, 0, 0, 0, 0, 0, 0, 0, 0, 0, 0, 0, 0, 0, 0, 0, 0, 0, 0, 0, 0, 0, 0, 0, 0, 0, 0, 0, 0, 0, 0, 0, 0, 0, 0, 0, 0, 0, 0, 0, 0, 0, 0, 0, 0, 0, 0, 0, 0, 0, 0, 0, 0, 0, 0, 0, 0, 0, 0, 0, 0, 0, 0, 0, 0, 0, 0, 0, 0, 0, 0, 0, 0, 0, 0, 0, 0, 0, 0, 0, 0, 0, 0, 0, 0], attention_mask=[1, 1, 1, 1, 1, 1, 1, 1, 1, 1, 1, 0, 0, 0, 0, 0, 0, 0, 0, 0, 0, 0, 0, 0, 0, 0, 0, 0, 0, 0, 0, 0, 0, 0, 0, 0, 0, 0, 0, 0, 0, 0, 0, 0, 0, 0, 0, 0, 0, 0, 0, 0, 0, 0, 0, 0, 0, 0, 0, 0, 0, 0, 0, 0, 0, 0, 0, 0, 0, 0, 0, 0, 0, 0, 0, 0, 0, 0, 0, 0, 0, 0, 0, 0, 0, 0, 0, 0, 0, 0, 0, 0, 0, 0, 0, 0, 0, 0, 0, 0, 0, 0, 0, 0, 0, 0, 0, 0, 0, 0, 0, 0, 0, 0, 0, 0, 0, 0, 0, 0, 0, 0, 0, 0, 0, 0, 0, 0], token_type_ids=[0, 0, 0, 0, 0, 0, 0, 0, 0, 0, 0, 0, 0, 0, 0, 0, 0, 0, 0, 0, 0, 0, 0, 0, 0, 0, 0, 0, 0, 0, 0, 0, 0, 0, 0, 0, 0, 0, 0, 0, 0, 0, 0, 0, 0, 0, 0, 0, 0, 0, 0, 0, 0, 0, 0, 0, 0, 0, 0, 0, 0, 0, 0, 0, 0, 0, 0, 0, 0, 0, 0, 0, 0, 0, 0, 0, 0, 0, 0, 0, 0, 0, 0, 0, 0, 0, 0, 0, 0, 0, 0, 0, 0, 0, 0, 0, 0, 0, 0, 0, 0, 0, 0, 0, 0, 0, 0, 0, 0, 0, 0, 0, 0, 0, 0, 0, 0, 0, 0, 0, 0, 0, 0, 0, 0, 0, 0, 0], label=0)\n",
            "INFO:ratsnlp:features: ClassificationFeatures(input_ids=[2, 2170, 832, 5045, 17, 17, 7992, 29734, 4040, 10720, 3, 0, 0, 0, 0, 0, 0, 0, 0, 0, 0, 0, 0, 0, 0, 0, 0, 0, 0, 0, 0, 0, 0, 0, 0, 0, 0, 0, 0, 0, 0, 0, 0, 0, 0, 0, 0, 0, 0, 0, 0, 0, 0, 0, 0, 0, 0, 0, 0, 0, 0, 0, 0, 0, 0, 0, 0, 0, 0, 0, 0, 0, 0, 0, 0, 0, 0, 0, 0, 0, 0, 0, 0, 0, 0, 0, 0, 0, 0, 0, 0, 0, 0, 0, 0, 0, 0, 0, 0, 0, 0, 0, 0, 0, 0, 0, 0, 0, 0, 0, 0, 0, 0, 0, 0, 0, 0, 0, 0, 0, 0, 0, 0, 0, 0, 0, 0, 0], attention_mask=[1, 1, 1, 1, 1, 1, 1, 1, 1, 1, 1, 0, 0, 0, 0, 0, 0, 0, 0, 0, 0, 0, 0, 0, 0, 0, 0, 0, 0, 0, 0, 0, 0, 0, 0, 0, 0, 0, 0, 0, 0, 0, 0, 0, 0, 0, 0, 0, 0, 0, 0, 0, 0, 0, 0, 0, 0, 0, 0, 0, 0, 0, 0, 0, 0, 0, 0, 0, 0, 0, 0, 0, 0, 0, 0, 0, 0, 0, 0, 0, 0, 0, 0, 0, 0, 0, 0, 0, 0, 0, 0, 0, 0, 0, 0, 0, 0, 0, 0, 0, 0, 0, 0, 0, 0, 0, 0, 0, 0, 0, 0, 0, 0, 0, 0, 0, 0, 0, 0, 0, 0, 0, 0, 0, 0, 0, 0, 0], token_type_ids=[0, 0, 0, 0, 0, 0, 0, 0, 0, 0, 0, 0, 0, 0, 0, 0, 0, 0, 0, 0, 0, 0, 0, 0, 0, 0, 0, 0, 0, 0, 0, 0, 0, 0, 0, 0, 0, 0, 0, 0, 0, 0, 0, 0, 0, 0, 0, 0, 0, 0, 0, 0, 0, 0, 0, 0, 0, 0, 0, 0, 0, 0, 0, 0, 0, 0, 0, 0, 0, 0, 0, 0, 0, 0, 0, 0, 0, 0, 0, 0, 0, 0, 0, 0, 0, 0, 0, 0, 0, 0, 0, 0, 0, 0, 0, 0, 0, 0, 0, 0, 0, 0, 0, 0, 0, 0, 0, 0, 0, 0, 0, 0, 0, 0, 0, 0, 0, 0, 0, 0, 0, 0, 0, 0, 0, 0, 0, 0], label=0)\n",
            "INFO:ratsnlp:*** Example ***\n",
            "INFO:ratsnlp:*** Example ***\n",
            "INFO:ratsnlp:*** Example ***\n",
            "INFO:ratsnlp:sentence: 흠...포스터보고 초딩영화줄....오버연기조차 가볍지 않구나\n",
            "INFO:ratsnlp:sentence: 흠...포스터보고 초딩영화줄....오버연기조차 가볍지 않구나\n",
            "INFO:ratsnlp:sentence: 흠...포스터보고 초딩영화줄....오버연기조차 가볍지 않구나\n",
            "INFO:ratsnlp:tokens: [CLS] 흠 . . . 포 ##스터 ##보고 초딩 ##영화 ##줄 . . . . 오버 ##연기 ##조차 가볍 ##지 않 ##구나 [SEP] [PAD] [PAD] [PAD] [PAD] [PAD] [PAD] [PAD] [PAD] [PAD] [PAD] [PAD] [PAD] [PAD] [PAD] [PAD] [PAD] [PAD] [PAD] [PAD] [PAD] [PAD] [PAD] [PAD] [PAD] [PAD] [PAD] [PAD] [PAD] [PAD] [PAD] [PAD] [PAD] [PAD] [PAD] [PAD] [PAD] [PAD] [PAD] [PAD] [PAD] [PAD] [PAD] [PAD] [PAD] [PAD] [PAD] [PAD] [PAD] [PAD] [PAD] [PAD] [PAD] [PAD] [PAD] [PAD] [PAD] [PAD] [PAD] [PAD] [PAD] [PAD] [PAD] [PAD] [PAD] [PAD] [PAD] [PAD] [PAD] [PAD] [PAD] [PAD] [PAD] [PAD] [PAD] [PAD] [PAD] [PAD] [PAD] [PAD] [PAD] [PAD] [PAD] [PAD] [PAD] [PAD] [PAD] [PAD] [PAD] [PAD] [PAD] [PAD] [PAD] [PAD] [PAD] [PAD] [PAD] [PAD] [PAD] [PAD] [PAD] [PAD] [PAD] [PAD] [PAD] [PAD]\n",
            "INFO:ratsnlp:tokens: [CLS] 흠 . . . 포 ##스터 ##보고 초딩 ##영화 ##줄 . . . . 오버 ##연기 ##조차 가볍 ##지 않 ##구나 [SEP] [PAD] [PAD] [PAD] [PAD] [PAD] [PAD] [PAD] [PAD] [PAD] [PAD] [PAD] [PAD] [PAD] [PAD] [PAD] [PAD] [PAD] [PAD] [PAD] [PAD] [PAD] [PAD] [PAD] [PAD] [PAD] [PAD] [PAD] [PAD] [PAD] [PAD] [PAD] [PAD] [PAD] [PAD] [PAD] [PAD] [PAD] [PAD] [PAD] [PAD] [PAD] [PAD] [PAD] [PAD] [PAD] [PAD] [PAD] [PAD] [PAD] [PAD] [PAD] [PAD] [PAD] [PAD] [PAD] [PAD] [PAD] [PAD] [PAD] [PAD] [PAD] [PAD] [PAD] [PAD] [PAD] [PAD] [PAD] [PAD] [PAD] [PAD] [PAD] [PAD] [PAD] [PAD] [PAD] [PAD] [PAD] [PAD] [PAD] [PAD] [PAD] [PAD] [PAD] [PAD] [PAD] [PAD] [PAD] [PAD] [PAD] [PAD] [PAD] [PAD] [PAD] [PAD] [PAD] [PAD] [PAD] [PAD] [PAD] [PAD] [PAD] [PAD] [PAD] [PAD] [PAD]\n",
            "INFO:ratsnlp:tokens: [CLS] 흠 . . . 포 ##스터 ##보고 초딩 ##영화 ##줄 . . . . 오버 ##연기 ##조차 가볍 ##지 않 ##구나 [SEP] [PAD] [PAD] [PAD] [PAD] [PAD] [PAD] [PAD] [PAD] [PAD] [PAD] [PAD] [PAD] [PAD] [PAD] [PAD] [PAD] [PAD] [PAD] [PAD] [PAD] [PAD] [PAD] [PAD] [PAD] [PAD] [PAD] [PAD] [PAD] [PAD] [PAD] [PAD] [PAD] [PAD] [PAD] [PAD] [PAD] [PAD] [PAD] [PAD] [PAD] [PAD] [PAD] [PAD] [PAD] [PAD] [PAD] [PAD] [PAD] [PAD] [PAD] [PAD] [PAD] [PAD] [PAD] [PAD] [PAD] [PAD] [PAD] [PAD] [PAD] [PAD] [PAD] [PAD] [PAD] [PAD] [PAD] [PAD] [PAD] [PAD] [PAD] [PAD] [PAD] [PAD] [PAD] [PAD] [PAD] [PAD] [PAD] [PAD] [PAD] [PAD] [PAD] [PAD] [PAD] [PAD] [PAD] [PAD] [PAD] [PAD] [PAD] [PAD] [PAD] [PAD] [PAD] [PAD] [PAD] [PAD] [PAD] [PAD] [PAD] [PAD] [PAD] [PAD] [PAD] [PAD]\n",
            "INFO:ratsnlp:label: 1\n",
            "INFO:ratsnlp:label: 1\n",
            "INFO:ratsnlp:label: 1\n",
            "INFO:ratsnlp:features: ClassificationFeatures(input_ids=[2, 3521, 17, 17, 17, 3294, 13069, 8190, 10635, 13796, 4006, 17, 17, 17, 17, 17613, 19625, 9790, 17775, 4102, 2175, 8030, 3, 0, 0, 0, 0, 0, 0, 0, 0, 0, 0, 0, 0, 0, 0, 0, 0, 0, 0, 0, 0, 0, 0, 0, 0, 0, 0, 0, 0, 0, 0, 0, 0, 0, 0, 0, 0, 0, 0, 0, 0, 0, 0, 0, 0, 0, 0, 0, 0, 0, 0, 0, 0, 0, 0, 0, 0, 0, 0, 0, 0, 0, 0, 0, 0, 0, 0, 0, 0, 0, 0, 0, 0, 0, 0, 0, 0, 0, 0, 0, 0, 0, 0, 0, 0, 0, 0, 0, 0, 0, 0, 0, 0, 0, 0, 0, 0, 0, 0, 0, 0, 0, 0, 0, 0, 0], attention_mask=[1, 1, 1, 1, 1, 1, 1, 1, 1, 1, 1, 1, 1, 1, 1, 1, 1, 1, 1, 1, 1, 1, 1, 0, 0, 0, 0, 0, 0, 0, 0, 0, 0, 0, 0, 0, 0, 0, 0, 0, 0, 0, 0, 0, 0, 0, 0, 0, 0, 0, 0, 0, 0, 0, 0, 0, 0, 0, 0, 0, 0, 0, 0, 0, 0, 0, 0, 0, 0, 0, 0, 0, 0, 0, 0, 0, 0, 0, 0, 0, 0, 0, 0, 0, 0, 0, 0, 0, 0, 0, 0, 0, 0, 0, 0, 0, 0, 0, 0, 0, 0, 0, 0, 0, 0, 0, 0, 0, 0, 0, 0, 0, 0, 0, 0, 0, 0, 0, 0, 0, 0, 0, 0, 0, 0, 0, 0, 0], token_type_ids=[0, 0, 0, 0, 0, 0, 0, 0, 0, 0, 0, 0, 0, 0, 0, 0, 0, 0, 0, 0, 0, 0, 0, 0, 0, 0, 0, 0, 0, 0, 0, 0, 0, 0, 0, 0, 0, 0, 0, 0, 0, 0, 0, 0, 0, 0, 0, 0, 0, 0, 0, 0, 0, 0, 0, 0, 0, 0, 0, 0, 0, 0, 0, 0, 0, 0, 0, 0, 0, 0, 0, 0, 0, 0, 0, 0, 0, 0, 0, 0, 0, 0, 0, 0, 0, 0, 0, 0, 0, 0, 0, 0, 0, 0, 0, 0, 0, 0, 0, 0, 0, 0, 0, 0, 0, 0, 0, 0, 0, 0, 0, 0, 0, 0, 0, 0, 0, 0, 0, 0, 0, 0, 0, 0, 0, 0, 0, 0], label=1)\n",
            "INFO:ratsnlp:features: ClassificationFeatures(input_ids=[2, 3521, 17, 17, 17, 3294, 13069, 8190, 10635, 13796, 4006, 17, 17, 17, 17, 17613, 19625, 9790, 17775, 4102, 2175, 8030, 3, 0, 0, 0, 0, 0, 0, 0, 0, 0, 0, 0, 0, 0, 0, 0, 0, 0, 0, 0, 0, 0, 0, 0, 0, 0, 0, 0, 0, 0, 0, 0, 0, 0, 0, 0, 0, 0, 0, 0, 0, 0, 0, 0, 0, 0, 0, 0, 0, 0, 0, 0, 0, 0, 0, 0, 0, 0, 0, 0, 0, 0, 0, 0, 0, 0, 0, 0, 0, 0, 0, 0, 0, 0, 0, 0, 0, 0, 0, 0, 0, 0, 0, 0, 0, 0, 0, 0, 0, 0, 0, 0, 0, 0, 0, 0, 0, 0, 0, 0, 0, 0, 0, 0, 0, 0], attention_mask=[1, 1, 1, 1, 1, 1, 1, 1, 1, 1, 1, 1, 1, 1, 1, 1, 1, 1, 1, 1, 1, 1, 1, 0, 0, 0, 0, 0, 0, 0, 0, 0, 0, 0, 0, 0, 0, 0, 0, 0, 0, 0, 0, 0, 0, 0, 0, 0, 0, 0, 0, 0, 0, 0, 0, 0, 0, 0, 0, 0, 0, 0, 0, 0, 0, 0, 0, 0, 0, 0, 0, 0, 0, 0, 0, 0, 0, 0, 0, 0, 0, 0, 0, 0, 0, 0, 0, 0, 0, 0, 0, 0, 0, 0, 0, 0, 0, 0, 0, 0, 0, 0, 0, 0, 0, 0, 0, 0, 0, 0, 0, 0, 0, 0, 0, 0, 0, 0, 0, 0, 0, 0, 0, 0, 0, 0, 0, 0], token_type_ids=[0, 0, 0, 0, 0, 0, 0, 0, 0, 0, 0, 0, 0, 0, 0, 0, 0, 0, 0, 0, 0, 0, 0, 0, 0, 0, 0, 0, 0, 0, 0, 0, 0, 0, 0, 0, 0, 0, 0, 0, 0, 0, 0, 0, 0, 0, 0, 0, 0, 0, 0, 0, 0, 0, 0, 0, 0, 0, 0, 0, 0, 0, 0, 0, 0, 0, 0, 0, 0, 0, 0, 0, 0, 0, 0, 0, 0, 0, 0, 0, 0, 0, 0, 0, 0, 0, 0, 0, 0, 0, 0, 0, 0, 0, 0, 0, 0, 0, 0, 0, 0, 0, 0, 0, 0, 0, 0, 0, 0, 0, 0, 0, 0, 0, 0, 0, 0, 0, 0, 0, 0, 0, 0, 0, 0, 0, 0, 0], label=1)\n",
            "INFO:ratsnlp:features: ClassificationFeatures(input_ids=[2, 3521, 17, 17, 17, 3294, 13069, 8190, 10635, 13796, 4006, 17, 17, 17, 17, 17613, 19625, 9790, 17775, 4102, 2175, 8030, 3, 0, 0, 0, 0, 0, 0, 0, 0, 0, 0, 0, 0, 0, 0, 0, 0, 0, 0, 0, 0, 0, 0, 0, 0, 0, 0, 0, 0, 0, 0, 0, 0, 0, 0, 0, 0, 0, 0, 0, 0, 0, 0, 0, 0, 0, 0, 0, 0, 0, 0, 0, 0, 0, 0, 0, 0, 0, 0, 0, 0, 0, 0, 0, 0, 0, 0, 0, 0, 0, 0, 0, 0, 0, 0, 0, 0, 0, 0, 0, 0, 0, 0, 0, 0, 0, 0, 0, 0, 0, 0, 0, 0, 0, 0, 0, 0, 0, 0, 0, 0, 0, 0, 0, 0, 0], attention_mask=[1, 1, 1, 1, 1, 1, 1, 1, 1, 1, 1, 1, 1, 1, 1, 1, 1, 1, 1, 1, 1, 1, 1, 0, 0, 0, 0, 0, 0, 0, 0, 0, 0, 0, 0, 0, 0, 0, 0, 0, 0, 0, 0, 0, 0, 0, 0, 0, 0, 0, 0, 0, 0, 0, 0, 0, 0, 0, 0, 0, 0, 0, 0, 0, 0, 0, 0, 0, 0, 0, 0, 0, 0, 0, 0, 0, 0, 0, 0, 0, 0, 0, 0, 0, 0, 0, 0, 0, 0, 0, 0, 0, 0, 0, 0, 0, 0, 0, 0, 0, 0, 0, 0, 0, 0, 0, 0, 0, 0, 0, 0, 0, 0, 0, 0, 0, 0, 0, 0, 0, 0, 0, 0, 0, 0, 0, 0, 0], token_type_ids=[0, 0, 0, 0, 0, 0, 0, 0, 0, 0, 0, 0, 0, 0, 0, 0, 0, 0, 0, 0, 0, 0, 0, 0, 0, 0, 0, 0, 0, 0, 0, 0, 0, 0, 0, 0, 0, 0, 0, 0, 0, 0, 0, 0, 0, 0, 0, 0, 0, 0, 0, 0, 0, 0, 0, 0, 0, 0, 0, 0, 0, 0, 0, 0, 0, 0, 0, 0, 0, 0, 0, 0, 0, 0, 0, 0, 0, 0, 0, 0, 0, 0, 0, 0, 0, 0, 0, 0, 0, 0, 0, 0, 0, 0, 0, 0, 0, 0, 0, 0, 0, 0, 0, 0, 0, 0, 0, 0, 0, 0, 0, 0, 0, 0, 0, 0, 0, 0, 0, 0, 0, 0, 0, 0, 0, 0, 0, 0], label=1)\n",
            "INFO:ratsnlp:*** Example ***\n",
            "INFO:ratsnlp:*** Example ***\n",
            "INFO:ratsnlp:*** Example ***\n",
            "INFO:ratsnlp:sentence: 너무재밓었다그래서보는것을추천한다\n",
            "INFO:ratsnlp:sentence: 너무재밓었다그래서보는것을추천한다\n",
            "INFO:ratsnlp:sentence: 너무재밓었다그래서보는것을추천한다\n",
            "INFO:ratsnlp:tokens: [CLS] 너무 ##재 ##밓 ##었다 ##그래 ##서 ##보는 ##것을 ##추 ##천 ##한다 [SEP] [PAD] [PAD] [PAD] [PAD] [PAD] [PAD] [PAD] [PAD] [PAD] [PAD] [PAD] [PAD] [PAD] [PAD] [PAD] [PAD] [PAD] [PAD] [PAD] [PAD] [PAD] [PAD] [PAD] [PAD] [PAD] [PAD] [PAD] [PAD] [PAD] [PAD] [PAD] [PAD] [PAD] [PAD] [PAD] [PAD] [PAD] [PAD] [PAD] [PAD] [PAD] [PAD] [PAD] [PAD] [PAD] [PAD] [PAD] [PAD] [PAD] [PAD] [PAD] [PAD] [PAD] [PAD] [PAD] [PAD] [PAD] [PAD] [PAD] [PAD] [PAD] [PAD] [PAD] [PAD] [PAD] [PAD] [PAD] [PAD] [PAD] [PAD] [PAD] [PAD] [PAD] [PAD] [PAD] [PAD] [PAD] [PAD] [PAD] [PAD] [PAD] [PAD] [PAD] [PAD] [PAD] [PAD] [PAD] [PAD] [PAD] [PAD] [PAD] [PAD] [PAD] [PAD] [PAD] [PAD] [PAD] [PAD] [PAD] [PAD] [PAD] [PAD] [PAD] [PAD] [PAD] [PAD] [PAD] [PAD] [PAD] [PAD] [PAD] [PAD] [PAD] [PAD] [PAD]\n",
            "INFO:ratsnlp:tokens: [CLS] 너무 ##재 ##밓 ##었다 ##그래 ##서 ##보는 ##것을 ##추 ##천 ##한다 [SEP] [PAD] [PAD] [PAD] [PAD] [PAD] [PAD] [PAD] [PAD] [PAD] [PAD] [PAD] [PAD] [PAD] [PAD] [PAD] [PAD] [PAD] [PAD] [PAD] [PAD] [PAD] [PAD] [PAD] [PAD] [PAD] [PAD] [PAD] [PAD] [PAD] [PAD] [PAD] [PAD] [PAD] [PAD] [PAD] [PAD] [PAD] [PAD] [PAD] [PAD] [PAD] [PAD] [PAD] [PAD] [PAD] [PAD] [PAD] [PAD] [PAD] [PAD] [PAD] [PAD] [PAD] [PAD] [PAD] [PAD] [PAD] [PAD] [PAD] [PAD] [PAD] [PAD] [PAD] [PAD] [PAD] [PAD] [PAD] [PAD] [PAD] [PAD] [PAD] [PAD] [PAD] [PAD] [PAD] [PAD] [PAD] [PAD] [PAD] [PAD] [PAD] [PAD] [PAD] [PAD] [PAD] [PAD] [PAD] [PAD] [PAD] [PAD] [PAD] [PAD] [PAD] [PAD] [PAD] [PAD] [PAD] [PAD] [PAD] [PAD] [PAD] [PAD] [PAD] [PAD] [PAD] [PAD] [PAD] [PAD] [PAD] [PAD] [PAD] [PAD] [PAD] [PAD] [PAD]\n",
            "INFO:ratsnlp:tokens: [CLS] 너무 ##재 ##밓 ##었다 ##그래 ##서 ##보는 ##것을 ##추 ##천 ##한다 [SEP] [PAD] [PAD] [PAD] [PAD] [PAD] [PAD] [PAD] [PAD] [PAD] [PAD] [PAD] [PAD] [PAD] [PAD] [PAD] [PAD] [PAD] [PAD] [PAD] [PAD] [PAD] [PAD] [PAD] [PAD] [PAD] [PAD] [PAD] [PAD] [PAD] [PAD] [PAD] [PAD] [PAD] [PAD] [PAD] [PAD] [PAD] [PAD] [PAD] [PAD] [PAD] [PAD] [PAD] [PAD] [PAD] [PAD] [PAD] [PAD] [PAD] [PAD] [PAD] [PAD] [PAD] [PAD] [PAD] [PAD] [PAD] [PAD] [PAD] [PAD] [PAD] [PAD] [PAD] [PAD] [PAD] [PAD] [PAD] [PAD] [PAD] [PAD] [PAD] [PAD] [PAD] [PAD] [PAD] [PAD] [PAD] [PAD] [PAD] [PAD] [PAD] [PAD] [PAD] [PAD] [PAD] [PAD] [PAD] [PAD] [PAD] [PAD] [PAD] [PAD] [PAD] [PAD] [PAD] [PAD] [PAD] [PAD] [PAD] [PAD] [PAD] [PAD] [PAD] [PAD] [PAD] [PAD] [PAD] [PAD] [PAD] [PAD] [PAD] [PAD] [PAD] [PAD] [PAD]\n",
            "INFO:ratsnlp:label: 0\n",
            "INFO:ratsnlp:label: 0\n",
            "INFO:ratsnlp:label: 0\n",
            "INFO:ratsnlp:features: ClassificationFeatures(input_ids=[2, 8069, 4089, 7847, 8217, 9791, 4072, 9136, 8750, 4142, 4244, 8008, 3, 0, 0, 0, 0, 0, 0, 0, 0, 0, 0, 0, 0, 0, 0, 0, 0, 0, 0, 0, 0, 0, 0, 0, 0, 0, 0, 0, 0, 0, 0, 0, 0, 0, 0, 0, 0, 0, 0, 0, 0, 0, 0, 0, 0, 0, 0, 0, 0, 0, 0, 0, 0, 0, 0, 0, 0, 0, 0, 0, 0, 0, 0, 0, 0, 0, 0, 0, 0, 0, 0, 0, 0, 0, 0, 0, 0, 0, 0, 0, 0, 0, 0, 0, 0, 0, 0, 0, 0, 0, 0, 0, 0, 0, 0, 0, 0, 0, 0, 0, 0, 0, 0, 0, 0, 0, 0, 0, 0, 0, 0, 0, 0, 0, 0, 0], attention_mask=[1, 1, 1, 1, 1, 1, 1, 1, 1, 1, 1, 1, 1, 0, 0, 0, 0, 0, 0, 0, 0, 0, 0, 0, 0, 0, 0, 0, 0, 0, 0, 0, 0, 0, 0, 0, 0, 0, 0, 0, 0, 0, 0, 0, 0, 0, 0, 0, 0, 0, 0, 0, 0, 0, 0, 0, 0, 0, 0, 0, 0, 0, 0, 0, 0, 0, 0, 0, 0, 0, 0, 0, 0, 0, 0, 0, 0, 0, 0, 0, 0, 0, 0, 0, 0, 0, 0, 0, 0, 0, 0, 0, 0, 0, 0, 0, 0, 0, 0, 0, 0, 0, 0, 0, 0, 0, 0, 0, 0, 0, 0, 0, 0, 0, 0, 0, 0, 0, 0, 0, 0, 0, 0, 0, 0, 0, 0, 0], token_type_ids=[0, 0, 0, 0, 0, 0, 0, 0, 0, 0, 0, 0, 0, 0, 0, 0, 0, 0, 0, 0, 0, 0, 0, 0, 0, 0, 0, 0, 0, 0, 0, 0, 0, 0, 0, 0, 0, 0, 0, 0, 0, 0, 0, 0, 0, 0, 0, 0, 0, 0, 0, 0, 0, 0, 0, 0, 0, 0, 0, 0, 0, 0, 0, 0, 0, 0, 0, 0, 0, 0, 0, 0, 0, 0, 0, 0, 0, 0, 0, 0, 0, 0, 0, 0, 0, 0, 0, 0, 0, 0, 0, 0, 0, 0, 0, 0, 0, 0, 0, 0, 0, 0, 0, 0, 0, 0, 0, 0, 0, 0, 0, 0, 0, 0, 0, 0, 0, 0, 0, 0, 0, 0, 0, 0, 0, 0, 0, 0], label=0)\n",
            "INFO:ratsnlp:features: ClassificationFeatures(input_ids=[2, 8069, 4089, 7847, 8217, 9791, 4072, 9136, 8750, 4142, 4244, 8008, 3, 0, 0, 0, 0, 0, 0, 0, 0, 0, 0, 0, 0, 0, 0, 0, 0, 0, 0, 0, 0, 0, 0, 0, 0, 0, 0, 0, 0, 0, 0, 0, 0, 0, 0, 0, 0, 0, 0, 0, 0, 0, 0, 0, 0, 0, 0, 0, 0, 0, 0, 0, 0, 0, 0, 0, 0, 0, 0, 0, 0, 0, 0, 0, 0, 0, 0, 0, 0, 0, 0, 0, 0, 0, 0, 0, 0, 0, 0, 0, 0, 0, 0, 0, 0, 0, 0, 0, 0, 0, 0, 0, 0, 0, 0, 0, 0, 0, 0, 0, 0, 0, 0, 0, 0, 0, 0, 0, 0, 0, 0, 0, 0, 0, 0, 0], attention_mask=[1, 1, 1, 1, 1, 1, 1, 1, 1, 1, 1, 1, 1, 0, 0, 0, 0, 0, 0, 0, 0, 0, 0, 0, 0, 0, 0, 0, 0, 0, 0, 0, 0, 0, 0, 0, 0, 0, 0, 0, 0, 0, 0, 0, 0, 0, 0, 0, 0, 0, 0, 0, 0, 0, 0, 0, 0, 0, 0, 0, 0, 0, 0, 0, 0, 0, 0, 0, 0, 0, 0, 0, 0, 0, 0, 0, 0, 0, 0, 0, 0, 0, 0, 0, 0, 0, 0, 0, 0, 0, 0, 0, 0, 0, 0, 0, 0, 0, 0, 0, 0, 0, 0, 0, 0, 0, 0, 0, 0, 0, 0, 0, 0, 0, 0, 0, 0, 0, 0, 0, 0, 0, 0, 0, 0, 0, 0, 0], token_type_ids=[0, 0, 0, 0, 0, 0, 0, 0, 0, 0, 0, 0, 0, 0, 0, 0, 0, 0, 0, 0, 0, 0, 0, 0, 0, 0, 0, 0, 0, 0, 0, 0, 0, 0, 0, 0, 0, 0, 0, 0, 0, 0, 0, 0, 0, 0, 0, 0, 0, 0, 0, 0, 0, 0, 0, 0, 0, 0, 0, 0, 0, 0, 0, 0, 0, 0, 0, 0, 0, 0, 0, 0, 0, 0, 0, 0, 0, 0, 0, 0, 0, 0, 0, 0, 0, 0, 0, 0, 0, 0, 0, 0, 0, 0, 0, 0, 0, 0, 0, 0, 0, 0, 0, 0, 0, 0, 0, 0, 0, 0, 0, 0, 0, 0, 0, 0, 0, 0, 0, 0, 0, 0, 0, 0, 0, 0, 0, 0], label=0)\n",
            "INFO:ratsnlp:features: ClassificationFeatures(input_ids=[2, 8069, 4089, 7847, 8217, 9791, 4072, 9136, 8750, 4142, 4244, 8008, 3, 0, 0, 0, 0, 0, 0, 0, 0, 0, 0, 0, 0, 0, 0, 0, 0, 0, 0, 0, 0, 0, 0, 0, 0, 0, 0, 0, 0, 0, 0, 0, 0, 0, 0, 0, 0, 0, 0, 0, 0, 0, 0, 0, 0, 0, 0, 0, 0, 0, 0, 0, 0, 0, 0, 0, 0, 0, 0, 0, 0, 0, 0, 0, 0, 0, 0, 0, 0, 0, 0, 0, 0, 0, 0, 0, 0, 0, 0, 0, 0, 0, 0, 0, 0, 0, 0, 0, 0, 0, 0, 0, 0, 0, 0, 0, 0, 0, 0, 0, 0, 0, 0, 0, 0, 0, 0, 0, 0, 0, 0, 0, 0, 0, 0, 0], attention_mask=[1, 1, 1, 1, 1, 1, 1, 1, 1, 1, 1, 1, 1, 0, 0, 0, 0, 0, 0, 0, 0, 0, 0, 0, 0, 0, 0, 0, 0, 0, 0, 0, 0, 0, 0, 0, 0, 0, 0, 0, 0, 0, 0, 0, 0, 0, 0, 0, 0, 0, 0, 0, 0, 0, 0, 0, 0, 0, 0, 0, 0, 0, 0, 0, 0, 0, 0, 0, 0, 0, 0, 0, 0, 0, 0, 0, 0, 0, 0, 0, 0, 0, 0, 0, 0, 0, 0, 0, 0, 0, 0, 0, 0, 0, 0, 0, 0, 0, 0, 0, 0, 0, 0, 0, 0, 0, 0, 0, 0, 0, 0, 0, 0, 0, 0, 0, 0, 0, 0, 0, 0, 0, 0, 0, 0, 0, 0, 0], token_type_ids=[0, 0, 0, 0, 0, 0, 0, 0, 0, 0, 0, 0, 0, 0, 0, 0, 0, 0, 0, 0, 0, 0, 0, 0, 0, 0, 0, 0, 0, 0, 0, 0, 0, 0, 0, 0, 0, 0, 0, 0, 0, 0, 0, 0, 0, 0, 0, 0, 0, 0, 0, 0, 0, 0, 0, 0, 0, 0, 0, 0, 0, 0, 0, 0, 0, 0, 0, 0, 0, 0, 0, 0, 0, 0, 0, 0, 0, 0, 0, 0, 0, 0, 0, 0, 0, 0, 0, 0, 0, 0, 0, 0, 0, 0, 0, 0, 0, 0, 0, 0, 0, 0, 0, 0, 0, 0, 0, 0, 0, 0, 0, 0, 0, 0, 0, 0, 0, 0, 0, 0, 0, 0, 0, 0, 0, 0, 0, 0], label=0)\n",
            "INFO:ratsnlp:*** Example ***\n",
            "INFO:ratsnlp:*** Example ***\n",
            "INFO:ratsnlp:*** Example ***\n",
            "INFO:ratsnlp:sentence: 교도소 이야기구먼 ..솔직히 재미는 없다..평점 조정\n",
            "INFO:ratsnlp:sentence: 교도소 이야기구먼 ..솔직히 재미는 없다..평점 조정\n",
            "INFO:ratsnlp:sentence: 교도소 이야기구먼 ..솔직히 재미는 없다..평점 조정\n",
            "INFO:ratsnlp:tokens: [CLS] 교도소 이야기 ##구먼 . . 솔직히 재미 ##는 없다 . . 평 ##점 조정 [SEP] [PAD] [PAD] [PAD] [PAD] [PAD] [PAD] [PAD] [PAD] [PAD] [PAD] [PAD] [PAD] [PAD] [PAD] [PAD] [PAD] [PAD] [PAD] [PAD] [PAD] [PAD] [PAD] [PAD] [PAD] [PAD] [PAD] [PAD] [PAD] [PAD] [PAD] [PAD] [PAD] [PAD] [PAD] [PAD] [PAD] [PAD] [PAD] [PAD] [PAD] [PAD] [PAD] [PAD] [PAD] [PAD] [PAD] [PAD] [PAD] [PAD] [PAD] [PAD] [PAD] [PAD] [PAD] [PAD] [PAD] [PAD] [PAD] [PAD] [PAD] [PAD] [PAD] [PAD] [PAD] [PAD] [PAD] [PAD] [PAD] [PAD] [PAD] [PAD] [PAD] [PAD] [PAD] [PAD] [PAD] [PAD] [PAD] [PAD] [PAD] [PAD] [PAD] [PAD] [PAD] [PAD] [PAD] [PAD] [PAD] [PAD] [PAD] [PAD] [PAD] [PAD] [PAD] [PAD] [PAD] [PAD] [PAD] [PAD] [PAD] [PAD] [PAD] [PAD] [PAD] [PAD] [PAD] [PAD] [PAD] [PAD] [PAD] [PAD] [PAD]\n",
            "INFO:ratsnlp:tokens: [CLS] 교도소 이야기 ##구먼 . . 솔직히 재미 ##는 없다 . . 평 ##점 조정 [SEP] [PAD] [PAD] [PAD] [PAD] [PAD] [PAD] [PAD] [PAD] [PAD] [PAD] [PAD] [PAD] [PAD] [PAD] [PAD] [PAD] [PAD] [PAD] [PAD] [PAD] [PAD] [PAD] [PAD] [PAD] [PAD] [PAD] [PAD] [PAD] [PAD] [PAD] [PAD] [PAD] [PAD] [PAD] [PAD] [PAD] [PAD] [PAD] [PAD] [PAD] [PAD] [PAD] [PAD] [PAD] [PAD] [PAD] [PAD] [PAD] [PAD] [PAD] [PAD] [PAD] [PAD] [PAD] [PAD] [PAD] [PAD] [PAD] [PAD] [PAD] [PAD] [PAD] [PAD] [PAD] [PAD] [PAD] [PAD] [PAD] [PAD] [PAD] [PAD] [PAD] [PAD] [PAD] [PAD] [PAD] [PAD] [PAD] [PAD] [PAD] [PAD] [PAD] [PAD] [PAD] [PAD] [PAD] [PAD] [PAD] [PAD] [PAD] [PAD] [PAD] [PAD] [PAD] [PAD] [PAD] [PAD] [PAD] [PAD] [PAD] [PAD] [PAD] [PAD] [PAD] [PAD] [PAD] [PAD] [PAD] [PAD] [PAD] [PAD] [PAD]\n",
            "INFO:ratsnlp:tokens: [CLS] 교도소 이야기 ##구먼 . . 솔직히 재미 ##는 없다 . . 평 ##점 조정 [SEP] [PAD] [PAD] [PAD] [PAD] [PAD] [PAD] [PAD] [PAD] [PAD] [PAD] [PAD] [PAD] [PAD] [PAD] [PAD] [PAD] [PAD] [PAD] [PAD] [PAD] [PAD] [PAD] [PAD] [PAD] [PAD] [PAD] [PAD] [PAD] [PAD] [PAD] [PAD] [PAD] [PAD] [PAD] [PAD] [PAD] [PAD] [PAD] [PAD] [PAD] [PAD] [PAD] [PAD] [PAD] [PAD] [PAD] [PAD] [PAD] [PAD] [PAD] [PAD] [PAD] [PAD] [PAD] [PAD] [PAD] [PAD] [PAD] [PAD] [PAD] [PAD] [PAD] [PAD] [PAD] [PAD] [PAD] [PAD] [PAD] [PAD] [PAD] [PAD] [PAD] [PAD] [PAD] [PAD] [PAD] [PAD] [PAD] [PAD] [PAD] [PAD] [PAD] [PAD] [PAD] [PAD] [PAD] [PAD] [PAD] [PAD] [PAD] [PAD] [PAD] [PAD] [PAD] [PAD] [PAD] [PAD] [PAD] [PAD] [PAD] [PAD] [PAD] [PAD] [PAD] [PAD] [PAD] [PAD] [PAD] [PAD] [PAD] [PAD] [PAD]\n",
            "INFO:ratsnlp:label: 0\n",
            "INFO:ratsnlp:label: 0\n",
            "INFO:ratsnlp:label: 0\n",
            "INFO:ratsnlp:features: ClassificationFeatures(input_ids=[2, 12164, 9089, 9828, 17, 17, 8876, 10827, 4008, 8131, 17, 17, 3288, 4213, 16612, 3, 0, 0, 0, 0, 0, 0, 0, 0, 0, 0, 0, 0, 0, 0, 0, 0, 0, 0, 0, 0, 0, 0, 0, 0, 0, 0, 0, 0, 0, 0, 0, 0, 0, 0, 0, 0, 0, 0, 0, 0, 0, 0, 0, 0, 0, 0, 0, 0, 0, 0, 0, 0, 0, 0, 0, 0, 0, 0, 0, 0, 0, 0, 0, 0, 0, 0, 0, 0, 0, 0, 0, 0, 0, 0, 0, 0, 0, 0, 0, 0, 0, 0, 0, 0, 0, 0, 0, 0, 0, 0, 0, 0, 0, 0, 0, 0, 0, 0, 0, 0, 0, 0, 0, 0, 0, 0, 0, 0, 0, 0, 0, 0], attention_mask=[1, 1, 1, 1, 1, 1, 1, 1, 1, 1, 1, 1, 1, 1, 1, 1, 0, 0, 0, 0, 0, 0, 0, 0, 0, 0, 0, 0, 0, 0, 0, 0, 0, 0, 0, 0, 0, 0, 0, 0, 0, 0, 0, 0, 0, 0, 0, 0, 0, 0, 0, 0, 0, 0, 0, 0, 0, 0, 0, 0, 0, 0, 0, 0, 0, 0, 0, 0, 0, 0, 0, 0, 0, 0, 0, 0, 0, 0, 0, 0, 0, 0, 0, 0, 0, 0, 0, 0, 0, 0, 0, 0, 0, 0, 0, 0, 0, 0, 0, 0, 0, 0, 0, 0, 0, 0, 0, 0, 0, 0, 0, 0, 0, 0, 0, 0, 0, 0, 0, 0, 0, 0, 0, 0, 0, 0, 0, 0], token_type_ids=[0, 0, 0, 0, 0, 0, 0, 0, 0, 0, 0, 0, 0, 0, 0, 0, 0, 0, 0, 0, 0, 0, 0, 0, 0, 0, 0, 0, 0, 0, 0, 0, 0, 0, 0, 0, 0, 0, 0, 0, 0, 0, 0, 0, 0, 0, 0, 0, 0, 0, 0, 0, 0, 0, 0, 0, 0, 0, 0, 0, 0, 0, 0, 0, 0, 0, 0, 0, 0, 0, 0, 0, 0, 0, 0, 0, 0, 0, 0, 0, 0, 0, 0, 0, 0, 0, 0, 0, 0, 0, 0, 0, 0, 0, 0, 0, 0, 0, 0, 0, 0, 0, 0, 0, 0, 0, 0, 0, 0, 0, 0, 0, 0, 0, 0, 0, 0, 0, 0, 0, 0, 0, 0, 0, 0, 0, 0, 0], label=0)\n",
            "INFO:ratsnlp:features: ClassificationFeatures(input_ids=[2, 12164, 9089, 9828, 17, 17, 8876, 10827, 4008, 8131, 17, 17, 3288, 4213, 16612, 3, 0, 0, 0, 0, 0, 0, 0, 0, 0, 0, 0, 0, 0, 0, 0, 0, 0, 0, 0, 0, 0, 0, 0, 0, 0, 0, 0, 0, 0, 0, 0, 0, 0, 0, 0, 0, 0, 0, 0, 0, 0, 0, 0, 0, 0, 0, 0, 0, 0, 0, 0, 0, 0, 0, 0, 0, 0, 0, 0, 0, 0, 0, 0, 0, 0, 0, 0, 0, 0, 0, 0, 0, 0, 0, 0, 0, 0, 0, 0, 0, 0, 0, 0, 0, 0, 0, 0, 0, 0, 0, 0, 0, 0, 0, 0, 0, 0, 0, 0, 0, 0, 0, 0, 0, 0, 0, 0, 0, 0, 0, 0, 0], attention_mask=[1, 1, 1, 1, 1, 1, 1, 1, 1, 1, 1, 1, 1, 1, 1, 1, 0, 0, 0, 0, 0, 0, 0, 0, 0, 0, 0, 0, 0, 0, 0, 0, 0, 0, 0, 0, 0, 0, 0, 0, 0, 0, 0, 0, 0, 0, 0, 0, 0, 0, 0, 0, 0, 0, 0, 0, 0, 0, 0, 0, 0, 0, 0, 0, 0, 0, 0, 0, 0, 0, 0, 0, 0, 0, 0, 0, 0, 0, 0, 0, 0, 0, 0, 0, 0, 0, 0, 0, 0, 0, 0, 0, 0, 0, 0, 0, 0, 0, 0, 0, 0, 0, 0, 0, 0, 0, 0, 0, 0, 0, 0, 0, 0, 0, 0, 0, 0, 0, 0, 0, 0, 0, 0, 0, 0, 0, 0, 0], token_type_ids=[0, 0, 0, 0, 0, 0, 0, 0, 0, 0, 0, 0, 0, 0, 0, 0, 0, 0, 0, 0, 0, 0, 0, 0, 0, 0, 0, 0, 0, 0, 0, 0, 0, 0, 0, 0, 0, 0, 0, 0, 0, 0, 0, 0, 0, 0, 0, 0, 0, 0, 0, 0, 0, 0, 0, 0, 0, 0, 0, 0, 0, 0, 0, 0, 0, 0, 0, 0, 0, 0, 0, 0, 0, 0, 0, 0, 0, 0, 0, 0, 0, 0, 0, 0, 0, 0, 0, 0, 0, 0, 0, 0, 0, 0, 0, 0, 0, 0, 0, 0, 0, 0, 0, 0, 0, 0, 0, 0, 0, 0, 0, 0, 0, 0, 0, 0, 0, 0, 0, 0, 0, 0, 0, 0, 0, 0, 0, 0], label=0)\n",
            "INFO:ratsnlp:features: ClassificationFeatures(input_ids=[2, 12164, 9089, 9828, 17, 17, 8876, 10827, 4008, 8131, 17, 17, 3288, 4213, 16612, 3, 0, 0, 0, 0, 0, 0, 0, 0, 0, 0, 0, 0, 0, 0, 0, 0, 0, 0, 0, 0, 0, 0, 0, 0, 0, 0, 0, 0, 0, 0, 0, 0, 0, 0, 0, 0, 0, 0, 0, 0, 0, 0, 0, 0, 0, 0, 0, 0, 0, 0, 0, 0, 0, 0, 0, 0, 0, 0, 0, 0, 0, 0, 0, 0, 0, 0, 0, 0, 0, 0, 0, 0, 0, 0, 0, 0, 0, 0, 0, 0, 0, 0, 0, 0, 0, 0, 0, 0, 0, 0, 0, 0, 0, 0, 0, 0, 0, 0, 0, 0, 0, 0, 0, 0, 0, 0, 0, 0, 0, 0, 0, 0], attention_mask=[1, 1, 1, 1, 1, 1, 1, 1, 1, 1, 1, 1, 1, 1, 1, 1, 0, 0, 0, 0, 0, 0, 0, 0, 0, 0, 0, 0, 0, 0, 0, 0, 0, 0, 0, 0, 0, 0, 0, 0, 0, 0, 0, 0, 0, 0, 0, 0, 0, 0, 0, 0, 0, 0, 0, 0, 0, 0, 0, 0, 0, 0, 0, 0, 0, 0, 0, 0, 0, 0, 0, 0, 0, 0, 0, 0, 0, 0, 0, 0, 0, 0, 0, 0, 0, 0, 0, 0, 0, 0, 0, 0, 0, 0, 0, 0, 0, 0, 0, 0, 0, 0, 0, 0, 0, 0, 0, 0, 0, 0, 0, 0, 0, 0, 0, 0, 0, 0, 0, 0, 0, 0, 0, 0, 0, 0, 0, 0], token_type_ids=[0, 0, 0, 0, 0, 0, 0, 0, 0, 0, 0, 0, 0, 0, 0, 0, 0, 0, 0, 0, 0, 0, 0, 0, 0, 0, 0, 0, 0, 0, 0, 0, 0, 0, 0, 0, 0, 0, 0, 0, 0, 0, 0, 0, 0, 0, 0, 0, 0, 0, 0, 0, 0, 0, 0, 0, 0, 0, 0, 0, 0, 0, 0, 0, 0, 0, 0, 0, 0, 0, 0, 0, 0, 0, 0, 0, 0, 0, 0, 0, 0, 0, 0, 0, 0, 0, 0, 0, 0, 0, 0, 0, 0, 0, 0, 0, 0, 0, 0, 0, 0, 0, 0, 0, 0, 0, 0, 0, 0, 0, 0, 0, 0, 0, 0, 0, 0, 0, 0, 0, 0, 0, 0, 0, 0, 0, 0, 0], label=0)\n",
            "INFO:ratsnlp:*** Example ***\n",
            "INFO:ratsnlp:*** Example ***\n",
            "INFO:ratsnlp:*** Example ***\n",
            "INFO:ratsnlp:sentence: 사이몬페그의 익살스런 연기가 돋보였던 영화!스파이더맨에서 늙어보이기만 했던 커스틴 던스트가 너무나도 이뻐보였다\n",
            "INFO:ratsnlp:sentence: 사이몬페그의 익살스런 연기가 돋보였던 영화!스파이더맨에서 늙어보이기만 했던 커스틴 던스트가 너무나도 이뻐보였다\n",
            "INFO:ratsnlp:sentence: 사이몬페그의 익살스런 연기가 돋보였던 영화!스파이더맨에서 늙어보이기만 했던 커스틴 던스트가 너무나도 이뻐보였다\n",
            "INFO:ratsnlp:tokens: [CLS] 사이 ##몬 ##페 ##그 ##의 익 ##살 ##스런 연기 ##가 돋 ##보 ##였던 영화 ! 스파이 ##더 ##맨 ##에서 늙어 ##보이 ##기만 했던 커 ##스 ##틴 던 ##스트 ##가 너무나도 이뻐 ##보 ##였다 [SEP] [PAD] [PAD] [PAD] [PAD] [PAD] [PAD] [PAD] [PAD] [PAD] [PAD] [PAD] [PAD] [PAD] [PAD] [PAD] [PAD] [PAD] [PAD] [PAD] [PAD] [PAD] [PAD] [PAD] [PAD] [PAD] [PAD] [PAD] [PAD] [PAD] [PAD] [PAD] [PAD] [PAD] [PAD] [PAD] [PAD] [PAD] [PAD] [PAD] [PAD] [PAD] [PAD] [PAD] [PAD] [PAD] [PAD] [PAD] [PAD] [PAD] [PAD] [PAD] [PAD] [PAD] [PAD] [PAD] [PAD] [PAD] [PAD] [PAD] [PAD] [PAD] [PAD] [PAD] [PAD] [PAD] [PAD] [PAD] [PAD] [PAD] [PAD] [PAD] [PAD] [PAD] [PAD] [PAD] [PAD] [PAD] [PAD] [PAD] [PAD] [PAD] [PAD] [PAD] [PAD] [PAD] [PAD] [PAD] [PAD] [PAD] [PAD] [PAD] [PAD] [PAD]\n",
            "INFO:ratsnlp:tokens: [CLS] 사이 ##몬 ##페 ##그 ##의 익 ##살 ##스런 연기 ##가 돋 ##보 ##였던 영화 ! 스파이 ##더 ##맨 ##에서 늙어 ##보이 ##기만 했던 커 ##스 ##틴 던 ##스트 ##가 너무나도 이뻐 ##보 ##였다 [SEP] [PAD] [PAD] [PAD] [PAD] [PAD] [PAD] [PAD] [PAD] [PAD] [PAD] [PAD] [PAD] [PAD] [PAD] [PAD] [PAD] [PAD] [PAD] [PAD] [PAD] [PAD] [PAD] [PAD] [PAD] [PAD] [PAD] [PAD] [PAD] [PAD] [PAD] [PAD] [PAD] [PAD] [PAD] [PAD] [PAD] [PAD] [PAD] [PAD] [PAD] [PAD] [PAD] [PAD] [PAD] [PAD] [PAD] [PAD] [PAD] [PAD] [PAD] [PAD] [PAD] [PAD] [PAD] [PAD] [PAD] [PAD] [PAD] [PAD] [PAD] [PAD] [PAD] [PAD] [PAD] [PAD] [PAD] [PAD] [PAD] [PAD] [PAD] [PAD] [PAD] [PAD] [PAD] [PAD] [PAD] [PAD] [PAD] [PAD] [PAD] [PAD] [PAD] [PAD] [PAD] [PAD] [PAD] [PAD] [PAD] [PAD] [PAD] [PAD] [PAD] [PAD]\n",
            "INFO:ratsnlp:tokens: [CLS] 사이 ##몬 ##페 ##그 ##의 익 ##살 ##스런 연기 ##가 돋 ##보 ##였던 영화 ! 스파이 ##더 ##맨 ##에서 늙어 ##보이 ##기만 했던 커 ##스 ##틴 던 ##스트 ##가 너무나도 이뻐 ##보 ##였다 [SEP] [PAD] [PAD] [PAD] [PAD] [PAD] [PAD] [PAD] [PAD] [PAD] [PAD] [PAD] [PAD] [PAD] [PAD] [PAD] [PAD] [PAD] [PAD] [PAD] [PAD] [PAD] [PAD] [PAD] [PAD] [PAD] [PAD] [PAD] [PAD] [PAD] [PAD] [PAD] [PAD] [PAD] [PAD] [PAD] [PAD] [PAD] [PAD] [PAD] [PAD] [PAD] [PAD] [PAD] [PAD] [PAD] [PAD] [PAD] [PAD] [PAD] [PAD] [PAD] [PAD] [PAD] [PAD] [PAD] [PAD] [PAD] [PAD] [PAD] [PAD] [PAD] [PAD] [PAD] [PAD] [PAD] [PAD] [PAD] [PAD] [PAD] [PAD] [PAD] [PAD] [PAD] [PAD] [PAD] [PAD] [PAD] [PAD] [PAD] [PAD] [PAD] [PAD] [PAD] [PAD] [PAD] [PAD] [PAD] [PAD] [PAD] [PAD] [PAD] [PAD] [PAD]\n",
            "INFO:ratsnlp:label: 1\n",
            "INFO:ratsnlp:label: 1\n",
            "INFO:ratsnlp:label: 1\n",
            "INFO:ratsnlp:features: ClassificationFeatures(input_ids=[2, 8538, 4880, 4335, 4313, 4042, 2452, 4471, 10670, 11219, 4009, 870, 4010, 13043, 9376, 5, 24034, 4356, 4617, 7971, 22878, 11980, 9235, 10129, 3010, 4103, 4713, 834, 8795, 4009, 22110, 23997, 4010, 9827, 3, 0, 0, 0, 0, 0, 0, 0, 0, 0, 0, 0, 0, 0, 0, 0, 0, 0, 0, 0, 0, 0, 0, 0, 0, 0, 0, 0, 0, 0, 0, 0, 0, 0, 0, 0, 0, 0, 0, 0, 0, 0, 0, 0, 0, 0, 0, 0, 0, 0, 0, 0, 0, 0, 0, 0, 0, 0, 0, 0, 0, 0, 0, 0, 0, 0, 0, 0, 0, 0, 0, 0, 0, 0, 0, 0, 0, 0, 0, 0, 0, 0, 0, 0, 0, 0, 0, 0, 0, 0, 0, 0, 0, 0], attention_mask=[1, 1, 1, 1, 1, 1, 1, 1, 1, 1, 1, 1, 1, 1, 1, 1, 1, 1, 1, 1, 1, 1, 1, 1, 1, 1, 1, 1, 1, 1, 1, 1, 1, 1, 1, 0, 0, 0, 0, 0, 0, 0, 0, 0, 0, 0, 0, 0, 0, 0, 0, 0, 0, 0, 0, 0, 0, 0, 0, 0, 0, 0, 0, 0, 0, 0, 0, 0, 0, 0, 0, 0, 0, 0, 0, 0, 0, 0, 0, 0, 0, 0, 0, 0, 0, 0, 0, 0, 0, 0, 0, 0, 0, 0, 0, 0, 0, 0, 0, 0, 0, 0, 0, 0, 0, 0, 0, 0, 0, 0, 0, 0, 0, 0, 0, 0, 0, 0, 0, 0, 0, 0, 0, 0, 0, 0, 0, 0], token_type_ids=[0, 0, 0, 0, 0, 0, 0, 0, 0, 0, 0, 0, 0, 0, 0, 0, 0, 0, 0, 0, 0, 0, 0, 0, 0, 0, 0, 0, 0, 0, 0, 0, 0, 0, 0, 0, 0, 0, 0, 0, 0, 0, 0, 0, 0, 0, 0, 0, 0, 0, 0, 0, 0, 0, 0, 0, 0, 0, 0, 0, 0, 0, 0, 0, 0, 0, 0, 0, 0, 0, 0, 0, 0, 0, 0, 0, 0, 0, 0, 0, 0, 0, 0, 0, 0, 0, 0, 0, 0, 0, 0, 0, 0, 0, 0, 0, 0, 0, 0, 0, 0, 0, 0, 0, 0, 0, 0, 0, 0, 0, 0, 0, 0, 0, 0, 0, 0, 0, 0, 0, 0, 0, 0, 0, 0, 0, 0, 0], label=1)\n",
            "INFO:ratsnlp:features: ClassificationFeatures(input_ids=[2, 8538, 4880, 4335, 4313, 4042, 2452, 4471, 10670, 11219, 4009, 870, 4010, 13043, 9376, 5, 24034, 4356, 4617, 7971, 22878, 11980, 9235, 10129, 3010, 4103, 4713, 834, 8795, 4009, 22110, 23997, 4010, 9827, 3, 0, 0, 0, 0, 0, 0, 0, 0, 0, 0, 0, 0, 0, 0, 0, 0, 0, 0, 0, 0, 0, 0, 0, 0, 0, 0, 0, 0, 0, 0, 0, 0, 0, 0, 0, 0, 0, 0, 0, 0, 0, 0, 0, 0, 0, 0, 0, 0, 0, 0, 0, 0, 0, 0, 0, 0, 0, 0, 0, 0, 0, 0, 0, 0, 0, 0, 0, 0, 0, 0, 0, 0, 0, 0, 0, 0, 0, 0, 0, 0, 0, 0, 0, 0, 0, 0, 0, 0, 0, 0, 0, 0, 0], attention_mask=[1, 1, 1, 1, 1, 1, 1, 1, 1, 1, 1, 1, 1, 1, 1, 1, 1, 1, 1, 1, 1, 1, 1, 1, 1, 1, 1, 1, 1, 1, 1, 1, 1, 1, 1, 0, 0, 0, 0, 0, 0, 0, 0, 0, 0, 0, 0, 0, 0, 0, 0, 0, 0, 0, 0, 0, 0, 0, 0, 0, 0, 0, 0, 0, 0, 0, 0, 0, 0, 0, 0, 0, 0, 0, 0, 0, 0, 0, 0, 0, 0, 0, 0, 0, 0, 0, 0, 0, 0, 0, 0, 0, 0, 0, 0, 0, 0, 0, 0, 0, 0, 0, 0, 0, 0, 0, 0, 0, 0, 0, 0, 0, 0, 0, 0, 0, 0, 0, 0, 0, 0, 0, 0, 0, 0, 0, 0, 0], token_type_ids=[0, 0, 0, 0, 0, 0, 0, 0, 0, 0, 0, 0, 0, 0, 0, 0, 0, 0, 0, 0, 0, 0, 0, 0, 0, 0, 0, 0, 0, 0, 0, 0, 0, 0, 0, 0, 0, 0, 0, 0, 0, 0, 0, 0, 0, 0, 0, 0, 0, 0, 0, 0, 0, 0, 0, 0, 0, 0, 0, 0, 0, 0, 0, 0, 0, 0, 0, 0, 0, 0, 0, 0, 0, 0, 0, 0, 0, 0, 0, 0, 0, 0, 0, 0, 0, 0, 0, 0, 0, 0, 0, 0, 0, 0, 0, 0, 0, 0, 0, 0, 0, 0, 0, 0, 0, 0, 0, 0, 0, 0, 0, 0, 0, 0, 0, 0, 0, 0, 0, 0, 0, 0, 0, 0, 0, 0, 0, 0], label=1)\n",
            "INFO:ratsnlp:features: ClassificationFeatures(input_ids=[2, 8538, 4880, 4335, 4313, 4042, 2452, 4471, 10670, 11219, 4009, 870, 4010, 13043, 9376, 5, 24034, 4356, 4617, 7971, 22878, 11980, 9235, 10129, 3010, 4103, 4713, 834, 8795, 4009, 22110, 23997, 4010, 9827, 3, 0, 0, 0, 0, 0, 0, 0, 0, 0, 0, 0, 0, 0, 0, 0, 0, 0, 0, 0, 0, 0, 0, 0, 0, 0, 0, 0, 0, 0, 0, 0, 0, 0, 0, 0, 0, 0, 0, 0, 0, 0, 0, 0, 0, 0, 0, 0, 0, 0, 0, 0, 0, 0, 0, 0, 0, 0, 0, 0, 0, 0, 0, 0, 0, 0, 0, 0, 0, 0, 0, 0, 0, 0, 0, 0, 0, 0, 0, 0, 0, 0, 0, 0, 0, 0, 0, 0, 0, 0, 0, 0, 0, 0], attention_mask=[1, 1, 1, 1, 1, 1, 1, 1, 1, 1, 1, 1, 1, 1, 1, 1, 1, 1, 1, 1, 1, 1, 1, 1, 1, 1, 1, 1, 1, 1, 1, 1, 1, 1, 1, 0, 0, 0, 0, 0, 0, 0, 0, 0, 0, 0, 0, 0, 0, 0, 0, 0, 0, 0, 0, 0, 0, 0, 0, 0, 0, 0, 0, 0, 0, 0, 0, 0, 0, 0, 0, 0, 0, 0, 0, 0, 0, 0, 0, 0, 0, 0, 0, 0, 0, 0, 0, 0, 0, 0, 0, 0, 0, 0, 0, 0, 0, 0, 0, 0, 0, 0, 0, 0, 0, 0, 0, 0, 0, 0, 0, 0, 0, 0, 0, 0, 0, 0, 0, 0, 0, 0, 0, 0, 0, 0, 0, 0], token_type_ids=[0, 0, 0, 0, 0, 0, 0, 0, 0, 0, 0, 0, 0, 0, 0, 0, 0, 0, 0, 0, 0, 0, 0, 0, 0, 0, 0, 0, 0, 0, 0, 0, 0, 0, 0, 0, 0, 0, 0, 0, 0, 0, 0, 0, 0, 0, 0, 0, 0, 0, 0, 0, 0, 0, 0, 0, 0, 0, 0, 0, 0, 0, 0, 0, 0, 0, 0, 0, 0, 0, 0, 0, 0, 0, 0, 0, 0, 0, 0, 0, 0, 0, 0, 0, 0, 0, 0, 0, 0, 0, 0, 0, 0, 0, 0, 0, 0, 0, 0, 0, 0, 0, 0, 0, 0, 0, 0, 0, 0, 0, 0, 0, 0, 0, 0, 0, 0, 0, 0, 0, 0, 0, 0, 0, 0, 0, 0, 0], label=1)\n",
            "INFO:ratsnlp:Saving features into cached file, it could take a lot of time...\n",
            "INFO:ratsnlp:Saving features into cached file, it could take a lot of time...\n",
            "INFO:ratsnlp:Saving features into cached file, it could take a lot of time...\n",
            "INFO:ratsnlp:Saving features into cached file /content/Korpora/nsmc/cached_train_BertTokenizer_128_nsmc_document-classification [took 48.841 s]\n",
            "INFO:ratsnlp:Saving features into cached file /content/Korpora/nsmc/cached_train_BertTokenizer_128_nsmc_document-classification [took 48.841 s]\n",
            "INFO:ratsnlp:Saving features into cached file /content/Korpora/nsmc/cached_train_BertTokenizer_128_nsmc_document-classification [took 48.841 s]\n"
          ]
        }
      ]
    },
    {
      "cell_type": "markdown",
      "metadata": {
        "id": "SOAACuBY7vem"
      },
      "source": [
        "# 테스트 데이터 구축\n",
        "학습 중에 평가할 테스트 데이터를 구축합니다."
      ]
    },
    {
      "cell_type": "code",
      "metadata": {
        "id": "mcm1tgfq7y84",
        "colab": {
          "base_uri": "https://localhost:8080/"
        },
        "outputId": "47daa09b-b2bb-4726-ce32-2df8c6c76973"
      },
      "source": [
        "val_dataset = ClassificationDataset(\n",
        "    args=args,\n",
        "    corpus=corpus,\n",
        "    tokenizer=tokenizer,\n",
        "    mode=\"test\",\n",
        ")\n",
        "val_dataloader = DataLoader(\n",
        "    val_dataset,\n",
        "    batch_size=args.batch_size,\n",
        "    sampler=SequentialSampler(val_dataset), # 평가용 데이터 로더 구축. batch_size만큼의 갯수만큼을 인스턴스 순서대로 추출하는 역할을 합니다. #학습은 랜덤 평가는 순서대로\n",
        "    collate_fn=nlpbook.data_collator,\n",
        "    drop_last=False,\n",
        "    num_workers=args.cpu_workers,\n",
        ")\n"
      ],
      "execution_count": 13,
      "outputs": [
        {
          "output_type": "stream",
          "name": "stderr",
          "text": [
            "INFO:ratsnlp:Creating features from dataset file at /content/Korpora/nsmc\n",
            "INFO:ratsnlp:Creating features from dataset file at /content/Korpora/nsmc\n",
            "INFO:ratsnlp:Creating features from dataset file at /content/Korpora/nsmc\n",
            "INFO:ratsnlp:loading test data... LOOKING AT /content/Korpora/nsmc/ratings_test.txt\n",
            "INFO:ratsnlp:loading test data... LOOKING AT /content/Korpora/nsmc/ratings_test.txt\n",
            "INFO:ratsnlp:loading test data... LOOKING AT /content/Korpora/nsmc/ratings_test.txt\n",
            "INFO:ratsnlp:tokenize sentences, it could take a lot of time...\n",
            "INFO:ratsnlp:tokenize sentences, it could take a lot of time...\n",
            "INFO:ratsnlp:tokenize sentences, it could take a lot of time...\n",
            "INFO:ratsnlp:tokenize sentences [took 28.763 s]\n",
            "INFO:ratsnlp:tokenize sentences [took 28.763 s]\n",
            "INFO:ratsnlp:tokenize sentences [took 28.763 s]\n",
            "INFO:ratsnlp:*** Example ***\n",
            "INFO:ratsnlp:*** Example ***\n",
            "INFO:ratsnlp:*** Example ***\n",
            "INFO:ratsnlp:sentence: 굳 ㅋ\n",
            "INFO:ratsnlp:sentence: 굳 ㅋ\n",
            "INFO:ratsnlp:sentence: 굳 ㅋ\n",
            "INFO:ratsnlp:tokens: [CLS] 굳 ㅋ [SEP] [PAD] [PAD] [PAD] [PAD] [PAD] [PAD] [PAD] [PAD] [PAD] [PAD] [PAD] [PAD] [PAD] [PAD] [PAD] [PAD] [PAD] [PAD] [PAD] [PAD] [PAD] [PAD] [PAD] [PAD] [PAD] [PAD] [PAD] [PAD] [PAD] [PAD] [PAD] [PAD] [PAD] [PAD] [PAD] [PAD] [PAD] [PAD] [PAD] [PAD] [PAD] [PAD] [PAD] [PAD] [PAD] [PAD] [PAD] [PAD] [PAD] [PAD] [PAD] [PAD] [PAD] [PAD] [PAD] [PAD] [PAD] [PAD] [PAD] [PAD] [PAD] [PAD] [PAD] [PAD] [PAD] [PAD] [PAD] [PAD] [PAD] [PAD] [PAD] [PAD] [PAD] [PAD] [PAD] [PAD] [PAD] [PAD] [PAD] [PAD] [PAD] [PAD] [PAD] [PAD] [PAD] [PAD] [PAD] [PAD] [PAD] [PAD] [PAD] [PAD] [PAD] [PAD] [PAD] [PAD] [PAD] [PAD] [PAD] [PAD] [PAD] [PAD] [PAD] [PAD] [PAD] [PAD] [PAD] [PAD] [PAD] [PAD] [PAD] [PAD] [PAD] [PAD] [PAD] [PAD] [PAD] [PAD] [PAD] [PAD] [PAD] [PAD] [PAD] [PAD]\n",
            "INFO:ratsnlp:tokens: [CLS] 굳 ㅋ [SEP] [PAD] [PAD] [PAD] [PAD] [PAD] [PAD] [PAD] [PAD] [PAD] [PAD] [PAD] [PAD] [PAD] [PAD] [PAD] [PAD] [PAD] [PAD] [PAD] [PAD] [PAD] [PAD] [PAD] [PAD] [PAD] [PAD] [PAD] [PAD] [PAD] [PAD] [PAD] [PAD] [PAD] [PAD] [PAD] [PAD] [PAD] [PAD] [PAD] [PAD] [PAD] [PAD] [PAD] [PAD] [PAD] [PAD] [PAD] [PAD] [PAD] [PAD] [PAD] [PAD] [PAD] [PAD] [PAD] [PAD] [PAD] [PAD] [PAD] [PAD] [PAD] [PAD] [PAD] [PAD] [PAD] [PAD] [PAD] [PAD] [PAD] [PAD] [PAD] [PAD] [PAD] [PAD] [PAD] [PAD] [PAD] [PAD] [PAD] [PAD] [PAD] [PAD] [PAD] [PAD] [PAD] [PAD] [PAD] [PAD] [PAD] [PAD] [PAD] [PAD] [PAD] [PAD] [PAD] [PAD] [PAD] [PAD] [PAD] [PAD] [PAD] [PAD] [PAD] [PAD] [PAD] [PAD] [PAD] [PAD] [PAD] [PAD] [PAD] [PAD] [PAD] [PAD] [PAD] [PAD] [PAD] [PAD] [PAD] [PAD] [PAD] [PAD] [PAD] [PAD]\n",
            "INFO:ratsnlp:tokens: [CLS] 굳 ㅋ [SEP] [PAD] [PAD] [PAD] [PAD] [PAD] [PAD] [PAD] [PAD] [PAD] [PAD] [PAD] [PAD] [PAD] [PAD] [PAD] [PAD] [PAD] [PAD] [PAD] [PAD] [PAD] [PAD] [PAD] [PAD] [PAD] [PAD] [PAD] [PAD] [PAD] [PAD] [PAD] [PAD] [PAD] [PAD] [PAD] [PAD] [PAD] [PAD] [PAD] [PAD] [PAD] [PAD] [PAD] [PAD] [PAD] [PAD] [PAD] [PAD] [PAD] [PAD] [PAD] [PAD] [PAD] [PAD] [PAD] [PAD] [PAD] [PAD] [PAD] [PAD] [PAD] [PAD] [PAD] [PAD] [PAD] [PAD] [PAD] [PAD] [PAD] [PAD] [PAD] [PAD] [PAD] [PAD] [PAD] [PAD] [PAD] [PAD] [PAD] [PAD] [PAD] [PAD] [PAD] [PAD] [PAD] [PAD] [PAD] [PAD] [PAD] [PAD] [PAD] [PAD] [PAD] [PAD] [PAD] [PAD] [PAD] [PAD] [PAD] [PAD] [PAD] [PAD] [PAD] [PAD] [PAD] [PAD] [PAD] [PAD] [PAD] [PAD] [PAD] [PAD] [PAD] [PAD] [PAD] [PAD] [PAD] [PAD] [PAD] [PAD] [PAD] [PAD] [PAD] [PAD]\n",
            "INFO:ratsnlp:label: 1\n",
            "INFO:ratsnlp:label: 1\n",
            "INFO:ratsnlp:label: 1\n",
            "INFO:ratsnlp:features: ClassificationFeatures(input_ids=[2, 352, 192, 3, 0, 0, 0, 0, 0, 0, 0, 0, 0, 0, 0, 0, 0, 0, 0, 0, 0, 0, 0, 0, 0, 0, 0, 0, 0, 0, 0, 0, 0, 0, 0, 0, 0, 0, 0, 0, 0, 0, 0, 0, 0, 0, 0, 0, 0, 0, 0, 0, 0, 0, 0, 0, 0, 0, 0, 0, 0, 0, 0, 0, 0, 0, 0, 0, 0, 0, 0, 0, 0, 0, 0, 0, 0, 0, 0, 0, 0, 0, 0, 0, 0, 0, 0, 0, 0, 0, 0, 0, 0, 0, 0, 0, 0, 0, 0, 0, 0, 0, 0, 0, 0, 0, 0, 0, 0, 0, 0, 0, 0, 0, 0, 0, 0, 0, 0, 0, 0, 0, 0, 0, 0, 0, 0, 0], attention_mask=[1, 1, 1, 1, 0, 0, 0, 0, 0, 0, 0, 0, 0, 0, 0, 0, 0, 0, 0, 0, 0, 0, 0, 0, 0, 0, 0, 0, 0, 0, 0, 0, 0, 0, 0, 0, 0, 0, 0, 0, 0, 0, 0, 0, 0, 0, 0, 0, 0, 0, 0, 0, 0, 0, 0, 0, 0, 0, 0, 0, 0, 0, 0, 0, 0, 0, 0, 0, 0, 0, 0, 0, 0, 0, 0, 0, 0, 0, 0, 0, 0, 0, 0, 0, 0, 0, 0, 0, 0, 0, 0, 0, 0, 0, 0, 0, 0, 0, 0, 0, 0, 0, 0, 0, 0, 0, 0, 0, 0, 0, 0, 0, 0, 0, 0, 0, 0, 0, 0, 0, 0, 0, 0, 0, 0, 0, 0, 0], token_type_ids=[0, 0, 0, 0, 0, 0, 0, 0, 0, 0, 0, 0, 0, 0, 0, 0, 0, 0, 0, 0, 0, 0, 0, 0, 0, 0, 0, 0, 0, 0, 0, 0, 0, 0, 0, 0, 0, 0, 0, 0, 0, 0, 0, 0, 0, 0, 0, 0, 0, 0, 0, 0, 0, 0, 0, 0, 0, 0, 0, 0, 0, 0, 0, 0, 0, 0, 0, 0, 0, 0, 0, 0, 0, 0, 0, 0, 0, 0, 0, 0, 0, 0, 0, 0, 0, 0, 0, 0, 0, 0, 0, 0, 0, 0, 0, 0, 0, 0, 0, 0, 0, 0, 0, 0, 0, 0, 0, 0, 0, 0, 0, 0, 0, 0, 0, 0, 0, 0, 0, 0, 0, 0, 0, 0, 0, 0, 0, 0], label=1)\n",
            "INFO:ratsnlp:features: ClassificationFeatures(input_ids=[2, 352, 192, 3, 0, 0, 0, 0, 0, 0, 0, 0, 0, 0, 0, 0, 0, 0, 0, 0, 0, 0, 0, 0, 0, 0, 0, 0, 0, 0, 0, 0, 0, 0, 0, 0, 0, 0, 0, 0, 0, 0, 0, 0, 0, 0, 0, 0, 0, 0, 0, 0, 0, 0, 0, 0, 0, 0, 0, 0, 0, 0, 0, 0, 0, 0, 0, 0, 0, 0, 0, 0, 0, 0, 0, 0, 0, 0, 0, 0, 0, 0, 0, 0, 0, 0, 0, 0, 0, 0, 0, 0, 0, 0, 0, 0, 0, 0, 0, 0, 0, 0, 0, 0, 0, 0, 0, 0, 0, 0, 0, 0, 0, 0, 0, 0, 0, 0, 0, 0, 0, 0, 0, 0, 0, 0, 0, 0], attention_mask=[1, 1, 1, 1, 0, 0, 0, 0, 0, 0, 0, 0, 0, 0, 0, 0, 0, 0, 0, 0, 0, 0, 0, 0, 0, 0, 0, 0, 0, 0, 0, 0, 0, 0, 0, 0, 0, 0, 0, 0, 0, 0, 0, 0, 0, 0, 0, 0, 0, 0, 0, 0, 0, 0, 0, 0, 0, 0, 0, 0, 0, 0, 0, 0, 0, 0, 0, 0, 0, 0, 0, 0, 0, 0, 0, 0, 0, 0, 0, 0, 0, 0, 0, 0, 0, 0, 0, 0, 0, 0, 0, 0, 0, 0, 0, 0, 0, 0, 0, 0, 0, 0, 0, 0, 0, 0, 0, 0, 0, 0, 0, 0, 0, 0, 0, 0, 0, 0, 0, 0, 0, 0, 0, 0, 0, 0, 0, 0], token_type_ids=[0, 0, 0, 0, 0, 0, 0, 0, 0, 0, 0, 0, 0, 0, 0, 0, 0, 0, 0, 0, 0, 0, 0, 0, 0, 0, 0, 0, 0, 0, 0, 0, 0, 0, 0, 0, 0, 0, 0, 0, 0, 0, 0, 0, 0, 0, 0, 0, 0, 0, 0, 0, 0, 0, 0, 0, 0, 0, 0, 0, 0, 0, 0, 0, 0, 0, 0, 0, 0, 0, 0, 0, 0, 0, 0, 0, 0, 0, 0, 0, 0, 0, 0, 0, 0, 0, 0, 0, 0, 0, 0, 0, 0, 0, 0, 0, 0, 0, 0, 0, 0, 0, 0, 0, 0, 0, 0, 0, 0, 0, 0, 0, 0, 0, 0, 0, 0, 0, 0, 0, 0, 0, 0, 0, 0, 0, 0, 0], label=1)\n",
            "INFO:ratsnlp:features: ClassificationFeatures(input_ids=[2, 352, 192, 3, 0, 0, 0, 0, 0, 0, 0, 0, 0, 0, 0, 0, 0, 0, 0, 0, 0, 0, 0, 0, 0, 0, 0, 0, 0, 0, 0, 0, 0, 0, 0, 0, 0, 0, 0, 0, 0, 0, 0, 0, 0, 0, 0, 0, 0, 0, 0, 0, 0, 0, 0, 0, 0, 0, 0, 0, 0, 0, 0, 0, 0, 0, 0, 0, 0, 0, 0, 0, 0, 0, 0, 0, 0, 0, 0, 0, 0, 0, 0, 0, 0, 0, 0, 0, 0, 0, 0, 0, 0, 0, 0, 0, 0, 0, 0, 0, 0, 0, 0, 0, 0, 0, 0, 0, 0, 0, 0, 0, 0, 0, 0, 0, 0, 0, 0, 0, 0, 0, 0, 0, 0, 0, 0, 0], attention_mask=[1, 1, 1, 1, 0, 0, 0, 0, 0, 0, 0, 0, 0, 0, 0, 0, 0, 0, 0, 0, 0, 0, 0, 0, 0, 0, 0, 0, 0, 0, 0, 0, 0, 0, 0, 0, 0, 0, 0, 0, 0, 0, 0, 0, 0, 0, 0, 0, 0, 0, 0, 0, 0, 0, 0, 0, 0, 0, 0, 0, 0, 0, 0, 0, 0, 0, 0, 0, 0, 0, 0, 0, 0, 0, 0, 0, 0, 0, 0, 0, 0, 0, 0, 0, 0, 0, 0, 0, 0, 0, 0, 0, 0, 0, 0, 0, 0, 0, 0, 0, 0, 0, 0, 0, 0, 0, 0, 0, 0, 0, 0, 0, 0, 0, 0, 0, 0, 0, 0, 0, 0, 0, 0, 0, 0, 0, 0, 0], token_type_ids=[0, 0, 0, 0, 0, 0, 0, 0, 0, 0, 0, 0, 0, 0, 0, 0, 0, 0, 0, 0, 0, 0, 0, 0, 0, 0, 0, 0, 0, 0, 0, 0, 0, 0, 0, 0, 0, 0, 0, 0, 0, 0, 0, 0, 0, 0, 0, 0, 0, 0, 0, 0, 0, 0, 0, 0, 0, 0, 0, 0, 0, 0, 0, 0, 0, 0, 0, 0, 0, 0, 0, 0, 0, 0, 0, 0, 0, 0, 0, 0, 0, 0, 0, 0, 0, 0, 0, 0, 0, 0, 0, 0, 0, 0, 0, 0, 0, 0, 0, 0, 0, 0, 0, 0, 0, 0, 0, 0, 0, 0, 0, 0, 0, 0, 0, 0, 0, 0, 0, 0, 0, 0, 0, 0, 0, 0, 0, 0], label=1)\n",
            "INFO:ratsnlp:*** Example ***\n",
            "INFO:ratsnlp:*** Example ***\n",
            "INFO:ratsnlp:*** Example ***\n",
            "INFO:ratsnlp:sentence: GDNTOPCLASSINTHECLUB\n",
            "INFO:ratsnlp:sentence: GDNTOPCLASSINTHECLUB\n",
            "INFO:ratsnlp:sentence: GDNTOPCLASSINTHECLUB\n",
            "INFO:ratsnlp:tokens: [CLS] G ##D ##N ##TO ##P ##C ##L ##A ##S ##S ##I ##N ##T ##H ##E ##C ##L ##U ##B [SEP] [PAD] [PAD] [PAD] [PAD] [PAD] [PAD] [PAD] [PAD] [PAD] [PAD] [PAD] [PAD] [PAD] [PAD] [PAD] [PAD] [PAD] [PAD] [PAD] [PAD] [PAD] [PAD] [PAD] [PAD] [PAD] [PAD] [PAD] [PAD] [PAD] [PAD] [PAD] [PAD] [PAD] [PAD] [PAD] [PAD] [PAD] [PAD] [PAD] [PAD] [PAD] [PAD] [PAD] [PAD] [PAD] [PAD] [PAD] [PAD] [PAD] [PAD] [PAD] [PAD] [PAD] [PAD] [PAD] [PAD] [PAD] [PAD] [PAD] [PAD] [PAD] [PAD] [PAD] [PAD] [PAD] [PAD] [PAD] [PAD] [PAD] [PAD] [PAD] [PAD] [PAD] [PAD] [PAD] [PAD] [PAD] [PAD] [PAD] [PAD] [PAD] [PAD] [PAD] [PAD] [PAD] [PAD] [PAD] [PAD] [PAD] [PAD] [PAD] [PAD] [PAD] [PAD] [PAD] [PAD] [PAD] [PAD] [PAD] [PAD] [PAD] [PAD] [PAD] [PAD] [PAD] [PAD] [PAD]\n",
            "INFO:ratsnlp:tokens: [CLS] G ##D ##N ##TO ##P ##C ##L ##A ##S ##S ##I ##N ##T ##H ##E ##C ##L ##U ##B [SEP] [PAD] [PAD] [PAD] [PAD] [PAD] [PAD] [PAD] [PAD] [PAD] [PAD] [PAD] [PAD] [PAD] [PAD] [PAD] [PAD] [PAD] [PAD] [PAD] [PAD] [PAD] [PAD] [PAD] [PAD] [PAD] [PAD] [PAD] [PAD] [PAD] [PAD] [PAD] [PAD] [PAD] [PAD] [PAD] [PAD] [PAD] [PAD] [PAD] [PAD] [PAD] [PAD] [PAD] [PAD] [PAD] [PAD] [PAD] [PAD] [PAD] [PAD] [PAD] [PAD] [PAD] [PAD] [PAD] [PAD] [PAD] [PAD] [PAD] [PAD] [PAD] [PAD] [PAD] [PAD] [PAD] [PAD] [PAD] [PAD] [PAD] [PAD] [PAD] [PAD] [PAD] [PAD] [PAD] [PAD] [PAD] [PAD] [PAD] [PAD] [PAD] [PAD] [PAD] [PAD] [PAD] [PAD] [PAD] [PAD] [PAD] [PAD] [PAD] [PAD] [PAD] [PAD] [PAD] [PAD] [PAD] [PAD] [PAD] [PAD] [PAD] [PAD] [PAD] [PAD] [PAD] [PAD] [PAD]\n",
            "INFO:ratsnlp:tokens: [CLS] G ##D ##N ##TO ##P ##C ##L ##A ##S ##S ##I ##N ##T ##H ##E ##C ##L ##U ##B [SEP] [PAD] [PAD] [PAD] [PAD] [PAD] [PAD] [PAD] [PAD] [PAD] [PAD] [PAD] [PAD] [PAD] [PAD] [PAD] [PAD] [PAD] [PAD] [PAD] [PAD] [PAD] [PAD] [PAD] [PAD] [PAD] [PAD] [PAD] [PAD] [PAD] [PAD] [PAD] [PAD] [PAD] [PAD] [PAD] [PAD] [PAD] [PAD] [PAD] [PAD] [PAD] [PAD] [PAD] [PAD] [PAD] [PAD] [PAD] [PAD] [PAD] [PAD] [PAD] [PAD] [PAD] [PAD] [PAD] [PAD] [PAD] [PAD] [PAD] [PAD] [PAD] [PAD] [PAD] [PAD] [PAD] [PAD] [PAD] [PAD] [PAD] [PAD] [PAD] [PAD] [PAD] [PAD] [PAD] [PAD] [PAD] [PAD] [PAD] [PAD] [PAD] [PAD] [PAD] [PAD] [PAD] [PAD] [PAD] [PAD] [PAD] [PAD] [PAD] [PAD] [PAD] [PAD] [PAD] [PAD] [PAD] [PAD] [PAD] [PAD] [PAD] [PAD] [PAD] [PAD] [PAD] [PAD] [PAD]\n",
            "INFO:ratsnlp:label: 0\n",
            "INFO:ratsnlp:label: 0\n",
            "INFO:ratsnlp:label: 0\n",
            "INFO:ratsnlp:features: ClassificationFeatures(input_ids=[2, 40, 4452, 4581, 25144, 4579, 4881, 4450, 4580, 4985, 4985, 4506, 4581, 4850, 5121, 4451, 4881, 4450, 5167, 4756, 3, 0, 0, 0, 0, 0, 0, 0, 0, 0, 0, 0, 0, 0, 0, 0, 0, 0, 0, 0, 0, 0, 0, 0, 0, 0, 0, 0, 0, 0, 0, 0, 0, 0, 0, 0, 0, 0, 0, 0, 0, 0, 0, 0, 0, 0, 0, 0, 0, 0, 0, 0, 0, 0, 0, 0, 0, 0, 0, 0, 0, 0, 0, 0, 0, 0, 0, 0, 0, 0, 0, 0, 0, 0, 0, 0, 0, 0, 0, 0, 0, 0, 0, 0, 0, 0, 0, 0, 0, 0, 0, 0, 0, 0, 0, 0, 0, 0, 0, 0, 0, 0, 0, 0, 0, 0, 0, 0], attention_mask=[1, 1, 1, 1, 1, 1, 1, 1, 1, 1, 1, 1, 1, 1, 1, 1, 1, 1, 1, 1, 1, 0, 0, 0, 0, 0, 0, 0, 0, 0, 0, 0, 0, 0, 0, 0, 0, 0, 0, 0, 0, 0, 0, 0, 0, 0, 0, 0, 0, 0, 0, 0, 0, 0, 0, 0, 0, 0, 0, 0, 0, 0, 0, 0, 0, 0, 0, 0, 0, 0, 0, 0, 0, 0, 0, 0, 0, 0, 0, 0, 0, 0, 0, 0, 0, 0, 0, 0, 0, 0, 0, 0, 0, 0, 0, 0, 0, 0, 0, 0, 0, 0, 0, 0, 0, 0, 0, 0, 0, 0, 0, 0, 0, 0, 0, 0, 0, 0, 0, 0, 0, 0, 0, 0, 0, 0, 0, 0], token_type_ids=[0, 0, 0, 0, 0, 0, 0, 0, 0, 0, 0, 0, 0, 0, 0, 0, 0, 0, 0, 0, 0, 0, 0, 0, 0, 0, 0, 0, 0, 0, 0, 0, 0, 0, 0, 0, 0, 0, 0, 0, 0, 0, 0, 0, 0, 0, 0, 0, 0, 0, 0, 0, 0, 0, 0, 0, 0, 0, 0, 0, 0, 0, 0, 0, 0, 0, 0, 0, 0, 0, 0, 0, 0, 0, 0, 0, 0, 0, 0, 0, 0, 0, 0, 0, 0, 0, 0, 0, 0, 0, 0, 0, 0, 0, 0, 0, 0, 0, 0, 0, 0, 0, 0, 0, 0, 0, 0, 0, 0, 0, 0, 0, 0, 0, 0, 0, 0, 0, 0, 0, 0, 0, 0, 0, 0, 0, 0, 0], label=0)\n",
            "INFO:ratsnlp:features: ClassificationFeatures(input_ids=[2, 40, 4452, 4581, 25144, 4579, 4881, 4450, 4580, 4985, 4985, 4506, 4581, 4850, 5121, 4451, 4881, 4450, 5167, 4756, 3, 0, 0, 0, 0, 0, 0, 0, 0, 0, 0, 0, 0, 0, 0, 0, 0, 0, 0, 0, 0, 0, 0, 0, 0, 0, 0, 0, 0, 0, 0, 0, 0, 0, 0, 0, 0, 0, 0, 0, 0, 0, 0, 0, 0, 0, 0, 0, 0, 0, 0, 0, 0, 0, 0, 0, 0, 0, 0, 0, 0, 0, 0, 0, 0, 0, 0, 0, 0, 0, 0, 0, 0, 0, 0, 0, 0, 0, 0, 0, 0, 0, 0, 0, 0, 0, 0, 0, 0, 0, 0, 0, 0, 0, 0, 0, 0, 0, 0, 0, 0, 0, 0, 0, 0, 0, 0, 0], attention_mask=[1, 1, 1, 1, 1, 1, 1, 1, 1, 1, 1, 1, 1, 1, 1, 1, 1, 1, 1, 1, 1, 0, 0, 0, 0, 0, 0, 0, 0, 0, 0, 0, 0, 0, 0, 0, 0, 0, 0, 0, 0, 0, 0, 0, 0, 0, 0, 0, 0, 0, 0, 0, 0, 0, 0, 0, 0, 0, 0, 0, 0, 0, 0, 0, 0, 0, 0, 0, 0, 0, 0, 0, 0, 0, 0, 0, 0, 0, 0, 0, 0, 0, 0, 0, 0, 0, 0, 0, 0, 0, 0, 0, 0, 0, 0, 0, 0, 0, 0, 0, 0, 0, 0, 0, 0, 0, 0, 0, 0, 0, 0, 0, 0, 0, 0, 0, 0, 0, 0, 0, 0, 0, 0, 0, 0, 0, 0, 0], token_type_ids=[0, 0, 0, 0, 0, 0, 0, 0, 0, 0, 0, 0, 0, 0, 0, 0, 0, 0, 0, 0, 0, 0, 0, 0, 0, 0, 0, 0, 0, 0, 0, 0, 0, 0, 0, 0, 0, 0, 0, 0, 0, 0, 0, 0, 0, 0, 0, 0, 0, 0, 0, 0, 0, 0, 0, 0, 0, 0, 0, 0, 0, 0, 0, 0, 0, 0, 0, 0, 0, 0, 0, 0, 0, 0, 0, 0, 0, 0, 0, 0, 0, 0, 0, 0, 0, 0, 0, 0, 0, 0, 0, 0, 0, 0, 0, 0, 0, 0, 0, 0, 0, 0, 0, 0, 0, 0, 0, 0, 0, 0, 0, 0, 0, 0, 0, 0, 0, 0, 0, 0, 0, 0, 0, 0, 0, 0, 0, 0], label=0)\n",
            "INFO:ratsnlp:features: ClassificationFeatures(input_ids=[2, 40, 4452, 4581, 25144, 4579, 4881, 4450, 4580, 4985, 4985, 4506, 4581, 4850, 5121, 4451, 4881, 4450, 5167, 4756, 3, 0, 0, 0, 0, 0, 0, 0, 0, 0, 0, 0, 0, 0, 0, 0, 0, 0, 0, 0, 0, 0, 0, 0, 0, 0, 0, 0, 0, 0, 0, 0, 0, 0, 0, 0, 0, 0, 0, 0, 0, 0, 0, 0, 0, 0, 0, 0, 0, 0, 0, 0, 0, 0, 0, 0, 0, 0, 0, 0, 0, 0, 0, 0, 0, 0, 0, 0, 0, 0, 0, 0, 0, 0, 0, 0, 0, 0, 0, 0, 0, 0, 0, 0, 0, 0, 0, 0, 0, 0, 0, 0, 0, 0, 0, 0, 0, 0, 0, 0, 0, 0, 0, 0, 0, 0, 0, 0], attention_mask=[1, 1, 1, 1, 1, 1, 1, 1, 1, 1, 1, 1, 1, 1, 1, 1, 1, 1, 1, 1, 1, 0, 0, 0, 0, 0, 0, 0, 0, 0, 0, 0, 0, 0, 0, 0, 0, 0, 0, 0, 0, 0, 0, 0, 0, 0, 0, 0, 0, 0, 0, 0, 0, 0, 0, 0, 0, 0, 0, 0, 0, 0, 0, 0, 0, 0, 0, 0, 0, 0, 0, 0, 0, 0, 0, 0, 0, 0, 0, 0, 0, 0, 0, 0, 0, 0, 0, 0, 0, 0, 0, 0, 0, 0, 0, 0, 0, 0, 0, 0, 0, 0, 0, 0, 0, 0, 0, 0, 0, 0, 0, 0, 0, 0, 0, 0, 0, 0, 0, 0, 0, 0, 0, 0, 0, 0, 0, 0], token_type_ids=[0, 0, 0, 0, 0, 0, 0, 0, 0, 0, 0, 0, 0, 0, 0, 0, 0, 0, 0, 0, 0, 0, 0, 0, 0, 0, 0, 0, 0, 0, 0, 0, 0, 0, 0, 0, 0, 0, 0, 0, 0, 0, 0, 0, 0, 0, 0, 0, 0, 0, 0, 0, 0, 0, 0, 0, 0, 0, 0, 0, 0, 0, 0, 0, 0, 0, 0, 0, 0, 0, 0, 0, 0, 0, 0, 0, 0, 0, 0, 0, 0, 0, 0, 0, 0, 0, 0, 0, 0, 0, 0, 0, 0, 0, 0, 0, 0, 0, 0, 0, 0, 0, 0, 0, 0, 0, 0, 0, 0, 0, 0, 0, 0, 0, 0, 0, 0, 0, 0, 0, 0, 0, 0, 0, 0, 0, 0, 0], label=0)\n",
            "INFO:ratsnlp:*** Example ***\n",
            "INFO:ratsnlp:*** Example ***\n",
            "INFO:ratsnlp:*** Example ***\n",
            "INFO:ratsnlp:sentence: 뭐야 이 평점들은.... 나쁘진 않지만 10점 짜리는 더더욱 아니잖아\n",
            "INFO:ratsnlp:sentence: 뭐야 이 평점들은.... 나쁘진 않지만 10점 짜리는 더더욱 아니잖아\n",
            "INFO:ratsnlp:sentence: 뭐야 이 평점들은.... 나쁘진 않지만 10점 짜리는 더더욱 아니잖아\n",
            "INFO:ratsnlp:tokens: [CLS] 뭐야 이 평 ##점 ##들은 . . . . 나쁘 ##진 않지만 10 ##점 짜리 ##는 더더욱 아니잖아 [SEP] [PAD] [PAD] [PAD] [PAD] [PAD] [PAD] [PAD] [PAD] [PAD] [PAD] [PAD] [PAD] [PAD] [PAD] [PAD] [PAD] [PAD] [PAD] [PAD] [PAD] [PAD] [PAD] [PAD] [PAD] [PAD] [PAD] [PAD] [PAD] [PAD] [PAD] [PAD] [PAD] [PAD] [PAD] [PAD] [PAD] [PAD] [PAD] [PAD] [PAD] [PAD] [PAD] [PAD] [PAD] [PAD] [PAD] [PAD] [PAD] [PAD] [PAD] [PAD] [PAD] [PAD] [PAD] [PAD] [PAD] [PAD] [PAD] [PAD] [PAD] [PAD] [PAD] [PAD] [PAD] [PAD] [PAD] [PAD] [PAD] [PAD] [PAD] [PAD] [PAD] [PAD] [PAD] [PAD] [PAD] [PAD] [PAD] [PAD] [PAD] [PAD] [PAD] [PAD] [PAD] [PAD] [PAD] [PAD] [PAD] [PAD] [PAD] [PAD] [PAD] [PAD] [PAD] [PAD] [PAD] [PAD] [PAD] [PAD] [PAD] [PAD] [PAD] [PAD] [PAD] [PAD] [PAD] [PAD] [PAD]\n",
            "INFO:ratsnlp:tokens: [CLS] 뭐야 이 평 ##점 ##들은 . . . . 나쁘 ##진 않지만 10 ##점 짜리 ##는 더더욱 아니잖아 [SEP] [PAD] [PAD] [PAD] [PAD] [PAD] [PAD] [PAD] [PAD] [PAD] [PAD] [PAD] [PAD] [PAD] [PAD] [PAD] [PAD] [PAD] [PAD] [PAD] [PAD] [PAD] [PAD] [PAD] [PAD] [PAD] [PAD] [PAD] [PAD] [PAD] [PAD] [PAD] [PAD] [PAD] [PAD] [PAD] [PAD] [PAD] [PAD] [PAD] [PAD] [PAD] [PAD] [PAD] [PAD] [PAD] [PAD] [PAD] [PAD] [PAD] [PAD] [PAD] [PAD] [PAD] [PAD] [PAD] [PAD] [PAD] [PAD] [PAD] [PAD] [PAD] [PAD] [PAD] [PAD] [PAD] [PAD] [PAD] [PAD] [PAD] [PAD] [PAD] [PAD] [PAD] [PAD] [PAD] [PAD] [PAD] [PAD] [PAD] [PAD] [PAD] [PAD] [PAD] [PAD] [PAD] [PAD] [PAD] [PAD] [PAD] [PAD] [PAD] [PAD] [PAD] [PAD] [PAD] [PAD] [PAD] [PAD] [PAD] [PAD] [PAD] [PAD] [PAD] [PAD] [PAD] [PAD] [PAD] [PAD]\n",
            "INFO:ratsnlp:tokens: [CLS] 뭐야 이 평 ##점 ##들은 . . . . 나쁘 ##진 않지만 10 ##점 짜리 ##는 더더욱 아니잖아 [SEP] [PAD] [PAD] [PAD] [PAD] [PAD] [PAD] [PAD] [PAD] [PAD] [PAD] [PAD] [PAD] [PAD] [PAD] [PAD] [PAD] [PAD] [PAD] [PAD] [PAD] [PAD] [PAD] [PAD] [PAD] [PAD] [PAD] [PAD] [PAD] [PAD] [PAD] [PAD] [PAD] [PAD] [PAD] [PAD] [PAD] [PAD] [PAD] [PAD] [PAD] [PAD] [PAD] [PAD] [PAD] [PAD] [PAD] [PAD] [PAD] [PAD] [PAD] [PAD] [PAD] [PAD] [PAD] [PAD] [PAD] [PAD] [PAD] [PAD] [PAD] [PAD] [PAD] [PAD] [PAD] [PAD] [PAD] [PAD] [PAD] [PAD] [PAD] [PAD] [PAD] [PAD] [PAD] [PAD] [PAD] [PAD] [PAD] [PAD] [PAD] [PAD] [PAD] [PAD] [PAD] [PAD] [PAD] [PAD] [PAD] [PAD] [PAD] [PAD] [PAD] [PAD] [PAD] [PAD] [PAD] [PAD] [PAD] [PAD] [PAD] [PAD] [PAD] [PAD] [PAD] [PAD] [PAD] [PAD] [PAD]\n",
            "INFO:ratsnlp:label: 0\n",
            "INFO:ratsnlp:label: 0\n",
            "INFO:ratsnlp:label: 0\n",
            "INFO:ratsnlp:features: ClassificationFeatures(input_ids=[2, 10691, 2451, 3288, 4213, 7977, 17, 17, 17, 17, 10476, 4153, 15426, 8240, 4213, 21394, 4008, 15616, 13439, 3, 0, 0, 0, 0, 0, 0, 0, 0, 0, 0, 0, 0, 0, 0, 0, 0, 0, 0, 0, 0, 0, 0, 0, 0, 0, 0, 0, 0, 0, 0, 0, 0, 0, 0, 0, 0, 0, 0, 0, 0, 0, 0, 0, 0, 0, 0, 0, 0, 0, 0, 0, 0, 0, 0, 0, 0, 0, 0, 0, 0, 0, 0, 0, 0, 0, 0, 0, 0, 0, 0, 0, 0, 0, 0, 0, 0, 0, 0, 0, 0, 0, 0, 0, 0, 0, 0, 0, 0, 0, 0, 0, 0, 0, 0, 0, 0, 0, 0, 0, 0, 0, 0, 0, 0, 0, 0, 0, 0], attention_mask=[1, 1, 1, 1, 1, 1, 1, 1, 1, 1, 1, 1, 1, 1, 1, 1, 1, 1, 1, 1, 0, 0, 0, 0, 0, 0, 0, 0, 0, 0, 0, 0, 0, 0, 0, 0, 0, 0, 0, 0, 0, 0, 0, 0, 0, 0, 0, 0, 0, 0, 0, 0, 0, 0, 0, 0, 0, 0, 0, 0, 0, 0, 0, 0, 0, 0, 0, 0, 0, 0, 0, 0, 0, 0, 0, 0, 0, 0, 0, 0, 0, 0, 0, 0, 0, 0, 0, 0, 0, 0, 0, 0, 0, 0, 0, 0, 0, 0, 0, 0, 0, 0, 0, 0, 0, 0, 0, 0, 0, 0, 0, 0, 0, 0, 0, 0, 0, 0, 0, 0, 0, 0, 0, 0, 0, 0, 0, 0], token_type_ids=[0, 0, 0, 0, 0, 0, 0, 0, 0, 0, 0, 0, 0, 0, 0, 0, 0, 0, 0, 0, 0, 0, 0, 0, 0, 0, 0, 0, 0, 0, 0, 0, 0, 0, 0, 0, 0, 0, 0, 0, 0, 0, 0, 0, 0, 0, 0, 0, 0, 0, 0, 0, 0, 0, 0, 0, 0, 0, 0, 0, 0, 0, 0, 0, 0, 0, 0, 0, 0, 0, 0, 0, 0, 0, 0, 0, 0, 0, 0, 0, 0, 0, 0, 0, 0, 0, 0, 0, 0, 0, 0, 0, 0, 0, 0, 0, 0, 0, 0, 0, 0, 0, 0, 0, 0, 0, 0, 0, 0, 0, 0, 0, 0, 0, 0, 0, 0, 0, 0, 0, 0, 0, 0, 0, 0, 0, 0, 0], label=0)\n",
            "INFO:ratsnlp:features: ClassificationFeatures(input_ids=[2, 10691, 2451, 3288, 4213, 7977, 17, 17, 17, 17, 10476, 4153, 15426, 8240, 4213, 21394, 4008, 15616, 13439, 3, 0, 0, 0, 0, 0, 0, 0, 0, 0, 0, 0, 0, 0, 0, 0, 0, 0, 0, 0, 0, 0, 0, 0, 0, 0, 0, 0, 0, 0, 0, 0, 0, 0, 0, 0, 0, 0, 0, 0, 0, 0, 0, 0, 0, 0, 0, 0, 0, 0, 0, 0, 0, 0, 0, 0, 0, 0, 0, 0, 0, 0, 0, 0, 0, 0, 0, 0, 0, 0, 0, 0, 0, 0, 0, 0, 0, 0, 0, 0, 0, 0, 0, 0, 0, 0, 0, 0, 0, 0, 0, 0, 0, 0, 0, 0, 0, 0, 0, 0, 0, 0, 0, 0, 0, 0, 0, 0, 0], attention_mask=[1, 1, 1, 1, 1, 1, 1, 1, 1, 1, 1, 1, 1, 1, 1, 1, 1, 1, 1, 1, 0, 0, 0, 0, 0, 0, 0, 0, 0, 0, 0, 0, 0, 0, 0, 0, 0, 0, 0, 0, 0, 0, 0, 0, 0, 0, 0, 0, 0, 0, 0, 0, 0, 0, 0, 0, 0, 0, 0, 0, 0, 0, 0, 0, 0, 0, 0, 0, 0, 0, 0, 0, 0, 0, 0, 0, 0, 0, 0, 0, 0, 0, 0, 0, 0, 0, 0, 0, 0, 0, 0, 0, 0, 0, 0, 0, 0, 0, 0, 0, 0, 0, 0, 0, 0, 0, 0, 0, 0, 0, 0, 0, 0, 0, 0, 0, 0, 0, 0, 0, 0, 0, 0, 0, 0, 0, 0, 0], token_type_ids=[0, 0, 0, 0, 0, 0, 0, 0, 0, 0, 0, 0, 0, 0, 0, 0, 0, 0, 0, 0, 0, 0, 0, 0, 0, 0, 0, 0, 0, 0, 0, 0, 0, 0, 0, 0, 0, 0, 0, 0, 0, 0, 0, 0, 0, 0, 0, 0, 0, 0, 0, 0, 0, 0, 0, 0, 0, 0, 0, 0, 0, 0, 0, 0, 0, 0, 0, 0, 0, 0, 0, 0, 0, 0, 0, 0, 0, 0, 0, 0, 0, 0, 0, 0, 0, 0, 0, 0, 0, 0, 0, 0, 0, 0, 0, 0, 0, 0, 0, 0, 0, 0, 0, 0, 0, 0, 0, 0, 0, 0, 0, 0, 0, 0, 0, 0, 0, 0, 0, 0, 0, 0, 0, 0, 0, 0, 0, 0], label=0)\n",
            "INFO:ratsnlp:features: ClassificationFeatures(input_ids=[2, 10691, 2451, 3288, 4213, 7977, 17, 17, 17, 17, 10476, 4153, 15426, 8240, 4213, 21394, 4008, 15616, 13439, 3, 0, 0, 0, 0, 0, 0, 0, 0, 0, 0, 0, 0, 0, 0, 0, 0, 0, 0, 0, 0, 0, 0, 0, 0, 0, 0, 0, 0, 0, 0, 0, 0, 0, 0, 0, 0, 0, 0, 0, 0, 0, 0, 0, 0, 0, 0, 0, 0, 0, 0, 0, 0, 0, 0, 0, 0, 0, 0, 0, 0, 0, 0, 0, 0, 0, 0, 0, 0, 0, 0, 0, 0, 0, 0, 0, 0, 0, 0, 0, 0, 0, 0, 0, 0, 0, 0, 0, 0, 0, 0, 0, 0, 0, 0, 0, 0, 0, 0, 0, 0, 0, 0, 0, 0, 0, 0, 0, 0], attention_mask=[1, 1, 1, 1, 1, 1, 1, 1, 1, 1, 1, 1, 1, 1, 1, 1, 1, 1, 1, 1, 0, 0, 0, 0, 0, 0, 0, 0, 0, 0, 0, 0, 0, 0, 0, 0, 0, 0, 0, 0, 0, 0, 0, 0, 0, 0, 0, 0, 0, 0, 0, 0, 0, 0, 0, 0, 0, 0, 0, 0, 0, 0, 0, 0, 0, 0, 0, 0, 0, 0, 0, 0, 0, 0, 0, 0, 0, 0, 0, 0, 0, 0, 0, 0, 0, 0, 0, 0, 0, 0, 0, 0, 0, 0, 0, 0, 0, 0, 0, 0, 0, 0, 0, 0, 0, 0, 0, 0, 0, 0, 0, 0, 0, 0, 0, 0, 0, 0, 0, 0, 0, 0, 0, 0, 0, 0, 0, 0], token_type_ids=[0, 0, 0, 0, 0, 0, 0, 0, 0, 0, 0, 0, 0, 0, 0, 0, 0, 0, 0, 0, 0, 0, 0, 0, 0, 0, 0, 0, 0, 0, 0, 0, 0, 0, 0, 0, 0, 0, 0, 0, 0, 0, 0, 0, 0, 0, 0, 0, 0, 0, 0, 0, 0, 0, 0, 0, 0, 0, 0, 0, 0, 0, 0, 0, 0, 0, 0, 0, 0, 0, 0, 0, 0, 0, 0, 0, 0, 0, 0, 0, 0, 0, 0, 0, 0, 0, 0, 0, 0, 0, 0, 0, 0, 0, 0, 0, 0, 0, 0, 0, 0, 0, 0, 0, 0, 0, 0, 0, 0, 0, 0, 0, 0, 0, 0, 0, 0, 0, 0, 0, 0, 0, 0, 0, 0, 0, 0, 0], label=0)\n",
            "INFO:ratsnlp:*** Example ***\n",
            "INFO:ratsnlp:*** Example ***\n",
            "INFO:ratsnlp:*** Example ***\n",
            "INFO:ratsnlp:sentence: 지루하지는 않은데 완전 막장임... 돈주고 보기에는....\n",
            "INFO:ratsnlp:sentence: 지루하지는 않은데 완전 막장임... 돈주고 보기에는....\n",
            "INFO:ratsnlp:sentence: 지루하지는 않은데 완전 막장임... 돈주고 보기에는....\n",
            "INFO:ratsnlp:tokens: [CLS] 지 ##루 ##하지는 않은데 완전 막장 ##임 . . . 돈주고 보기에 ##는 . . . . [SEP] [PAD] [PAD] [PAD] [PAD] [PAD] [PAD] [PAD] [PAD] [PAD] [PAD] [PAD] [PAD] [PAD] [PAD] [PAD] [PAD] [PAD] [PAD] [PAD] [PAD] [PAD] [PAD] [PAD] [PAD] [PAD] [PAD] [PAD] [PAD] [PAD] [PAD] [PAD] [PAD] [PAD] [PAD] [PAD] [PAD] [PAD] [PAD] [PAD] [PAD] [PAD] [PAD] [PAD] [PAD] [PAD] [PAD] [PAD] [PAD] [PAD] [PAD] [PAD] [PAD] [PAD] [PAD] [PAD] [PAD] [PAD] [PAD] [PAD] [PAD] [PAD] [PAD] [PAD] [PAD] [PAD] [PAD] [PAD] [PAD] [PAD] [PAD] [PAD] [PAD] [PAD] [PAD] [PAD] [PAD] [PAD] [PAD] [PAD] [PAD] [PAD] [PAD] [PAD] [PAD] [PAD] [PAD] [PAD] [PAD] [PAD] [PAD] [PAD] [PAD] [PAD] [PAD] [PAD] [PAD] [PAD] [PAD] [PAD] [PAD] [PAD] [PAD] [PAD] [PAD] [PAD] [PAD] [PAD] [PAD] [PAD]\n",
            "INFO:ratsnlp:tokens: [CLS] 지 ##루 ##하지는 않은데 완전 막장 ##임 . . . 돈주고 보기에 ##는 . . . . [SEP] [PAD] [PAD] [PAD] [PAD] [PAD] [PAD] [PAD] [PAD] [PAD] [PAD] [PAD] [PAD] [PAD] [PAD] [PAD] [PAD] [PAD] [PAD] [PAD] [PAD] [PAD] [PAD] [PAD] [PAD] [PAD] [PAD] [PAD] [PAD] [PAD] [PAD] [PAD] [PAD] [PAD] [PAD] [PAD] [PAD] [PAD] [PAD] [PAD] [PAD] [PAD] [PAD] [PAD] [PAD] [PAD] [PAD] [PAD] [PAD] [PAD] [PAD] [PAD] [PAD] [PAD] [PAD] [PAD] [PAD] [PAD] [PAD] [PAD] [PAD] [PAD] [PAD] [PAD] [PAD] [PAD] [PAD] [PAD] [PAD] [PAD] [PAD] [PAD] [PAD] [PAD] [PAD] [PAD] [PAD] [PAD] [PAD] [PAD] [PAD] [PAD] [PAD] [PAD] [PAD] [PAD] [PAD] [PAD] [PAD] [PAD] [PAD] [PAD] [PAD] [PAD] [PAD] [PAD] [PAD] [PAD] [PAD] [PAD] [PAD] [PAD] [PAD] [PAD] [PAD] [PAD] [PAD] [PAD] [PAD] [PAD]\n",
            "INFO:ratsnlp:tokens: [CLS] 지 ##루 ##하지는 않은데 완전 막장 ##임 . . . 돈주고 보기에 ##는 . . . . [SEP] [PAD] [PAD] [PAD] [PAD] [PAD] [PAD] [PAD] [PAD] [PAD] [PAD] [PAD] [PAD] [PAD] [PAD] [PAD] [PAD] [PAD] [PAD] [PAD] [PAD] [PAD] [PAD] [PAD] [PAD] [PAD] [PAD] [PAD] [PAD] [PAD] [PAD] [PAD] [PAD] [PAD] [PAD] [PAD] [PAD] [PAD] [PAD] [PAD] [PAD] [PAD] [PAD] [PAD] [PAD] [PAD] [PAD] [PAD] [PAD] [PAD] [PAD] [PAD] [PAD] [PAD] [PAD] [PAD] [PAD] [PAD] [PAD] [PAD] [PAD] [PAD] [PAD] [PAD] [PAD] [PAD] [PAD] [PAD] [PAD] [PAD] [PAD] [PAD] [PAD] [PAD] [PAD] [PAD] [PAD] [PAD] [PAD] [PAD] [PAD] [PAD] [PAD] [PAD] [PAD] [PAD] [PAD] [PAD] [PAD] [PAD] [PAD] [PAD] [PAD] [PAD] [PAD] [PAD] [PAD] [PAD] [PAD] [PAD] [PAD] [PAD] [PAD] [PAD] [PAD] [PAD] [PAD] [PAD] [PAD] [PAD]\n",
            "INFO:ratsnlp:label: 0\n",
            "INFO:ratsnlp:label: 0\n",
            "INFO:ratsnlp:label: 0\n",
            "INFO:ratsnlp:features: ClassificationFeatures(input_ids=[2, 2688, 4532, 16036, 20879, 8357, 15971, 4252, 17, 17, 17, 13900, 25253, 4008, 17, 17, 17, 17, 3, 0, 0, 0, 0, 0, 0, 0, 0, 0, 0, 0, 0, 0, 0, 0, 0, 0, 0, 0, 0, 0, 0, 0, 0, 0, 0, 0, 0, 0, 0, 0, 0, 0, 0, 0, 0, 0, 0, 0, 0, 0, 0, 0, 0, 0, 0, 0, 0, 0, 0, 0, 0, 0, 0, 0, 0, 0, 0, 0, 0, 0, 0, 0, 0, 0, 0, 0, 0, 0, 0, 0, 0, 0, 0, 0, 0, 0, 0, 0, 0, 0, 0, 0, 0, 0, 0, 0, 0, 0, 0, 0, 0, 0, 0, 0, 0, 0, 0, 0, 0, 0, 0, 0, 0, 0, 0, 0, 0, 0], attention_mask=[1, 1, 1, 1, 1, 1, 1, 1, 1, 1, 1, 1, 1, 1, 1, 1, 1, 1, 1, 0, 0, 0, 0, 0, 0, 0, 0, 0, 0, 0, 0, 0, 0, 0, 0, 0, 0, 0, 0, 0, 0, 0, 0, 0, 0, 0, 0, 0, 0, 0, 0, 0, 0, 0, 0, 0, 0, 0, 0, 0, 0, 0, 0, 0, 0, 0, 0, 0, 0, 0, 0, 0, 0, 0, 0, 0, 0, 0, 0, 0, 0, 0, 0, 0, 0, 0, 0, 0, 0, 0, 0, 0, 0, 0, 0, 0, 0, 0, 0, 0, 0, 0, 0, 0, 0, 0, 0, 0, 0, 0, 0, 0, 0, 0, 0, 0, 0, 0, 0, 0, 0, 0, 0, 0, 0, 0, 0, 0], token_type_ids=[0, 0, 0, 0, 0, 0, 0, 0, 0, 0, 0, 0, 0, 0, 0, 0, 0, 0, 0, 0, 0, 0, 0, 0, 0, 0, 0, 0, 0, 0, 0, 0, 0, 0, 0, 0, 0, 0, 0, 0, 0, 0, 0, 0, 0, 0, 0, 0, 0, 0, 0, 0, 0, 0, 0, 0, 0, 0, 0, 0, 0, 0, 0, 0, 0, 0, 0, 0, 0, 0, 0, 0, 0, 0, 0, 0, 0, 0, 0, 0, 0, 0, 0, 0, 0, 0, 0, 0, 0, 0, 0, 0, 0, 0, 0, 0, 0, 0, 0, 0, 0, 0, 0, 0, 0, 0, 0, 0, 0, 0, 0, 0, 0, 0, 0, 0, 0, 0, 0, 0, 0, 0, 0, 0, 0, 0, 0, 0], label=0)\n",
            "INFO:ratsnlp:features: ClassificationFeatures(input_ids=[2, 2688, 4532, 16036, 20879, 8357, 15971, 4252, 17, 17, 17, 13900, 25253, 4008, 17, 17, 17, 17, 3, 0, 0, 0, 0, 0, 0, 0, 0, 0, 0, 0, 0, 0, 0, 0, 0, 0, 0, 0, 0, 0, 0, 0, 0, 0, 0, 0, 0, 0, 0, 0, 0, 0, 0, 0, 0, 0, 0, 0, 0, 0, 0, 0, 0, 0, 0, 0, 0, 0, 0, 0, 0, 0, 0, 0, 0, 0, 0, 0, 0, 0, 0, 0, 0, 0, 0, 0, 0, 0, 0, 0, 0, 0, 0, 0, 0, 0, 0, 0, 0, 0, 0, 0, 0, 0, 0, 0, 0, 0, 0, 0, 0, 0, 0, 0, 0, 0, 0, 0, 0, 0, 0, 0, 0, 0, 0, 0, 0, 0], attention_mask=[1, 1, 1, 1, 1, 1, 1, 1, 1, 1, 1, 1, 1, 1, 1, 1, 1, 1, 1, 0, 0, 0, 0, 0, 0, 0, 0, 0, 0, 0, 0, 0, 0, 0, 0, 0, 0, 0, 0, 0, 0, 0, 0, 0, 0, 0, 0, 0, 0, 0, 0, 0, 0, 0, 0, 0, 0, 0, 0, 0, 0, 0, 0, 0, 0, 0, 0, 0, 0, 0, 0, 0, 0, 0, 0, 0, 0, 0, 0, 0, 0, 0, 0, 0, 0, 0, 0, 0, 0, 0, 0, 0, 0, 0, 0, 0, 0, 0, 0, 0, 0, 0, 0, 0, 0, 0, 0, 0, 0, 0, 0, 0, 0, 0, 0, 0, 0, 0, 0, 0, 0, 0, 0, 0, 0, 0, 0, 0], token_type_ids=[0, 0, 0, 0, 0, 0, 0, 0, 0, 0, 0, 0, 0, 0, 0, 0, 0, 0, 0, 0, 0, 0, 0, 0, 0, 0, 0, 0, 0, 0, 0, 0, 0, 0, 0, 0, 0, 0, 0, 0, 0, 0, 0, 0, 0, 0, 0, 0, 0, 0, 0, 0, 0, 0, 0, 0, 0, 0, 0, 0, 0, 0, 0, 0, 0, 0, 0, 0, 0, 0, 0, 0, 0, 0, 0, 0, 0, 0, 0, 0, 0, 0, 0, 0, 0, 0, 0, 0, 0, 0, 0, 0, 0, 0, 0, 0, 0, 0, 0, 0, 0, 0, 0, 0, 0, 0, 0, 0, 0, 0, 0, 0, 0, 0, 0, 0, 0, 0, 0, 0, 0, 0, 0, 0, 0, 0, 0, 0], label=0)\n",
            "INFO:ratsnlp:features: ClassificationFeatures(input_ids=[2, 2688, 4532, 16036, 20879, 8357, 15971, 4252, 17, 17, 17, 13900, 25253, 4008, 17, 17, 17, 17, 3, 0, 0, 0, 0, 0, 0, 0, 0, 0, 0, 0, 0, 0, 0, 0, 0, 0, 0, 0, 0, 0, 0, 0, 0, 0, 0, 0, 0, 0, 0, 0, 0, 0, 0, 0, 0, 0, 0, 0, 0, 0, 0, 0, 0, 0, 0, 0, 0, 0, 0, 0, 0, 0, 0, 0, 0, 0, 0, 0, 0, 0, 0, 0, 0, 0, 0, 0, 0, 0, 0, 0, 0, 0, 0, 0, 0, 0, 0, 0, 0, 0, 0, 0, 0, 0, 0, 0, 0, 0, 0, 0, 0, 0, 0, 0, 0, 0, 0, 0, 0, 0, 0, 0, 0, 0, 0, 0, 0, 0], attention_mask=[1, 1, 1, 1, 1, 1, 1, 1, 1, 1, 1, 1, 1, 1, 1, 1, 1, 1, 1, 0, 0, 0, 0, 0, 0, 0, 0, 0, 0, 0, 0, 0, 0, 0, 0, 0, 0, 0, 0, 0, 0, 0, 0, 0, 0, 0, 0, 0, 0, 0, 0, 0, 0, 0, 0, 0, 0, 0, 0, 0, 0, 0, 0, 0, 0, 0, 0, 0, 0, 0, 0, 0, 0, 0, 0, 0, 0, 0, 0, 0, 0, 0, 0, 0, 0, 0, 0, 0, 0, 0, 0, 0, 0, 0, 0, 0, 0, 0, 0, 0, 0, 0, 0, 0, 0, 0, 0, 0, 0, 0, 0, 0, 0, 0, 0, 0, 0, 0, 0, 0, 0, 0, 0, 0, 0, 0, 0, 0], token_type_ids=[0, 0, 0, 0, 0, 0, 0, 0, 0, 0, 0, 0, 0, 0, 0, 0, 0, 0, 0, 0, 0, 0, 0, 0, 0, 0, 0, 0, 0, 0, 0, 0, 0, 0, 0, 0, 0, 0, 0, 0, 0, 0, 0, 0, 0, 0, 0, 0, 0, 0, 0, 0, 0, 0, 0, 0, 0, 0, 0, 0, 0, 0, 0, 0, 0, 0, 0, 0, 0, 0, 0, 0, 0, 0, 0, 0, 0, 0, 0, 0, 0, 0, 0, 0, 0, 0, 0, 0, 0, 0, 0, 0, 0, 0, 0, 0, 0, 0, 0, 0, 0, 0, 0, 0, 0, 0, 0, 0, 0, 0, 0, 0, 0, 0, 0, 0, 0, 0, 0, 0, 0, 0, 0, 0, 0, 0, 0, 0], label=0)\n",
            "INFO:ratsnlp:*** Example ***\n",
            "INFO:ratsnlp:*** Example ***\n",
            "INFO:ratsnlp:*** Example ***\n",
            "INFO:ratsnlp:sentence: 3D만 아니었어도 별 다섯 개 줬을텐데.. 왜 3D로 나와서 제 심기를 불편하게 하죠??\n",
            "INFO:ratsnlp:sentence: 3D만 아니었어도 별 다섯 개 줬을텐데.. 왜 3D로 나와서 제 심기를 불편하게 하죠??\n",
            "INFO:ratsnlp:sentence: 3D만 아니었어도 별 다섯 개 줬을텐데.. 왜 3D로 나와서 제 심기를 불편하게 하죠??\n",
            "INFO:ratsnlp:tokens: [CLS] 3 ##D ##만 아니었 ##어도 별 다섯 개 줬 ##을텐데 . . 왜 3 ##D ##로 나와서 제 심 ##기를 불편 ##하게 하죠 ? ? [SEP] [PAD] [PAD] [PAD] [PAD] [PAD] [PAD] [PAD] [PAD] [PAD] [PAD] [PAD] [PAD] [PAD] [PAD] [PAD] [PAD] [PAD] [PAD] [PAD] [PAD] [PAD] [PAD] [PAD] [PAD] [PAD] [PAD] [PAD] [PAD] [PAD] [PAD] [PAD] [PAD] [PAD] [PAD] [PAD] [PAD] [PAD] [PAD] [PAD] [PAD] [PAD] [PAD] [PAD] [PAD] [PAD] [PAD] [PAD] [PAD] [PAD] [PAD] [PAD] [PAD] [PAD] [PAD] [PAD] [PAD] [PAD] [PAD] [PAD] [PAD] [PAD] [PAD] [PAD] [PAD] [PAD] [PAD] [PAD] [PAD] [PAD] [PAD] [PAD] [PAD] [PAD] [PAD] [PAD] [PAD] [PAD] [PAD] [PAD] [PAD] [PAD] [PAD] [PAD] [PAD] [PAD] [PAD] [PAD] [PAD] [PAD] [PAD] [PAD] [PAD] [PAD] [PAD] [PAD] [PAD] [PAD] [PAD] [PAD] [PAD] [PAD]\n",
            "INFO:ratsnlp:tokens: [CLS] 3 ##D ##만 아니었 ##어도 별 다섯 개 줬 ##을텐데 . . 왜 3 ##D ##로 나와서 제 심 ##기를 불편 ##하게 하죠 ? ? [SEP] [PAD] [PAD] [PAD] [PAD] [PAD] [PAD] [PAD] [PAD] [PAD] [PAD] [PAD] [PAD] [PAD] [PAD] [PAD] [PAD] [PAD] [PAD] [PAD] [PAD] [PAD] [PAD] [PAD] [PAD] [PAD] [PAD] [PAD] [PAD] [PAD] [PAD] [PAD] [PAD] [PAD] [PAD] [PAD] [PAD] [PAD] [PAD] [PAD] [PAD] [PAD] [PAD] [PAD] [PAD] [PAD] [PAD] [PAD] [PAD] [PAD] [PAD] [PAD] [PAD] [PAD] [PAD] [PAD] [PAD] [PAD] [PAD] [PAD] [PAD] [PAD] [PAD] [PAD] [PAD] [PAD] [PAD] [PAD] [PAD] [PAD] [PAD] [PAD] [PAD] [PAD] [PAD] [PAD] [PAD] [PAD] [PAD] [PAD] [PAD] [PAD] [PAD] [PAD] [PAD] [PAD] [PAD] [PAD] [PAD] [PAD] [PAD] [PAD] [PAD] [PAD] [PAD] [PAD] [PAD] [PAD] [PAD] [PAD] [PAD] [PAD]\n",
            "INFO:ratsnlp:tokens: [CLS] 3 ##D ##만 아니었 ##어도 별 다섯 개 줬 ##을텐데 . . 왜 3 ##D ##로 나와서 제 심 ##기를 불편 ##하게 하죠 ? ? [SEP] [PAD] [PAD] [PAD] [PAD] [PAD] [PAD] [PAD] [PAD] [PAD] [PAD] [PAD] [PAD] [PAD] [PAD] [PAD] [PAD] [PAD] [PAD] [PAD] [PAD] [PAD] [PAD] [PAD] [PAD] [PAD] [PAD] [PAD] [PAD] [PAD] [PAD] [PAD] [PAD] [PAD] [PAD] [PAD] [PAD] [PAD] [PAD] [PAD] [PAD] [PAD] [PAD] [PAD] [PAD] [PAD] [PAD] [PAD] [PAD] [PAD] [PAD] [PAD] [PAD] [PAD] [PAD] [PAD] [PAD] [PAD] [PAD] [PAD] [PAD] [PAD] [PAD] [PAD] [PAD] [PAD] [PAD] [PAD] [PAD] [PAD] [PAD] [PAD] [PAD] [PAD] [PAD] [PAD] [PAD] [PAD] [PAD] [PAD] [PAD] [PAD] [PAD] [PAD] [PAD] [PAD] [PAD] [PAD] [PAD] [PAD] [PAD] [PAD] [PAD] [PAD] [PAD] [PAD] [PAD] [PAD] [PAD] [PAD] [PAD] [PAD]\n",
            "INFO:ratsnlp:label: 0\n",
            "INFO:ratsnlp:label: 0\n",
            "INFO:ratsnlp:label: 0\n",
            "INFO:ratsnlp:features: ClassificationFeatures(input_ids=[2, 22, 4452, 4049, 18851, 8194, 1558, 23887, 220, 2648, 9243, 17, 17, 2332, 22, 4452, 4091, 10045, 2545, 2015, 8313, 10588, 8007, 18566, 32, 32, 3, 0, 0, 0, 0, 0, 0, 0, 0, 0, 0, 0, 0, 0, 0, 0, 0, 0, 0, 0, 0, 0, 0, 0, 0, 0, 0, 0, 0, 0, 0, 0, 0, 0, 0, 0, 0, 0, 0, 0, 0, 0, 0, 0, 0, 0, 0, 0, 0, 0, 0, 0, 0, 0, 0, 0, 0, 0, 0, 0, 0, 0, 0, 0, 0, 0, 0, 0, 0, 0, 0, 0, 0, 0, 0, 0, 0, 0, 0, 0, 0, 0, 0, 0, 0, 0, 0, 0, 0, 0, 0, 0, 0, 0, 0, 0, 0, 0, 0, 0, 0, 0], attention_mask=[1, 1, 1, 1, 1, 1, 1, 1, 1, 1, 1, 1, 1, 1, 1, 1, 1, 1, 1, 1, 1, 1, 1, 1, 1, 1, 1, 0, 0, 0, 0, 0, 0, 0, 0, 0, 0, 0, 0, 0, 0, 0, 0, 0, 0, 0, 0, 0, 0, 0, 0, 0, 0, 0, 0, 0, 0, 0, 0, 0, 0, 0, 0, 0, 0, 0, 0, 0, 0, 0, 0, 0, 0, 0, 0, 0, 0, 0, 0, 0, 0, 0, 0, 0, 0, 0, 0, 0, 0, 0, 0, 0, 0, 0, 0, 0, 0, 0, 0, 0, 0, 0, 0, 0, 0, 0, 0, 0, 0, 0, 0, 0, 0, 0, 0, 0, 0, 0, 0, 0, 0, 0, 0, 0, 0, 0, 0, 0], token_type_ids=[0, 0, 0, 0, 0, 0, 0, 0, 0, 0, 0, 0, 0, 0, 0, 0, 0, 0, 0, 0, 0, 0, 0, 0, 0, 0, 0, 0, 0, 0, 0, 0, 0, 0, 0, 0, 0, 0, 0, 0, 0, 0, 0, 0, 0, 0, 0, 0, 0, 0, 0, 0, 0, 0, 0, 0, 0, 0, 0, 0, 0, 0, 0, 0, 0, 0, 0, 0, 0, 0, 0, 0, 0, 0, 0, 0, 0, 0, 0, 0, 0, 0, 0, 0, 0, 0, 0, 0, 0, 0, 0, 0, 0, 0, 0, 0, 0, 0, 0, 0, 0, 0, 0, 0, 0, 0, 0, 0, 0, 0, 0, 0, 0, 0, 0, 0, 0, 0, 0, 0, 0, 0, 0, 0, 0, 0, 0, 0], label=0)\n",
            "INFO:ratsnlp:features: ClassificationFeatures(input_ids=[2, 22, 4452, 4049, 18851, 8194, 1558, 23887, 220, 2648, 9243, 17, 17, 2332, 22, 4452, 4091, 10045, 2545, 2015, 8313, 10588, 8007, 18566, 32, 32, 3, 0, 0, 0, 0, 0, 0, 0, 0, 0, 0, 0, 0, 0, 0, 0, 0, 0, 0, 0, 0, 0, 0, 0, 0, 0, 0, 0, 0, 0, 0, 0, 0, 0, 0, 0, 0, 0, 0, 0, 0, 0, 0, 0, 0, 0, 0, 0, 0, 0, 0, 0, 0, 0, 0, 0, 0, 0, 0, 0, 0, 0, 0, 0, 0, 0, 0, 0, 0, 0, 0, 0, 0, 0, 0, 0, 0, 0, 0, 0, 0, 0, 0, 0, 0, 0, 0, 0, 0, 0, 0, 0, 0, 0, 0, 0, 0, 0, 0, 0, 0, 0], attention_mask=[1, 1, 1, 1, 1, 1, 1, 1, 1, 1, 1, 1, 1, 1, 1, 1, 1, 1, 1, 1, 1, 1, 1, 1, 1, 1, 1, 0, 0, 0, 0, 0, 0, 0, 0, 0, 0, 0, 0, 0, 0, 0, 0, 0, 0, 0, 0, 0, 0, 0, 0, 0, 0, 0, 0, 0, 0, 0, 0, 0, 0, 0, 0, 0, 0, 0, 0, 0, 0, 0, 0, 0, 0, 0, 0, 0, 0, 0, 0, 0, 0, 0, 0, 0, 0, 0, 0, 0, 0, 0, 0, 0, 0, 0, 0, 0, 0, 0, 0, 0, 0, 0, 0, 0, 0, 0, 0, 0, 0, 0, 0, 0, 0, 0, 0, 0, 0, 0, 0, 0, 0, 0, 0, 0, 0, 0, 0, 0], token_type_ids=[0, 0, 0, 0, 0, 0, 0, 0, 0, 0, 0, 0, 0, 0, 0, 0, 0, 0, 0, 0, 0, 0, 0, 0, 0, 0, 0, 0, 0, 0, 0, 0, 0, 0, 0, 0, 0, 0, 0, 0, 0, 0, 0, 0, 0, 0, 0, 0, 0, 0, 0, 0, 0, 0, 0, 0, 0, 0, 0, 0, 0, 0, 0, 0, 0, 0, 0, 0, 0, 0, 0, 0, 0, 0, 0, 0, 0, 0, 0, 0, 0, 0, 0, 0, 0, 0, 0, 0, 0, 0, 0, 0, 0, 0, 0, 0, 0, 0, 0, 0, 0, 0, 0, 0, 0, 0, 0, 0, 0, 0, 0, 0, 0, 0, 0, 0, 0, 0, 0, 0, 0, 0, 0, 0, 0, 0, 0, 0], label=0)\n",
            "INFO:ratsnlp:features: ClassificationFeatures(input_ids=[2, 22, 4452, 4049, 18851, 8194, 1558, 23887, 220, 2648, 9243, 17, 17, 2332, 22, 4452, 4091, 10045, 2545, 2015, 8313, 10588, 8007, 18566, 32, 32, 3, 0, 0, 0, 0, 0, 0, 0, 0, 0, 0, 0, 0, 0, 0, 0, 0, 0, 0, 0, 0, 0, 0, 0, 0, 0, 0, 0, 0, 0, 0, 0, 0, 0, 0, 0, 0, 0, 0, 0, 0, 0, 0, 0, 0, 0, 0, 0, 0, 0, 0, 0, 0, 0, 0, 0, 0, 0, 0, 0, 0, 0, 0, 0, 0, 0, 0, 0, 0, 0, 0, 0, 0, 0, 0, 0, 0, 0, 0, 0, 0, 0, 0, 0, 0, 0, 0, 0, 0, 0, 0, 0, 0, 0, 0, 0, 0, 0, 0, 0, 0, 0], attention_mask=[1, 1, 1, 1, 1, 1, 1, 1, 1, 1, 1, 1, 1, 1, 1, 1, 1, 1, 1, 1, 1, 1, 1, 1, 1, 1, 1, 0, 0, 0, 0, 0, 0, 0, 0, 0, 0, 0, 0, 0, 0, 0, 0, 0, 0, 0, 0, 0, 0, 0, 0, 0, 0, 0, 0, 0, 0, 0, 0, 0, 0, 0, 0, 0, 0, 0, 0, 0, 0, 0, 0, 0, 0, 0, 0, 0, 0, 0, 0, 0, 0, 0, 0, 0, 0, 0, 0, 0, 0, 0, 0, 0, 0, 0, 0, 0, 0, 0, 0, 0, 0, 0, 0, 0, 0, 0, 0, 0, 0, 0, 0, 0, 0, 0, 0, 0, 0, 0, 0, 0, 0, 0, 0, 0, 0, 0, 0, 0], token_type_ids=[0, 0, 0, 0, 0, 0, 0, 0, 0, 0, 0, 0, 0, 0, 0, 0, 0, 0, 0, 0, 0, 0, 0, 0, 0, 0, 0, 0, 0, 0, 0, 0, 0, 0, 0, 0, 0, 0, 0, 0, 0, 0, 0, 0, 0, 0, 0, 0, 0, 0, 0, 0, 0, 0, 0, 0, 0, 0, 0, 0, 0, 0, 0, 0, 0, 0, 0, 0, 0, 0, 0, 0, 0, 0, 0, 0, 0, 0, 0, 0, 0, 0, 0, 0, 0, 0, 0, 0, 0, 0, 0, 0, 0, 0, 0, 0, 0, 0, 0, 0, 0, 0, 0, 0, 0, 0, 0, 0, 0, 0, 0, 0, 0, 0, 0, 0, 0, 0, 0, 0, 0, 0, 0, 0, 0, 0, 0, 0], label=0)\n",
            "INFO:ratsnlp:Saving features into cached file, it could take a lot of time...\n",
            "INFO:ratsnlp:Saving features into cached file, it could take a lot of time...\n",
            "INFO:ratsnlp:Saving features into cached file, it could take a lot of time...\n",
            "INFO:ratsnlp:Saving features into cached file /content/Korpora/nsmc/cached_test_BertTokenizer_128_nsmc_document-classification [took 16.281 s]\n",
            "INFO:ratsnlp:Saving features into cached file /content/Korpora/nsmc/cached_test_BertTokenizer_128_nsmc_document-classification [took 16.281 s]\n",
            "INFO:ratsnlp:Saving features into cached file /content/Korpora/nsmc/cached_test_BertTokenizer_128_nsmc_document-classification [took 16.281 s]\n"
          ]
        }
      ]
    },
    {
      "cell_type": "markdown",
      "metadata": {
        "id": "HztMCywb70e9"
      },
      "source": [
        "# 모델 초기화\n",
        "프리트레인이 완료된 BERT 모델을 읽고, 문서 분류를 수행할 모델을 초기화합니다.\n",
        "\n",
        "\n",
        "BertForSequenceClassification은 프리트레인을 마친 BERT 모델 위에 4-1장에서 설명한 문서 분류용 태스크 모듈이 덧붙여진 형태의 모델 클래스입니다. BertForSequenceClassification은 허깅페이스(huggingface)에서 제공하는 transformers 라이브러리에 포함돼 있습니다."
      ]
    },
    {
      "cell_type": "code",
      "metadata": {
        "id": "ohOlRdP18GVe"
      },
      "source": [
        "# 모델 초기화\n",
        "from transformers import BertConfig, BertForSequenceClassification\n",
        "pretrained_model_config = BertConfig.from_pretrained(\n",
        "    args.pretrained_model_name,\n",
        "    num_labels=corpus.num_labels,\n",
        ")"
      ],
      "execution_count": 14,
      "outputs": []
    },
    {
      "cell_type": "code",
      "metadata": {
        "id": "staYwMx88MWQ",
        "colab": {
          "base_uri": "https://localhost:8080/",
          "height": 161,
          "referenced_widgets": [
            "ac77bbe5d6bd4299acb0614a479416df",
            "991569e2518c475d8e83f9dd48b33867",
            "91b3b390b99c478a97001a4e2bd3a02f",
            "4027ccba42884d16989f32ebcb34a576",
            "b73937c4bbab4952acc9b80318562852",
            "46a158b63dea4310b6ac4d0676bc27f6",
            "f3cd96c6ec6744e381a04d32952c749c",
            "6d7fe2dbc8bb43ceb00cc37b60abce13",
            "32aa5145e55a4555a7c0ace03b2a50c4",
            "123680e62b4e4001889973db5bf6e6b8",
            "0b3579f4c4da4f1eaa2196a94227faf3"
          ]
        },
        "outputId": "ae2b3b64-1cf9-4f69-a684-dc7c71dca339"
      },
      "source": [
        "model = BertForSequenceClassification.from_pretrained(\n",
        "        args.pretrained_model_name,\n",
        "        config=pretrained_model_config,\n",
        ")"
      ],
      "execution_count": 15,
      "outputs": [
        {
          "output_type": "display_data",
          "data": {
            "application/vnd.jupyter.widget-view+json": {
              "model_id": "ac77bbe5d6bd4299acb0614a479416df",
              "version_minor": 0,
              "version_major": 2
            },
            "text/plain": [
              "Downloading:   0%|          | 0.00/438M [00:00<?, ?B/s]"
            ]
          },
          "metadata": {}
        },
        {
          "output_type": "stream",
          "name": "stderr",
          "text": [
            "Some weights of the model checkpoint at beomi/kcbert-base were not used when initializing BertForSequenceClassification: ['cls.seq_relationship.bias', 'cls.predictions.decoder.bias', 'cls.predictions.transform.dense.weight', 'cls.predictions.transform.LayerNorm.bias', 'cls.predictions.decoder.weight', 'cls.predictions.transform.dense.bias', 'cls.seq_relationship.weight', 'cls.predictions.transform.LayerNorm.weight', 'cls.predictions.bias']\n",
            "- This IS expected if you are initializing BertForSequenceClassification from the checkpoint of a model trained on another task or with another architecture (e.g. initializing a BertForSequenceClassification model from a BertForPreTraining model).\n",
            "- This IS NOT expected if you are initializing BertForSequenceClassification from the checkpoint of a model that you expect to be exactly identical (initializing a BertForSequenceClassification model from a BertForSequenceClassification model).\n",
            "Some weights of BertForSequenceClassification were not initialized from the model checkpoint at beomi/kcbert-base and are newly initialized: ['classifier.weight', 'classifier.bias']\n",
            "You should probably TRAIN this model on a down-stream task to be able to use it for predictions and inference.\n"
          ]
        }
      ]
    },
    {
      "cell_type": "markdown",
      "metadata": {
        "id": "lYtJXijM8PN8"
      },
      "source": [
        "# 학습 준비\n",
        "Task와 Trainer를 준비합니다.\n",
        "아래 코드를 실행하면 문서 분류용 태스크를 정의할 수 있습니다. \n",
        "모델은 위에서 준비한 모델 클래스를 ClassificationTask에 포함시킵니다. \n",
        "클래스에는 옵티마이저, 러닝레이트 스케줄러(learning rate scheduler)가 정의되어 있는데요. 옵티마이저로는 아담(Adam), 러닝레이트 스케줄러로는 ExponentialLR을 사용합니다."
      ]
    },
    {
      "cell_type": "code",
      "metadata": {
        "id": "-FFn4MSz8SWu"
      },
      "source": [
        "from ratsnlp.nlpbook.classification import ClassificationTask\n",
        "task = ClassificationTask(model, args)\n",
        "\n",
        "## 파이토치 라이트닝(pytorch lightning)이 제공하는 라이트닝 모듈(LightningModule) 클래스를 상속받아 태스크(task)를 정의합니다. \n",
        "## 태스크에는 모델과 옵티마이저(optimizer), 학습 과정(training process) 등이 정의돼 있습니다."
      ],
      "execution_count": 16,
      "outputs": []
    },
    {
      "cell_type": "code",
      "metadata": {
        "id": "18W4vRtR8UTx",
        "colab": {
          "base_uri": "https://localhost:8080/"
        },
        "outputId": "715602d4-e5d1-417e-dac9-89b2784ae2e1"
      },
      "source": [
        "##트레이너 정리 \n",
        "#트레이너는 파이토치 라이트닝 라이브러리의 도움을 받아 GPU/TPU 설정,\n",
        "# 로그 및 체크포인트 등 귀찮은 설정들을 알아서 해줍니다.\n",
        "\n",
        "trainer = nlpbook.get_trainer(args)"
      ],
      "execution_count": 17,
      "outputs": [
        {
          "output_type": "stream",
          "name": "stderr",
          "text": [
            "GPU available: True, used: True\n",
            "TPU available: False, using: 0 TPU cores\n"
          ]
        }
      ]
    },
    {
      "cell_type": "markdown",
      "metadata": {
        "id": "KteHdhBT8X0e"
      },
      "source": [
        "# 학습\n",
        "준비한 데이터와 모델로 학습을 시작합니다. 학습 결과물(체크포인트)은 미리 연동해둔 구글 드라이브의 준비된 위치(`/gdrive/My Drive/nlpbook/checkpoint-doccls`)에 저장됩니다."
      ]
    },
    {
      "cell_type": "code",
      "metadata": {
        "id": "SDr3M_nF8l7M",
        "colab": {
          "base_uri": "https://localhost:8080/",
          "height": 233,
          "referenced_widgets": [
            "a608c1ffed1040749f4a4a1310724611",
            "0407314c6bb843268727f9c05ac557f3",
            "47f713cbbf9a480c930940a1ff4acd7e",
            "9127cb7cc7f348a9bc59e2a504b3f59b",
            "b72f6b23bcd9409986800b86ae07e1df",
            "f80744d6c2474c9eba279b556ef4b4df",
            "f5d017fa956741ed9f25fefb44971280",
            "4dd9bbfd23e24fec8120809ea9d89897",
            "a54f81c2d5724020bc2a970c84bba50a",
            "6efabe736d114f51bb3099a68ddc0276",
            "4155f9be4e19433f8a662b665231fa0f"
          ]
        },
        "outputId": "2eae6b4b-6699-48c8-b0f8-879a21030129"
      },
      "source": [
        "trainer.fit(\n",
        "    task,\n",
        "    train_dataloader=train_dataloader,\n",
        "    val_dataloaders=val_dataloader,\n",
        ")"
      ],
      "execution_count": null,
      "outputs": [
        {
          "output_type": "stream",
          "name": "stderr",
          "text": [
            "LOCAL_RANK: 0 - CUDA_VISIBLE_DEVICES: [0]\n",
            "\n",
            "  | Name  | Type                          | Params\n",
            "--------------------------------------------------------\n",
            "0 | model | BertForSequenceClassification | 108 M \n",
            "--------------------------------------------------------\n",
            "108 M     Trainable params\n",
            "0         Non-trainable params\n",
            "108 M     Total params\n",
            "435.680   Total estimated model params size (MB)\n"
          ]
        },
        {
          "output_type": "display_data",
          "data": {
            "application/vnd.jupyter.widget-view+json": {
              "model_id": "a608c1ffed1040749f4a4a1310724611",
              "version_minor": 0,
              "version_major": 2
            },
            "text/plain": [
              "Training: 0it [00:00, ?it/s]"
            ]
          },
          "metadata": {}
        }
      ]
    }
  ]
}